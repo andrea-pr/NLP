{
  "nbformat": 4,
  "nbformat_minor": 0,
  "metadata": {
    "colab": {
      "name": "practical1_13325973_13243705.ipynb",
      "provenance": [],
      "collapsed_sections": [
        "uhU_tk-BOaXb"
      ]
    },
    "kernelspec": {
      "display_name": "Python 3",
      "language": "python",
      "name": "python3"
    },
    "language_info": {
      "codemirror_mode": {
        "name": "ipython",
        "version": 3
      },
      "file_extension": ".py",
      "mimetype": "text/x-python",
      "name": "python",
      "nbconvert_exporter": "python",
      "pygments_lexer": "ipython3",
      "version": "3.7.9"
    }
  },
  "cells": [
    {
      "cell_type": "markdown",
      "metadata": {
        "id": "1-aRiOgl4nHg"
      },
      "source": [
        "------\n",
        "**You cannot apply any changes to this file, so please make sure to save it on your Google Colab drive or download it as a .ipynb file.**\n",
        "\n",
        "------\n",
        "\n",
        " "
      ]
    },
    {
      "cell_type": "markdown",
      "metadata": {
        "id": "lIZrAUx57vsM"
      },
      "source": [
        "Practical 1: Sentiment Detection in Movie Reviews\n",
        "========================================\n",
        "\n"
      ]
    },
    {
      "cell_type": "markdown",
      "metadata": {
        "id": "J4kXPMhyngZW"
      },
      "source": [
        "This practical concerns detecting sentiment in movie reviews. This is a typical NLP classification task.\n",
        "In [this file](https://gist.githubusercontent.com/bastings/d47423301cca214e3930061a5a75e177/raw/5113687382919e22b1f09ce71a8fecd1687a5760/reviews.json) (80MB) you will find 1000 positive and 1000 negative **movie reviews**.\n",
        "Each review is a **document** and consists of one or more sentences.\n",
        "\n",
        "To prepare yourself for this practical, you should\n",
        "have a look at a few of these texts to understand the difficulties of\n",
        "the task: how might one go about classifying the texts? You will write\n",
        "code that decides whether a movie review conveys positive or\n",
        "negative sentiment.\n",
        "\n",
        "Please make sure you have read the following paper:\n",
        "\n",
        ">   Bo Pang, Lillian Lee, and Shivakumar Vaithyanathan\n",
        "(2002). \n",
        "[Thumbs up? Sentiment Classification using Machine Learning\n",
        "Techniques](https://dl.acm.org/citation.cfm?id=1118704). EMNLP.\n",
        "\n",
        "Bo Pang et al. were the \"inventors\" of the movie review sentiment\n",
        "classification task, and the above paper was one of the first papers on\n",
        "the topic. The first version of your sentiment classifier will do\n",
        "something similar to Pang et al.'s system. If you have questions about it,\n",
        "you should resolve as soon as possible with your TA.\n"
      ]
    },
    {
      "cell_type": "markdown",
      "metadata": {
        "id": "cb7errgRASzZ"
      },
      "source": [
        "**Advice**\n",
        "\n",
        "Please read through the entire practical and familiarise\n",
        "yourself with all requirements before you start coding or otherwise\n",
        "solving the tasks. Writing clean and concise code can make the difference\n",
        "between solving the assignment in a matter of hours, and taking days to\n",
        "run all experiments.\n",
        "\n",
        "## Environment\n",
        "\n",
        "All code should be written in **Python 3**. \n",
        "This is the default in Google Colab."
      ]
    },
    {
      "cell_type": "code",
      "metadata": {
        "colab": {
          "base_uri": "https://localhost:8080/"
        },
        "id": "SaZnxptMJiD7",
        "outputId": "c451d2ee-84b2-497f-870d-1b497fd5d6c6"
      },
      "source": [
        "!python --version"
      ],
      "execution_count": null,
      "outputs": [
        {
          "output_type": "stream",
          "text": [
            "Python 3.6.9\n"
          ],
          "name": "stdout"
        }
      ]
    },
    {
      "cell_type": "markdown",
      "metadata": {
        "id": "BYZyIF7lJnGn"
      },
      "source": [
        "If you want to run code on your own computer, then download this notebook through `File -> Download .ipynb`.\n",
        "The easiest way to\n",
        "install Python is through downloading\n",
        "[Anaconda](https://www.anaconda.com/download). \n",
        "After installation, you can start the notebook by typing `jupyter notebook filename.ipynb`.\n",
        "You can also use an IDE\n",
        "such as [PyCharm](https://www.jetbrains.com/pycharm/download/) to make\n",
        "coding and debugging easier. It is good practice to create a [virtual\n",
        "environment](https://docs.python.org/3/tutorial/venv.html) for this\n",
        "project, so that any Python packages don’t interfere with other\n",
        "projects. \n",
        " \n",
        "\n",
        "**Learning Python 3**\n",
        "\n",
        "If you are new to Python 3, you may want to check out a few of these resources:\n",
        "- https://learnxinyminutes.com/docs/python3/\n",
        "- https://www.learnpython.org/\n",
        "- https://docs.python.org/3/tutorial/"
      ]
    },
    {
      "cell_type": "code",
      "metadata": {
        "id": "hok-BFu9lGoK"
      },
      "source": [
        "import math\n",
        "import os\n",
        "import sys\n",
        "import nltk\n",
        "from subprocess import call\n",
        "from nltk import FreqDist\n",
        "from nltk.util import ngrams\n",
        "from nltk.stem.porter import PorterStemmer\n",
        "import sklearn as sk\n",
        "import pickle\n",
        "import json\n",
        "from collections import Counter\n",
        "import requests\n",
        "import matplotlib.pyplot as plt\n",
        "import numpy as np\n",
        "import pandas as pd\n",
        "#import wget"
      ],
      "execution_count": null,
      "outputs": []
    },
    {
      "cell_type": "markdown",
      "metadata": {
        "id": "bXWyGHwE-ieQ"
      },
      "source": [
        "## Loading the data\n",
        "\n",
        "**Download the sentiment lexicon and the movie reviews dataset.**"
      ]
    },
    {
      "cell_type": "code",
      "metadata": {
        "colab": {
          "base_uri": "https://localhost:8080/"
        },
        "id": "lm-rakqtlMOT",
        "outputId": "417428d0-c66f-4d45-9379-886a9ae28924"
      },
      "source": [
        "# # download sentiment lexicon\n",
        "# sentiment = wget.download('https://gist.githubusercontent.com/bastings/d6f99dcb6c82231b94b013031356ba05.js')\n",
        "# # download review data\n",
        "# reviews = wget.download('https://gist.githubusercontent.com/bastings/d47423301cca214e3930061a5a75e177/raw/5113687382919e22b1f09ce71a8fecd1687a5760/reviews.json')\n",
        "\n",
        "# download sentiment lexicon\n",
        "!wget https://gist.githubusercontent.com/bastings/d6f99dcb6c82231b94b013031356ba05/raw/f80a0281eba8621b122012c89c8b5e2200b39fd6/sent_lexicon\n",
        "# download review data\n",
        "!wget https://gist.githubusercontent.com/bastings/d47423301cca214e3930061a5a75e177/raw/5113687382919e22b1f09ce71a8fecd1687a5760/reviews.json"
      ],
      "execution_count": null,
      "outputs": [
        {
          "output_type": "stream",
          "text": [
            "/bin/bash: wget: command not found\n",
            "/bin/bash: wget: command not found\n"
          ],
          "name": "stdout"
        }
      ]
    },
    {
      "cell_type": "markdown",
      "metadata": {
        "id": "AkPwuHp5LSuQ"
      },
      "source": [
        "**Load the movie reviews.**\n",
        "\n",
        "Each word in a review comes with its part-of-speech tag. For documentation on POS-tags, see https://catalog.ldc.upenn.edu/docs/LDC99T42/tagguid1.pdf.\n"
      ]
    },
    {
      "cell_type": "code",
      "metadata": {
        "colab": {
          "base_uri": "https://localhost:8080/"
        },
        "id": "careEKj-mRpl",
        "outputId": "4d54f55a-ad61-4bf4-e2b8-8da39a88e059"
      },
      "source": [
        "# file structure:\n",
        "# [\n",
        "#  {\"cv\": integer, \"sentiment\": str, \"content\": list} \n",
        "#  {\"cv\": integer, \"sentiment\": str, \"content\": list} \n",
        "#   ..\n",
        "# ]\n",
        "# where `content` is a list of sentences, \n",
        "# with a sentence being a list of (token, pos_tag) pairs.\n",
        "\n",
        "with open(\"reviews.json\", mode=\"r\", encoding=\"utf-8\") as f:\n",
        "  reviews = json.load(f)\n",
        "  \n",
        "print(\"Total number of reviews:\", len(reviews), '\\n')\n",
        "  \n",
        "def print_sentence_with_pos(s):\n",
        "  print(\" \".join(\"%s/%s\" % (token, pos_tag) for token, pos_tag in s))\n",
        "\n",
        "for i, r in enumerate(reviews):\n",
        "  print(r[\"cv\"], r[\"sentiment\"], len(r[\"content\"]))  # cv, sentiment, num sents\n",
        "  print_sentence_with_pos(r[\"content\"][0])\n",
        "  if i == 4: \n",
        "    break\n",
        "\n",
        "c = Counter()\n",
        "for review in reviews:\n",
        "  for sentence in review[\"content\"]:\n",
        "    for token, pos_tag in sentence:\n",
        "      c[token.lower()] += 1\n",
        "      \n",
        "print(\"\\nNumber of word types:\", len(c)) \n",
        "print(\"Number of word tokens:\", sum(c.values()))"
      ],
      "execution_count": null,
      "outputs": [
        {
          "output_type": "stream",
          "text": [
            "Total number of reviews: 2000 \n",
            "\n",
            "0 NEG 29\n",
            "Two/CD teen/JJ couples/NNS go/VBP to/TO a/DT church/NN party/NN ,/, drink/NN and/CC then/RB drive/NN ./.\n",
            "1 NEG 11\n",
            "Damn/JJ that/IN Y2K/CD bug/NN ./.\n",
            "2 NEG 24\n",
            "It/PRP is/VBZ movies/NNS like/IN these/DT that/WDT make/VBP a/DT jaded/JJ movie/NN viewer/NN thankful/JJ for/IN the/DT invention/NN of/IN the/DT Timex/NNP IndiGlo/NNP watch/NN ./.\n",
            "3 NEG 19\n",
            "QUEST/NN FOR/IN CAMELOT/NNP ``/`` Quest/NNP for/IN Camelot/NNP ''/'' is/VBZ Warner/NNP Bros./NNP '/POS first/JJ feature-length/JJ ,/, fully-animated/JJ attempt/NN to/TO steal/VB clout/NN from/IN Disney/NNP 's/POS cartoon/NN empire/NN ,/, but/CC the/DT mouse/NN has/VBZ no/DT reason/NN to/TO be/VB worried/VBN ./.\n",
            "4 NEG 38\n",
            "Synopsis/NNPS :/: A/DT mentally/RB unstable/JJ man/NN undergoing/VBG psychotherapy/NN saves/VBZ a/DT boy/NN from/IN a/DT potentially/RB fatal/JJ accident/NN and/CC then/RB falls/VBZ in/IN love/NN with/IN the/DT boy/NN 's/POS mother/NN ,/, a/DT fledgling/NN restauranteur/NN ./.\n",
            "\n",
            "Number of word types: 47743\n",
            "Number of word tokens: 1512359\n"
          ],
          "name": "stdout"
        }
      ]
    },
    {
      "cell_type": "code",
      "metadata": {
        "colab": {
          "base_uri": "https://localhost:8080/"
        },
        "id": "HJfU-uLsJPyE",
        "outputId": "c92a3611-96eb-45bd-d345-945aaf06b7c2"
      },
      "source": [
        "for token, count in c.most_common(20):\n",
        "  print(\"%10s : %8d\" % (token, count))"
      ],
      "execution_count": null,
      "outputs": [
        {
          "output_type": "stream",
          "text": [
            "         , :    77842\n",
            "       the :    75948\n",
            "         . :    59027\n",
            "         a :    37583\n",
            "       and :    35235\n",
            "        of :    33864\n",
            "        to :    31601\n",
            "        is :    25972\n",
            "        in :    21563\n",
            "        's :    18043\n",
            "        it :    15904\n",
            "      that :    15820\n",
            "     -rrb- :    11768\n",
            "     -lrb- :    11670\n",
            "        as :    11312\n",
            "      with :    10739\n",
            "       for :     9816\n",
            "       his :     9542\n",
            "      this :     9497\n",
            "      film :     9404\n"
          ],
          "name": "stdout"
        }
      ]
    },
    {
      "cell_type": "markdown",
      "metadata": {
        "id": "E6PWaEoh8B34"
      },
      "source": [
        "# Lexicon-based approach (2+1pts)\n",
        "\n"
      ]
    },
    {
      "cell_type": "markdown",
      "metadata": {
        "id": "JsTSMb6ma4E8"
      },
      "source": [
        "A traditional approach to automatically classify documents according to their sentiment is the lexicon-based approach. To implement this approach, you need a **sentiment lexicon**, i.e., a list of words annotated with a sentiment label (e.g., positive and negative) or a sentiment score (e.g., a score from 0 to 5).\n",
        "\n",
        "In this practical, you will use the sentiment\n",
        "lexicon released by Wilson et al. (2005). The path of the loaded lexicon is `\"sent_lexicon\"`.\n",
        "\n",
        "> Theresa Wilson, Janyce Wiebe, and Paul Hoffmann\n",
        "(2005). [Recognizing Contextual Polarity in Phrase-Level Sentiment\n",
        "Analysis](http://www.aclweb.org/anthology/H/H05/H05-1044.pdf). HLT-EMNLP.\n",
        "\n",
        "Pay attention to all the information available in the sentiment lexicon. The field *word1* contains the lemma, *priorpolarity* contains the sentiment label (positive, negative, both, or neutral), *type* gives you the magnitude of the word's sentiment (strong or weak), and *pos1* gives you the part-of-speech tag of the lemma. Some lemmas can have multiple part-of-speech tags and thus multiple entries in the lexicon.\n"
      ]
    },
    {
      "cell_type": "markdown",
      "metadata": {
        "id": "MCHUMmb0SZxy"
      },
      "source": [
        "Pay attention to all the information available in the sentiment lexicon. The field *word1* contains the lemma, *priorpolarity* contains the sentiment label (positive, negative, both, or neutral), *type* gives you the magnitude of the word's sentiment (strong or weak), and *pos1* gives you the part-of-speech tag of the lemma. Some lemmas can have multiple part-of-speech tags and thus multiple entries in the lexicon."
      ]
    },
    {
      "cell_type": "code",
      "metadata": {
        "colab": {
          "base_uri": "https://localhost:8080/"
        },
        "id": "Ogq0Eq2hQglh",
        "outputId": "3c92eb2a-3714-472b-a369-273d8d38e6fc"
      },
      "source": [
        "with open(\"sent_lexicon\", mode=\"r\", encoding=\"utf-8\") as f:\n",
        "  line_cnt = 0\n",
        "  for line in f:\n",
        "    print(line.strip())\n",
        "    line_cnt += 1\n",
        "    if line_cnt > 4:\n",
        "      break"
      ],
      "execution_count": null,
      "outputs": [
        {
          "output_type": "stream",
          "text": [
            "type=weaksubj len=1 word1=abandoned pos1=adj stemmed1=n priorpolarity=negative\n",
            "type=weaksubj len=1 word1=abandonment pos1=noun stemmed1=n priorpolarity=negative\n",
            "type=weaksubj len=1 word1=abandon pos1=verb stemmed1=y priorpolarity=negative\n",
            "type=strongsubj len=1 word1=abase pos1=verb stemmed1=y priorpolarity=negative\n",
            "type=strongsubj len=1 word1=abasement pos1=anypos stemmed1=y priorpolarity=negative\n"
          ],
          "name": "stdout"
        }
      ]
    },
    {
      "cell_type": "markdown",
      "metadata": {
        "id": "Mml4nOtIUBhn"
      },
      "source": [
        "Given such a sentiment lexicon, there are ways to solve\n",
        "the classification task without using Machine Learning. For example, one might look up every word $w_1 ... w_n$ in a document, and compute a **binary score**\n",
        "$S_{binary}$ by counting how many words have a positive or a\n",
        "negative label in the sentiment lexicon $SLex$.\n",
        "\n",
        "$$S_{binary}(w_1 w_2 ... w_n) = \\sum_{i = 1}^{n}\\text{sign}(SLex\\big[w_i\\big])$$\n",
        "\n",
        "where $\\text{sign}(SLex\\big[w_i\\big])$ refers to the polarity of $w_i$.\n",
        "\n",
        "**Threshold.** On average, there are more positive than negative words per review (~7.13 more positive than negative per review) to take this bias into account you should use a threshold of **8** (roughly the bias itself) to make it harder to classify as positive.\n",
        "\n",
        "$$\n",
        "\\text{classify}(S_{binary}(w_1 w_2 ... w_n)) = \\bigg\\{\\begin{array}{ll}\n",
        "        \\text{positive} & \\text{if } S_{binary}(w_1w_2...w_n) > threshold\\\\\n",
        "        \\text{negative} & \\text{otherwise}\n",
        "        \\end{array}\n",
        "$$\n"
      ]
    },
    {
      "cell_type": "markdown",
      "metadata": {
        "id": "tOFnMvbeeZrc"
      },
      "source": [
        "#### (Q1.1) Implement this approach and report its classification accuracy. (1 pt)"
      ]
    },
    {
      "cell_type": "code",
      "metadata": {
        "id": "3YoKWth5JPyO"
      },
      "source": [
        "with open(\"sent_lexicon\", mode=\"r\", encoding=\"utf-8\") as f:\n",
        "    sentiment_lexicon = f.readlines()\n",
        "\n",
        "def strings_to_list(lst): \n",
        "    return [[el] for el in lst] \n",
        "\n",
        "sentiment_lexicon = strings_to_list(sentiment_lexicon) "
      ],
      "execution_count": null,
      "outputs": []
    },
    {
      "cell_type": "code",
      "metadata": {
        "colab": {
          "base_uri": "https://localhost:8080/"
        },
        "id": "mDQqm40VJPyR",
        "outputId": "f8646e5b-f83d-4777-8d31-a2eb2a50a3b7"
      },
      "source": [
        "#Convert sentiment lexicon dictionary to dataframe\n",
        "sentiment_df = pd.DataFrame(0, index=np.arange(0, len(sentiment_lexicon)), columns=['type', 'len', 'word1', 'pos1', 'stemmed1', 'priorpolarity'])\n",
        "for i in range(0,len(sentiment_lexicon)): \n",
        "        all_words = [words for segments in sentiment_lexicon[i] for words in segments.split('=')]\n",
        "        all_words = [words for segments in all_words for words in segments.split()]\n",
        "        all_words = (all_words[1:][::2])\n",
        "        sentiment_df['type'].iloc[i] = all_words[0] \n",
        "        sentiment_df['len'].iloc[i] = all_words[1]\n",
        "        sentiment_df['word1'].iloc[i] = all_words[2]\n",
        "        sentiment_df['pos1'].iloc[i] = all_words[3]\n",
        "        sentiment_df['stemmed1'].iloc[i] = all_words[4]\n",
        "        sentiment_df['priorpolarity'].iloc[i] = all_words[5]"
      ],
      "execution_count": null,
      "outputs": [
        {
          "output_type": "stream",
          "text": [
            "/Users/andreaprenner/anaconda3/lib/python3.7/site-packages/pandas/core/indexing.py:670: SettingWithCopyWarning: \n",
            "A value is trying to be set on a copy of a slice from a DataFrame\n",
            "\n",
            "See the caveats in the documentation: https://pandas.pydata.org/pandas-docs/stable/user_guide/indexing.html#returning-a-view-versus-a-copy\n",
            "  iloc._setitem_with_indexer(indexer, value)\n"
          ],
          "name": "stderr"
        }
      ]
    },
    {
      "cell_type": "code",
      "metadata": {
        "id": "2aqnv96yJPyW"
      },
      "source": [
        "#Since words can have different sentiment classifications depending on their pos1 classifications - for each word the majority polarity is taken\n",
        "word_polarity = pd.DataFrame(sentiment_df[['word1', 'priorpolarity', 'type', 'pos1']].groupby(['word1', 'priorpolarity']).size().reset_index())\n",
        "word_polarity['positive'] = np.where(word_polarity['priorpolarity']=='positive',word_polarity.iloc[:,2] , 0)\n",
        "word_polarity['negative'] = np.where(word_polarity['priorpolarity']=='negative',word_polarity.iloc[:,2] , 0)\n",
        "word_polarity = word_polarity.groupby(['word1']).agg({'positive': 'sum', 'negative': 'sum'}).reset_index()\n",
        "#Classify polarity by majority - if equal amount of positive and negative sentiments for one word then classify as neutral\n",
        "word_polarity['priorpolarity'] = np.where(word_polarity['positive']>word_polarity['negative'],'positive' ,\n",
        "                                          np.where(word_polarity['positive']<word_polarity['negative'], 'negative', \n",
        "                                          'neutral'))"
      ],
      "execution_count": null,
      "outputs": []
    },
    {
      "cell_type": "code",
      "metadata": {
        "id": "ulzW2cIvJPyZ"
      },
      "source": [
        "pos_neg_df = pd.DataFrame(0, index=np.arange(0, len(reviews)), columns=['number_pos', 'number_neg'])"
      ],
      "execution_count": null,
      "outputs": []
    },
    {
      "cell_type": "code",
      "metadata": {
        "id": "kGhvDfl6JPyc"
      },
      "source": [
        "#'pos_neg_df' df sums up the number of positive and negative words per review (neutral words not considered) \n",
        "import itertools\n",
        "for i in range(0,len(reviews)):\n",
        "    list_inputs = reviews[i]['content']\n",
        "    list_inputs_2 = list(itertools.chain(*list_inputs))\n",
        "    list_final = list(itertools.chain(*list_inputs_2))\n",
        "    list_final = list_final[::2] \n",
        "    list_final = [x.lower() for x in list_final]\n",
        "    final_words = pd.DataFrame(list_final, columns=['words'])\n",
        "    merged_final_words = pd.merge(left=final_words, right=word_polarity, how='left', left_on='words', right_on='word1')\n",
        "    pos_neg_df['number_pos'].iloc[i] = (merged_final_words['priorpolarity'] == 'positive').sum()\n",
        "    pos_neg_df['number_neg'].iloc[i] = (merged_final_words['priorpolarity'] == 'negative').sum()"
      ],
      "execution_count": null,
      "outputs": []
    },
    {
      "cell_type": "code",
      "metadata": {
        "id": "JtB9YgKUzIiX"
      },
      "source": [
        "#Total number of positive and negative words over all reviews calculated (-> used in Q1.3)\n",
        "total_pos_words = pos_neg_df['number_pos'].sum()\n",
        "total_neg_words = pos_neg_df['number_neg'].sum()"
      ],
      "execution_count": null,
      "outputs": []
    },
    {
      "cell_type": "code",
      "metadata": {
        "id": "TAk9yIxRJPye"
      },
      "source": [
        "def sentiment_lexicon(pos_neg_df): \n",
        "    #Taking into account that there are more positive than negative words\n",
        "    pos_neg_df['number_pos'] = pos_neg_df['number_pos']-8\n",
        "    pos_neg_df['classification'] = '0'\n",
        "    pos_neg_df.loc[pos_neg_df['number_pos'] > pos_neg_df['number_neg'], 'classification'] = 'POS'\n",
        "    pos_neg_df.loc[pos_neg_df['number_pos'] < pos_neg_df['number_neg'], 'classification'] = 'NEG'\n",
        "    pos_neg_df['review_sentiment'] = '0'\n",
        "    for i in range(0,len(reviews)):\n",
        "        pos_neg_df['review_sentiment'].iloc[i] = reviews[i]['sentiment']\n",
        "        \n",
        "    pos_neg_df['classification_accuracy'] = np.where(pos_neg_df['classification']==pos_neg_df['review_sentiment'], \n",
        "                                                 1, 0)\n",
        "    final_data_frame = pos_neg_df\n",
        "    return final_data_frame"
      ],
      "execution_count": null,
      "outputs": []
    },
    {
      "cell_type": "code",
      "metadata": {
        "colab": {
          "base_uri": "https://localhost:8080/"
        },
        "id": "iy528EUTphz5",
        "outputId": "9c4e30ef-407b-4dd1-9c8b-39e50c9b817f"
      },
      "source": [
        "# token_results should be a list of binary indicators; for example [1, 0, 1, ...] \n",
        "# where 1 indicates a correct classification and 0 an incorrect classification.\n",
        "df_results = sentiment_lexicon(pos_neg_df)\n",
        "token_results = df_results['classification_accuracy']\n",
        "token_accuracy = token_results.sum()/len(reviews)\n",
        "print(\"Accuracy: %0.2f\" % token_accuracy)"
      ],
      "execution_count": null,
      "outputs": [
        {
          "output_type": "stream",
          "text": [
            "/Users/andreaprenner/anaconda3/lib/python3.7/site-packages/pandas/core/indexing.py:670: SettingWithCopyWarning: \n",
            "A value is trying to be set on a copy of a slice from a DataFrame\n",
            "\n",
            "See the caveats in the documentation: https://pandas.pydata.org/pandas-docs/stable/user_guide/indexing.html#returning-a-view-versus-a-copy\n",
            "  iloc._setitem_with_indexer(indexer, value)\n"
          ],
          "name": "stderr"
        },
        {
          "output_type": "stream",
          "text": [
            "Accuracy: 0.67\n"
          ],
          "name": "stdout"
        }
      ]
    },
    {
      "cell_type": "markdown",
      "metadata": {
        "id": "Twox0s_3eS0V"
      },
      "source": [
        "As the sentiment lexicon also has information about the **magnitude** of\n",
        "sentiment (e.g., *“excellent\"* would have higher magnitude than\n",
        "*“good\"*), we can take a more fine-grained approach by adding up all\n",
        "sentiment scores, and deciding the polarity of the movie review using\n",
        "the sign of the weighted score $S_{weighted}$.\n",
        "\n",
        "$$S_{weighted}(w_1w_2...w_n) = \\sum_{i = 1}^{n}SLex\\big[w_i\\big]$$\n",
        "\n",
        "\n",
        "Make sure you define an appropriate threshold for this approach.\n",
        "\n",
        "#### (Q1.2) Now incorporate magnitude information and report the classification accuracy. Don't forget to use the threshold. (1 pt)"
      ]
    },
    {
      "cell_type": "code",
      "metadata": {
        "id": "Mt-2mAJstU7K"
      },
      "source": [
        "word_polarity['word_polarity'] = word_polarity['word1'] + word_polarity['priorpolarity']"
      ],
      "execution_count": null,
      "outputs": []
    },
    {
      "cell_type": "code",
      "metadata": {
        "id": "qG3hUDnPtkhS"
      },
      "source": [
        "#Determine word type dependent if the word was earlier defined as positive or negative\n",
        "#If the word had a majority of positive sentiments in Q1.1 then the word types of only the positive sentiments are counted together\n",
        "sentiment_df['word_polarity'] = sentiment_df['word1'] + sentiment_df['priorpolarity']\n",
        "polarity_type = sentiment_df[sentiment_df['word_polarity'].isin(word_polarity['word_polarity'])]"
      ],
      "execution_count": null,
      "outputs": []
    },
    {
      "cell_type": "code",
      "metadata": {
        "id": "raaiQEH3tX46"
      },
      "source": [
        "word_type = pd.DataFrame(polarity_type[['word1', 'priorpolarity', 'type', 'word_polarity']].groupby(['word1', 'type']).size().reset_index())"
      ],
      "execution_count": null,
      "outputs": []
    },
    {
      "cell_type": "code",
      "metadata": {
        "id": "YbVXO0q4tZ-j"
      },
      "source": [
        "word_type['weaksubj'] = np.where(word_type['type']=='weaksubj',word_type.iloc[:,2] , 0)\n",
        "word_type['strongsubj'] = np.where(word_type['type']=='strongsubj',word_type.iloc[:,2] , 0)\n",
        "word_type = word_type.groupby(['word1']).agg({'weaksubj': 'sum', 'strongsubj': 'sum'}).reset_index()"
      ],
      "execution_count": null,
      "outputs": []
    },
    {
      "cell_type": "code",
      "metadata": {
        "id": "BJWvQ2jZtcPB"
      },
      "source": [
        "#If there is an equal amount of strong and weak subjects \n",
        "polarity_type = pd.merge(left=word_type, right=word_polarity, how='left', left_on='word1', right_on='word1')\n",
        "polarity_type['type'] = np.where(polarity_type['strongsubj']>polarity_type['weaksubj'],'strongsubj' ,\n",
        "                                          np.where(polarity_type['strongsubj']<polarity_type['weaksubj'], 'weaksubj', \n",
        "                                          'weak_strong'))"
      ],
      "execution_count": null,
      "outputs": []
    },
    {
      "cell_type": "code",
      "metadata": {
        "id": "i14Q0SqEte8a"
      },
      "source": [
        "pos_neg_mag = pd.DataFrame(0, index=np.arange(0, len(reviews)), columns=['pos_weak', 'pos_strong', 'pos_weak_strong', 'neg_weak', 'neg_strong', 'neg_weak_strong'])"
      ],
      "execution_count": null,
      "outputs": []
    },
    {
      "cell_type": "code",
      "metadata": {
        "id": "jGr6l2CrthFf"
      },
      "source": [
        "for i in range(0,len(reviews)):\n",
        "    list_inputs = reviews[i]['content']\n",
        "    list_inputs_2 = list(itertools.chain(*list_inputs))\n",
        "    list_final = list(itertools.chain(*list_inputs_2))\n",
        "    list_final = list_final[::2] \n",
        "    list_final = [x.lower() for x in list_final]\n",
        "    final_words = pd.DataFrame(list_final, columns=['words'])\n",
        "    merged_final_words = pd.merge(left=final_words, right=polarity_type, how='left', left_on='words', right_on='word1')\n",
        "    pos_neg_mag['pos_weak'].iloc[i] = ((merged_final_words['priorpolarity'] == 'positive') & (merged_final_words['type'] == 'weaksubj')).sum()\n",
        "    pos_neg_mag['pos_strong'].iloc[i] = ((merged_final_words['priorpolarity'] == 'positive') & (merged_final_words['type'] == 'strongsubj')).sum()\n",
        "    pos_neg_mag['pos_weak_strong'].iloc[i] = ((merged_final_words['priorpolarity'] == 'positive') & (merged_final_words['type'] == 'weak_strong')).sum()\n",
        "    pos_neg_mag['neg_weak'].iloc[i] = ((merged_final_words['priorpolarity'] == 'negative') & (merged_final_words['type'] == 'weaksubj')).sum()\n",
        "    pos_neg_mag['neg_strong'].iloc[i] = ((merged_final_words['priorpolarity'] == 'negative') & (merged_final_words['type'] == 'strongsubj')).sum()\n",
        "    pos_neg_mag['neg_weak_strong'].iloc[i] = ((merged_final_words['priorpolarity'] == 'negative') & (merged_final_words['type'] == 'weak_strong')).sum()"
      ],
      "execution_count": null,
      "outputs": []
    },
    {
      "cell_type": "code",
      "metadata": {
        "id": "Bto-KsCGtnFL"
      },
      "source": [
        "pos_neg_mag['number_pos'] = pos_neg_mag['pos_weak'] * 0.5 + pos_neg_mag['pos_weak_strong'] * 1  + pos_neg_mag['pos_strong'] * 1.5  \n",
        "pos_neg_mag['number_neg'] = pos_neg_mag['neg_weak'] * 0.5 + pos_neg_mag['neg_weak_strong'] * 1 + pos_neg_mag['neg_strong'] * 1.5"
      ],
      "execution_count": null,
      "outputs": []
    },
    {
      "cell_type": "code",
      "metadata": {
        "colab": {
          "base_uri": "https://localhost:8080/"
        },
        "id": "9vVk7CvDpyka",
        "outputId": "e6e485eb-09ce-4538-ef5c-abd99acf6074"
      },
      "source": [
        "df_results_magnitude = sentiment_lexicon(pos_neg_mag)\n",
        "magnitude_results = df_results_magnitude['classification_accuracy']\n",
        "magnitude_accuracy = magnitude_results.sum()/len(reviews)\n",
        "print(\"Accuracy: %0.2f\" % magnitude_accuracy)"
      ],
      "execution_count": null,
      "outputs": [
        {
          "output_type": "stream",
          "text": [
            "/Users/andreaprenner/anaconda3/lib/python3.7/site-packages/pandas/core/indexing.py:670: SettingWithCopyWarning: \n",
            "A value is trying to be set on a copy of a slice from a DataFrame\n",
            "\n",
            "See the caveats in the documentation: https://pandas.pydata.org/pandas-docs/stable/user_guide/indexing.html#returning-a-view-versus-a-copy\n",
            "  iloc._setitem_with_indexer(indexer, value)\n"
          ],
          "name": "stderr"
        },
        {
          "output_type": "stream",
          "text": [
            "Accuracy: 0.69\n"
          ],
          "name": "stdout"
        }
      ]
    },
    {
      "cell_type": "markdown",
      "metadata": {
        "id": "h9SHoGPfsAHV"
      },
      "source": [
        "#### Make a barplot of the two results."
      ]
    },
    {
      "cell_type": "code",
      "metadata": {
        "id": "8LgBcYcXsEk3"
      },
      "source": [
        "neg_magnitude = (df_results_magnitude['classification'] == 'NEG').sum()\n",
        "pos_magnitude = (df_results_magnitude['classification'] == 'POS').sum()\n",
        "neg_review_sentiment = (df_results_magnitude['review_sentiment'] == 'NEG').sum()\n",
        "pos_review_sentiment = (df_results_magnitude['review_sentiment'] == 'POS').sum()\n",
        "neg_token = (df_results['classification'] == 'NEG').sum()\n",
        "pos_token = (df_results['classification'] == 'POS').sum()"
      ],
      "execution_count": null,
      "outputs": []
    },
    {
      "cell_type": "code",
      "metadata": {
        "colab": {
          "base_uri": "https://localhost:8080/",
          "height": 286
        },
        "id": "3LHU8og_JPy7",
        "outputId": "fa1cd90a-efeb-47b5-9ce9-80cf2f95df0b"
      },
      "source": [
        "# set height of bar \n",
        "neg = [neg_magnitude, neg_review_sentiment, neg_token] \n",
        "pos = [pos_magnitude, pos_review_sentiment, pos_token] \n",
        "   \n",
        "fig, ax = plt.subplots()\n",
        "index = np.arange(2)\n",
        "bar_width = 0.2\n",
        "   \n",
        "# Make the plot \n",
        "bar1 = ax.bar(index, (pos_token, neg_token), bar_width,\n",
        "                 color='b', \n",
        "                 label='Token Results')\n",
        "\n",
        "bar2 = ax.bar(index + bar_width, (pos_magnitude, neg_magnitude), bar_width,\n",
        "                 color='r', \n",
        "                 label='Magnitude Results')\n",
        "\n",
        "bar3 = ax.bar(index + bar_width*2, (pos_review_sentiment, neg_review_sentiment), bar_width,\n",
        "                color='g', \n",
        "                label='Ground Truth')\n",
        "   \n",
        "ax.set_ylabel(\"Number of classified documents\")\n",
        "ax.set_xticklabels(('POSITIVE', 'NEGATIVE'))\n",
        "ax.set_xticks(index + bar_width / 3)\n",
        "ax.legend()"
      ],
      "execution_count": null,
      "outputs": [
        {
          "output_type": "stream",
          "text": [
            "/Users/andreaprenner/anaconda3/lib/python3.7/site-packages/ipykernel_launcher.py:23: UserWarning: FixedFormatter should only be used together with FixedLocator\n"
          ],
          "name": "stderr"
        },
        {
          "output_type": "execute_result",
          "data": {
            "text/plain": [
              "<matplotlib.legend.Legend at 0x1a246f2ed0>"
            ]
          },
          "metadata": {
            "tags": []
          },
          "execution_count": 24
        },
        {
          "output_type": "display_data",
          "data": {
            "image/png": "[encoded data removed]",
            "text/plain": [
              "<Figure size 432x288 with 1 Axes>"
            ]
          },
          "metadata": {
            "tags": [],
            "needs_background": "light"
          }
        }
      ]
    },
    {
      "cell_type": "markdown",
      "metadata": {
        "id": "sNhS8OCVxMHd"
      },
      "source": [
        "## (Q1.3 Optional) A better threshold (1pt)\n",
        "Above we have defined a threshold to account for an inherent bias in the dataset: there are more positive than negative words per review.\n",
        "However, that threshold does not take into account *document length*. Explain why this is a problem and implement an alternative way to compute the threshold."
      ]
    },
    {
      "cell_type": "markdown",
      "metadata": {
        "id": "xo7gk1I-omLI"
      },
      "source": [
        "\n",
        "*Now with the current threshold it is the case that documents of shorter length will disproportionally often be classified as negative since there need to be at least 8 positive words present to be able to classify as positive review. To account for this imbalance, we could look at the positive/negative word split over all the reviews. In total there are 17.35% fewer negative words compared to positive in the corpus. Therefore in order to account for the imbalance, each positive word can each be counted as 1 and each negative word with 1.17355.*"
      ]
    },
    {
      "cell_type": "code",
      "metadata": {
        "colab": {
          "base_uri": "https://localhost:8080/"
        },
        "id": "Dwt0B8h8aKjr",
        "outputId": "28986cd8-c8ce-43d5-b1df-a076659b2a23"
      },
      "source": [
        "print('Total words in positive reviews:', total_pos_words)\n",
        "print('Total words in negative reviews:', total_neg_words)"
      ],
      "execution_count": null,
      "outputs": [
        {
          "output_type": "stream",
          "text": [
            "Total words in positive reviews: 78167\n",
            "Total words in negative reviews: 64601\n"
          ],
          "name": "stdout"
        }
      ]
    },
    {
      "cell_type": "code",
      "metadata": {
        "colab": {
          "base_uri": "https://localhost:8080/"
        },
        "id": "csd-QELEzFvd",
        "outputId": "9a3aea86-c8a1-42de-b252-877af4d09654"
      },
      "source": [
        "1-(64601/78167)"
      ],
      "execution_count": null,
      "outputs": [
        {
          "output_type": "execute_result",
          "data": {
            "text/plain": [
              "0.1735514987142912"
            ]
          },
          "metadata": {
            "tags": []
          },
          "execution_count": 94
        }
      ]
    },
    {
      "cell_type": "markdown",
      "metadata": {
        "id": "6MFrz8Jink0D"
      },
      "source": [
        "# Significance testing"
      ]
    },
    {
      "cell_type": "markdown",
      "metadata": {
        "id": "kxkxrldT9Ymc"
      },
      "source": [
        "Does using the magnitude improve the results? Oftentimes, answering such questions by simply comparing accuracy\n",
        "scores is not enough. When dealing with natural language and human ratings, it is safe to assume that there are infinitely many possible\n",
        "instances that could be used for training and testing, of which the ones\n",
        "we actually train and test on are a tiny sample. Thus, it is possible\n",
        "that observed differences in the reported performance are due to mere chance.\n",
        "\n",
        "There exist statistical methods which can be used to check for\n",
        "consistency (*statistical significance*) in the results, and one of the\n",
        "simplest such tests is the **sign test**. \n",
        "\n",
        "The sign test is based on the binomial distribution. Count all cases when System 1 is better than System 2, when System 2 is better than System 1, and when they are the same. Call these numbers $Plus$, $Minus$ and $Null$ respectively. \n",
        "\n",
        "The sign test returns the probability that the null hypothesis is true. \n",
        "\n",
        "This probability is called the $p$-value and it can be calculated for the two-sided sign test using the following formula (we multiply by two because this is a two-sided sign test and tests for the significance of differences in either direction):\n",
        "\n",
        "$$2 \\, \\sum\\limits_{i=0}^{k} \\binom{N}{i} \\, q^i \\, (1-q)^{N-i}$$\n",
        "\n",
        "where $$N = 2 \\Big\\lceil \\frac{Null}{2}\\Big\\rceil + Plus + Minus$$ is the total\n",
        "number of cases, and\n",
        "$$k = \\Big\\lceil \\frac{Null}{2}\\Big\\rceil + \\min\\{Plus,Minus\\}$$ is the number of\n",
        "cases with the less common sign. \n",
        "\n",
        "Here, we\n",
        "treat ties by adding half a point to either side, rounding up to the\n",
        "nearest integer if necessary. \n",
        "\n",
        "In this experiment, $q = 0.5$, so the formula simplifies to:\n",
        "$$2\\times 0.5^N\\, \\sum\\limits_{i=0}^{k} \\binom{N}{i}$$\n",
        "\n",
        "\n",
        "We use the `comb` function from `scipy` and the `decimal` package for the stable adding of numbers in the final summation.\n"
      ]
    },
    {
      "cell_type": "code",
      "metadata": {
        "id": "de5l4oPkE-BS"
      },
      "source": [
        "from decimal import Decimal\n",
        "from scipy.special import comb\n",
        "\n",
        "\n",
        "def sign_test(results_1, results_2):\n",
        "  \"\"\"test for significance\"\"\"\n",
        "  ties, plus, minus = 0, 0, 0\n",
        "\n",
        "  for i in range(0, len(results_1)):\n",
        "    if results_1[i]==results_2[i]:\n",
        "      ties += 1\n",
        "    elif results_1[i]==0: \n",
        "      plus += 1\n",
        "    elif results_2[i]==0: \n",
        "      minus += 1\n",
        "  \n",
        "  n = (2*math.ceil(ties/2.0)) + plus + minus\n",
        "  k = math.ceil(ties/2.0) + min(plus,minus)\n",
        "\n",
        "  summation = Decimal(0.0)\n",
        "  for i in range(0,int(k)+1):\n",
        "    summation += Decimal((comb(n,i,exact=True)))\n",
        "\n",
        "  # use two-tailed version of test\n",
        "  summation *= 2\n",
        "  summation *= (Decimal(0.5)**Decimal(n))\n",
        "  \n",
        "  print(\"the difference is\", \n",
        "        \"not significant\" if summation >= 0.05 else \"significant\")\n",
        "  \n",
        "  return summation\n",
        "\n"
      ],
      "execution_count": null,
      "outputs": []
    },
    {
      "cell_type": "code",
      "metadata": {
        "colab": {
          "base_uri": "https://localhost:8080/"
        },
        "id": "nno3h8PS99Z7",
        "outputId": "708f7254-89fa-4805-e33c-6caefa144aaf"
      },
      "source": [
        "p_value = sign_test(token_results, magnitude_results)\n",
        "print(\"p_value =\", p_value)"
      ],
      "execution_count": null,
      "outputs": [
        {
          "output_type": "stream",
          "text": [
            "the difference is not significant\n",
            "p_value = 0.3477773685082211499213816862\n"
          ],
          "name": "stdout"
        }
      ]
    },
    {
      "cell_type": "markdown",
      "metadata": {
        "id": "uhU_tk-BOaXb"
      },
      "source": [
        "### Using the Sign test\n",
        "\n",
        "**From now on, report all differences between systems, as well as between system configurations, using the\n",
        "sign test.**\n",
        "    \n",
        "You should report statistical test\n",
        "results in an appropriate form. If there are several different methods\n",
        "(i.e., systems) to compare, the Sign test can only be applied to pairs of them\n",
        "at a time. When reporting these pair-wise differences, you should\n",
        "summarise trends to avoid redundancy.\n"
      ]
    },
    {
      "cell_type": "markdown",
      "metadata": {
        "id": "LibV4nR89BXb"
      },
      "source": [
        "# Naive Bayes (10pt)"
      ]
    },
    {
      "cell_type": "markdown",
      "metadata": {
        "id": "fnF9adQnuwia"
      },
      "source": [
        "\n",
        "Your second task is to program a simple Machine Learning approach that operates\n",
        "on a simple Bag-of-Words (BoW) representation of the text data, as\n",
        "described by Pang et al. (2002). In this approach, the only features we\n",
        "will consider are the words in the text themselves, without bringing in\n",
        "external sources of information. The BoW model is a popular way of\n",
        "representing texts as vectors, making it\n",
        "easy to apply classical Machine Learning algorithms on NLP tasks.\n",
        "However, the BoW representation is also very crude, since it discards\n",
        "all information related to word order and grammatical structure in the\n",
        "original text—as the name suggests.\n",
        "\n",
        "## Writing your own classifier (4pts)\n",
        "\n",
        "Write your own code to implement the Naive Bayes (NB) classifier. As\n",
        "a reminder, the Naive Bayes classifier works according to the following\n",
        "equation:\n",
        "$$\\hat{c} = \\operatorname*{arg\\,max}_{c \\in C} P(c|\\bar{f}) = \\operatorname*{arg\\,max}_{c \\in C} P(c)\\prod^n_{i=1} P(f_i|c)$$\n",
        "where $C = \\{ \\text{POS}, \\text{NEG} \\}$ is the set of possible classes,\n",
        "$\\hat{c} \\in C$ is the most probable class, and $\\bar{f}$ is the feature\n",
        "vector. Remember that we use the log of these probabilities when making\n",
        "a prediction:\n",
        "$$\\hat{c} = \\operatorname*{arg\\,max}_{c \\in C} \\Big\\{\\log P(c) + \\sum^n_{i=1} \\log P(f_i|c)\\Big\\}$$\n",
        "\n",
        "You can find more details about Naive Bayes in [Jurafsky &\n",
        "Martin](https://web.stanford.edu/~jurafsky/slp3/). You can also look at\n",
        "this helpful\n",
        "[pseudo-code](https://nlp.stanford.edu/IR-book/html/htmledition/naive-bayes-text-classification-1.html).\n",
        "\n",
        "*Note: this section and the next aim to put you in a position to replicate\n",
        "    Pang et al.'s Naive Bayes results. However, your numerical results\n",
        "    will differ from theirs, as they used different data.*\n",
        "\n",
        "**You must write the Naive Bayes training and prediction code from\n",
        "scratch.** You will not be given credit for using off-the-shelf Machine\n",
        "Learning libraries.\n",
        "\n",
        "The data contains the text of the reviews, where each document consists\n",
        "of the sentences in the review, the sentiment of the review and an index\n",
        "(cv) that you will later use for cross-validation. The\n",
        "text has already been tokenised and POS-tagged for you. Your algorithm\n",
        "should read in the text, **lowercase it**, store the words and their\n",
        "frequencies in an appropriate data structure that allows for easy\n",
        "computation of the probabilities used in the Naive Bayes algorithm, and\n",
        "then make predictions for new instances.\n"
      ]
    },
    {
      "cell_type": "markdown",
      "metadata": {
        "id": "vEpyQSBSkb33"
      },
      "source": [
        "#### (Q3.1) Unseen words (1pt)\n",
        "The presence of words in the test dataset that\n",
        "have not been seen during training can cause probabilities in the Naive Bayes classifier to equal $0$.\n",
        "These can be words which are unseen in both positive and negative training reviews (case 1), but also words which are seen in reviews _of only one sentiment class_ in the training dataset (case 2). In both cases, **you should skip these words for both classes**. \n",
        "\n",
        "In case 2, you could also set $P(c|\\bar{f}) = 0$ for the class $c$ within which $f_i \\in \\bar{f}$ was not seen. One way to implement this in log space is to set $P(c|\\bar{f}) = -\\infty$. What would be the problem instead with skipping words only for one class in case 2? "
      ]
    },
    {
      "cell_type": "markdown",
      "metadata": {
        "id": "WMU12wh-5cc9"
      },
      "source": [
        "**Problem of not skipping unseen words for both classes in imbalanced dataset**: Since we are using log spaces which ranges between −∞ and 0, if we skip the word in the sentiment class where it does not appear then the reviews sentiments will be biased towards the sentiment class with fewer words since for the sentiment class where the word is not skipped another negative number (log(p)) is added to the sentiment score.\n",
        "**Problem of setting 𝑃(𝑐|𝑓¯)=−∞ for unseen words**: This will have the effect that the log probabilities will be skewed towards the class with more words in the training set. Since we add up log probabilities , if in one class a word is unseen and then set to 𝑃(𝑐|𝑓¯)=−∞ then the classifier will automatically classify the review as the opposite sentiment class. \n"
      ]
    },
    {
      "cell_type": "markdown",
      "metadata": {
        "id": "gsZRhaI3WvzC"
      },
      "source": [
        "#### (Q3.2) Train your classifier on (positive and negative) reviews with cv-value 000-899, and test it on the remaining (positive and negative) reviews cv900–cv999.  Report results using classification accuracy as your evaluation metric. Your  features are the word vocabulary. The value of a feature is the count of that feature (word) in the document. (2pts)\n"
      ]
    },
    {
      "cell_type": "code",
      "metadata": {
        "id": "Ud0bOxsNJPzH"
      },
      "source": [
        "train_dict = {}\n",
        "train_dict['POS'] = Counter()\n",
        "train_dict['NEG'] = Counter()\n",
        "\n",
        "for i in range(0,len(reviews)):\n",
        "  if (reviews[i]['cv'] <= 899) & (reviews[i]['sentiment'] == 'POS'):\n",
        "    for word in reviews[i]['content']:\n",
        "      for token in word:\n",
        "        word = token[0].lower()\n",
        "        train_dict['POS'][word] += 1\n",
        "  elif (reviews[i]['cv'] <= 899) & (reviews[i]['sentiment'] == 'NEG'):\n",
        "    for word in reviews[i]['content']:\n",
        "      for token in word:\n",
        "        word = token[0].lower()\n",
        "        train_dict['NEG'][word] += 1"
      ],
      "execution_count": null,
      "outputs": []
    },
    {
      "cell_type": "code",
      "metadata": {
        "id": "-YOV_Hh_JPzK"
      },
      "source": [
        "test_set = [i for i in reviews if i['cv'] > 899]\n",
        "train_set = [i for i in reviews if i['cv'] <= 899]"
      ],
      "execution_count": null,
      "outputs": []
    },
    {
      "cell_type": "code",
      "metadata": {
        "id": "a9msZ69oJPzO"
      },
      "source": [
        "pos_val_train = sum(train_dict['POS'].values())\n",
        "neg_val_train = sum(train_dict['NEG'].values())"
      ],
      "execution_count": null,
      "outputs": []
    },
    {
      "cell_type": "code",
      "metadata": {
        "id": "XVisLgDWJPzQ"
      },
      "source": [
        "classification = []\n",
        "\n",
        "for all_words in test_set: \n",
        "  prob_positive = 0\n",
        "  prob_negative = 0\n",
        "  for words in all_words['content']:\n",
        "    for token in words:\n",
        "      if token[0].lower() in train_dict['POS'] and token[0].lower() in train_dict['NEG']: \n",
        "        prob_positive += math.log(train_dict['POS'][token[0].lower()]/pos_val_train)\n",
        "        prob_negative += math.log(train_dict['NEG'][token[0].lower()]/neg_val_train)\n",
        "  if (prob_positive>prob_negative):\n",
        "      classification.append('POS')\n",
        "  else: \n",
        "      classification.append('NEG')"
      ],
      "execution_count": null,
      "outputs": []
    },
    {
      "cell_type": "code",
      "metadata": {
        "id": "6R1luyniJPzT"
      },
      "source": [
        "def sentiment_analysis(test_set, classification): \n",
        "    \n",
        "    review_sentiment = []\n",
        "    for i in range(0,len(test_set)):\n",
        "      review_sentiment.append(test_set[i]['sentiment'])\n",
        "    review_sentiment = pd.DataFrame(review_sentiment, columns = ['review_sentiment'])\n",
        "    classification = pd.DataFrame(classification, columns = ['classification'])\n",
        "    \n",
        "    review_sentiment_classification = pd.concat([review_sentiment, classification], axis=1, sort=False)\n",
        "    review_sentiment_classification['classification_accuracy'] = np.where(review_sentiment_classification['classification']==review_sentiment_classification['review_sentiment'], \n",
        "                                                 1, 0)\n",
        "    results = review_sentiment_classification['classification_accuracy']\n",
        "    return results                                         "
      ],
      "execution_count": null,
      "outputs": []
    },
    {
      "cell_type": "code",
      "metadata": {
        "colab": {
          "base_uri": "https://localhost:8080/"
        },
        "id": "3ockBhX1JPzV",
        "outputId": "90ac1a19-3ed7-458b-f0ac-b4ea7d56128f"
      },
      "source": [
        "results=sentiment_analysis(test_set, classification)\n",
        "accuracy = results.sum()/len(results)\n",
        "print(\"Accuracy: %0.2f\" % accuracy) "
      ],
      "execution_count": null,
      "outputs": [
        {
          "output_type": "stream",
          "text": [
            "Accuracy: 0.82\n"
          ],
          "name": "stdout"
        }
      ]
    },
    {
      "cell_type": "markdown",
      "metadata": {
        "id": "0INK-PBoM6CB"
      },
      "source": [
        "#### (Q3.3) Would you consider accuracy to also be a good way to evaluate your classifier in a situation where 90% of your data instances are of positive movie reviews? (1pt)\n",
        "\n",
        "Simulate this scenario by keeping the positive reviews\n",
        "data unchanged, but only using negative reviews cv000–cv089 for\n",
        "training, and cv900–cv909 for testing. Calculate the classification\n",
        "accuracy, and explain what changed."
      ]
    },
    {
      "cell_type": "markdown",
      "metadata": {
        "id": "1ex04-DG6gyl"
      },
      "source": [
        "*9 out of 10 negative tweets are correctly guessed as negative, but the accuracy score for the positive reviews is only 56%. The imbalanced accuracy scores are caused the highly imbalanced data set (33105 words from positive reviews vs 8908 words from negative reviews). From the remaining words that are in both the positive and negative review vocabularies, their frequency is much higher in the negative reviews (since we divide by a much smaller vocabulary size) which leads to the fact that the log probability scores are skewed towards the negative class. In general if the training and test set is imbalanced the accuracy score is not a good performance evaluation metric anymore.* "
      ]
    },
    {
      "cell_type": "code",
      "metadata": {
        "id": "GWDkt5ZrrFGp"
      },
      "source": [
        "train_dict_adj = {}\n",
        "train_dict_adj[\"POS\"] = Counter()\n",
        "train_dict_adj[\"NEG\"] = Counter()\n",
        "\n",
        "for i in range(0,len(reviews)):\n",
        "    if (reviews[i]['cv'] <= 899 and reviews[i]['sentiment'] == 'POS'):\n",
        "        for word in reviews[i][\"content\"]:\n",
        "            for token in word:\n",
        "                word = token[0].lower()\n",
        "                train_dict_adj[\"POS\"][word] += 1\n",
        "    if (reviews[i]['cv'] >= 0 and reviews[i]['cv'] <= 89 and reviews[i]['sentiment'] == 'NEG'):\n",
        "        for word in reviews[i][\"content\"]:\n",
        "            for token in word:\n",
        "                word = token[0].lower()\n",
        "                train_dict_adj[\"NEG\"][word] += 1"
      ],
      "execution_count": null,
      "outputs": []
    },
    {
      "cell_type": "code",
      "metadata": {
        "colab": {
          "base_uri": "https://localhost:8080/"
        },
        "id": "hFtB_B_YINQJ",
        "outputId": "b0d824bf-44df-4358-aa2d-a7b0bc9b8cff"
      },
      "source": [
        "print('Total positive words:', len(train_dict_adj[\"POS\"]), \n",
        "      'Total negative words:', len(train_dict_adj[\"NEG\"]))"
      ],
      "execution_count": null,
      "outputs": [
        {
          "output_type": "stream",
          "text": [
            "Total positive words: 33105 Total negative words: 8908\n"
          ],
          "name": "stdout"
        }
      ]
    },
    {
      "cell_type": "code",
      "metadata": {
        "id": "Ltge2fjmJPze"
      },
      "source": [
        "pos_val_train_adj = sum(train_dict_adj[\"POS\"].values())\n",
        "neg_val_train_adj = sum(train_dict_adj[\"NEG\"].values())"
      ],
      "execution_count": null,
      "outputs": []
    },
    {
      "cell_type": "code",
      "metadata": {
        "id": "X8H-QY4JJPzg"
      },
      "source": [
        "test_set_adj = [i for i in test_set if ((i['sentiment'] == 'POS') or (i['sentiment'] == 'NEG' and 900 <= i['cv'] <= 909))]  "
      ],
      "execution_count": null,
      "outputs": []
    },
    {
      "cell_type": "code",
      "metadata": {
        "id": "LdDDT3awJPzi"
      },
      "source": [
        "classification = []\n",
        "\n",
        "for all_words in test_set_adj: \n",
        "  prob_positive = 0\n",
        "  prob_negative = 0\n",
        "  for words in all_words['content']:\n",
        "    for token in words:\n",
        "      if token[0].lower() in train_dict_adj[\"POS\"] and token[0].lower() in train_dict_adj[\"NEG\"]:\n",
        "        prob_positive += math.log(train_dict_adj[\"POS\"][token[0].lower()]/pos_val_train_adj)\n",
        "        prob_negative += math.log(train_dict_adj[\"NEG\"][token[0].lower()]/neg_val_train_adj)\n",
        "  if (prob_positive > prob_negative):\n",
        "    classification.append('POS')\n",
        "  else: \n",
        "    classification.append('NEG')"
      ],
      "execution_count": null,
      "outputs": []
    },
    {
      "cell_type": "code",
      "metadata": {
        "colab": {
          "base_uri": "https://localhost:8080/"
        },
        "id": "r08k1nfGJPzl",
        "outputId": "99ac938c-4851-4d33-c54e-a2225703355e"
      },
      "source": [
        "results_naive_bayes_adj=sentiment_analysis(test_set_adj, classification)\n",
        "accuracy = results_naive_bayes_adj.sum()/len(results_naive_bayes_adj)\n",
        "print(\"Accuracy: %0.2f\" % accuracy) "
      ],
      "execution_count": null,
      "outputs": [
        {
          "output_type": "stream",
          "text": [
            "Accuracy: 0.59\n"
          ],
          "name": "stdout"
        }
      ]
    },
    {
      "cell_type": "code",
      "metadata": {
        "colab": {
          "base_uri": "https://localhost:8080/"
        },
        "id": "ErJEONFd-z0a",
        "outputId": "e97f4e8a-9eb9-4ba9-d8b7-daad31e7e48f"
      },
      "source": [
        "review_sentiment = []\n",
        "for i in range(0,len(test_set_adj)):\n",
        "  review_sentiment.append(test_set_adj[i]['sentiment'])\n",
        "review_sentiment = pd.DataFrame(review_sentiment, columns = ['review_sentiment'])\n",
        "classification = pd.DataFrame(classification, columns = ['classification'])\n",
        "    \n",
        "review_sentiment_classification = pd.concat([review_sentiment, classification], axis=1, sort=False)\n",
        "review_sentiment_classification['classification_accuracy'] = np.where(review_sentiment_classification['classification']==review_sentiment_classification['review_sentiment'], \n",
        "                                                 1, 0)\n",
        "#9 out of 10 negative tweets are classified correctly\n",
        "review_sentiment_classification[review_sentiment_classification['review_sentiment'] == \"NEG\"]\n",
        "#Accuracy score of positive reviews\n",
        "review_sentiment_classification[review_sentiment_classification['review_sentiment'] == \"POS\"].classification_accuracy.sum()/100"
      ],
      "execution_count": null,
      "outputs": [
        {
          "output_type": "execute_result",
          "data": {
            "text/plain": [
              "0.56"
            ]
          },
          "metadata": {
            "tags": []
          },
          "execution_count": 38
        }
      ]
    },
    {
      "cell_type": "markdown",
      "metadata": {
        "id": "6wJzcHX3WUDm"
      },
      "source": [
        "## Smoothing (1.5pts)\n",
        "\n",
        "As mentioned above, the presence of words in the test dataset that\n",
        "have not been seen during training can cause probabilities in the Naive\n",
        "Bayes classifier to be $0$, thus making that particular test instance\n",
        "undecidable. The standard way to mitigate this effect (as well as to\n",
        "give more clout to rare words) is to use smoothing, in which the\n",
        "probability fraction\n",
        "$$\\frac{\\text{count}(w_i, c)}{\\sum\\limits_{w\\in V} \\text{count}(w, c)}$$ for a word\n",
        "$w_i$ becomes\n",
        "$$\\frac{\\text{count}(w_i, c) + \\text{smoothing}(w_i)}{\\sum\\limits_{w\\in V} \\text{count}(w, c) + \\sum\\limits_{w \\in V} \\text{smoothing}(w)}$$\n",
        "\n",
        "\n",
        "\n"
      ]
    },
    {
      "cell_type": "markdown",
      "metadata": {
        "id": "PBNIcbwUWphC"
      },
      "source": [
        "#### (Q3.4) Implement Laplace feature smoothing (1pt)\n",
        "Implement Laplace smoothing, i.e., smoothing with a constant value ($smoothing(w) = \\kappa, \\forall w \\in V$), in your Naive\n",
        "Bayes classifier’s code, and report the impact on performance. \n",
        "Use $\\kappa = 1$."
      ]
    },
    {
      "cell_type": "code",
      "metadata": {
        "id": "3Eo62Q-qm_Cj"
      },
      "source": [
        "def get_vocab_length(data_set): \n",
        "    c = Counter()\n",
        "    for review in data_set:\n",
        "        for sentence in review[\"content\"]:\n",
        "            for token, pos_tag in sentence:\n",
        "                c[token.lower()] += 1\n",
        "    return len(c)"
      ],
      "execution_count": null,
      "outputs": []
    },
    {
      "cell_type": "code",
      "metadata": {
        "id": "g03yflCc9kpW"
      },
      "source": [
        "classification = []\n",
        "vocab_size = get_vocab_length(train_set)\n",
        "\n",
        "for all_words in test_set: \n",
        "  prob_positive = 0\n",
        "  prob_negative = 0\n",
        "  for words in all_words['content']:\n",
        "    for token in words:\n",
        "      prob_positive += math.log((train_dict[\"POS\"][token[0].lower()] + 1)/(pos_val_train + vocab_size))\n",
        "      prob_negative += math.log((train_dict[\"NEG\"][token[0].lower()] + 1)/(neg_val_train + vocab_size))\n",
        "  if (prob_positive>prob_negative):\n",
        "      classification.append('POS')\n",
        "  else: \n",
        "      classification.append('NEG')\n",
        "    "
      ],
      "execution_count": null,
      "outputs": []
    },
    {
      "cell_type": "code",
      "metadata": {
        "colab": {
          "base_uri": "https://localhost:8080/"
        },
        "id": "THzai3RXJPzv",
        "outputId": "f7374766-6097-4c74-fed7-07e61ea1ef19"
      },
      "source": [
        "results_naive_bayes_smoothed=sentiment_analysis(test_set, classification)\n",
        "accuracy = results_naive_bayes_smoothed.sum()/len(results_naive_bayes_smoothed)\n",
        "print(\"Accuracy: %0.2f\" % accuracy) "
      ],
      "execution_count": null,
      "outputs": [
        {
          "output_type": "stream",
          "text": [
            "Accuracy: 0.82\n"
          ],
          "name": "stdout"
        }
      ]
    },
    {
      "cell_type": "markdown",
      "metadata": {
        "id": "-conSBddWWyN"
      },
      "source": [
        "#### (Q3.5) Is the difference between non smoothed (Q3.2) and smoothed (Q3.4) statistically significant? (0.5pt)"
      ]
    },
    {
      "cell_type": "code",
      "metadata": {
        "colab": {
          "base_uri": "https://localhost:8080/"
        },
        "id": "CCvSNGlHMUPz",
        "outputId": "631304b3-03d4-4d77-f19f-c5b1110af62e"
      },
      "source": [
        "p_value = sign_test(results, results_naive_bayes_smoothed) \n",
        "print(\"p_value =\", p_value)"
      ],
      "execution_count": null,
      "outputs": [
        {
          "output_type": "stream",
          "text": [
            "the difference is not significant\n",
            "p_value = 1.056348479009256422247245265\n"
          ],
          "name": "stdout"
        }
      ]
    },
    {
      "cell_type": "markdown",
      "metadata": {
        "id": "ZiGcgwba87D5"
      },
      "source": [
        "## Cross-Validation (1.5pts)\n",
        "\n",
        "A serious danger in using Machine Learning on small datasets, with many\n",
        "iterations of slightly different versions of the algorithms, is ending up with Type III errors, also called the “testing hypotheses\n",
        "suggested by the data” errors. This type of error occurs when we make\n",
        "repeated improvements to our classifiers by playing with features and\n",
        "their processing, but we don’t get a fresh, never-before seen test\n",
        "dataset every time. Thus, we risk developing a classifier that gets better\n",
        "and better on our data, but only gets worse at generalizing to new, unseen data. In other words, we risk developping a classifier that overfits.\n",
        "\n",
        "A simple method to guard against Type III errors is to use\n",
        "Cross-Validation. In **N-fold Cross-Validation**, we divide the data into N\n",
        "distinct chunks, or folds. Then, we repeat the experiment N times: each\n",
        "time holding out one of the folds for testing, training our classifier\n",
        "on the remaining N - 1 data folds, and reporting performance on the\n",
        "held-out fold. We can use different strategies for dividing the data:\n",
        "\n",
        "-   Consecutive splitting:\n",
        "  - cv000–cv099 = Split 1\n",
        "  - cv100–cv199 = Split 2\n",
        "  - etc.\n",
        "  \n",
        "-   Round-robin splitting (mod 10):\n",
        "  - cv000, cv010, cv020, … = Split 1\n",
        "  - cv001, cv011, cv021, … = Split 2\n",
        "  - etc.\n",
        "\n",
        "-   Random sampling/splitting\n",
        "  - Not used here (but you may choose to split this way in a non-educational situation)\n",
        "\n"
      ]
    },
    {
      "cell_type": "markdown",
      "metadata": {
        "id": "8OeLcbSauGtR"
      },
      "source": [
        "#### (Q3.6) Write the code to implement 10-fold cross-validation using round-robin splitting for your Naive Bayes classifier from Q3.2 and compute the 10 accuracies. Report the final performance, which is the average of the performances per fold. If all splits perform equally well, this is a good sign. (1pt)"
      ]
    },
    {
      "cell_type": "code",
      "metadata": {
        "colab": {
          "base_uri": "https://localhost:8080/"
        },
        "id": "fZsCxitTJP0B",
        "outputId": "c1583c3c-9fcb-4f8f-8a27-7ef6ed2c0ede"
      },
      "source": [
        "training_set=[]\n",
        "cross_val_accuracies=[]\n",
        "for j in range(10):\n",
        "  split_train_data=[]\n",
        "  split_test_data=[]\n",
        "  #splitting data\n",
        "  for cv, review in enumerate(reviews):\n",
        "    if cv % 10 ==j:\n",
        "      split_test_data.append(review)\n",
        "    else:\n",
        "      split_train_data.append(review)\n",
        "\n",
        "  #used to determine the final training set\n",
        "  training_set.append(split_train_data)\n",
        "\n",
        "  #creating training dictionary with counted words\n",
        "  train_dict = {}\n",
        "  train_dict[\"POS\"] = Counter()\n",
        "  train_dict[\"NEG\"] = Counter()\n",
        "  \n",
        "\n",
        "  for i in range(0,len(split_train_data)):\n",
        "    if split_train_data[i]['sentiment'] == \"POS\":\n",
        "      for lst in split_train_data[i][\"content\"]:\n",
        "        for tokens in lst:\n",
        "          word = tokens[0].lower()\n",
        "          train_dict[\"POS\"][word] += 1\n",
        "    if split_train_data[i]['sentiment'] == \"NEG\":\n",
        "      for lst in split_train_data[i][\"content\"]:\n",
        "        for tokens in lst:\n",
        "          word = tokens[0].lower()\n",
        "          train_dict[\"NEG\"][word] += 1\n",
        "\n",
        "  pos_val_train = sum(train_dict[\"POS\"].values())\n",
        "  neg_val_train = sum(train_dict[\"NEG\"].values())\n",
        "  total_vocabulary_train = get_vocab_length(split_train_data)\n",
        "  \n",
        "\n",
        "\n",
        "  #use smooth naive bayes to predict classes\n",
        "  classification = []\n",
        "  for all_lsts in split_test_data:\n",
        "    prob_positive = 0\n",
        "    prob_negative = 0\n",
        "    for lst in all_lsts['content']: \n",
        "      for tokens in lst:\n",
        "        prob_positive += math.log((train_dict[\"POS\"][tokens[0].lower()]+1)/(pos_val_train+total_vocabulary_train)) \n",
        "        prob_negative += math.log((train_dict[\"NEG\"][tokens[0].lower()]+1)/(neg_val_train+total_vocabulary_train))\n",
        "    if (prob_positive>prob_negative):\n",
        "        classification.append(\"POS\")\n",
        "    else: \n",
        "        classification.append(\"NEG\")\n",
        "\n",
        "  #compare predictions with actual labels\n",
        "  review_sentiment =[]\n",
        "  for i in range(0,len(split_test_data)):\n",
        "    review_sentiment.append(split_test_data[i]['sentiment'])\n",
        "  review_sentiment = pd.DataFrame(review_sentiment, columns = ['review_sentiment'])\n",
        "  classification = pd.DataFrame(classification, columns = ['classification'])\n",
        "  review_sentiment_classification = pd.concat([review_sentiment, classification], axis=1, sort=False)\n",
        "  review_sentiment_classification['classification_accuracy'] = np.where(review_sentiment_classification['classification']==review_sentiment_classification['review_sentiment'], \n",
        "                                                 1, 0)\n",
        "  cross_val_results = review_sentiment_classification['classification_accuracy']\n",
        "  \n",
        "  #computing accuracy\n",
        "  cross_accuracy = cross_val_results.sum()/len(review_sentiment_classification)\n",
        "  cross_val_accuracies.append(cross_accuracy)\n",
        "\n",
        "print('Accuracies:',cross_val_accuracies)\n",
        "print('Mean:',sum(cross_val_accuracies) / len(cross_val_accuracies))\n",
        "\n"
      ],
      "execution_count": null,
      "outputs": [
        {
          "output_type": "stream",
          "text": [
            "Accuracies: [0.79, 0.835, 0.81, 0.83, 0.775, 0.85, 0.83, 0.78, 0.825, 0.845]\n",
            "Mean: 0.817\n"
          ],
          "name": "stdout"
        }
      ]
    },
    {
      "cell_type": "markdown",
      "metadata": {
        "id": "otdlsDXBNyOa"
      },
      "source": [
        "#### (Q3.7) Write code to calculate and report the variance of the 10 accuracy scores, in addition to the final performance. You must not use a library, such as numpy. (0.5pt)\n",
        "\n",
        "**Please report all future results using 10-fold cross-validation now\n",
        "(unless told to use the held-out test set).**"
      ]
    },
    {
      "cell_type": "code",
      "metadata": {
        "colab": {
          "base_uri": "https://localhost:8080/"
        },
        "id": "ZoBQm1KuNzNR",
        "outputId": "36740c8a-b7cf-49d7-8941-000d10e5c307"
      },
      "source": [
        "# YOUR CODE HERE\n",
        "m = sum(cross_val_accuracies) / len(cross_val_accuracies)\n",
        "var = sum((xi - m) ** 2 for xi in cross_val_accuracies) / len(cross_val_accuracies)\n",
        "print('Results:', cross_val_accuracies)    \n",
        "print('Mean:', m)\n",
        "print('Var:', var)"
      ],
      "execution_count": null,
      "outputs": [
        {
          "output_type": "stream",
          "text": [
            "Results: [0.79, 0.835, 0.81, 0.83, 0.775, 0.85, 0.83, 0.78, 0.825, 0.845]\n",
            "Mean: 0.817\n",
            "Var: 0.0006509999999999987\n"
          ],
          "name": "stdout"
        }
      ]
    },
    {
      "cell_type": "markdown",
      "metadata": {
        "id": "s6A2zX9_BRKm"
      },
      "source": [
        "## Features, overfitting, and the curse of dimensionality\n",
        "\n",
        "In the Bag-of-Words model, ideally we would like each distinct word in\n",
        "the text to be mapped to its own dimension in the output vector\n",
        "representation. However, real world text is messy, and we need to decide\n",
        "on what we consider to be a word. For example, is “`word`\" different\n",
        "from “`Word`\", from “`word`”, or from “`words`\"? Too strict a\n",
        "definition, and the number of features explodes, while our algorithm\n",
        "fails to learn anything generalisable. Too lax, and we risk destroying\n",
        "our learning signal. In the following section, you will learn about\n",
        "confronting the feature sparsity and the overfitting problems as they\n",
        "occur in NLP classification tasks."
      ]
    },
    {
      "cell_type": "markdown",
      "metadata": {
        "id": "EKK8FNt8VtcZ"
      },
      "source": [
        "### Stemming (1.5pts)\n",
        "\n",
        "To make your algorithm more robust, use stemming and\n",
        "hash different inflections of a word to the same feature in the BoW\n",
        "vector space. How does the performance of your classifier change when\n",
        "you use stemming on your training and test datasets? Please use the [Porter stemming\n",
        "    algorithm](http://www.nltk.org/howto/stem.html) from NLTK.\n",
        "\n",
        "You should also perform cross-validation. Concatenate the predictions from all folds to compute the significance."
      ]
    },
    {
      "cell_type": "code",
      "metadata": {
        "id": "npbZjqXzXFRv"
      },
      "source": [
        "from nltk.stem.porter import *\n",
        "stemmer = PorterStemmer()\n",
        "#function for determining length of stemmed vocabulary\n",
        "def stemmed_vocab_length(train_set):\n",
        "  c=Counter()\n",
        "  for review in train_set:\n",
        "    for sentence in review['content']:\n",
        "      for token, pos_tag in sentence:\n",
        "        c[stemmer.stem(token.lower())] += 1\n",
        "  return len(c)"
      ],
      "execution_count": null,
      "outputs": []
    },
    {
      "cell_type": "code",
      "metadata": {
        "colab": {
          "base_uri": "https://localhost:8080/"
        },
        "id": "NxtCul1IrBi_",
        "outputId": "aed13cc4-0212-4749-d357-dd62afb5d49b"
      },
      "source": [
        "stemmed_training_set=[]\n",
        "stemmed_accuracies=[]\n",
        "for j in range(10):\n",
        "  split_train_data=[]\n",
        "  split_test_data=[]\n",
        "  #splitting data\n",
        "  for cv, review in enumerate(reviews):\n",
        "    if cv % 10 ==j:\n",
        "      split_test_data.append(review)\n",
        "    else:\n",
        "      split_train_data.append(review)\n",
        "\n",
        "  stemmed_training_set.append(split_train_data)\n",
        "\n",
        "  #creating training dictionary with counted words\n",
        "  train_dict = {}\n",
        "  train_dict[\"POS\"] = Counter()\n",
        "  train_dict[\"NEG\"] = Counter()\n",
        "\n",
        "  for i in range(0,len(split_train_data)):\n",
        "    if split_train_data[i]['sentiment'] == \"POS\":\n",
        "      for lst in split_train_data[i][\"content\"]:\n",
        "        for tokens in lst:\n",
        "          word = stemmer.stem(tokens[0].lower())\n",
        "          train_dict[\"POS\"][word] += 1\n",
        "    if split_train_data[i]['sentiment'] == \"NEG\":\n",
        "      for lst in split_train_data[i][\"content\"]:\n",
        "        for tokens in lst:\n",
        "          word = stemmer.stem(tokens[0].lower())\n",
        "          train_dict[\"NEG\"][word] += 1\n",
        "\n",
        "  pos_val_train = sum(train_dict[\"POS\"].values())\n",
        "  neg_val_train = sum(train_dict[\"NEG\"].values())\n",
        "  stemmed_vocabulary = stemmed_vocab_length(split_train_data)\n",
        "  \n",
        "\n",
        "  #use smooth naive bayes to predict classes\n",
        "  classification = []\n",
        "  for all_lsts in split_test_data:\n",
        "    prob_positive = 0\n",
        "    prob_negative = 0\n",
        "    for lst in all_lsts['content']: \n",
        "      for tokens in lst:\n",
        "        prob_positive += math.log((train_dict[\"POS\"][stemmer.stem(tokens[0].lower())]+1)/(pos_val_train+stemmed_vocabulary)) \n",
        "        prob_negative += math.log((train_dict[\"NEG\"][ stemmer.stem(tokens[0].lower())]+1)/(neg_val_train+stemmed_vocabulary))\n",
        "    if (prob_positive>prob_negative):\n",
        "        classification.append(\"POS\")\n",
        "    else: \n",
        "        classification.append(\"NEG\")\n",
        "\n",
        "  #compare predictions with actual labels\n",
        "  review_sentiment =[]\n",
        "  for i in range(0,len(split_test_data)):\n",
        "    review_sentiment.append(split_test_data[i]['sentiment'])\n",
        "  review_sentiment = pd.DataFrame(review_sentiment, columns = ['review_sentiment'])\n",
        "  classification = pd.DataFrame(classification, columns = ['classification'])\n",
        "  review_sentiment_classification = pd.concat([review_sentiment, classification], axis=1, sort=False)\n",
        "  review_sentiment_classification['classification_accuracy'] = np.where(review_sentiment_classification['classification']==review_sentiment_classification['review_sentiment'], \n",
        "                                                 1, 0)\n",
        "  stemmed_results = review_sentiment_classification['classification_accuracy']\n",
        "  #computing accuracy\n",
        "  stemmed_accuracy = stemmed_results.sum()/len(review_sentiment_classification)\n",
        "  stemmed_accuracies.append(stemmed_accuracy)\n",
        "\n",
        "print('Accuracies:',stemmed_accuracies)\n",
        "print('Mean:',sum(stemmed_accuracies) / len(stemmed_accuracies))\n"
      ],
      "execution_count": null,
      "outputs": [
        {
          "output_type": "stream",
          "text": [
            "Accuracies: [0.78, 0.84, 0.81, 0.85, 0.775, 0.835, 0.81, 0.775, 0.83, 0.84]\n",
            "Mean: 0.8145000000000001\n"
          ],
          "name": "stdout"
        }
      ]
    },
    {
      "cell_type": "markdown",
      "metadata": {
        "id": "6SrJ1BeLXTnk"
      },
      "source": [
        "#### (Q3.9): Is the difference between NB with smoothing and NB with smoothing+stemming significant? (1pt)\n"
      ]
    },
    {
      "cell_type": "code",
      "metadata": {
        "colab": {
          "base_uri": "https://localhost:8080/"
        },
        "id": "gYqKBOiIrInT",
        "outputId": "b5a79025-2450-4237-c9c3-b7fc95205d61"
      },
      "source": [
        "pvalue=sign_test(cross_val_accuracies, stemmed_accuracies)\n",
        "print('P value:', pvalue)"
      ],
      "execution_count": null,
      "outputs": [
        {
          "output_type": "stream",
          "text": [
            "the difference is not significant\n",
            "P value: 1.50\n"
          ],
          "name": "stdout"
        }
      ]
    },
    {
      "cell_type": "markdown",
      "metadata": {
        "id": "JkDHVq_1XUVP"
      },
      "source": [
        "#### (Q3.10) What happens to the number of features (i.e., the size of the vocabulary) when using stemming as opposed to (Q3.4)? (0.5pt)\n",
        "Give actual numbers. You can use the held-out training set to determine these."
      ]
    },
    {
      "cell_type": "code",
      "metadata": {
        "colab": {
          "base_uri": "https://localhost:8080/"
        },
        "id": "MA3vee5-rJyy",
        "outputId": "9407ad9e-d568-4b3d-8f10-5a50cbf515cf"
      },
      "source": [
        "# when using stemming the total number of features shrinks\n",
        "print('Size of standard vocabulary:', get_vocab_length(training_set[0]))\n",
        "print('Size of stemmed vocabulary:', stemmed_vocab_length(stemmed_training_set[0]))"
      ],
      "execution_count": null,
      "outputs": [
        {
          "output_type": "stream",
          "text": [
            "Size of standard vocabulary: 45329\n",
            "Size of stemmed vocabulary: 32371\n"
          ],
          "name": "stdout"
        }
      ]
    },
    {
      "cell_type": "markdown",
      "metadata": {
        "id": "SoazfxbNV5Lq"
      },
      "source": [
        "### N-grams (1.5pts)\n",
        "\n",
        "A simple way of retaining some of the word\n",
        "order information when using bag-of-words representations is to add **n-gram** features. \n",
        "\n",
        "\n",
        "\n",
        "\n"
      ]
    },
    {
      "cell_type": "markdown",
      "metadata": {
        "id": "OHjy3I7-qWiu"
      },
      "source": [
        "#### (Q3.11) Retrain your classifier from (Q3.4) using **unigrams+bigrams** and **unigrams+bigrams+trigrams** as features. (1pt)\n",
        "Report accuracy and statistical significances (in comparison to the experiment at (Q3.6) for all 10 folds, and between the new systems). You are allowed to use NLTK to build n-grams from sentences."
      ]
    },
    {
      "cell_type": "code",
      "metadata": {
        "colab": {
          "base_uri": "https://localhost:8080/"
        },
        "id": "LwrTPr6_rzeN",
        "outputId": "ae5c3768-c7df-489f-ec03-60632e2f7ba7"
      },
      "source": [
        "cross_val_accuracies_unigram_bigram =[]\n",
        "vocab_length_uniqram_bigram = []\n",
        "\n",
        "for j in range(10):\n",
        "    split_train_data=[]\n",
        "    split_test_data=[]\n",
        "  #splitting data\n",
        "    for cv, review in enumerate(reviews):\n",
        "        if cv % 10 ==j:\n",
        "            split_test_data.append(review)\n",
        "        else:\n",
        "            split_train_data.append(review)\n",
        "\n",
        "  #creating training dictionary with counted words\n",
        "    dic = {}\n",
        "    dic[\"POS\"] = []\n",
        "    dic[\"NEG\"] = []\n",
        "    for i in range(0, len(split_train_data)): \n",
        "      sentiment = split_train_data[i][\"sentiment\"]\n",
        "      for sentence in split_train_data[i][\"content\"]: \n",
        "        for word in sentence: \n",
        "          dic[sentiment].append(word[0].lower())\n",
        "\n",
        "    dic_grams = {}\n",
        "    dic_grams[\"POS\"] = []\n",
        "    dic_grams[\"NEG\"] = []\n",
        "    dic_grams[\"POS\"] = list(nltk.ngrams(dic[\"POS\"], n = 2)) + list(nltk.ngrams(dic[\"POS\"], n = 1))\n",
        "    dic_grams[\"NEG\"] = list(nltk.ngrams(dic[\"NEG\"], n = 2)) + list(nltk.ngrams(dic[\"NEG\"], n = 1))\n",
        "\n",
        "    train_dict = {}\n",
        "    train_dict['POS'] = Counter()\n",
        "    train_dict['NEG'] = Counter()\n",
        "\n",
        "    for i in range(0,len(dic_grams['POS'])):\n",
        "      word = dic_grams['POS'][i]\n",
        "      train_dict['POS'][word] += 1\n",
        "\n",
        "    for i in range(0,len(dic_grams['NEG'])): \n",
        "      word = dic_grams['NEG'][i]\n",
        "      train_dict['NEG'][word] += 1  \n",
        "\n",
        "    pos_val_train = sum(train_dict[\"POS\"].values())\n",
        "    neg_val_train = sum(train_dict[\"NEG\"].values())\n",
        "    total_words = list(nltk.ngrams(dic[\"POS\"], n = 2)) + list(nltk.ngrams(dic[\"POS\"], n = 1)) + list(nltk.ngrams(dic[\"NEG\"], n = 2)) + list(nltk.ngrams(dic[\"NEG\"], n = 1))\n",
        "    vocabulary_length = len(set(total_words))\n",
        "\n",
        "    classification = []\n",
        " \n",
        "\n",
        "    for all_words in split_test_data:\n",
        "      prob_positive = 0\n",
        "      prob_negative = 0\n",
        "      for sentence in all_words['content']:\n",
        "        words = [word for (word, pos_tag) in sentence]\n",
        "        words = [x.lower() for x in words]\n",
        "        list_grams = list(nltk.ngrams(words, n = 2)) + list(nltk.ngrams(words, n = 1))\n",
        "        for i in range(0, len(list_grams)): \n",
        "          prob_positive += math.log((train_dict[\"POS\"][list_grams[i]] + 1) / (pos_val_train + vocabulary_length))\n",
        "          prob_negative += math.log((train_dict[\"NEG\"][list_grams[i]] + 1) / (neg_val_train + vocabulary_length))\n",
        "      if (prob_positive>prob_negative):\n",
        "          classification.append('POS')\n",
        "      else: \n",
        "          classification.append('NEG')\n",
        "\n",
        "    #compare predictions with actual labels\n",
        "    results = sentiment_analysis(split_test_data, classification)\n",
        "    accuracy = results.sum()/len(results)\n",
        "    cross_val_accuracies_unigram_bigram.append(accuracy)\n",
        "    vocab_length_uniqram_bigram.append(vocabulary_length)\n",
        "\n",
        "print('Accuracies:',cross_val_accuracies_unigram_bigram)\n",
        "print('Mean:',sum(cross_val_accuracies_unigram_bigram) / len(cross_val_accuracies_unigram_bigram))"
      ],
      "execution_count": null,
      "outputs": [
        {
          "output_type": "stream",
          "text": [
            "Accuracies: [0.8, 0.87, 0.83, 0.87, 0.81, 0.87, 0.825, 0.84, 0.86, 0.845]\n",
            "Mean: 0.842\n"
          ],
          "name": "stdout"
        }
      ]
    },
    {
      "cell_type": "code",
      "metadata": {
        "colab": {
          "base_uri": "https://localhost:8080/"
        },
        "id": "OEnntd8T-QFd",
        "outputId": "01b86497-1847-405c-8dd0-87144b46993a"
      },
      "source": [
        "cross_val_accuracies_unigram_bigram_trigram =[]\n",
        "vocab_length_uniqram_bigram_trigram = []\n",
        "for j in range(10):\n",
        "    split_train_data=[]\n",
        "    split_test_data=[]\n",
        "  #splitting data\n",
        "    for cv, review in enumerate(reviews):\n",
        "        if cv % 10 ==j:\n",
        "            split_test_data.append(review)\n",
        "        else:\n",
        "            split_train_data.append(review)\n",
        "\n",
        "  #creating training dictionary with counted words\n",
        "    dic = {}\n",
        "    dic[\"POS\"] = []\n",
        "    dic[\"NEG\"] = []\n",
        "    for i in range(0, len(split_train_data)): \n",
        "        sentiment = split_train_data[i][\"sentiment\"]\n",
        "        for sentence in split_train_data[i][\"content\"]: \n",
        "            for word in sentence: \n",
        "                dic[sentiment].append(word[0].lower())\n",
        "\n",
        "    dic_grams = {}\n",
        "    dic_grams[\"POS\"] = []\n",
        "    dic_grams[\"NEG\"] = []\n",
        "    dic_grams[\"POS\"] = list(nltk.ngrams(dic[\"POS\"], n = 3)) + list(nltk.ngrams(dic[\"POS\"], n = 2)) + list(nltk.ngrams(dic[\"POS\"], n = 1))\n",
        "    dic_grams[\"NEG\"] = list(nltk.ngrams(dic[\"NEG\"], n = 3)) + list(nltk.ngrams(dic[\"NEG\"], n = 2)) + list(nltk.ngrams(dic[\"POS\"], n = 1))\n",
        "\n",
        "    train_dict = {}\n",
        "    train_dict['POS'] = Counter()\n",
        "    train_dict['NEG'] = Counter()\n",
        "\n",
        "    for i in range(0,len(dic_grams['POS'])):\n",
        "        word = dic_grams['POS'][i]\n",
        "        train_dict['POS'][word] += 1\n",
        "\n",
        "    for i in range(0,len(dic_grams['NEG'])): \n",
        "        word = dic_grams['NEG'][i]\n",
        "        train_dict['NEG'][word] += 1  \n",
        "\n",
        "    pos_val_train = sum(train_dict[\"POS\"].values())\n",
        "    neg_val_train = sum(train_dict[\"NEG\"].values())\n",
        "    total_words = list(nltk.ngrams(dic[\"POS\"], n = 3)) + list(nltk.ngrams(dic[\"POS\"], n = 2)) + list(nltk.ngrams(dic[\"POS\"], n = 1)) + list(nltk.ngrams(dic[\"NEG\"], n = 3)) + list(nltk.ngrams(dic[\"NEG\"], n = 2)) + list(nltk.ngrams(dic[\"NEG\"], n = 1))\n",
        "    vocabulary_length = len(set(total_words))\n",
        "\n",
        "    classification = []\n",
        "\n",
        "    for all_words in split_test_data:\n",
        "      prob_positive = 0\n",
        "      prob_negative = 0\n",
        "      for sentence in all_words['content']:\n",
        "        words = [word for (word, pos_tag) in sentence]\n",
        "        words = [x.lower() for x in words]\n",
        "        list_grams = list(nltk.ngrams(words, n = 3)) + list(nltk.ngrams(words, n = 2)) + list(nltk.ngrams(words, n = 1))\n",
        "        for i in range(0, len(list_grams)): \n",
        "          prob_positive += math.log((train_dict[\"POS\"][list_grams[i]] + 1) / (pos_val_train + vocabulary_length))\n",
        "          prob_negative += math.log((train_dict[\"NEG\"][list_grams[i]] + 1) / (neg_val_train + vocabulary_length))\n",
        "      if (prob_positive>prob_negative):\n",
        "          classification.append('POS')\n",
        "      else: \n",
        "          classification.append('NEG')\n",
        "\n",
        "    #compare predictions with actual labels\n",
        "    results = sentiment_analysis(split_test_data, classification)\n",
        "    accuracy = results.sum()/len(results)\n",
        "    cross_val_accuracies_unigram_bigram_trigram.append(accuracy)\n",
        "    vocab_length_uniqram_bigram_trigram.append(vocabulary_length)\n",
        "\n",
        "print('Accuracies:',cross_val_accuracies_unigram_bigram_trigram)\n",
        "print('Mean:',sum(cross_val_accuracies_unigram_bigram_trigram) / len(cross_val_accuracies_unigram_bigram_trigram))"
      ],
      "execution_count": null,
      "outputs": [
        {
          "output_type": "stream",
          "text": [
            "Accuracies: [0.8, 0.835, 0.82, 0.86, 0.75, 0.86, 0.83, 0.845, 0.855, 0.825]\n",
            "Mean: 0.828\n"
          ],
          "name": "stdout"
        }
      ]
    },
    {
      "cell_type": "code",
      "metadata": {
        "colab": {
          "base_uri": "https://localhost:8080/"
        },
        "id": "5N2qUYbzMRnx",
        "outputId": "a9a1ca98-5043-43cc-cdaf-5b184c1d1ad1"
      },
      "source": [
        "#comparison with smoothed Naive bayes model and unigram+bigram model\n",
        "pvalue=sign_test(cross_val_accuracies, cross_val_accuracies_unigram_bigram)\n",
        "print('P value:', pvalue)"
      ],
      "execution_count": null,
      "outputs": [
        {
          "output_type": "stream",
          "text": [
            "the difference is not significant\n",
            "P value: 1.50\n"
          ],
          "name": "stdout"
        }
      ]
    },
    {
      "cell_type": "code",
      "metadata": {
        "colab": {
          "base_uri": "https://localhost:8080/"
        },
        "id": "Dy9JJXnIbOgn",
        "outputId": "28e24650-d72e-44d4-f7a3-ff57e9c99dd8"
      },
      "source": [
        "#comparison with smoothed Naive bayes model and unigram+bigram+trigram model\n",
        "pvalue=sign_test(cross_val_accuracies, cross_val_accuracies_unigram_bigram_trigram)\n",
        "print('P value:', pvalue)"
      ],
      "execution_count": null,
      "outputs": [
        {
          "output_type": "stream",
          "text": [
            "the difference is not significant\n",
            "P value: 1.50\n"
          ],
          "name": "stdout"
        }
      ]
    },
    {
      "cell_type": "markdown",
      "metadata": {
        "id": "VAZNqtXJsmEF"
      },
      "source": [
        "Q3.12: How many features does the BoW model have to take into account now? (0.5pt)\n",
        "How would you expect the number of features to increase theoretically (e.g., linear, square, cubed, exponential)? How does this number compare, in practice, to the number of features at (Q3.10)?\n",
        "\n",
        "Use the held-out training set once again for this."
      ]
    },
    {
      "cell_type": "markdown",
      "metadata": {
        "id": "yEGZ9SV8pPaa"
      },
      "source": [
        "*When using unigrams+bigrams, the BoW model has to take in account 472932 features, which compared to the standard vocabulary computed in Q3.10 (45329), represents a tenfold increase.*\n",
        "*When using unigrams+bigrams+trigrams, the model has to consider 1426350 features, which again, compared to the standard vocabulary represents a thirty-fold increase.*\n",
        "*The unigrams+bigrams+trigrams model has three times more features than the unigrams+bigrams, thus, theoretically, we would expect the number of features to increase approximately linearly.* "
      ]
    },
    {
      "cell_type": "code",
      "metadata": {
        "colab": {
          "base_uri": "https://localhost:8080/",
          "height": 181
        },
        "id": "_z8sAJeUrdtM",
        "outputId": "a09652fa-1493-4c87-fd80-8ab426039bf4"
      },
      "source": [
        "print(\"Size of Unigram+Bigram Vocabulary:\", vocab_length_uniqram_bigram[0])\n",
        "print(\"Size of Unigram+Bigram+Trigram Vocabulary:\", vocab_length_uniqram_bigram_trigram[0])"
      ],
      "execution_count": null,
      "outputs": [
        {
          "output_type": "stream",
          "text": [
            "Size of Unigram+Bigram Vocabulary: 472932\n",
            "Size of Unigram+Bigram+Trigram Vocabulary: 1426350\n"
          ],
          "name": "stdout"
        }
      ]
    },
    {
      "cell_type": "markdown",
      "metadata": {
        "id": "CHWKDL3YV6vh"
      },
      "source": [
        "# Support Vector Machines (4pts)"
      ]
    },
    {
      "cell_type": "markdown",
      "metadata": {
        "id": "hJSYhcVaoJGt"
      },
      "source": [
        "Though simple to understand, implement, and debug, one\n",
        "major problem with the Naive Bayes classifier is that its performance\n",
        "deteriorates (becomes skewed) when it is being used with features which\n",
        "are not independent (i.e., are correlated). Another popular classifier\n",
        "that doesn’t scale as well to big data, and is not as simple to debug as\n",
        "Naive Bayes, but that doesn’t assume feature independence is the Support\n",
        "Vector Machine (SVM) classifier.\n",
        "\n",
        "You can find more details about SVMs in Chapter 7 of Bishop: Pattern Recognition and Machine Learning.\n",
        "Other sources for learning SVM:\n",
        "* http://web.mit.edu/zoya/www/SVM.pdf\n",
        "* http://www.cs.columbia.edu/~kathy/cs4701/documents/jason_svm_tutorial.pdf\n",
        "* https://pythonprogramming.net/support-vector-machine-intro-machine-learning-tutorial/\n",
        "\n",
        "\n",
        "\n",
        "\n",
        "\n",
        "\n",
        "\n",
        "Use the scikit-learn implementation of \n",
        "[SVM](http://scikit-learn.org/stable/modules/svm.html) with the default parameters. (You are not expected to perform any hyperparameter tuning, but feel free to do it if you think it gives you good insights for the discussion in question 5.)\n",
        "\n"
      ]
    },
    {
      "cell_type": "markdown",
      "metadata": {
        "id": "0LnzNtQBV8gr"
      },
      "source": [
        "#### (Q4.1): Train SVM and compare to Naive Bayes (2pts)\n",
        "\n",
        "Train an SVM classifier (sklearn.svm.LinearSVC) using your features. Compare the\n",
        "classification performance of the SVM classifier to that of the Naive\n",
        "Bayes classifier with smoothing from (Q3.6) and report the numbers.\n",
        "Perform cross-validation and concatenate the predictions from all folds to compute the significance.  Are the results significantly better?\n",
        "\n"
      ]
    },
    {
      "cell_type": "code",
      "metadata": {
        "id": "FbtXKTptjEk8"
      },
      "source": [
        "def svm_data(reviews):\n",
        "    features = []\n",
        "    labels = []\n",
        "    for review in reviews:\n",
        "      sentiment = 1 if review['sentiment'] == 'POS' else -1\n",
        "      words_pre_pre = list(itertools.chain(*review['content']))\n",
        "      words_pre = list(itertools.chain(*words_pre_pre))\n",
        "      words = words_pre[::2]\n",
        "      words = \" \".join(words)\n",
        "      words = words.lower()\n",
        "      labels.append(sentiment)\n",
        "      features.append(words)\n",
        "    return features, labels"
      ],
      "execution_count": null,
      "outputs": []
    },
    {
      "cell_type": "code",
      "metadata": {
        "colab": {
          "base_uri": "https://localhost:8080/"
        },
        "id": "mQ_uZ9dn2Zso",
        "outputId": "12177fd6-8af3-4ec3-8275-d62c9c962440"
      },
      "source": [
        "from sklearn.svm import LinearSVC\n",
        "from sklearn.feature_extraction.text import CountVectorizer\n",
        "\n",
        "\n",
        "cross_val_svm=[]\n",
        "#initializing vectorizer\n",
        "vectorizer=CountVectorizer()\n",
        "svc=LinearSVC()\n",
        "\n",
        "for j in range(10):\n",
        "  split_test_data=[]\n",
        "  split_train_data=[]\n",
        "  #splitting data \n",
        "  for cv, review in enumerate(reviews):\n",
        "    if cv % 10 == j:\n",
        "      split_test_data.append(review)\n",
        "    else:\n",
        "      split_train_data.append(review)\n",
        "  \n",
        "  #getting geatures and labels for both training and testing sets\n",
        "  train_features, train_labels=svm_data(split_train_data)\n",
        "  test_features,test_labels=svm_data(split_test_data)\n",
        "\n",
        "  #vectorizing features\n",
        "  train_features_vectorized=vectorizer.fit_transform(train_features)\n",
        "  test_features_vectorized=vectorizer.transform(test_features)\n",
        "\n",
        "  #training the model\n",
        "  model = svc.fit(train_features_vectorized, train_labels)\n",
        "  #predicting with the trained model\n",
        "  prediction = model.predict(test_features_vectorized)\n",
        "  \n",
        "  #compare predictions with test labels\n",
        "  predictions = pd.DataFrame(prediction, columns = ['predictions'])\n",
        "  actual=pd.DataFrame(test_labels, columns = ['actual'])\n",
        "  review_sentiment_classification = pd.concat([predictions, actual], axis=1, sort=False)\n",
        "  review_sentiment_classification['classification_accuracy'] = np.where(review_sentiment_classification['predictions']==review_sentiment_classification['actual'], \n",
        "                                                 1, 0)\n",
        "  results = review_sentiment_classification['classification_accuracy']\n",
        "  #calculate accuracy\n",
        "  svm_accuracy = results.sum()/len(results)\n",
        "  cross_val_svm.append(svm_accuracy)\n",
        "\n",
        "print('Accuracies:',cross_val_svm)\n",
        "print('Mean:',sum(cross_val_svm) / len(cross_val_svm))\n",
        "\n"
      ],
      "execution_count": null,
      "outputs": [
        {
          "output_type": "stream",
          "text": [
            "/Users/andreaprenner/anaconda3/lib/python3.7/site-packages/sklearn/svm/_base.py:977: ConvergenceWarning: Liblinear failed to converge, increase the number of iterations.\n",
            "  \"the number of iterations.\", ConvergenceWarning)\n",
            "/Users/andreaprenner/anaconda3/lib/python3.7/site-packages/sklearn/svm/_base.py:977: ConvergenceWarning: Liblinear failed to converge, increase the number of iterations.\n",
            "  \"the number of iterations.\", ConvergenceWarning)\n",
            "/Users/andreaprenner/anaconda3/lib/python3.7/site-packages/sklearn/svm/_base.py:977: ConvergenceWarning: Liblinear failed to converge, increase the number of iterations.\n",
            "  \"the number of iterations.\", ConvergenceWarning)\n",
            "/Users/andreaprenner/anaconda3/lib/python3.7/site-packages/sklearn/svm/_base.py:977: ConvergenceWarning: Liblinear failed to converge, increase the number of iterations.\n",
            "  \"the number of iterations.\", ConvergenceWarning)\n",
            "/Users/andreaprenner/anaconda3/lib/python3.7/site-packages/sklearn/svm/_base.py:977: ConvergenceWarning: Liblinear failed to converge, increase the number of iterations.\n",
            "  \"the number of iterations.\", ConvergenceWarning)\n",
            "/Users/andreaprenner/anaconda3/lib/python3.7/site-packages/sklearn/svm/_base.py:977: ConvergenceWarning: Liblinear failed to converge, increase the number of iterations.\n",
            "  \"the number of iterations.\", ConvergenceWarning)\n",
            "/Users/andreaprenner/anaconda3/lib/python3.7/site-packages/sklearn/svm/_base.py:977: ConvergenceWarning: Liblinear failed to converge, increase the number of iterations.\n",
            "  \"the number of iterations.\", ConvergenceWarning)\n"
          ],
          "name": "stderr"
        },
        {
          "output_type": "stream",
          "text": [
            "Accuracies: [0.815, 0.815, 0.805, 0.855, 0.845, 0.835, 0.865, 0.84, 0.855, 0.81]\n",
            "Mean: 0.834\n"
          ],
          "name": "stdout"
        }
      ]
    },
    {
      "cell_type": "code",
      "metadata": {
        "colab": {
          "base_uri": "https://localhost:8080/"
        },
        "id": "snN6A1o2KJu8",
        "outputId": "668c5c3a-9aa8-42f8-f02b-a2a6cdd86e5f"
      },
      "source": [
        "pvalue=sign_test(cross_val_accuracies, cross_val_svm)\n",
        "print('p-value=', pvalue)"
      ],
      "execution_count": null,
      "outputs": [
        {
          "output_type": "stream",
          "text": [
            "the difference is not significant\n",
            "p-value= 2\n"
          ],
          "name": "stdout"
        }
      ]
    },
    {
      "cell_type": "markdown",
      "metadata": {
        "id": "ifXVWcK0V9qY"
      },
      "source": [
        "### POS disambiguation (2pts)\n",
        "\n",
        "Now add in part-of-speech features. You will find the\n",
        "movie review dataset has already been POS-tagged for you ([here](https://catalog.ldc.upenn.edu/docs/LDC99T42/tagguid1.pdf) you find the tagset). Try to\n",
        "replicate the results obtained by Pang et al. (2002).\n",
        "\n"
      ]
    },
    {
      "cell_type": "markdown",
      "metadata": {
        "id": "xA3I82o4oWGu"
      },
      "source": [
        "####(Q4.2) Replace your features with word+POS features, and report performance with the SVM. Does this help? Perform cross-validation and concatenate the predictions from all folds to compute the significance. Are the results significant? *Why?*  (1pt)\n"
      ]
    },
    {
      "cell_type": "code",
      "metadata": {
        "id": "NOvjYe-t2Br6"
      },
      "source": [
        "def svm_data_pos(reviews):\n",
        "    features = []\n",
        "    labels = []\n",
        "    for review in reviews:\n",
        "        sentiment = 1 if review['sentiment'] == 'POS' else -1\n",
        "        content = review['content']\n",
        "        words_pre = list(itertools.chain(*content))\n",
        "        list_empty = []\n",
        "        for token, pos in words_pre: \n",
        "            words = \"\".join([token,pos])\n",
        "            list_empty.append(words)\n",
        "        list_empty = ' '.join(list_empty)\n",
        "        list_empty = list_empty.lower()\n",
        "        features.append(list_empty)\n",
        "        labels.append(sentiment)\n",
        "    return features, labels"
      ],
      "execution_count": null,
      "outputs": []
    },
    {
      "cell_type": "code",
      "metadata": {
        "colab": {
          "base_uri": "https://localhost:8080/"
        },
        "id": "lMhK5Enu3vIT",
        "outputId": "dfa91924-cc3e-423c-8e9a-89134b535467"
      },
      "source": [
        "cross_val_svm_pos=[]\n",
        "\n",
        "for j in range(10):\n",
        "  split_test_data=[]\n",
        "  split_train_data=[]\n",
        "  #splitting data \n",
        "  for cv, review in enumerate(reviews):\n",
        "    if cv % 10 == j:\n",
        "      split_test_data.append(review)\n",
        "    else:\n",
        "      split_train_data.append(review)\n",
        "  \n",
        "  #getting geatures and labels for both training and testing sets\n",
        "  train_features, train_labels=svm_data_pos(split_train_data)\n",
        "  test_features,test_labels=svm_data_pos(split_test_data)\n",
        "\n",
        "  #vectorizing features\n",
        "  train_features_vectorized=vectorizer.fit_transform(train_features)\n",
        "  test_features_vectorized=vectorizer.transform(test_features)\n",
        "\n",
        "  #training the model\n",
        "  model = svc.fit(train_features_vectorized, train_labels)\n",
        "  #predicting with the trained model\n",
        "  prediction = model.predict(test_features_vectorized)\n",
        "  \n",
        "  #compare predictions with test labels\n",
        "  predictions = pd.DataFrame(prediction, columns = ['predictions'])\n",
        "  actual=pd.DataFrame(test_labels, columns = ['actual'])\n",
        "  review_sentiment_classification = pd.concat([predictions, actual], axis=1, sort=False)\n",
        "  review_sentiment_classification['classification_accuracy'] = np.where(review_sentiment_classification['predictions']==review_sentiment_classification['actual'], \n",
        "                                                 1, 0)\n",
        "  results = review_sentiment_classification['classification_accuracy']\n",
        "  #calculate accuracy\n",
        "  svm_accuracy = results.sum()/len(results)\n",
        "  cross_val_svm_pos.append(svm_accuracy)\n",
        "\n",
        "print('Accuracies:',cross_val_svm_pos)\n",
        "print('Mean:',sum(cross_val_svm_pos) / len(cross_val_svm_pos))\n",
        "\n"
      ],
      "execution_count": null,
      "outputs": [
        {
          "output_type": "stream",
          "text": [
            "/Users/andreaprenner/anaconda3/lib/python3.7/site-packages/sklearn/svm/_base.py:977: ConvergenceWarning: Liblinear failed to converge, increase the number of iterations.\n",
            "  \"the number of iterations.\", ConvergenceWarning)\n",
            "/Users/andreaprenner/anaconda3/lib/python3.7/site-packages/sklearn/svm/_base.py:977: ConvergenceWarning: Liblinear failed to converge, increase the number of iterations.\n",
            "  \"the number of iterations.\", ConvergenceWarning)\n",
            "/Users/andreaprenner/anaconda3/lib/python3.7/site-packages/sklearn/svm/_base.py:977: ConvergenceWarning: Liblinear failed to converge, increase the number of iterations.\n",
            "  \"the number of iterations.\", ConvergenceWarning)\n",
            "/Users/andreaprenner/anaconda3/lib/python3.7/site-packages/sklearn/svm/_base.py:977: ConvergenceWarning: Liblinear failed to converge, increase the number of iterations.\n",
            "  \"the number of iterations.\", ConvergenceWarning)\n",
            "/Users/andreaprenner/anaconda3/lib/python3.7/site-packages/sklearn/svm/_base.py:977: ConvergenceWarning: Liblinear failed to converge, increase the number of iterations.\n",
            "  \"the number of iterations.\", ConvergenceWarning)\n",
            "/Users/andreaprenner/anaconda3/lib/python3.7/site-packages/sklearn/svm/_base.py:977: ConvergenceWarning: Liblinear failed to converge, increase the number of iterations.\n",
            "  \"the number of iterations.\", ConvergenceWarning)\n",
            "/Users/andreaprenner/anaconda3/lib/python3.7/site-packages/sklearn/svm/_base.py:977: ConvergenceWarning: Liblinear failed to converge, increase the number of iterations.\n",
            "  \"the number of iterations.\", ConvergenceWarning)\n",
            "/Users/andreaprenner/anaconda3/lib/python3.7/site-packages/sklearn/svm/_base.py:977: ConvergenceWarning: Liblinear failed to converge, increase the number of iterations.\n",
            "  \"the number of iterations.\", ConvergenceWarning)\n"
          ],
          "name": "stderr"
        },
        {
          "output_type": "stream",
          "text": [
            "Accuracies: [0.815, 0.825, 0.835, 0.845, 0.835, 0.835, 0.855, 0.86, 0.855, 0.83]\n",
            "Mean: 0.8389999999999999\n"
          ],
          "name": "stdout"
        }
      ]
    },
    {
      "cell_type": "code",
      "metadata": {
        "colab": {
          "base_uri": "https://localhost:8080/"
        },
        "id": "82hZdiBOOxLd",
        "outputId": "ab9eebed-0edf-434c-cfc2-b8539ed01fa3"
      },
      "source": [
        "pvalue=sign_test(cross_val_accuracies,cross_val_svm_pos)\n",
        "print('p-value=', pvalue)"
      ],
      "execution_count": null,
      "outputs": [
        {
          "output_type": "stream",
          "text": [
            "the difference is not significant\n",
            "p-value= 2\n"
          ],
          "name": "stdout"
        }
      ]
    },
    {
      "cell_type": "markdown",
      "metadata": {
        "id": "L0dt_oQupUNe"
      },
      "source": [
        " *When using the POS tag, we obtain just a slight improvement in accuracy for some folds and a slightly higher value for the mean of accuracies. However, these differences are not significant as showed when performing the sign test and we can conclude that both the model with POS and without are equally good. This experiment also confirms the findings of  Pang et al. (2002),that the effect of POS tags information is more of a 'wash' . An explanation could be that not all POS tag carry relevant information for the classifier.*\n",
        "  \n",
        "  "
      ]
    },
    {
      "cell_type": "markdown",
      "metadata": {
        "id": "Su-3w87eMW0w"
      },
      "source": [
        "#### (Q4.3) Discard all closed-class words from your data (keep only nouns, verbs, adjectives, and adverbs), and report performance. Does this help? Perform cross-validation and concatenate the predictions from all folds to compute the significance. Are the results significantly better than when we don't discard the closed-class words? *Why?* (1pt)"
      ]
    },
    {
      "cell_type": "code",
      "metadata": {
        "id": "gfnDnSwegRmK"
      },
      "source": [
        "tags_to_keep = [\n",
        "  # Nouns\n",
        "  'NN', 'NNS', 'NNP', 'NNPS',\n",
        "  # Verbs\n",
        "  'VB', 'VBD', 'VBG', 'VBN', 'VBP', 'VBZ', 'MD',\n",
        "  # Adjectives\n",
        "  'JJ', 'JJR', 'JJS',\n",
        "  # Adverbs\n",
        "  'RB', 'RBR', 'RBS', 'RP'\n",
        "]\n",
        "\n",
        "\n",
        "def svm_data_pos_adj(reviews):\n",
        "    features = []\n",
        "    labels = []\n",
        "    for review in reviews:\n",
        "      sentiment = 1 if review['sentiment'] == 'POS' else -1\n",
        "      content = review['content']\n",
        "      words_pre = list(itertools.chain(*content))\n",
        "      list_empty = []\n",
        "      for token, pos in words_pre: \n",
        "        if pos in tags_to_keep:\n",
        "          words = \"\".join([token,pos])\n",
        "          list_empty.append(words)\n",
        "      list_empty = ' '.join(list_empty)\n",
        "      list_empty = list_empty.lower()\n",
        "      features.append(list_empty)\n",
        "      labels.append(sentiment)\n",
        "    return features, labels\n"
      ],
      "execution_count": null,
      "outputs": []
    },
    {
      "cell_type": "code",
      "metadata": {
        "colab": {
          "base_uri": "https://localhost:8080/"
        },
        "id": "CCUPlPozCYUX",
        "outputId": "4f0cfc1c-fd91-4fda-c994-65e9d92417c4"
      },
      "source": [
        "cross_val_svm_pos_adj=[]\n",
        "\n",
        "for j in range(10):\n",
        "  split_test_data=[]\n",
        "  split_train_data=[]\n",
        "  #splitting data \n",
        "  for cv, review in enumerate(reviews):\n",
        "    if cv % 10 == j:\n",
        "      split_test_data.append(review)\n",
        "    else:\n",
        "      split_train_data.append(review)\n",
        "  \n",
        "  #getting geatures and labels for both training and testing sets\n",
        "  train_features, train_labels=svm_data_pos_adj(split_train_data)\n",
        "  test_features,test_labels=svm_data_pos_adj(split_test_data)\n",
        "\n",
        "  #vectorizing features\n",
        "  train_features_vectorized=vectorizer.fit_transform(train_features)\n",
        "  test_features_vectorized=vectorizer.transform(test_features)\n",
        "\n",
        "  #training the model\n",
        "  model = svc.fit(train_features_vectorized, train_labels)\n",
        "  #predicting with the trained model\n",
        "  prediction = model.predict(test_features_vectorized)\n",
        "  \n",
        "  #compare predictions with test labels\n",
        "  predictions = pd.DataFrame(prediction, columns = ['predictions'])\n",
        "  actual=pd.DataFrame(test_labels, columns = ['actual'])\n",
        "  review_sentiment_classification = pd.concat([predictions, actual], axis=1, sort=False)\n",
        "  review_sentiment_classification['classification_accuracy'] = np.where(review_sentiment_classification['predictions']==review_sentiment_classification['actual'], \n",
        "                                                 1, 0)\n",
        "  results = review_sentiment_classification['classification_accuracy']\n",
        "  #calculate accuracy\n",
        "  svm_accuracy = results.sum()/len(results)\n",
        "  cross_val_svm_pos_adj.append(svm_accuracy)\n",
        "\n",
        "print('Accuracies:',cross_val_svm_pos_adj)\n",
        "print('Mean:',sum(cross_val_svm_pos_adj) / len(cross_val_svm_pos_adj))\n",
        "\n"
      ],
      "execution_count": null,
      "outputs": [
        {
          "output_type": "stream",
          "text": [
            "/Users/andreaprenner/anaconda3/lib/python3.7/site-packages/sklearn/svm/_base.py:977: ConvergenceWarning: Liblinear failed to converge, increase the number of iterations.\n",
            "  \"the number of iterations.\", ConvergenceWarning)\n",
            "/Users/andreaprenner/anaconda3/lib/python3.7/site-packages/sklearn/svm/_base.py:977: ConvergenceWarning: Liblinear failed to converge, increase the number of iterations.\n",
            "  \"the number of iterations.\", ConvergenceWarning)\n",
            "/Users/andreaprenner/anaconda3/lib/python3.7/site-packages/sklearn/svm/_base.py:977: ConvergenceWarning: Liblinear failed to converge, increase the number of iterations.\n",
            "  \"the number of iterations.\", ConvergenceWarning)\n",
            "/Users/andreaprenner/anaconda3/lib/python3.7/site-packages/sklearn/svm/_base.py:977: ConvergenceWarning: Liblinear failed to converge, increase the number of iterations.\n",
            "  \"the number of iterations.\", ConvergenceWarning)\n",
            "/Users/andreaprenner/anaconda3/lib/python3.7/site-packages/sklearn/svm/_base.py:977: ConvergenceWarning: Liblinear failed to converge, increase the number of iterations.\n",
            "  \"the number of iterations.\", ConvergenceWarning)\n",
            "/Users/andreaprenner/anaconda3/lib/python3.7/site-packages/sklearn/svm/_base.py:977: ConvergenceWarning: Liblinear failed to converge, increase the number of iterations.\n",
            "  \"the number of iterations.\", ConvergenceWarning)\n",
            "/Users/andreaprenner/anaconda3/lib/python3.7/site-packages/sklearn/svm/_base.py:977: ConvergenceWarning: Liblinear failed to converge, increase the number of iterations.\n",
            "  \"the number of iterations.\", ConvergenceWarning)\n"
          ],
          "name": "stderr"
        },
        {
          "output_type": "stream",
          "text": [
            "Accuracies: [0.825, 0.84, 0.835, 0.845, 0.855, 0.83, 0.895, 0.87, 0.855, 0.83]\n",
            "Mean: 0.8479999999999999\n"
          ],
          "name": "stdout"
        }
      ]
    },
    {
      "cell_type": "code",
      "metadata": {
        "colab": {
          "base_uri": "https://localhost:8080/"
        },
        "id": "5O9PpKM9Pe2u",
        "outputId": "da81a4ce-47c9-41f2-aa23-170af2e19e4a"
      },
      "source": [
        "pvalue=sign_test(cross_val_accuracies,cross_val_svm_pos_adj)\n",
        "print('p-value=', pvalue)"
      ],
      "execution_count": null,
      "outputs": [
        {
          "output_type": "stream",
          "text": [
            "the difference is not significant\n",
            "p-value= 2\n"
          ],
          "name": "stdout"
        }
      ]
    },
    {
      "cell_type": "markdown",
      "metadata": {
        "id": "YaxCVrs8pWSp"
      },
      "source": [
        "*Assuming that some POS tags carry more information than others, we have discarded all closed class words keeping only nouns, verbs, adjectives, and adverbs. The results are mixed. We get slight improvements for some of the folds, and lower accuracies for others. On average the mean accuracy is 0.8479 which is higher than from the other two SVM models. This may result from the fact that nouns, verbs, adjectives, and adverbs contain the greatest sentiment information compared to other words in the corpus.*"
      ]
    },
    {
      "cell_type": "markdown",
      "metadata": {
        "id": "nfwqOciAl2No"
      },
      "source": [
        "# (Q5) Discussion (max. 500 words). (5pts)\n",
        "\n",
        "> Based on your experiments, what are the effective features and techniques in sentiment analysis? What information do different features encode?\n",
        "Why is this important? What are the limitations of these features and techniques?\n",
        " \n"
      ]
    },
    {
      "cell_type": "markdown",
      "metadata": {
        "id": "ZYuse5WLmekZ"
      },
      "source": [
        "*This practical gave us the possibility to experiment with various techniques in sentiment analysis. Based on our experiments, we have made the following conclusions:*\n",
        "\n",
        "*Machine Learning based classification techniques like Naïve Bayes and SVM, perform better than lexicon-based classification techniques. A reason for that could be that these methods are able to  solve the issue that we can encounter with lexicon based analysis when trying to capture specific meanings of a certain word or meanings of words which might be missing in the lexicon( [Yousefpour et al.](http://isisell.com/freeupload/2017860611-31420-t.pdf)).*\n",
        "\n",
        "*Our implementation of the non-smoothed Naïve Bayes has given us the same results as when applying Laplace smoothing to Naïve Bayes, even though we expected an increase in accuracy by applying Naïve Bayes with smoothing.  One approach to further improve the Naïve Bayes classifiers is to remove stopwords or punctuations from the training and test set since these features do not provide any sentiment insight but might lead to problems for imbalanced datasets. The bias in imbalanced datasets is caused because we divide by an unequal size of positive or negative words resulting in a higher probability for the stopwords/punctuation within the class with smaller word size.*\n",
        "\n",
        "*The SVM models have had a slightly better accuracy than the smoothed Naïve Bayes, however, this difference has not been statistically significant. The SVM model with POS features has also had some small increase in accuracy. Using only words with ‘nouns, verbs, adjectives, adverbs’ POS features the accuracy even improved further. We have not performed any hyperparameter tuning, but we can argue that with that our result would have been more robust. An SVM model combined with POS feature and n-grams as well, where stopwords  has been removed and hyperparameter have been tuned, might perform significantly better.*\n",
        "\n",
        "*Stemming seems to be a good technique for dimensionality reduction as it helped us shrink the size of our vocabulary. In our case, it didn’t improve accuracy, but it could be a very useful method for large datasets.*\n",
        " \n",
        "*Regarding the features used in the analysis, we have seen that when using n-grams our performance has improved for each fold. However, when we added the trigrams to the model as well, we had a taste of the dimensionality ‘curse’- the model took longer to run and the accuracy has reduced compared to the unigram+bigram model. Overall, we concluded that n-grams can be useful features for our model as they capture the existing dependencies between words.*\n",
        "\n",
        "\n",
        "\n"
      ]
    },
    {
      "cell_type": "markdown",
      "metadata": {
        "id": "iwaKwfWQhRk_"
      },
      "source": [
        "# Submission \n"
      ]
    },
    {
      "cell_type": "code",
      "metadata": {
        "id": "aOUeaET5ijk-"
      },
      "source": [
        "# Write your names and student numbers here:\n",
        "# Andrea Prenner #13325973\n",
        "# Iuliana-Laurentia Rosca #13243705"
      ],
      "execution_count": null,
      "outputs": []
    },
    {
      "cell_type": "markdown",
      "metadata": {
        "id": "3A9K-H6Tii3X"
      },
      "source": [
        "**That's it!**\n",
        "\n",
        "- Check if you answered all questions fully and correctly. \n",
        "- Download your completed notebook using `File -> Download .ipynb` \n",
        "- Check if your answers are all included in the file you submit.\n",
        "- Submit your .ipynb file via *Canvas*. One submission per group. "
      ]
    },
    {
      "cell_type": "code",
      "metadata": {
        "id": "YHslatYAKBrF"
      },
      "source": [
        ""
      ],
      "execution_count": null,
      "outputs": []
    }
  ]
}