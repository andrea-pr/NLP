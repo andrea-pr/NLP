{
  "nbformat": 4,
  "nbformat_minor": 0,
  "metadata": {
    "accelerator": "GPU",
    "colab": {
      "name": " NLP1 2020 Practical 2 (student version)",
      "provenance": [],
      "collapsed_sections": []
    },
    "kernelspec": {
      "display_name": "Python 3",
      "name": "python3"
    }
  },
  "cells": [
    {
      "cell_type": "markdown",
      "metadata": {
        "id": "ptMZZMQlfn7c"
      },
      "source": [
        "------\n",
        "**You cannot apply any changes to this file, so please make sure to save it on your Google Colab drive or download it as a .ipynb file.**\n",
        "\n",
        "------\n"
      ]
    },
    {
      "cell_type": "markdown",
      "metadata": {
        "id": "jILqpPLlE9r0"
      },
      "source": [
        "# Practical 2: Representing Sentences with Neural Models"
      ]
    },
    {
      "cell_type": "markdown",
      "metadata": {
        "id": "8JXOZ5uhQ8Qq"
      },
      "source": [
        "In this second practical, we will train neural network models to obtain sentence representations. We can then use these sentence representations for a downstream task such as sentiment classification. \n",
        "\n",
        "In this notebook, we will help you to develop models for your experiments. But this time, next to completing the notebook, **you are expected to write a four-page scientific report with your findings**. Please still submit the notebook together with your scientific report so that we can reproduce your experiments. (Note: if you find it useful, you can split this notebook into multiple notebooks. If you do so, keep it mind that it should be possible for your TAs to reproduce the entire content of the notebooks without having to ask for clarifications or to copy and paste functions from one sub-notebook to another.)\n",
        "\n",
        "**Important!** The main purpose of this lab is for you to learn how to answer research questions by experimenting and then writing a scientific report.\n",
        "So you will be *judged by the quality of your report* but will lose points if your experiments are not reproducible.\n",
        "You can find the requirements for the report at the end of this notebook.\n",
        "\n",
        "\n",
        "### Data set\n",
        "We will use the [Stanford Sentiment Treebank](https://nlp.stanford.edu/sentiment/) (SST), which provides sentences, their binary tree structure, and fine-grained sentiment scores.\n",
        "This dataset is different from the one we used in the first practical. \n",
        "In Practical 1, a review consisted of several sentences, and we had one sentiment score for the whole review. Now, a review consists of a single sentence, and we have a sentiment score for each node in the binary tree that makes up the sentence, including the root node (i.e., we still have an overall sentiment score for the entire review). We will look at an example below.\n",
        "\n",
        "In the first part of this practical we will only make use of the sentence tokens whereas in the second part we will also exploit the tree structure that is provided by the SST.\n",
        "\n",
        "We will cover the following approaches:\n",
        "\n",
        "- Bag-of-words (BOW)\n",
        "- Continuous bag-of-words (CBOW)\n",
        "- Deep continuous bag-of-words (Deep CBOW)\n",
        "- LSTM\n",
        "- Tree-LSTM\n"
      ]
    },
    {
      "cell_type": "markdown",
      "metadata": {
        "id": "YbNKef3lymaj"
      },
      "source": [
        "## Preparing the data"
      ]
    },
    {
      "cell_type": "markdown",
      "metadata": {
        "id": "9jxTkpg59FlU"
      },
      "source": [
        "Let's first download the data set and take a look."
      ]
    },
    {
      "cell_type": "code",
      "metadata": {
        "id": "WZp53HmMP3F2"
      },
      "source": [
        "import re\n",
        "import random\n",
        "import time\n",
        "import math\n",
        "import numpy as np\n",
        "import nltk\n",
        "import matplotlib.pyplot as plt\n",
        "plt.style.use('default')"
      ],
      "execution_count": 2,
      "outputs": []
    },
    {
      "cell_type": "code",
      "metadata": {
        "colab": {
          "base_uri": "https://localhost:8080/"
        },
        "id": "TovFkDTgE_d6",
        "outputId": "b8c11eb5-367e-4557-ce82-28271cc331ef"
      },
      "source": [
        "!wget http://nlp.stanford.edu/sentiment/trainDevTestTrees_PTB.zip\n",
        "!unzip trainDevTestTrees_PTB.zip"
      ],
      "execution_count": 3,
      "outputs": [
        {
          "output_type": "stream",
          "text": [
            "--2020-12-13 07:28:31--  http://nlp.stanford.edu/sentiment/trainDevTestTrees_PTB.zip\n",
            "Resolving nlp.stanford.edu (nlp.stanford.edu)... 171.64.67.140\n",
            "Connecting to nlp.stanford.edu (nlp.stanford.edu)|171.64.67.140|:80... connected.\n",
            "HTTP request sent, awaiting response... 302 Found\n",
            "Location: https://nlp.stanford.edu/sentiment/trainDevTestTrees_PTB.zip [following]\n",
            "--2020-12-13 07:28:31--  https://nlp.stanford.edu/sentiment/trainDevTestTrees_PTB.zip\n",
            "Connecting to nlp.stanford.edu (nlp.stanford.edu)|171.64.67.140|:443... connected.\n",
            "HTTP request sent, awaiting response... 200 OK\n",
            "Length: 789539 (771K) [application/zip]\n",
            "Saving to: ‘trainDevTestTrees_PTB.zip’\n",
            "\n",
            "trainDevTestTrees_P 100%[===================>] 771.03K   844KB/s    in 0.9s    \n",
            "\n",
            "2020-12-13 07:28:32 (844 KB/s) - ‘trainDevTestTrees_PTB.zip’ saved [789539/789539]\n",
            "\n",
            "Archive:  trainDevTestTrees_PTB.zip\n",
            "   creating: trees/\n",
            "  inflating: trees/dev.txt           \n",
            "  inflating: trees/test.txt          \n",
            "  inflating: trees/train.txt         \n"
          ],
          "name": "stdout"
        }
      ]
    },
    {
      "cell_type": "code",
      "metadata": {
        "id": "0IpAphkBO5eW"
      },
      "source": [
        "# this function reads in a textfile and fixes an issue with \"\\\\\"\n",
        "def filereader(path): \n",
        "  with open(path, mode=\"r\", encoding=\"utf-8\") as f:\n",
        "    for line in f:\n",
        "      yield line.strip().replace(\"\\\\\",\"\")"
      ],
      "execution_count": 4,
      "outputs": []
    },
    {
      "cell_type": "markdown",
      "metadata": {
        "id": "yP_jpquiprH8"
      },
      "source": [
        "Let's look at a data point. It is a **flattened binary tree**, with sentiment scores at every node, and words as the leaves (or *terminal nodes*)."
      ]
    },
    {
      "cell_type": "code",
      "metadata": {
        "colab": {
          "base_uri": "https://localhost:8080/"
        },
        "id": "ylkIopm0QJML",
        "outputId": "edf93e4d-7d69-497b-e3c3-4ace6b0632f4"
      },
      "source": [
        "s = next(filereader(\"trees/dev.txt\"))\n",
        "print(s)"
      ],
      "execution_count": 5,
      "outputs": [
        {
          "output_type": "stream",
          "text": [
            "(3 (2 It) (4 (4 (2 's) (4 (3 (2 a) (4 (3 lovely) (2 film))) (3 (2 with) (4 (3 (3 lovely) (2 performances)) (2 (2 by) (2 (2 (2 Buy) (2 and)) (2 Accorsi))))))) (2 .)))\n"
          ],
          "name": "stdout"
        }
      ]
    },
    {
      "cell_type": "code",
      "metadata": {
        "colab": {
          "base_uri": "https://localhost:8080/"
        },
        "id": "7_U7HTFwdrWt",
        "outputId": "79e8c280-83b5-4426-a260-8f57c2a14373"
      },
      "source": [
        "# We can use NLTK to better visualise the tree structure of the sentence\n",
        "from nltk import Tree\n",
        "from nltk.treeprettyprinter import TreePrettyPrinter\n",
        "tree = Tree.fromstring(s)\n",
        "print(TreePrettyPrinter(tree))"
      ],
      "execution_count": 6,
      "outputs": [
        {
          "output_type": "stream",
          "text": [
            "              3                                                                     \n",
            "  ____________|____________________                                                  \n",
            " |                                 4                                                \n",
            " |        _________________________|______________________________________________   \n",
            " |       4                                                                        | \n",
            " |    ___|______________                                                          |  \n",
            " |   |                  4                                                         | \n",
            " |   |         _________|__________                                               |  \n",
            " |   |        |                    3                                              | \n",
            " |   |        |               _____|______________________                        |  \n",
            " |   |        |              |                            4                       | \n",
            " |   |        |              |            ________________|_______                |  \n",
            " |   |        |              |           |                        2               | \n",
            " |   |        |              |           |                 _______|___            |  \n",
            " |   |        3              |           |                |           2           | \n",
            " |   |    ____|_____         |           |                |        ___|_____      |  \n",
            " |   |   |          4        |           3                |       2         |     | \n",
            " |   |   |     _____|___     |      _____|_______         |    ___|___      |     |  \n",
            " 2   2   2    3         2    2     3             2        2   2       2     2     2 \n",
            " |   |   |    |         |    |     |             |        |   |       |     |     |  \n",
            " It  's  a  lovely     film with lovely     performances  by Buy     and Accorsi  . \n",
            "\n"
          ],
          "name": "stdout"
        }
      ]
    },
    {
      "cell_type": "markdown",
      "metadata": {
        "id": "ekAWKsji9t93"
      },
      "source": [
        "The sentiment scores range from 0 (very negative) to 5 (very positive). Again, as you can see, every node in the tree is labeled with a sentiment score. For now, we will only use the score at the **root node**, i.e., the sentiment score for the complete sentence."
      ]
    },
    {
      "cell_type": "code",
      "metadata": {
        "colab": {
          "base_uri": "https://localhost:8080/"
        },
        "id": "DKynLm0xPKr2",
        "outputId": "05889c56-fb52-4463-c7da-cb5753ac12ca"
      },
      "source": [
        "# Let's first make a function that extracts the tokens (the leaves).\n",
        "\n",
        "def tokens_from_treestring(s):\n",
        "  \"\"\"extract the tokens from a sentiment tree\"\"\"\n",
        "  return re.sub(r\"\\([0-9] |\\)\", \"\", s).split()\n",
        " \n",
        "# let's try it on our example tree\n",
        "tokens = tokens_from_treestring(s)\n",
        "print(tokens)\n",
        "print(len(tokens))"
      ],
      "execution_count": 7,
      "outputs": [
        {
          "output_type": "stream",
          "text": [
            "['It', \"'s\", 'a', 'lovely', 'film', 'with', 'lovely', 'performances', 'by', 'Buy', 'and', 'Accorsi', '.']\n",
            "13\n"
          ],
          "name": "stdout"
        }
      ]
    },
    {
      "cell_type": "markdown",
      "metadata": {
        "id": "B8vFkeqN-NLP"
      },
      "source": [
        "> *Warning: you could also parse a treestring using NLTK and ask it to return the leaves, but there seems to be an issue with NLTK not always correctly parsing the input, so do not rely on it.*"
      ]
    },
    {
      "cell_type": "code",
      "metadata": {
        "id": "Akr9K_Mv4dym"
      },
      "source": [
        "# We will also need the following function, but you can ignore this for now.\n",
        "# It is explained later on.\n",
        "\n",
        "SHIFT = 0\n",
        "REDUCE = 1\n",
        "\n",
        "\n",
        "def transitions_from_treestring(s):\n",
        "  s = re.sub(\"\\([0-5] ([^)]+)\\)\", \"0\", s)\n",
        "  s = re.sub(\"\\)\", \" )\", s)\n",
        "  s = re.sub(\"\\([0-4] \", \"\", s)\n",
        "  s = re.sub(\"\\([0-4] \", \"\", s)\n",
        "  s = re.sub(\"\\)\", \"1\", s)\n",
        "  return list(map(int, s.split()))"
      ],
      "execution_count": 8,
      "outputs": []
    },
    {
      "cell_type": "code",
      "metadata": {
        "colab": {
          "base_uri": "https://localhost:8080/"
        },
        "id": "mNtPdlwPgRat",
        "outputId": "384c7df3-506f-427c-da9d-8999ee0bf459"
      },
      "source": [
        "# Now let's first see how large our data sets are.\n",
        "for path in (\"trees/train.txt\", \"trees/dev.txt\", \"trees/test.txt\"):\n",
        "  print(\"{:16s} {:4d}\".format(path, sum(1 for _ in filereader(path))))"
      ],
      "execution_count": 9,
      "outputs": [
        {
          "output_type": "stream",
          "text": [
            "trees/train.txt  8544\n",
            "trees/dev.txt    1101\n",
            "trees/test.txt   2210\n"
          ],
          "name": "stdout"
        }
      ]
    },
    {
      "cell_type": "markdown",
      "metadata": {
        "id": "HexlSqTR_UrY"
      },
      "source": [
        "You can see that the number of sentences is not very large. That's probably because the data set required so much manual annotation. However, it is large enough to train a neural network on."
      ]
    },
    {
      "cell_type": "markdown",
      "metadata": {
        "id": "IfRjelOcsXuC"
      },
      "source": [
        "It will be useful to store each data example in an `Example` object,\n",
        "containing everything that we may need for each data point.\n",
        "It will contain the tokens, the tree, the top-level sentiment label, and \n",
        "the transitions (explained later)."
      ]
    },
    {
      "cell_type": "code",
      "metadata": {
        "colab": {
          "base_uri": "https://localhost:8080/"
        },
        "id": "4I07Hb_-q8wg",
        "outputId": "c95a3b9c-a098-4358-a0b9-b4618d55fbe9"
      },
      "source": [
        "from collections import namedtuple\n",
        "from nltk import Tree\n",
        "\n",
        "# A simple way to define a class is using namedtuple.\n",
        "Example = namedtuple(\"Example\", [\"tokens\", \"tree\", \"label\", \"transitions\"])\n",
        "\n",
        "   \n",
        "def examplereader(path, lower=False):\n",
        "  \"\"\"Returns all examples in a file one by one.\"\"\"\n",
        "  for line in filereader(path):\n",
        "    line = line.lower() if lower else line\n",
        "    tokens = tokens_from_treestring(line)\n",
        "    tree = Tree.fromstring(line)  # use NLTK's Tree\n",
        "    label = int(line[1])\n",
        "    trans = transitions_from_treestring(line)\n",
        "    yield Example(tokens=tokens, tree=tree, label=label, transitions=trans)\n",
        "  \n",
        "\n",
        "# Let's load the data into memory.\n",
        "LOWER = False  # we will keep the original casing\n",
        "train_data = list(examplereader(\"trees/train.txt\", lower=LOWER))\n",
        "dev_data = list(examplereader(\"trees/dev.txt\", lower=LOWER))\n",
        "test_data = list(examplereader(\"trees/test.txt\", lower=LOWER))\n",
        "\n",
        "print(\"train\", len(train_data))\n",
        "print(\"dev\", len(dev_data))\n",
        "print(\"test\", len(test_data))"
      ],
      "execution_count": 10,
      "outputs": [
        {
          "output_type": "stream",
          "text": [
            "train 8544\n",
            "dev 1101\n",
            "test 2210\n"
          ],
          "name": "stdout"
        }
      ]
    },
    {
      "cell_type": "markdown",
      "metadata": {
        "id": "6KM0bDyeVZtP"
      },
      "source": [
        "Let's check out an `Example` object."
      ]
    },
    {
      "cell_type": "code",
      "metadata": {
        "colab": {
          "base_uri": "https://localhost:8080/"
        },
        "id": "J8mwcaZwxP1c",
        "outputId": "34e0da47-feea-4bc5-9667-e5ec86a6f8d3"
      },
      "source": [
        "example = dev_data[0]\n",
        "print(\"First example:\", example)\n",
        "print(\"First example tokens:\", example.tokens)\n",
        "print(\"First example label:\",  example.label)"
      ],
      "execution_count": 11,
      "outputs": [
        {
          "output_type": "stream",
          "text": [
            "First example: Example(tokens=['It', \"'s\", 'a', 'lovely', 'film', 'with', 'lovely', 'performances', 'by', 'Buy', 'and', 'Accorsi', '.'], tree=Tree('3', [Tree('2', ['It']), Tree('4', [Tree('4', [Tree('2', [\"'s\"]), Tree('4', [Tree('3', [Tree('2', ['a']), Tree('4', [Tree('3', ['lovely']), Tree('2', ['film'])])]), Tree('3', [Tree('2', ['with']), Tree('4', [Tree('3', [Tree('3', ['lovely']), Tree('2', ['performances'])]), Tree('2', [Tree('2', ['by']), Tree('2', [Tree('2', [Tree('2', ['Buy']), Tree('2', ['and'])]), Tree('2', ['Accorsi'])])])])])])]), Tree('2', ['.'])])]), label=3, transitions=[0, 0, 0, 0, 0, 1, 1, 0, 0, 0, 1, 0, 0, 0, 1, 0, 1, 1, 1, 1, 1, 1, 0, 1, 1])\n",
            "First example tokens: ['It', \"'s\", 'a', 'lovely', 'film', 'with', 'lovely', 'performances', 'by', 'Buy', 'and', 'Accorsi', '.']\n",
            "First example label: 3\n"
          ],
          "name": "stdout"
        }
      ]
    },
    {
      "cell_type": "markdown",
      "metadata": {
        "id": "-WDSprDBVcr-"
      },
      "source": [
        "#### Vocabulary \n",
        "A first step in most NLP tasks is collecting all the word types that appear in the data into a vocabulary, and counting the frequency of their occurrences. On the one hand, this will give us an overview of the word distribution of the data set (what are the most frequent words, how many rare words are there, ...). On the other hand, we will also use the vocabulary to map each word to a unique numeric ID, which is a more handy index than a string."
      ]
    },
    {
      "cell_type": "code",
      "metadata": {
        "id": "VvNgKx7usRSt"
      },
      "source": [
        "# Here we first define a class that can map a word to an ID (w2i)\n",
        "# and back (i2w).\n",
        "\n",
        "from collections import Counter, OrderedDict, defaultdict\n",
        "\n",
        "\n",
        "class OrderedCounter(Counter, OrderedDict):\n",
        "  \"\"\"Counter that remembers the order elements are first seen\"\"\"\n",
        "  def __repr__(self):\n",
        "    return '%s(%r)' % (self.__class__.__name__,\n",
        "                      OrderedDict(self))\n",
        "  def __reduce__(self):\n",
        "    return self.__class__, (OrderedDict(self),)\n",
        "\n",
        "\n",
        "class Vocabulary:\n",
        "  \"\"\"A vocabulary, assigns IDs to tokens\"\"\"\n",
        "  \n",
        "  def __init__(self):\n",
        "    self.freqs = OrderedCounter()\n",
        "    self.w2i = {}\n",
        "    self.i2w = []\n",
        "\n",
        "  def count_token(self, t):\n",
        "    self.freqs[t] += 1\n",
        "    \n",
        "  def add_token(self, t):\n",
        "    self.w2i[t] = len(self.w2i)\n",
        "    self.i2w.append(t)    \n",
        "    \n",
        "  def build(self, min_freq=0):\n",
        "    '''\n",
        "    min_freq: minimum number of occurrences for a word to be included  \n",
        "              in the vocabulary\n",
        "    '''\n",
        "    self.add_token(\"<unk>\")  # reserve 0 for <unk> (unknown words)\n",
        "    self.add_token(\"<pad>\")  # reserve 1 for <pad> (discussed later)   \n",
        "    \n",
        "    tok_freq = list(self.freqs.items())\n",
        "    tok_freq.sort(key=lambda x: x[1], reverse=True)\n",
        "    for tok, freq in tok_freq:\n",
        "      if freq >= min_freq:\n",
        "        self.add_token(tok)"
      ],
      "execution_count": 12,
      "outputs": []
    },
    {
      "cell_type": "markdown",
      "metadata": {
        "id": "kOvkH_llVsoW"
      },
      "source": [
        "The vocabulary has by default an `<unk>` token and a `<pad>` token. The `<unk>` token is reserved for all words which do not appear in the training data (and for which, therefore, we cannot learn word representations). The function of the `<pad>` token will be explained later.\n",
        "\n",
        "\n",
        "Let's build the vocabulary!\n"
      ]
    },
    {
      "cell_type": "code",
      "metadata": {
        "colab": {
          "base_uri": "https://localhost:8080/"
        },
        "id": "GwGQgQQBNUSq",
        "outputId": "c036cdc5-6960-4ced-b5de-0038d2bfa8e5"
      },
      "source": [
        "# This process should be deterministic and should have the same result \n",
        "# if run multiple times on the same data set.\n",
        "\n",
        "v = Vocabulary()\n",
        "for data_set in (train_data,):\n",
        "  for ex in data_set:\n",
        "    for token in ex.tokens:\n",
        "      v.count_token(token)\n",
        "\n",
        "v.build()\n",
        "print(\"Vocabulary size:\", len(v.w2i))"
      ],
      "execution_count": 13,
      "outputs": [
        {
          "output_type": "stream",
          "text": [
            "Vocabulary size: 18280\n"
          ],
          "name": "stdout"
        }
      ]
    },
    {
      "cell_type": "markdown",
      "metadata": {
        "id": "-UNIedPrPdCw"
      },
      "source": [
        "Let's have a closer look at the properties of our vocabulary. Having a good idea of what it is like can facilitate data analysis and debugging later on."
      ]
    },
    {
      "cell_type": "code",
      "metadata": {
        "colab": {
          "base_uri": "https://localhost:8080/"
        },
        "id": "oJyuogmh0CA7",
        "outputId": "9c1bbfaa-11c7-4326-f361-9c0b853fcb93"
      },
      "source": [
        "# What is the ID for \"century?\"\n",
        "\n",
        "v.w2i['century']\n"
      ],
      "execution_count": 14,
      "outputs": [
        {
          "output_type": "execute_result",
          "data": {
            "text/plain": [
              "1973"
            ]
          },
          "metadata": {
            "tags": []
          },
          "execution_count": 14
        }
      ]
    },
    {
      "cell_type": "code",
      "metadata": {
        "colab": {
          "base_uri": "https://localhost:8080/"
        },
        "id": "O8OkPQ8Zv-rI",
        "outputId": "f791ba24-3806-4b75-ef3b-c2d57cace209"
      },
      "source": [
        "# What are the first 10 words in the vocabulary (based on their IDs)?\n",
        "v.i2w[:10]"
      ],
      "execution_count": 15,
      "outputs": [
        {
          "output_type": "execute_result",
          "data": {
            "text/plain": [
              "['<unk>', '<pad>', '.', ',', 'the', 'and', 'a', 'of', 'to', \"'s\"]"
            ]
          },
          "metadata": {
            "tags": []
          },
          "execution_count": 15
        }
      ]
    },
    {
      "cell_type": "code",
      "metadata": {
        "colab": {
          "base_uri": "https://localhost:8080/"
        },
        "id": "kmXwu02lOLWI",
        "outputId": "7584315c-e3a8-4172-f192-5f20f76e5674"
      },
      "source": [
        "# What are the 10 most common words?\n",
        "v.freqs.most_common(10)"
      ],
      "execution_count": 16,
      "outputs": [
        {
          "output_type": "execute_result",
          "data": {
            "text/plain": [
              "[('.', 8024),\n",
              " (',', 7131),\n",
              " ('the', 6037),\n",
              " ('and', 4431),\n",
              " ('a', 4403),\n",
              " ('of', 4386),\n",
              " ('to', 2995),\n",
              " (\"'s\", 2544),\n",
              " ('is', 2536),\n",
              " ('that', 1915)]"
            ]
          },
          "metadata": {
            "tags": []
          },
          "execution_count": 16
        }
      ]
    },
    {
      "cell_type": "code",
      "metadata": {
        "colab": {
          "base_uri": "https://localhost:8080/"
        },
        "id": "__NDPaCeOT_m",
        "outputId": "29870fd8-03e7-4671-ee73-c97df94bb934"
      },
      "source": [
        "# And how many words are there with frequency 1?\n",
        "# (A fancy name for these is hapax legomena.)\n",
        "counter=[]\n",
        "for word,count in v.freqs.items():\n",
        "  if count==1:\n",
        "    counter.append(word)\n",
        "print(len(counter))\n",
        "\n"
      ],
      "execution_count": 17,
      "outputs": [
        {
          "output_type": "stream",
          "text": [
            "9543\n"
          ],
          "name": "stdout"
        }
      ]
    },
    {
      "cell_type": "code",
      "metadata": {
        "colab": {
          "base_uri": "https://localhost:8080/"
        },
        "id": "xKHocugctZGM",
        "outputId": "5b8a8af9-2bd0-4d7c-f137-fc5cff1d2c90"
      },
      "source": [
        "# Finally 20 random words from the vocabulary.\n",
        "# This is a simple way to get a feeling for the data. \n",
        "# You could use the `choice` function from the already imported `random` package\n",
        "for x in range(20): \n",
        "  print(random.choice(v.i2w))"
      ],
      "execution_count": 18,
      "outputs": [
        {
          "output_type": "stream",
          "text": [
            "self-importance\n",
            "codswallop\n",
            "leaner\n",
            "Jeffs\n",
            "Astonishing\n",
            "endorses\n",
            "ferment\n",
            "Wishy-washy\n",
            "Cedar\n",
            "well-deserved\n",
            "dealt\n",
            "grand\n",
            "befallen\n",
            "darkly\n",
            "cash\n",
            "recompense\n",
            "cheaper\n",
            "beaches\n",
            "sensibility\n",
            "walked\n"
          ],
          "name": "stdout"
        }
      ]
    },
    {
      "cell_type": "markdown",
      "metadata": {
        "id": "nGWaZahKV_dH"
      },
      "source": [
        "#### Sentiment label vocabulary"
      ]
    },
    {
      "cell_type": "code",
      "metadata": {
        "colab": {
          "base_uri": "https://localhost:8080/"
        },
        "id": "AmTC-rvQelpl",
        "outputId": "0aeafbe0-d7ce-4357-c31e-9d9e15bf1d88"
      },
      "source": [
        "# Now let's map the sentiment labels 0-4 to a more readable form\n",
        "i2t = [\"very negative\", \"negative\", \"neutral\", \"positive\", \"very positive\"]\n",
        "print(i2t)\n",
        "print(i2t[4])"
      ],
      "execution_count": 19,
      "outputs": [
        {
          "output_type": "stream",
          "text": [
            "['very negative', 'negative', 'neutral', 'positive', 'very positive']\n",
            "very positive\n"
          ],
          "name": "stdout"
        }
      ]
    },
    {
      "cell_type": "code",
      "metadata": {
        "colab": {
          "base_uri": "https://localhost:8080/"
        },
        "id": "D7UI26DP2dr2",
        "outputId": "2404d904-093f-487f-b871-6443956ad6db"
      },
      "source": [
        "# And let's also create the opposite mapping.\n",
        "# We won't use a Vocabulary for this (although we could), since the labels\n",
        "# are already numeric.\n",
        "t2i = OrderedDict({p : i for p, i in zip(i2t, range(len(i2t)))})\n",
        "print(t2i)\n",
        "print(t2i['very positive'])"
      ],
      "execution_count": 20,
      "outputs": [
        {
          "output_type": "stream",
          "text": [
            "OrderedDict([('very negative', 0), ('negative', 1), ('neutral', 2), ('positive', 3), ('very positive', 4)])\n",
            "4\n"
          ],
          "name": "stdout"
        }
      ]
    },
    {
      "cell_type": "markdown",
      "metadata": {
        "id": "y0067ax54-rd"
      },
      "source": [
        "## PyTorch\n",
        "\n",
        "In Colab notebooks, the last available version of PyTorch is already installed.The current stable version is 1.7.\n",
        "\n",
        "*For installing PyTorch in your own computer, follow the instructions on [pytorch.org](pytorch.org) instead. This is for Google Colab only.*"
      ]
    },
    {
      "cell_type": "code",
      "metadata": {
        "colab": {
          "base_uri": "https://localhost:8080/"
        },
        "id": "qKQMGtkR5KWr",
        "outputId": "1a21da33-91ba-470d-d81b-db10ca1f612c"
      },
      "source": [
        "import torch\n",
        "print(\"Using torch\", torch.__version__) # should say 1.7.0+cu101"
      ],
      "execution_count": 21,
      "outputs": [
        {
          "output_type": "stream",
          "text": [
            "Using torch 1.7.0+cu101\n"
          ],
          "name": "stdout"
        }
      ]
    },
    {
      "cell_type": "code",
      "metadata": {
        "id": "mnvPcd_E1xH8"
      },
      "source": [
        "# Let's also import torch.nn, a PyTorch package that  \n",
        "# makes building neural networks more convenient.\n",
        "from torch import nn"
      ],
      "execution_count": 22,
      "outputs": []
    },
    {
      "cell_type": "code",
      "metadata": {
        "colab": {
          "base_uri": "https://localhost:8080/"
        },
        "id": "BYt8uTyGCKc7",
        "outputId": "f8b6afef-cf21-454f-bec9-b8bb8e81c8cb"
      },
      "source": [
        "# PyTorch can run on CPU or on Nvidia GPU (video card) using CUDA\n",
        "# This cell selects the GPU if one is available.\n",
        "device = torch.device('cuda' if torch.cuda.is_available() else 'cpu')\n",
        "device"
      ],
      "execution_count": 23,
      "outputs": [
        {
          "output_type": "execute_result",
          "data": {
            "text/plain": [
              "device(type='cuda')"
            ]
          },
          "metadata": {
            "tags": []
          },
          "execution_count": 23
        }
      ]
    },
    {
      "cell_type": "code",
      "metadata": {
        "id": "2d1VMOOYx1Bw"
      },
      "source": [
        "# Seed manually to make runs reproducible\n",
        "# You need to set this again if you do multiple runs of the same model\n",
        "torch.manual_seed(0)\n",
        "\n",
        "# When running on the CuDNN backend two further options must be set for reproducibility\n",
        "if torch.cuda.is_available():\n",
        "  torch.backends.cudnn.deterministic = True\n",
        "  torch.backends.cudnn.benchmark = False"
      ],
      "execution_count": 24,
      "outputs": []
    },
    {
      "cell_type": "markdown",
      "metadata": {
        "id": "uWBTzkuE3CtZ"
      },
      "source": [
        "# BOW"
      ]
    },
    {
      "cell_type": "markdown",
      "metadata": {
        "id": "TBAjYYySOA5W"
      },
      "source": [
        "Our first model is a rather simple neural **bag-of-words (BOW) model**.\n",
        "Unlike the bag-of-words model that you used in the previous lab, where we would look at the presence / frequency of words in a text, here we associate each word with a multi-dimensional vector which expresses what sentiment is conveyed by the word. In particular, our BOW vectors will be of size 5, exactly our number of sentiment classes. \n",
        "\n",
        "To classify a sentence, we **sum** the vectors of the words in the sentence and a bias vector. Because we sum the vectors, we lose word order: that's why we call this a neural bag-of-words model.\n",
        "\n",
        "```\n",
        "this   [0.0, 0.1, 0.1, 0.1, 0.0]\n",
        "movie  [0.0, 0.1, 0.1, 0.2, 0.1]\n",
        "is     [0.0, 0.1, 0.0, 0.0, 0.0]\n",
        "stupid [0.9, 0.5, 0.1, 0.0, 0.0]\n",
        "\n",
        "bias   [0.0, 0.0, 0.0, 0.0, 0.0]\n",
        "--------------------------------\n",
        "sum    [0.9, 0.8, 0.3, 0.3, 0.1]\n",
        "\n",
        "argmax: 0 (very negative)\n",
        "```\n",
        "\n",
        "The **argmax** of this sum is our predicted label.\n",
        "\n",
        "We initialize all vectors *randomly* and train them using cross-entropy loss."
      ]
    },
    {
      "cell_type": "markdown",
      "metadata": {
        "id": "rLtBAIQGynkB"
      },
      "source": [
        "#### Model class"
      ]
    },
    {
      "cell_type": "code",
      "metadata": {
        "id": "QZfNklWf3tvs"
      },
      "source": [
        "class BOW(nn.Module):\n",
        "  \"\"\"A simple bag-of-words model\"\"\"\n",
        "\n",
        "  def __init__(self, vocab_size, embedding_dim, vocab):\n",
        "    super(BOW, self).__init__()\n",
        "    self.vocab = vocab\n",
        "    \n",
        "    # this is a trainable look-up table with word embeddings\n",
        "    self.embed = nn.Embedding(vocab_size, embedding_dim)\n",
        "    \n",
        "    # this is a trainable bias term\n",
        "    self.bias = nn.Parameter(torch.zeros(embedding_dim), requires_grad=True)        \n",
        "\n",
        "  def forward(self, inputs):\n",
        "    # this is the forward pass of the neural network\n",
        "    # it applies a function to the input and returns the output\n",
        "\n",
        "    # this looks up the embeddings for each word ID in inputs\n",
        "    # the result is a sequence of word embeddings\n",
        "    embeds = self.embed(inputs)\n",
        "    \n",
        "    # the output is the sum across the time dimension (1)\n",
        "    # with the bias term added\n",
        "    logits = embeds.sum(1) + self.bias\n",
        "\n",
        "    return logits"
      ],
      "execution_count": 24,
      "outputs": []
    },
    {
      "cell_type": "code",
      "metadata": {
        "colab": {
          "base_uri": "https://localhost:8080/"
        },
        "id": "eKHvBnoBAr6z",
        "outputId": "b658459a-69b5-47fb-c4d2-0637d673da71"
      },
      "source": [
        "# Let's create a model.\n",
        "vocab_size = len(v.w2i)\n",
        "n_classes = len(t2i)\n",
        "bow_model = BOW(vocab_size, n_classes, v)\n",
        "print(bow_model)"
      ],
      "execution_count": 25,
      "outputs": [
        {
          "output_type": "stream",
          "text": [
            "BOW(\n",
            "  (embed): Embedding(18280, 5)\n",
            ")\n"
          ],
          "name": "stdout"
        }
      ]
    },
    {
      "cell_type": "markdown",
      "metadata": {
        "id": "vfCx-HvMH1qQ"
      },
      "source": [
        "> **Hey, wait, where is the bias vector?**\n",
        "> PyTorch does not print Parameters, only Modules!\n",
        "\n",
        "> We can print it ourselves though, to check that it is there."
      ]
    },
    {
      "cell_type": "code",
      "metadata": {
        "id": "Fhvk5HenAroT"
      },
      "source": [
        "\n",
        "# Here we print each parameter name, shape, and if it is trainable.\n",
        "def print_parameters(model):\n",
        "  total = 0\n",
        "  for name, p in model.named_parameters():\n",
        "    total += np.prod(p.shape)\n",
        "    print(\"{:24s} {:12s} requires_grad={}\".format(name, str(list(p.shape)), p.requires_grad))\n",
        "  print(\"\\nTotal number of parameters: {}\\n\".format(total))\n",
        "    \n",
        "\n",
        "#print_parameters(bow_model)"
      ],
      "execution_count": 64,
      "outputs": []
    },
    {
      "cell_type": "markdown",
      "metadata": {
        "id": "WSAw292WxuP4"
      },
      "source": [
        "#### Preparing an example for input\n",
        "\n",
        "To feed sentences to our PyTorch model, we need to convert a sequence of tokens to a sequence of IDs. The `prepare_example` function below takes care of this for us. We then use these IDs as indices for the word embedding table. "
      ]
    },
    {
      "cell_type": "code",
      "metadata": {
        "id": "YWeGTC_OGReV"
      },
      "source": [
        "def prepare_example(example, vocab):\n",
        "  \"\"\"\n",
        "  Map tokens to their IDs for a single example\n",
        "  \"\"\"\n",
        "  \n",
        "  # vocab returns 0 if the word is not there (i2w[0] = <unk>)\n",
        "  x = [vocab.w2i.get(t, 0) for t in example.tokens]\n",
        "  \n",
        "  x = torch.LongTensor([x])\n",
        "  x = x.to(device)\n",
        "  \n",
        "  y = torch.LongTensor([example.label])\n",
        "  y = y.to(device)\n",
        "  \n",
        "  return x, y"
      ],
      "execution_count": 25,
      "outputs": []
    },
    {
      "cell_type": "code",
      "metadata": {
        "colab": {
          "base_uri": "https://localhost:8080/"
        },
        "id": "sfbdv9px3uFF",
        "outputId": "41fcc417-7a93-492c-f74f-95a6b8f5722f"
      },
      "source": [
        "x, y = prepare_example(dev_data[0], v)\n",
        "print('x:', x)\n",
        "print('y:', y)"
      ],
      "execution_count": 26,
      "outputs": [
        {
          "output_type": "stream",
          "text": [
            "x: tensor([[  28,    9,    6,  998,   16,   18,  998,  135,   32, 7688,    5,    0,\n",
            "            2]], device='cuda:0')\n",
            "y: tensor([3], device='cuda:0')\n"
          ],
          "name": "stdout"
        }
      ]
    },
    {
      "cell_type": "markdown",
      "metadata": {
        "id": "oKNQjEc0yXnJ"
      },
      "source": [
        "#### Evaluation\n",
        "We now need to define an evaluation metric.\n",
        "How many predictions do we get right? The accuracy will tell us.\n",
        "Make sure that you understand this code block.\n"
      ]
    },
    {
      "cell_type": "code",
      "metadata": {
        "id": "yGmQLcVYKZsh"
      },
      "source": [
        "def simple_evaluate(model, data, prep_fn=prepare_example, **kwargs):\n",
        "  \"\"\"Accuracy of a model on given data set.\"\"\"\n",
        "  correct = 0\n",
        "  total = 0\n",
        "  model.eval()  # disable dropout (explained later)\n",
        "\n",
        "  for example in data:\n",
        "    \n",
        "    # convert the example input and label to PyTorch tensors\n",
        "    x, target = prep_fn(example, model.vocab)\n",
        "\n",
        "    # forward pass without backpropagation (no_grad)\n",
        "    # get the output from the neural network for input x\n",
        "    with torch.no_grad():\n",
        "      logits = model(x)\n",
        "    \n",
        "    # get the prediction\n",
        "    prediction = logits.argmax(dim=-1)\n",
        "    \n",
        "    # add the number of correct predictions to the total correct\n",
        "    correct += (prediction == target).sum().item()\n",
        "    total += 1\n",
        "\n",
        "  return correct, total, correct / float(total)"
      ],
      "execution_count": 27,
      "outputs": []
    },
    {
      "cell_type": "markdown",
      "metadata": {
        "id": "5KlIGFXllWWm"
      },
      "source": [
        "We are using accuracy as a handy evaluation metric. Please consider using [alternative metrics](https://scikit-learn.org/stable/modules/classes.html#classification-metrics) for your experiments if that makes more theoretical sense (see, e.g., Q3.3 in Practical 1). "
      ]
    },
    {
      "cell_type": "markdown",
      "metadata": {
        "id": "dIk6OtSdzGRP"
      },
      "source": [
        "#### Example feed\n",
        "For stochastic gradient descent (SGD) we will need a random training example for every update.\n",
        "We implement this by shuffling the training data and returning examples one by one using `yield`.\n",
        "\n",
        "Shuffling is optional so that we get to use this function to get validation and test examples, too."
      ]
    },
    {
      "cell_type": "code",
      "metadata": {
        "id": "dxDFOZLfCXvJ"
      },
      "source": [
        "def get_examples(data, shuffle=True, **kwargs):\n",
        "  \"\"\"Shuffle data set and return 1 example at a time (until nothing left)\"\"\"\n",
        "  if shuffle:\n",
        "    print(\"Shuffling training data\")\n",
        "    random.shuffle(data)  # shuffle training data each epoch\n",
        "  for example in data:\n",
        "    yield example"
      ],
      "execution_count": 28,
      "outputs": []
    },
    {
      "cell_type": "markdown",
      "metadata": {
        "id": "-NdjM5XLds9A"
      },
      "source": [
        "**Determining if sentence length has influence on model performance**"
      ]
    },
    {
      "cell_type": "code",
      "metadata": {
        "colab": {
          "base_uri": "https://localhost:8080/"
        },
        "id": "uUSlmRrMdxEZ",
        "outputId": "1db1c296-f003-4a79-ac6d-5e5682094d25"
      },
      "source": [
        "#Determining average sentence length in test set\n",
        "import statistics\n",
        "sentence_length_test_set = 0\n",
        "sentence_length_sd = []\n",
        "for i in range(0, len(test_data)) : \n",
        "  sentence_length_test_set += len(test_data[i].tokens)\n",
        "  sentence_length_sd.append(len(test_data[i].tokens))\n",
        "mean_sentence_length = sentence_length_test_set/len(test_data)\n",
        "sd_sentence_length = statistics.stdev(sentence_length_sd)\n",
        "print('Average sentence length:', mean_sentence_length)\n",
        "print('Standard deviation sentence length:', sd_sentence_length)"
      ],
      "execution_count": 29,
      "outputs": [
        {
          "output_type": "stream",
          "text": [
            "Average sentence length: 19.187782805429865\n",
            "Standard deviation sentence length: 8.987669994054189\n"
          ],
          "name": "stdout"
        }
      ]
    },
    {
      "cell_type": "code",
      "metadata": {
        "colab": {
          "base_uri": "https://localhost:8080/"
        },
        "id": "NZc8jVnSdy45",
        "outputId": "5d6f60a7-8954-45bd-df26-b3ac19511a64"
      },
      "source": [
        "#Only use sentences greater than mean sentence length + 1 standard deviation\n",
        "test_data_adj_longsent = []\n",
        "for i in range(0, len(test_data)): \n",
        "  if len(test_data[i].tokens) > mean_sentence_length+sd_sentence_length: \n",
        "    test_data_adj_longsent.append(test_data[i])\n",
        "print('Length test set with only long sentences:', len(test_data_adj_longsent))"
      ],
      "execution_count": 30,
      "outputs": [
        {
          "output_type": "stream",
          "text": [
            "Length test set with only long sentences: 341\n"
          ],
          "name": "stdout"
        }
      ]
    },
    {
      "cell_type": "code",
      "metadata": {
        "id": "4NycSfchfPbn"
      },
      "source": [
        "test_data_adj_longsent_1_5sd = []\n",
        "for i in range(0, len(test_data)): \n",
        "  if len(test_data[i].tokens) > mean_sentence_length+1.5*sd_sentence_length: \n",
        "    test_data_adj_longsent_1_5sd.append(test_data[i])"
      ],
      "execution_count": 31,
      "outputs": []
    },
    {
      "cell_type": "code",
      "metadata": {
        "colab": {
          "base_uri": "https://localhost:8080/"
        },
        "id": "3zilXXvJc1yS",
        "outputId": "4a6e7312-870e-4b0a-93d9-0b40381bb3ba"
      },
      "source": [
        "len(test_data_adj_longsent_1_5sd)"
      ],
      "execution_count": 32,
      "outputs": [
        {
          "output_type": "execute_result",
          "data": {
            "text/plain": [
              "187"
            ]
          },
          "metadata": {
            "tags": []
          },
          "execution_count": 32
        }
      ]
    },
    {
      "cell_type": "code",
      "metadata": {
        "colab": {
          "base_uri": "https://localhost:8080/"
        },
        "id": "hbUE_25jhW1D",
        "outputId": "66ae789a-e11a-4c0e-ade4-17cc7093493b"
      },
      "source": [
        "#Only use sentences less than mean sentence length - 1 standard deviation\n",
        "test_data_adj_shortsent = []\n",
        "for i in range(0, len(test_data)): \n",
        "  if len(test_data[i].tokens) < mean_sentence_length-sd_sentence_length: \n",
        "    test_data_adj_shortsent.append(test_data[i])\n",
        "print('Length test set with only short sentences:', len(test_data_adj_shortsent))"
      ],
      "execution_count": 33,
      "outputs": [
        {
          "output_type": "stream",
          "text": [
            "Length test set with only short sentences: 432\n"
          ],
          "name": "stdout"
        }
      ]
    },
    {
      "cell_type": "code",
      "metadata": {
        "id": "vCq0BK2sfW0E"
      },
      "source": [
        "test_data_adj_shortsent_1_5sd = []\n",
        "for i in range(0, len(test_data)): \n",
        "  if len(test_data[i].tokens) < mean_sentence_length-1.5*sd_sentence_length: \n",
        "    test_data_adj_shortsent_1_5sd.append(test_data[i])"
      ],
      "execution_count": 68,
      "outputs": []
    },
    {
      "cell_type": "code",
      "metadata": {
        "id": "KQv74Xcmc6Me",
        "colab": {
          "base_uri": "https://localhost:8080/"
        },
        "outputId": "9fbaae66-69ca-473a-c47b-a51e5cdedacc"
      },
      "source": [
        "len(test_data_adj_shortsent_1_5sd)"
      ],
      "execution_count": 69,
      "outputs": [
        {
          "output_type": "execute_result",
          "data": {
            "text/plain": [
              "72"
            ]
          },
          "metadata": {
            "tags": []
          },
          "execution_count": 69
        }
      ]
    },
    {
      "cell_type": "markdown",
      "metadata": {
        "id": "g09SM8yb2cjx"
      },
      "source": [
        "#### Exercise: Training function\n",
        "\n",
        "Your task is now to complete the training loop below.\n",
        "Before you do so, please read the section about optimisation."
      ]
    },
    {
      "cell_type": "markdown",
      "metadata": {
        "id": "TVfUukVdM_1c"
      },
      "source": [
        "**Optimisation**\n",
        "\n",
        "As mentioned in the \"Intro to PyTorch\" notebook, one of the perks of using PyTorch is automatic differentiation. We will use it to train our BOW model. \n",
        "\n",
        "We train our model by feeding it an input, performing a **forward** pass, obtaining an output prediction, and calculating a **loss** with our loss function.\n",
        "After the gradients are computed in the **backward** pass, we can take a step on the surface of the loss function towards more optimal parameter settings (gradient descent). \n",
        "\n",
        "The package we will use to do this optimisation is [torch.optim](https://pytorch.org/docs/stable/optim.html). "
      ]
    },
    {
      "cell_type": "code",
      "metadata": {
        "id": "KhQigDrQ--YU"
      },
      "source": [
        "from torch import optim"
      ],
      "execution_count": 34,
      "outputs": []
    },
    {
      "cell_type": "markdown",
      "metadata": {
        "id": "wGIvcTZU_Cez"
      },
      "source": [
        "Besides implementations of stochastic gradient descent (SGD), this package also implements the optimisation algorithm Adam, which we'll be using in this practical. \n",
        "For the purposes of this assignment you do not need to know what Adam does besides that it uses gradient information to update our model parameters by calling: \n",
        "\n",
        "```\n",
        "optimizer.step()\n",
        "```\n",
        "Remember when we updated our parameters in the PyTorch tutorial in a loop?\n",
        "\n",
        "\n",
        "```python\n",
        "# update weights\n",
        "learning_rate = 0.5\n",
        "for f in net.parameters():\n",
        "    # for each parameter, take a small step in the opposite dir of the gradient\n",
        "    p.data = p.data - p.grad.data * learning_rate\n",
        "\n",
        "```\n",
        "The function call optimizer.step() does effectively the same thing.\n",
        "\n",
        "*(If you want to know more about optimisation algorithms using gradient information, [this blog](http://ruder.io/optimizing-gradient-descent/.) gives a nice intuitive overview.)*"
      ]
    },
    {
      "cell_type": "code",
      "metadata": {
        "id": "ktFnKBux25lD"
      },
      "source": [
        "def train_model(model, optimizer, num_iterations=10000, \n",
        "                print_every=1000, eval_every=1000,\n",
        "                batch_fn=get_examples, \n",
        "                prep_fn=prepare_example,\n",
        "                eval_fn=simple_evaluate,\n",
        "                batch_size=1, eval_batch_size=None):\n",
        "  \"\"\"Train a model.\"\"\"  \n",
        "  iter_i = 0\n",
        "  train_loss = 0.\n",
        "  print_num = 0\n",
        "  start = time.time()\n",
        "  criterion = nn.CrossEntropyLoss() # loss function\n",
        "  best_eval = 0.\n",
        "  best_iter = 0\n",
        "  \n",
        "  # store train loss and validation accuracy during training\n",
        "  # so we can plot them afterwards\n",
        "  losses = []\n",
        "  accuracies = []  \n",
        "  \n",
        "  if eval_batch_size is None:\n",
        "    eval_batch_size = batch_size\n",
        "  \n",
        "  while True:  # when we run out of examples, shuffle and continue\n",
        "    for batch in batch_fn(train_data, batch_size=batch_size):\n",
        "\n",
        "      # forward pass\n",
        "      model.train()\n",
        "      x, targets = prep_fn(batch, model.vocab)\n",
        "      logits = model(x)\n",
        "\n",
        "      B = targets.size(0)  # later we will use B examples per update\n",
        "      \n",
        "      # compute cross-entropy loss (our criterion)\n",
        "      # note that the cross entropy loss function computes the softmax for us\n",
        "      loss = criterion(logits.view([B, -1]), targets.view(-1))\n",
        "      train_loss += loss.item()\n",
        "\n",
        "      # backward pass (tip: check the Introduction to PyTorch notebook)\n",
        "  \n",
        "\n",
        "      # erase previous gradients\n",
        "      # raise NotImplementedError(\"Implement this\")\n",
        "      # YOUR CODE HERE\n",
        "      model.zero_grad()\n",
        "      # compute gradients\n",
        "      # YOUR CODE HERE\n",
        "      loss.backward()\n",
        "\n",
        "      # update weights - take a small step in the opposite dir of the gradient\n",
        "      # YOUR CODE HERE\n",
        "      optimizer.step()\n",
        "\n",
        "      print_num += 1\n",
        "      iter_i += 1\n",
        "\n",
        "      # print info\n",
        "      if iter_i % print_every == 0:\n",
        "        print(\"Iter %r: loss=%.4f, time=%.2fs\" % \n",
        "              (iter_i, train_loss, time.time()-start))\n",
        "        losses.append(train_loss)\n",
        "        print_num = 0        \n",
        "        train_loss = 0.\n",
        "\n",
        "      # evaluate\n",
        "      if iter_i % eval_every == 0:\n",
        "        _, _, accuracy = eval_fn(model, dev_data, batch_size=eval_batch_size,\n",
        "                                 batch_fn=batch_fn, prep_fn=prep_fn)\n",
        "        accuracies.append(accuracy)\n",
        "        print(\"iter %r: dev acc=%.4f\" % (iter_i, accuracy))       \n",
        "        \n",
        "        # save best model parameters\n",
        "        if accuracy > best_eval:\n",
        "          print(\"new highscore\")\n",
        "          best_eval = accuracy\n",
        "          best_iter = iter_i\n",
        "          path = \"{}.pt\".format(model.__class__.__name__)\n",
        "          ckpt = {\n",
        "              \"state_dict\": model.state_dict(),\n",
        "              \"optimizer_state_dict\": optimizer.state_dict(),\n",
        "              \"best_eval\": best_eval,\n",
        "              \"best_iter\": best_iter\n",
        "          }\n",
        "          torch.save(ckpt, path)\n",
        "\n",
        "      # done training\n",
        "      if iter_i == num_iterations:\n",
        "        print(\"Done training\")\n",
        "        \n",
        "        # evaluate on train, dev, and test with best model\n",
        "        print(\"Loading best model\")\n",
        "        path = \"{}.pt\".format(model.__class__.__name__)        \n",
        "        ckpt = torch.load(path)\n",
        "        model.load_state_dict(ckpt[\"state_dict\"])\n",
        "        \n",
        "        _, _, train_acc = eval_fn(\n",
        "            model, train_data, batch_size=eval_batch_size, \n",
        "            batch_fn=batch_fn, prep_fn=prep_fn)\n",
        "        _, _, dev_acc = eval_fn(\n",
        "            model, dev_data, batch_size=eval_batch_size,\n",
        "            batch_fn=batch_fn, prep_fn=prep_fn)\n",
        "        _, _, test_acc = eval_fn(\n",
        "            model, test_data, batch_size=eval_batch_size, \n",
        "            batch_fn=batch_fn, prep_fn=prep_fn)\n",
        "        #Also test accuracy printed out for all models with test set adjusted to sentences with sentence length above mean + 1 sd\n",
        "        _, _, test_acc_longsentences = eval_fn(\n",
        "            model, test_data_adj_longsent, batch_size=eval_batch_size, \n",
        "            batch_fn=batch_fn, prep_fn=prep_fn)\n",
        "        #Also test accuracy printed out for all models with test set adjusted to sentences with sentence length above mean + 1.5 sd\n",
        "        _, _, test_acc_longsentences_1_5sd = eval_fn(\n",
        "            model, test_data_adj_longsent_1_5sd, batch_size=eval_batch_size, \n",
        "            batch_fn=batch_fn, prep_fn=prep_fn)\n",
        "        #Also test accuracy printed out for all models with test set adjusted to sentences with sentence length below mean - 1 sd\n",
        "        _, _, test_acc_shortsentences = eval_fn(\n",
        "            model, test_data_adj_shortsent, batch_size=eval_batch_size, \n",
        "            batch_fn=batch_fn, prep_fn=prep_fn) \n",
        "        #Also test accuracy printed out for all models with test set adjusted to sentences with sentence length below mean - 1.5 sd\n",
        "        _, _, test_acc_shortsentences_1_5sd = eval_fn(\n",
        "            model, test_data_adj_shortsent_1_5sd, batch_size=eval_batch_size, \n",
        "            batch_fn=batch_fn, prep_fn=prep_fn)                \n",
        "        print(\"best model iter {:d}: \"\n",
        "              \"train acc={:.4f}, dev acc={:.4f}, test acc={:.4f}, test acc long sent 1 sd={:.4f}, test acc long sent 1.5 sd={:.4f}, test acc short sent 1 sd={:.4f}, test acc short sent 1.5 sd={:.4f}\".format(best_iter, train_acc, dev_acc, test_acc, test_acc_longsentences, test_acc_longsentences_1_5sd, test_acc_shortsentences, test_acc_shortsentences_1_5sd))\n",
        "        \n",
        "        return losses, accuracies"
      ],
      "execution_count": 35,
      "outputs": []
    },
    {
      "cell_type": "markdown",
      "metadata": {
        "id": "XEPsLvI-3D5b"
      },
      "source": [
        "### Training the BOW model"
      ]
    },
    {
      "cell_type": "code",
      "metadata": {
        "colab": {
          "base_uri": "https://localhost:8080/"
        },
        "id": "9luJnNuN_d3q",
        "outputId": "5e6a07c3-b7b2-4474-fa6e-e1bf5550ba94"
      },
      "source": [
        "# If everything is in place we can now train our first model!\n",
        "bow_model = BOW(len(v.w2i), len(t2i), vocab=v)\n",
        "print(bow_model)\n",
        "\n",
        "bow_model = bow_model.to(device)\n",
        "\n",
        "optimizer = optim.Adam(bow_model.parameters(), lr=0.0005)\n",
        "bow_losses, bow_accuracies = train_model(\n",
        "    bow_model, optimizer, num_iterations=30000, \n",
        "    print_every=1000, eval_every=1000)"
      ],
      "execution_count": 40,
      "outputs": [
        {
          "output_type": "stream",
          "text": [
            "BOW(\n",
            "  (embed): Embedding(18280, 5)\n",
            ")\n",
            "Shuffling training data\n",
            "Iter 1000: loss=5080.9964, time=1.17s\n",
            "iter 1000: dev acc=0.2107\n",
            "new highscore\n",
            "Iter 2000: loss=4955.6419, time=2.44s\n",
            "iter 2000: dev acc=0.2262\n",
            "new highscore\n",
            "Iter 3000: loss=4984.6000, time=3.73s\n",
            "iter 3000: dev acc=0.2262\n",
            "Iter 4000: loss=4862.6128, time=4.97s\n",
            "iter 4000: dev acc=0.2325\n",
            "new highscore\n",
            "Iter 5000: loss=4915.3174, time=6.26s\n",
            "iter 5000: dev acc=0.2343\n",
            "new highscore\n",
            "Iter 6000: loss=4765.2741, time=7.50s\n",
            "iter 6000: dev acc=0.2389\n",
            "new highscore\n",
            "Iter 7000: loss=4301.3522, time=8.78s\n",
            "iter 7000: dev acc=0.2416\n",
            "new highscore\n",
            "Iter 8000: loss=4517.9436, time=10.04s\n",
            "iter 8000: dev acc=0.2425\n",
            "new highscore\n",
            "Shuffling training data\n",
            "Iter 9000: loss=4299.8761, time=11.32s\n",
            "iter 9000: dev acc=0.2443\n",
            "new highscore\n",
            "Iter 10000: loss=4359.5204, time=12.60s\n",
            "iter 10000: dev acc=0.2443\n",
            "Iter 11000: loss=4366.8978, time=13.89s\n",
            "iter 11000: dev acc=0.2434\n",
            "Iter 12000: loss=3930.1617, time=15.15s\n",
            "iter 12000: dev acc=0.2480\n",
            "new highscore\n",
            "Iter 13000: loss=3960.8313, time=16.40s\n",
            "iter 13000: dev acc=0.2452\n",
            "Iter 14000: loss=3919.0772, time=17.67s\n",
            "iter 14000: dev acc=0.2389\n",
            "Iter 15000: loss=3947.6194, time=18.95s\n",
            "iter 15000: dev acc=0.2480\n",
            "Iter 16000: loss=3858.0103, time=20.20s\n",
            "iter 16000: dev acc=0.2480\n",
            "Iter 17000: loss=3743.5434, time=21.45s\n",
            "iter 17000: dev acc=0.2489\n",
            "new highscore\n",
            "Shuffling training data\n",
            "Iter 18000: loss=3651.6020, time=22.73s\n",
            "iter 18000: dev acc=0.2425\n",
            "Iter 19000: loss=3740.3572, time=23.99s\n",
            "iter 19000: dev acc=0.2552\n",
            "new highscore\n",
            "Iter 20000: loss=3455.3399, time=25.29s\n",
            "iter 20000: dev acc=0.2534\n",
            "Iter 21000: loss=3585.8636, time=26.55s\n",
            "iter 21000: dev acc=0.2443\n",
            "Iter 22000: loss=3515.5722, time=27.80s\n",
            "iter 22000: dev acc=0.2434\n",
            "Iter 23000: loss=3458.4814, time=29.05s\n",
            "iter 23000: dev acc=0.2452\n",
            "Iter 24000: loss=3419.1595, time=30.30s\n",
            "iter 24000: dev acc=0.2525\n",
            "Iter 25000: loss=3411.0503, time=31.55s\n",
            "iter 25000: dev acc=0.2507\n",
            "Shuffling training data\n",
            "Iter 26000: loss=3401.9831, time=32.82s\n",
            "iter 26000: dev acc=0.2561\n",
            "new highscore\n",
            "Iter 27000: loss=3107.6901, time=34.10s\n",
            "iter 27000: dev acc=0.2561\n",
            "Iter 28000: loss=3219.2480, time=35.35s\n",
            "iter 28000: dev acc=0.2570\n",
            "new highscore\n",
            "Iter 29000: loss=3179.9345, time=36.61s\n",
            "iter 29000: dev acc=0.2598\n",
            "new highscore\n",
            "Iter 30000: loss=3286.7991, time=37.86s\n",
            "iter 30000: dev acc=0.2570\n",
            "Done training\n",
            "Loading best model\n",
            "best model iter 29000: train acc=0.3021, dev acc=0.2598, test acc=0.2620, test acc long sent 1 sd=0.2287, test acc long sent 1.5 sd=0.2299, test acc short sent 1 sd=0.2894, test acc short sent 1.5 sd=0.3194\n"
          ],
          "name": "stdout"
        }
      ]
    },
    {
      "cell_type": "code",
      "metadata": {
        "colab": {
          "base_uri": "https://localhost:8080/",
          "height": 283
        },
        "id": "dvYLj8LIAzfS",
        "outputId": "5287e3a6-31bf-45b1-9b5d-0b30d6b994e4"
      },
      "source": [
        "# This will plot the validation accuracies across time.\n",
        "plt.plot(bow_accuracies)"
      ],
      "execution_count": 41,
      "outputs": [
        {
          "output_type": "execute_result",
          "data": {
            "text/plain": [
              "[<matplotlib.lines.Line2D at 0x7f619c76de10>]"
            ]
          },
          "metadata": {
            "tags": []
          },
          "execution_count": 41
        },
        {
          "output_type": "display_data",
          "data": {
            "image/png": "[encoded data removed]",
            "text/plain": [
              "<Figure size 432x288 with 1 Axes>"
            ]
          },
          "metadata": {
            "tags": [],
            "needs_background": "light"
          }
        }
      ]
    },
    {
      "cell_type": "code",
      "metadata": {
        "colab": {
          "base_uri": "https://localhost:8080/",
          "height": 283
        },
        "id": "vUHm9JfSI4po",
        "outputId": "b4c543f0-5d4b-4fb9-a51a-785dcbfae8d0"
      },
      "source": [
        "# This will plot the training loss over time.\n",
        "plt.plot(bow_losses)"
      ],
      "execution_count": 42,
      "outputs": [
        {
          "output_type": "execute_result",
          "data": {
            "text/plain": [
              "[<matplotlib.lines.Line2D at 0x7f619c23fd30>]"
            ]
          },
          "metadata": {
            "tags": []
          },
          "execution_count": 42
        },
        {
          "output_type": "display_data",
          "data": {
            "image/png": "[encoded data removed]",
            "text/plain": [
              "<Figure size 432x288 with 1 Axes>"
            ]
          },
          "metadata": {
            "tags": [],
            "needs_background": "light"
          }
        }
      ]
    },
    {
      "cell_type": "markdown",
      "metadata": {
        "id": "Psxh-Le1BMDQ"
      },
      "source": [
        "Please note that we set the number of iterations to 30K as an indicative value, after which we simply stop training without checking for convergence. You should choose an appropriate number of iterations and motivate your decision. **This holds for all pre-set numbers of iteration in the following code blocks.**"
      ]
    },
    {
      "cell_type": "markdown",
      "metadata": {
        "id": "E9mB1_XhMPNN"
      },
      "source": [
        "# CBOW"
      ]
    },
    {
      "cell_type": "markdown",
      "metadata": {
        "id": "pWk78FvNMw4o"
      },
      "source": [
        "We now continue with a **continuous bag-of-words (CBOW)** model. (*This is not the same as the word2vec CBOW model!*)\n",
        "\n",
        "It is similar to the BOW model above, but now embeddings can have a dimension of *arbitrary size*. \n",
        "This means that we can choose a higher dimensionality and learn more aspects of each word. We will still sum word vectors to get a sentence representation, but now the size of the resulting vector will no longer correspond to the number of sentiment classes. \n",
        "\n",
        "So to turn the size of our summed vector into the number of output classes, we can *learn* a parameter matrix $W$ and multiply it by the sum vector $x$: $$Wx$$\n",
        "If the size of $x$ is `d x 1`, we can set $W$ to be `5 x d`, so that the output of the matrix multiplication will be the of the desired size, `5 x 1`. Then, just like for the BOW model, we can obtain a prediction using the argmax function."
      ]
    },
    {
      "cell_type": "markdown",
      "metadata": {
        "id": "gIjrCPfCwsXI"
      },
      "source": [
        "## Exercise: implement and train the CBOW model\n",
        "\n",
        "Write a class `CBOW` that:\n",
        "\n",
        "- has word embeddings with size 300\n",
        "- sums the word vectors for the input words (just like in `BOW`)\n",
        "- projects the resulting vector down to 5 units using a linear layer and a bias term (check out `nn.Linear`)\n",
        "\n",
        "Train your CBOW model and plot the validation accuracy and training loss over time."
      ]
    },
    {
      "cell_type": "code",
      "metadata": {
        "id": "PEV22aR2MP0Q"
      },
      "source": [
        "# YOUR CODE HERE\n",
        "class CBOW(nn.Module):\n",
        "  \"\"\"A simple bag-of-words model\"\"\"\n",
        "\n",
        "  def __init__(self, vocab_size, embedding_dim, output_size,vocab):\n",
        "    super(CBOW, self).__init__()\n",
        "    self.vocab = vocab\n",
        "    \n",
        "    # this is a trainable look-up table with word embeddings\n",
        "    self.embed = nn.Embedding(vocab_size, embedding_dim)\n",
        "    \n",
        "    # this is a trainable bias term\n",
        "    self.bias = nn.Parameter(torch.zeros(output_size), requires_grad=True)\n",
        "\n",
        "    #initialize parameter matrix W\n",
        "    self.w=  nn.Parameter(torch.zeros(output_size,embedding_dim), requires_grad=True)      \n",
        "\n",
        "  def forward(self, inputs):\n",
        "    # this is the forward pass of the neural network\n",
        "    # it applies a function to the input and returns the output\n",
        "\n",
        "    # this looks up the embeddings for each word ID in inputs\n",
        "    # the result is a sequence of word embeddings\n",
        "    embeds = self.embed(inputs)\n",
        "    \n",
        "    # the output is the sum across the time dimension (1) multiplied with the transpose of the w matrix\n",
        "    # with the bias term added\n",
        "\n",
        "    logits = torch.matmul(embeds.sum(1),torch.t(self.w))  + self.bias\n",
        "\n",
        "    return logits"
      ],
      "execution_count": 43,
      "outputs": []
    },
    {
      "cell_type": "code",
      "metadata": {
        "colab": {
          "base_uri": "https://localhost:8080/"
        },
        "id": "54t-HXfe1DAF",
        "outputId": "0e6ec789-4ea2-4053-a9a6-0106dbcb8e5d"
      },
      "source": [
        "# If everything is in place we can now train the second model!\n",
        "cbow_model = CBOW(len(v.w2i), embedding_dim=300, output_size=len(t2i), vocab=v)\n",
        "\n",
        "cbow_model = cbow_model.to(device)\n",
        "\n",
        "cbow_optimizer = optim.Adam(cbow_model.parameters(), lr=0.0005)\n",
        "cbow_losses, cbow_accuracies = train_model(\n",
        "    cbow_model, cbow_optimizer, num_iterations=30000, \n",
        "    print_every=1000, eval_every=1000)"
      ],
      "execution_count": 44,
      "outputs": [
        {
          "output_type": "stream",
          "text": [
            "Shuffling training data\n",
            "Iter 1000: loss=1769.9081, time=1.95s\n",
            "iter 1000: dev acc=0.2480\n",
            "new highscore\n",
            "Iter 2000: loss=1865.6894, time=4.29s\n",
            "iter 2000: dev acc=0.2216\n",
            "Iter 3000: loss=1846.4502, time=6.50s\n",
            "iter 3000: dev acc=0.2561\n",
            "new highscore\n",
            "Iter 4000: loss=1902.6040, time=8.87s\n",
            "iter 4000: dev acc=0.2688\n",
            "new highscore\n",
            "Iter 5000: loss=1851.1243, time=11.22s\n",
            "iter 5000: dev acc=0.2797\n",
            "new highscore\n",
            "Iter 6000: loss=1826.0159, time=13.62s\n",
            "iter 6000: dev acc=0.2652\n",
            "Iter 7000: loss=1887.6217, time=15.85s\n",
            "iter 7000: dev acc=0.2807\n",
            "new highscore\n",
            "Iter 8000: loss=1771.6864, time=18.23s\n",
            "iter 8000: dev acc=0.2897\n",
            "new highscore\n",
            "Shuffling training data\n",
            "Iter 9000: loss=1679.1330, time=20.63s\n",
            "iter 9000: dev acc=0.2943\n",
            "new highscore\n",
            "Iter 10000: loss=1511.2600, time=23.06s\n",
            "iter 10000: dev acc=0.2743\n",
            "Iter 11000: loss=1656.0646, time=25.25s\n",
            "iter 11000: dev acc=0.2888\n",
            "Iter 12000: loss=1590.8506, time=27.53s\n",
            "iter 12000: dev acc=0.2770\n",
            "Iter 13000: loss=1583.2746, time=29.80s\n",
            "iter 13000: dev acc=0.2979\n",
            "new highscore\n",
            "Iter 14000: loss=1572.8301, time=32.23s\n",
            "iter 14000: dev acc=0.2825\n",
            "Iter 15000: loss=1701.5518, time=34.48s\n",
            "iter 15000: dev acc=0.2834\n",
            "Iter 16000: loss=1602.1621, time=36.75s\n",
            "iter 16000: dev acc=0.3061\n",
            "new highscore\n",
            "Iter 17000: loss=1610.5926, time=39.14s\n",
            "iter 17000: dev acc=0.3143\n",
            "new highscore\n",
            "Shuffling training data\n",
            "Iter 18000: loss=1237.3932, time=41.52s\n",
            "iter 18000: dev acc=0.2961\n",
            "Iter 19000: loss=1263.7582, time=43.73s\n",
            "iter 19000: dev acc=0.3124\n",
            "Iter 20000: loss=1342.8513, time=45.93s\n",
            "iter 20000: dev acc=0.2925\n",
            "Iter 21000: loss=1286.9636, time=48.12s\n",
            "iter 21000: dev acc=0.3061\n",
            "Iter 22000: loss=1326.0007, time=50.32s\n",
            "iter 22000: dev acc=0.3070\n",
            "Iter 23000: loss=1329.7596, time=52.53s\n",
            "iter 23000: dev acc=0.3215\n",
            "new highscore\n",
            "Iter 24000: loss=1277.3258, time=54.90s\n",
            "iter 24000: dev acc=0.3034\n",
            "Iter 25000: loss=1389.0690, time=57.12s\n",
            "iter 25000: dev acc=0.3143\n",
            "Shuffling training data\n",
            "Iter 26000: loss=1183.4464, time=59.33s\n",
            "iter 26000: dev acc=0.3070\n",
            "Iter 27000: loss=945.5257, time=61.56s\n",
            "iter 27000: dev acc=0.3015\n",
            "Iter 28000: loss=974.4320, time=63.74s\n",
            "iter 28000: dev acc=0.3279\n",
            "new highscore\n",
            "Iter 29000: loss=1027.3958, time=66.11s\n",
            "iter 29000: dev acc=0.3243\n",
            "Iter 30000: loss=1070.1950, time=68.32s\n",
            "iter 30000: dev acc=0.3152\n",
            "Done training\n",
            "Loading best model\n",
            "best model iter 28000: train acc=0.6904, dev acc=0.3279, test acc=0.3231, test acc long sent 1 sd=0.3079, test acc long sent 1.5 sd=0.2941, test acc short sent 1 sd=0.3819, test acc short sent 1.5 sd=0.4861\n"
          ],
          "name": "stdout"
        }
      ]
    },
    {
      "cell_type": "code",
      "metadata": {
        "colab": {
          "base_uri": "https://localhost:8080/",
          "height": 283
        },
        "id": "DGHOZQeE2COA",
        "outputId": "472fe1ce-ceb2-4994-e75a-b799500d4994"
      },
      "source": [
        "# This will plot the validation accuracies across time.\n",
        "plt.plot(cbow_accuracies)"
      ],
      "execution_count": 45,
      "outputs": [
        {
          "output_type": "execute_result",
          "data": {
            "text/plain": [
              "[<matplotlib.lines.Line2D at 0x7f619c1bea58>]"
            ]
          },
          "metadata": {
            "tags": []
          },
          "execution_count": 45
        },
        {
          "output_type": "display_data",
          "data": {
            "image/png": "[encoded data removed]",
            "text/plain": [
              "<Figure size 432x288 with 1 Axes>"
            ]
          },
          "metadata": {
            "tags": [],
            "needs_background": "light"
          }
        }
      ]
    },
    {
      "cell_type": "code",
      "metadata": {
        "colab": {
          "base_uri": "https://localhost:8080/",
          "height": 283
        },
        "id": "iAVgmeBQ2El1",
        "outputId": "15f91529-ac99-48d9-a0fb-7e445d4413f0"
      },
      "source": [
        "# This will plot the training loss over time.\n",
        "plt.plot(cbow_losses)"
      ],
      "execution_count": 46,
      "outputs": [
        {
          "output_type": "execute_result",
          "data": {
            "text/plain": [
              "[<matplotlib.lines.Line2D at 0x7f619c1a7320>]"
            ]
          },
          "metadata": {
            "tags": []
          },
          "execution_count": 46
        },
        {
          "output_type": "display_data",
          "data": {
            "image/png": "[encoded data removed]",
            "text/plain": [
              "<Figure size 432x288 with 1 Axes>"
            ]
          },
          "metadata": {
            "tags": [],
            "needs_background": "light"
          }
        }
      ]
    },
    {
      "cell_type": "markdown",
      "metadata": {
        "id": "zpFt_Fo2TdN0"
      },
      "source": [
        "# Deep CBOW"
      ]
    },
    {
      "cell_type": "markdown",
      "metadata": {
        "id": "iZanOMesTfEZ"
      },
      "source": [
        "To see if we can squeeze some more performance out of the CBOW model, we can make it deeper and non-linear by adding more layers and, e.g., tanh-activations.\n",
        "By using more parameters we can learn more aspects of the data, and by using more layers and non-linearities, we can try to learn a more complex function. \n",
        "This is not something that always works. If the input-output mapping of your data is simple, then a complicated function could easily overfit on your training set, thereby leading to poor generalization. \n",
        "\n",
        "#### Exercise: write Deep CBOW class and train it\n",
        "\n",
        "Write a class `DeepCBOW`.\n",
        "\n",
        "In your code, make sure that your `output_layer` consists of the following:\n",
        "- A linear transformation from E units to D units.\n",
        "- A Tanh activation\n",
        "- A linear transformation from D units to D units\n",
        "- A Tanh activation\n",
        "- A linear transformation from D units to 5 units (our output classes).\n",
        "\n",
        "E is the size of the word embeddings (please use E=300) and D for the size of a hidden layer (please use D=100).\n",
        "\n",
        "We recommend using [nn.Sequential](https://pytorch.org/docs/stable/nn.html?highlight=sequential#torch.nn.Sequential) to implement this exercise."
      ]
    },
    {
      "cell_type": "code",
      "metadata": {
        "id": "l8Z1igvpTrZq"
      },
      "source": [
        "# YOUR CODE HERE\n",
        "class Deep_CBOW(nn.Module):\n",
        "  \"\"\"A simple bag-of-words model\"\"\"\n",
        "\n",
        "  def __init__(self, vocab_size, embedding_dim,output_hidden,output_size, vocab):\n",
        "    super(Deep_CBOW, self).__init__()\n",
        "    self.vocab = vocab\n",
        "    #self.output_hidden = output_hidden\n",
        "    self.embed = nn.Embedding(vocab_size, embedding_dim)\n",
        "   \n",
        "\n",
        "    # initialize all w parameters\n",
        "    self.w=  nn.Parameter(torch.zeros( output_hidden,embedding_dim), requires_grad=True)\n",
        "    self.w_1=  nn.Parameter(torch.zeros( output_hidden,output_hidden), requires_grad=True)\n",
        "    self.w_2=  nn.Parameter(torch.zeros( output_size,output_hidden), requires_grad=True)\n",
        "    #initialize bias\n",
        "    self.bias = nn.Parameter(torch.zeros(output_hidden), requires_grad=True)\n",
        "    self.bias_1 = nn.Parameter(torch.zeros(output_hidden), requires_grad=True)\n",
        "    self.bias_2 = nn.Parameter(torch.zeros(output_size), requires_grad=True)\n",
        "    \n",
        "    \n",
        "    self.layer=nn.Linear(embedding_dim,output_hidden)\n",
        "    self.layer_tanh= nn.Tanh()\n",
        "    self.layer_1=nn.Linear(output_hidden,output_hidden)\n",
        "    self.layer_tanh_1= nn.Tanh()\n",
        "    self.layer_2= nn.Linear(output_hidden,output_size)\n",
        "\n",
        "    \n",
        "    \n",
        "        \n",
        "\n",
        "  def forward(self, inputs):\n",
        "    # this is the forward pass of the neural network\n",
        "    # it applies a function to the input and returns the output\n",
        "\n",
        "    # this looks up the embeddings for each word ID in inputs\n",
        "    # the result is a sequence of word embeddings\n",
        "    embeds = self.embed(inputs)\n",
        "\n",
        "    output_layer=self.layer(embeds.sum(1))\n",
        "    output_layer_1=self.layer_tanh(output_layer)\n",
        "    output_layer_2=self.layer_1(output_layer_1)\n",
        "    output_layer_3=self.layer_tanh_1(output_layer_2)\n",
        "    output_layer_4=self.layer_2(output_layer_3)\n",
        "    \n",
        "    \n",
        "    \n",
        "    # the output is the sum across the time dimension (1) multiplied with the transpose of the w matrix\n",
        "    # with the bias term added\n",
        "\n",
        "    logits=output_layer_4\n",
        "    # logits=self.output_layer(embeds)\n",
        "\n",
        "    return logits"
      ],
      "execution_count": 47,
      "outputs": []
    },
    {
      "cell_type": "code",
      "metadata": {
        "colab": {
          "base_uri": "https://localhost:8080/"
        },
        "id": "moZXUkSEAeiP",
        "outputId": "1ae222dd-ef41-4de7-a2bf-95b2576e2c5b"
      },
      "source": [
        "deep_cbow_model = Deep_CBOW(len(v.w2i), embedding_dim=300, output_hidden=100, output_size=len(t2i),vocab=v)\n",
        "\n",
        "deep_cbow_model = deep_cbow_model.to(device)\n",
        "\n",
        "deep_cbow_optimizer = optim.Adam(deep_cbow_model.parameters(), lr=0.0005)\n",
        "deep_cbow_losses, deep_cbow_accuracies = train_model(\n",
        "    deep_cbow_model, deep_cbow_optimizer, num_iterations=30000, \n",
        "    print_every=1000, eval_every=1000)"
      ],
      "execution_count": 48,
      "outputs": [
        {
          "output_type": "stream",
          "text": [
            "Shuffling training data\n",
            "Iter 1000: loss=1595.6113, time=2.38s\n",
            "iter 1000: dev acc=0.2988\n",
            "new highscore\n",
            "Iter 2000: loss=1575.0058, time=5.32s\n",
            "iter 2000: dev acc=0.2807\n",
            "Iter 3000: loss=1559.8133, time=8.10s\n",
            "iter 3000: dev acc=0.3161\n",
            "new highscore\n",
            "Iter 4000: loss=1537.3951, time=11.05s\n",
            "iter 4000: dev acc=0.3097\n",
            "Iter 5000: loss=1527.5558, time=13.82s\n",
            "iter 5000: dev acc=0.3243\n",
            "new highscore\n",
            "Iter 6000: loss=1535.4889, time=16.81s\n",
            "iter 6000: dev acc=0.3106\n",
            "Iter 7000: loss=1516.2007, time=19.59s\n",
            "iter 7000: dev acc=0.3134\n",
            "Iter 8000: loss=1451.9760, time=22.40s\n",
            "iter 8000: dev acc=0.3479\n",
            "new highscore\n",
            "Shuffling training data\n",
            "Iter 9000: loss=1424.2802, time=25.39s\n",
            "iter 9000: dev acc=0.3442\n",
            "Iter 10000: loss=1352.6759, time=28.16s\n",
            "iter 10000: dev acc=0.3006\n",
            "Iter 11000: loss=1334.2024, time=30.94s\n",
            "iter 11000: dev acc=0.3243\n",
            "Iter 12000: loss=1343.9737, time=33.73s\n",
            "iter 12000: dev acc=0.3315\n",
            "Iter 13000: loss=1344.9634, time=36.52s\n",
            "iter 13000: dev acc=0.3651\n",
            "new highscore\n",
            "Iter 14000: loss=1332.1164, time=39.50s\n",
            "iter 14000: dev acc=0.3551\n",
            "Iter 15000: loss=1365.1237, time=42.33s\n",
            "iter 15000: dev acc=0.3551\n",
            "Iter 16000: loss=1325.0087, time=45.15s\n",
            "iter 16000: dev acc=0.3697\n",
            "new highscore\n",
            "Iter 17000: loss=1367.2355, time=48.13s\n",
            "iter 17000: dev acc=0.3506\n",
            "Shuffling training data\n",
            "Iter 18000: loss=1119.2475, time=50.90s\n",
            "iter 18000: dev acc=0.3678\n",
            "Iter 19000: loss=1167.8121, time=53.72s\n",
            "iter 19000: dev acc=0.3751\n",
            "new highscore\n",
            "Iter 20000: loss=1119.4360, time=56.69s\n",
            "iter 20000: dev acc=0.3806\n",
            "new highscore\n",
            "Iter 21000: loss=1135.6870, time=59.66s\n",
            "iter 21000: dev acc=0.3442\n",
            "Iter 22000: loss=1229.4020, time=62.49s\n",
            "iter 22000: dev acc=0.3624\n",
            "Iter 23000: loss=1207.0525, time=65.27s\n",
            "iter 23000: dev acc=0.3715\n",
            "Iter 24000: loss=1158.9760, time=68.02s\n",
            "iter 24000: dev acc=0.3833\n",
            "new highscore\n",
            "Iter 25000: loss=1151.3627, time=70.97s\n",
            "iter 25000: dev acc=0.3651\n",
            "Shuffling training data\n",
            "Iter 26000: loss=1097.9664, time=73.74s\n",
            "iter 26000: dev acc=0.3651\n",
            "Iter 27000: loss=935.5893, time=76.52s\n",
            "iter 27000: dev acc=0.3615\n",
            "Iter 28000: loss=957.2045, time=79.31s\n",
            "iter 28000: dev acc=0.3542\n",
            "Iter 29000: loss=988.1700, time=82.08s\n",
            "iter 29000: dev acc=0.3542\n",
            "Iter 30000: loss=967.3033, time=84.90s\n",
            "iter 30000: dev acc=0.3533\n",
            "Done training\n",
            "Loading best model\n",
            "best model iter 24000: train acc=0.6135, dev acc=0.3833, test acc=0.3697, test acc long sent 1 sd=0.3372, test acc long sent 1.5 sd=0.3476, test acc short sent 1 sd=0.4005, test acc short sent 1.5 sd=0.4028\n"
          ],
          "name": "stdout"
        }
      ]
    },
    {
      "cell_type": "code",
      "metadata": {
        "colab": {
          "base_uri": "https://localhost:8080/",
          "height": 283
        },
        "id": "xzFgcaPgDsQZ",
        "outputId": "bb8a277e-b3e0-46cf-d9b8-557318825089"
      },
      "source": [
        "# This will plot the validation accuracies across time.\n",
        "plt.plot(deep_cbow_accuracies)"
      ],
      "execution_count": 49,
      "outputs": [
        {
          "output_type": "execute_result",
          "data": {
            "text/plain": [
              "[<matplotlib.lines.Line2D at 0x7f619c111ac8>]"
            ]
          },
          "metadata": {
            "tags": []
          },
          "execution_count": 49
        },
        {
          "output_type": "display_data",
          "data": {
            "image/png": "[encoded data removed]",
            "text/plain": [
              "<Figure size 432x288 with 1 Axes>"
            ]
          },
          "metadata": {
            "tags": [],
            "needs_background": "light"
          }
        }
      ]
    },
    {
      "cell_type": "code",
      "metadata": {
        "colab": {
          "base_uri": "https://localhost:8080/",
          "height": 283
        },
        "id": "Wd9YUdLWD19Y",
        "outputId": "5d9c9b3c-caf1-426d-9081-a2be3a36eb0d"
      },
      "source": [
        "# This will plot the training loss over time.\n",
        "plt.plot(deep_cbow_losses)"
      ],
      "execution_count": 50,
      "outputs": [
        {
          "output_type": "execute_result",
          "data": {
            "text/plain": [
              "[<matplotlib.lines.Line2D at 0x7f619c079390>]"
            ]
          },
          "metadata": {
            "tags": []
          },
          "execution_count": 50
        },
        {
          "output_type": "display_data",
          "data": {
            "image/png": "[encoded data removed]",
            "text/plain": [
              "<Figure size 432x288 with 1 Axes>"
            ]
          },
          "metadata": {
            "tags": [],
            "needs_background": "light"
          }
        }
      ]
    },
    {
      "cell_type": "markdown",
      "metadata": {
        "id": "MQZ5flHwiiHY"
      },
      "source": [
        "# Pre-trained word embeddings"
      ]
    },
    {
      "cell_type": "markdown",
      "metadata": {
        "id": "9NX35vecmHy6"
      },
      "source": [
        "The Stanford Sentiment Treebank is a rather small data set, since it required fine-grained manual annotatation. This makes it difficult for the Deep CBOW model to learn good word embeddings, i.e. to learn good word representations for the words in our vocabulary.\n",
        "In fact, the only error signal that the network receives is from predicting the sentiment of entire sentences!\n",
        "\n",
        "To start off with better word representations, we can download **pre-trained word embeddings**. \n",
        "You can choose which pre-trained word embeddings to use:\n",
        "\n",
        "- **GloVe**. The \"original\" Stanford Sentiment classification [paper](http://aclweb.org/anthology/P/P15/P15-1150.pdf) used Glove embeddings, which are just another method (like *word2vec*) to get word embeddings from unannotated text. Glove is described in the following paper which you should cite if you use them:\n",
        "> Jeffrey Pennington, Richard Socher, and Christopher Manning. [\"Glove: Global vectors for word representation.\"](https://nlp.stanford.edu/pubs/glove.pdf) EMNLP 2014. \n",
        "\n",
        "- **Word2Vec**. This is the method that you learned about in class, described in:\n",
        "> Mikolov, Tomas, et al. [\"Distributed representations of words and phrases and their compositionality.\"](https://papers.nips.cc/paper/5021-distributed-representations-of-words-and-phrases-and-their-compositionality.pdf) Advances in neural information processing systems. 2013.\n",
        "\n",
        "Using these pre-trained word embeddings, we can initialize our word embedding lookup table and start form a point where similar words are already close to one another in the distributional semantic space. \n",
        "\n",
        "You can choose to keep the word embeddings **fixed** or to train them further, specialising them to the task at hand.\n",
        "We will keep them fixed for now.\n",
        "\n",
        "For the purposes of this lab, it is enough if you understand how word2vec works (whichever vectors you use), but if you are interested, we encourage you to also check out the GloVe paper.\n",
        "\n",
        "You can either download the word2vec vectors, or the Glove vectors.\n",
        "If you want to compare your results to the Stanford paper later on, then you should use Glove. \n",
        "**At the end of this lab you have the option to compare which vectors give you the best performance. For now, simply choose one of them and continue with that.**\n",
        "\n",
        "[**OPTIONAL in case you don't want to mount Google Drive:** instead of running all the 5 boxes below, you can 1) download the GloVe and word2vec in your local machine, 2) upload them on your Drive folder (\"My Drive\"). Then, uncomment the first 2 lines in box 6 before writing your code!]\n"
      ]
    },
    {
      "cell_type": "code",
      "metadata": {
        "id": "lGYr02WWO993"
      },
      "source": [
        "# This downloads the Glove 840B 300d embeddings.\n",
        "# The original file is at http://nlp.stanford.edu/data/glove.840B.300d.zip\n",
        "# Since that file is 2GB, we provide you with a *filtered version*\n",
        "# which contains all the words you need for this data set.\n",
        "\n",
        "# You only need to do this once.\n",
        "# Please comment this cell out after downloading.\n",
        "\n",
        "# !wget https://gist.githubusercontent.com/bastings/b094de2813da58056a05e8e7950d4ad1/raw/3fbd3976199c2b88de2ae62afc0ecc6f15e6f7ce/glove.840B.300d.sst.txt"
      ],
      "execution_count": 51,
      "outputs": []
    },
    {
      "cell_type": "code",
      "metadata": {
        "id": "6NLsgFGiTjmI"
      },
      "source": [
        "# This downloads the word2vec 300D Google News vectors \n",
        "# The file has been truncated to only contain words that appear in our data set.\n",
        "# You can find the original file here: https://code.google.com/archive/p/word2vec/\n",
        "\n",
        "# You only need to do this once.\n",
        "# Please comment this out after downloading.\n",
        "# !wget https://gist.githubusercontent.com/bastings/4d1c346c68969b95f2c34cfbc00ba0a0/raw/76b4fefc9ef635a79d0d8002522543bc53ca2683/googlenews.word2vec.300d.txt"
      ],
      "execution_count": 52,
      "outputs": []
    },
    {
      "cell_type": "code",
      "metadata": {
        "cellView": "both",
        "colab": {
          "base_uri": "https://localhost:8080/"
        },
        "id": "GXBITzPRQUQb",
        "outputId": "65ba4616-8fc8-4130-dbc1-1c43fb01f0d1"
      },
      "source": [
        "# Mount Google Drive (to save the downloaded files)\n",
        "from google.colab import drive\n",
        "drive.mount('/gdrive')\n",
        "#4/1AY0e-g5v3wM6hQs5puJdNtiQNanUtZb_WUDljcgN-AKYkqC4acT-RiUHWBM"
      ],
      "execution_count": 36,
      "outputs": [
        {
          "output_type": "stream",
          "text": [
            "Mounted at /gdrive\n"
          ],
          "name": "stdout"
        }
      ]
    },
    {
      "cell_type": "code",
      "metadata": {
        "id": "uFvzPuiKSCbl"
      },
      "source": [
        "# Copy word vectors *to* Google Drive\n",
        "\n",
        "# You only need to do this once.\n",
        "# Please comment this out after running it. \n",
        "\n",
        "# !cp \"glove.840B.300d.sst.txt\" \"/gdrive/My Drive/\"\n",
        "# !cp \"googlenews.word2vec.300d.txt\" \"/gdrive/My Drive/\""
      ],
      "execution_count": 37,
      "outputs": []
    },
    {
      "cell_type": "code",
      "metadata": {
        "id": "kUMH0bM6BuY9"
      },
      "source": [
        "# If you copied the word vectors to your Drive before,\n",
        "# here is where you copy them back to the Colab notebook.\n",
        "\n",
        "# Copy Glove vectors *from* Google Drive\n",
        "!cp \"/gdrive/My Drive/glove.840B.300d.sst.txt\" .\n",
        "!cp \"/gdrive/My Drive/googlenews.word2vec.300d.txt\" ."
      ],
      "execution_count": 38,
      "outputs": []
    },
    {
      "cell_type": "code",
      "metadata": {
        "id": "xcpkoh6PIjfe"
      },
      "source": [
        "# Uncomment these 2 lines below if went for the OPTIONAL method described above\n",
        "# !cp \"glove.840B.300d.sst.txt\" \"./\"\n",
        "# !cp \"googlenews.word2vec.300d.txt\" \"./\""
      ],
      "execution_count": 39,
      "outputs": []
    },
    {
      "cell_type": "markdown",
      "metadata": {
        "id": "MX2GJVHILM8n"
      },
      "source": [
        "At this point you have the pre-trained word embedding files, but what do they look like?"
      ]
    },
    {
      "cell_type": "code",
      "metadata": {
        "colab": {
          "base_uri": "https://localhost:8080/"
        },
        "id": "ChsChH14Ruxn",
        "outputId": "988b35ba-a30a-4d4a-c770-d09149005679"
      },
      "source": [
        "# Exercise: Print the first 4 lines of the files that you downloaded.\n",
        "# What do you see?\n",
        "with open('/gdrive/My Drive/googlenews.word2vec.300d.txt') as f:\n",
        "    content_w2vec = f.readlines()\n",
        "    \n",
        "print(content_w2vec[0])\n",
        "print(content_w2vec[1])\n",
        "print(content_w2vec[2])\n",
        "print(content_w2vec[3])\n",
        "print(len(content_w2vec))"
      ],
      "execution_count": 40,
      "outputs": [
        {
          "output_type": "stream",
          "text": [
            "in 0.0703125 0.08691406 0.087890625 0.0625 0.06933594 -0.10888672 -0.08154297 -0.15429688 0.020751953 0.13183594 -0.11376953 -0.037353516 0.06933594 0.078125 -0.103027344 -0.09765625 0.044189453 0.10253906 -0.060791016 -0.036132812 -0.045410156 0.04736328 -0.12060547 -0.063964844 0.0022583008 0.037109375 -0.0029144287 0.11767578 0.061767578 0.063964844 0.08105469 -0.068847656 -0.021362305 0.05517578 -0.08544922 0.068847656 -0.12792969 -0.033203125 0.09863281 0.17578125 0.110839844 -0.03466797 -0.04711914 -0.008483887 0.035888672 0.103027344 0.026977539 -0.028686523 -0.005126953 0.10644531 0.059814453 0.09423828 0.033691406 -0.02709961 -0.09423828 0.0010299683 -0.048339844 0.034423828 0.08105469 -0.11328125 -0.08886719 0.035888672 -0.14550781 -0.24414062 -0.061523438 0.052978516 0.056884766 0.1796875 0.061035156 0.08691406 0.12402344 -0.040283203 0.022583008 0.17773438 -0.029663086 -0.029663086 0.1171875 0.03112793 -0.096191406 0.06640625 0.004699707 -0.080078125 0.06298828 -0.020629883 -0.0546875 -0.13574219 -0.06347656 0.083496094 -0.063964844 0.021484375 0.07714844 -0.037109375 -0.033691406 -0.18359375 -0.072753906 0.01586914 0.09326172 -0.061523438 -0.014221191 -0.0034484863 0.011108398 -0.15820312 -0.017089844 0.0061950684 -0.008728027 -0.080566406 -0.015258789 -0.087890625 0.003479004 -0.016113281 -0.012329102 0.09765625 -0.13964844 -0.0859375 -0.026855469 0.053955078 0.1328125 0.11279297 0.12109375 0.08544922 -0.0071105957 0.044677734 -0.14550781 -0.0032043457 -0.11767578 -0.06542969 0.07128906 -0.09423828 -0.030273438 0.12011719 0.080078125 -0.09472656 -0.16210938 -0.07763672 0.021240234 -0.08154297 0.0039367676 -0.15722656 -0.09814453 0.039794922 0.03930664 -0.009094238 0.103027344 0.067871094 -0.04272461 0.06347656 -0.049072266 0.020874023 -0.16699219 0.09326172 0.09375 0.006866455 0.053710938 0.052490234 -0.024414062 -0.032470703 -0.061523438 -0.005554199 0.096191406 0.037841797 0.012207031 -0.043945312 -0.0074768066 0.10546875 0.020385742 0.14550781 0.08203125 0.0057678223 0.0045776367 -0.09277344 -0.13867188 -0.057373047 -0.051513672 -0.13085938 -0.13964844 -0.020507812 -0.02709961 0.032714844 0.10498047 -0.0023345947 -0.022583008 0.00050354004 -0.110839844 0.08496094 -0.12988281 -0.017456055 -0.00035858154 0.107910156 0.08886719 0.044677734 0.025146484 0.023803711 0.08105469 0.02368164 -0.10986328 0.0053710938 -0.017700195 -0.033935547 -0.032958984 -0.1640625 0.095703125 -0.018310547 0.0053100586 -0.034423828 -0.044189453 -0.06640625 -0.017944336 -0.029663086 -0.007598877 -0.05126953 -0.05419922 0.08935547 -0.071777344 0.015258789 -0.08251953 -0.03173828 0.03564453 -0.021240234 -0.059326172 -0.013061523 0.046875 0.023071289 0.020996094 -0.07861328 -0.008056641 0.01953125 -0.005554199 0.041503906 0.027832031 0.01361084 0.03466797 -0.18261719 0.12011719 0.07421875 -0.041015625 -0.0099487305 0.04296875 -0.007293701 0.123046875 0.057617188 -0.053466797 -0.032226562 -0.009094238 -0.04663086 0.043945312 -0.05078125 0.068847656 0.0029907227 -0.004180908 -0.044189453 0.07373047 -0.012756348 0.06738281 0.006286621 0.07519531 -0.037841797 0.0048828125 0.044677734 -0.06738281 0.00970459 0.0047302246 0.020507812 0.07128906 0.17089844 0.17382812 0.055664062 0.091308594 -0.037353516 0.049804688 -0.03930664 0.044189453 0.0625 0.048583984 -0.053222656 0.048828125 -0.13085938 -0.028930664 -0.036132812 -0.060791016 -0.057373047 0.123046875 -0.08251953 -0.0119018555 0.125 0.0013580322 0.063964844 -0.10644531 -0.14355469 -0.042236328 0.024047852 -0.16894531 -0.08886719 -0.080566406 0.064941406 0.061279297 -0.04736328 -0.05883789 -0.047607422 0.014465332 -0.0625\n",
            "\n",
            "for -0.011779785 -0.04736328 0.044677734 0.06347656 -0.018188477 -0.063964844 -0.0013122559 -0.072265625 0.064453125 0.08642578 -0.16992188 -0.039794922 0.07128906 -0.025878906 0.018188477 0.13671875 0.14453125 -0.033691406 -0.09765625 -0.12011719 -0.079589844 0.0625 -0.06689453 0.07421875 0.022705078 0.033447266 -0.18066406 0.052001953 0.0138549805 0.09277344 0.0035095215 -0.009094238 -0.09716797 0.067871094 -0.0087890625 0.044189453 -0.13378906 -0.099609375 0.033203125 0.027954102 0.15527344 -0.017700195 0.014282227 -0.10986328 -0.08544922 -0.07324219 -0.024658203 0.17285156 0.061767578 0.08935547 -0.024291992 0.14160156 -0.032958984 0.02746582 -0.15527344 0.007873535 -0.07080078 0.043701172 0.006011963 -0.055908203 -0.14746094 0.028442383 -0.1328125 -0.17675781 -0.091308594 -0.05078125 -0.026000977 -0.1484375 -0.080566406 0.15039062 -0.04345703 0.07910156 0.033203125 0.09033203 0.022705078 -0.0625 0.1640625 0.0859375 -0.012390137 0.19628906 -0.06225586 0.022460938 -0.030151367 0.021240234 0.003326416 -0.055419922 -0.07324219 0.029785156 0.049804688 0.017456055 0.10449219 0.03881836 0.08496094 -0.24804688 0.06933594 -0.14941406 0.05834961 0.095703125 -0.033447266 0.06298828 0.021362305 -0.14550781 0.053710938 -0.09082031 -0.025390625 0.045410156 0.0053100586 -0.115722656 -0.01953125 0.12109375 0.032226562 0.09472656 -0.064453125 0.022705078 0.12060547 0.060302734 0.12060547 0.048828125 0.09326172 0.06689453 0.029296875 -0.034179688 -0.111328125 0.053466797 -0.025634766 0.017822266 0.06225586 -0.025878906 0.14550781 0.0625 0.107910156 -0.16308594 -0.09765625 -0.10595703 -0.08544922 -0.08886719 0.10107422 -0.079589844 0.008422852 0.024047852 0.13085938 0.05126953 0.08154297 0.09375 -0.05859375 -0.09667969 -0.028320312 -0.14550781 -0.14746094 0.14550781 -0.017578125 0.032958984 -0.08544922 -0.010986328 -0.037109375 -0.013671875 0.035888672 -0.008239746 0.05029297 -0.09472656 0.047851562 0.020751953 0.030639648 0.12988281 0.052734375 0.018798828 -0.017578125 0.03491211 0.018310547 -0.009887695 -0.18457031 -0.08984375 -0.029052734 -0.060791016 -0.05126953 -0.0023651123 0.06640625 -0.08251953 -0.040039062 0.096191406 -0.15429688 -0.15332031 0.028320312 0.013122559 0.029907227 -0.012145996 -0.09667969 0.024780273 0.19335938 0.013000488 0.024169922 -0.035888672 0.09863281 -0.09667969 -0.20019531 -0.013793945 0.0859375 -0.080078125 -0.17675781 -0.17480469 0.005126953 -0.03491211 -0.0546875 0.09375 -0.09326172 -0.011962891 -0.0005645752 0.09765625 0.024780273 -0.039794922 0.009765625 0.11816406 0.025756836 0.123046875 0.064453125 0.07080078 0.029296875 -0.049560547 -0.078125 0.028930664 0.045654297 -0.04296875 0.025878906 -0.051757812 0.140625 0.004272461 -0.037841797 0.02746582 0.060058594 0.028320312 0.028076172 -0.036621094 0.13085938 -9.679794e-05 -0.06933594 -0.022094727 0.067871094 -0.02331543 -0.015319824 -0.05834961 0.061035156 0.00064468384 0.0039978027 -0.07128906 0.091796875 0.026245117 0.020019531 0.03540039 -0.057861328 -0.029663086 0.02734375 0.025146484 0.060302734 0.13183594 -0.0043640137 0.0027313232 0.059814453 0.09863281 -0.091796875 -0.045898438 -0.017456055 0.038330078 -0.019165039 0.04638672 0.047851562 0.09814453 -0.040283203 0.09423828 -0.03466797 -0.042236328 0.0703125 -0.013671875 0.10644531 0.016479492 0.13183594 -0.0016937256 -0.008483887 -0.14257812 -0.04663086 -0.10986328 0.08203125 -0.041015625 -0.018920898 0.087890625 -0.0028076172 0.23828125 -0.04711914 -0.022949219 0.040771484 0.029296875 -0.022583008 0.0037231445 -0.08251953 0.08154297 0.00793457 0.00047683716 0.018432617 0.07128906 -0.03491211 0.024169922\n",
            "\n",
            "that -0.01574707 -0.028320312 0.083496094 0.05029297 -0.11035156 0.03173828 -0.014221191 -0.08984375 0.11767578 0.11816406 -0.071777344 -0.07714844 -0.068847656 0.07714844 -0.13867188 0.006500244 0.010986328 -0.015136719 -0.0009613037 -0.030273438 -0.00015830994 0.038330078 -0.024169922 -0.045898438 0.09472656 -0.05517578 -0.064941406 0.0061035156 0.0008544922 0.06201172 -0.05444336 0.014099121 0.022216797 -0.044921875 0.111328125 -0.03857422 0.05126953 0.025146484 0.016967773 0.06298828 0.13769531 0.13574219 0.06542969 -0.064453125 -0.024047852 -0.013366699 -0.037109375 0.0043029785 -0.01574707 0.019042969 0.10839844 0.044677734 -0.044921875 -0.095214844 0.08691406 0.08203125 0.0068359375 -0.13183594 0.0027313232 -0.075683594 0.022460938 0.171875 -0.048583984 0.038330078 -0.088378906 -0.017211914 0.021850586 0.13378906 0.010681152 0.049804688 0.038085938 -0.0052490234 0.061279297 -0.050048828 -0.10595703 0.055664062 0.15429688 0.17089844 0.048095703 0.12695312 0.08154297 -0.1015625 0.043945312 -0.013549805 -0.13378906 -0.15722656 0.024291992 0.20898438 -0.10205078 -0.09375 0.048583984 0.07519531 0.0035247803 -0.123535156 -0.024169922 -0.0013198853 0.038330078 0.007598877 0.017700195 0.043701172 -0.09814453 -0.05810547 0.014099121 0.041015625 -0.03540039 -0.022949219 -0.13085938 -0.14453125 0.028930664 -0.122558594 -0.07128906 -0.0071411133 -0.09667969 0.05859375 0.104003906 0.026367188 0.0075683594 0.036132812 0.040283203 0.052734375 -0.20410156 -0.033447266 -0.029052734 0.03173828 -0.123535156 -0.06738281 0.01586914 -0.08642578 0.012512207 -0.06298828 -0.12060547 0.0234375 -0.13183594 -0.11816406 -0.012145996 -0.10986328 0.095214844 -0.041992188 0.018310547 0.051757812 0.014953613 -0.15917969 -0.021728516 -0.005126953 0.035888672 -0.003036499 -0.078125 -0.05126953 -0.0074157715 0.087402344 -0.023925781 0.044189453 -0.11376953 0.021484375 -0.003829956 -0.04345703 -0.104003906 -0.18554688 -0.044921875 0.044921875 -0.044433594 0.019042969 -0.020996094 0.0134887695 0.015258789 -0.030395508 0.04663086 0.10253906 -0.0138549805 0.008239746 -0.052734375 0.01965332 -0.076171875 -0.08984375 0.043945312 0.00793457 0.012634277 -0.10839844 -0.018554688 -0.10449219 -0.15234375 -0.07910156 -0.028808594 -0.018676758 0.09716797 -0.008361816 -0.03540039 0.007537842 0.05810547 0.08203125 0.028808594 0.05102539 0.0031738281 -0.018554688 0.014953613 -0.072753906 -0.034179688 0.043945312 -0.048828125 -0.16113281 0.025634766 0.036621094 -0.00015354156 -0.0012588501 -0.039794922 -0.032226562 -0.01574707 0.060791016 0.09716797 -0.015014648 -0.033691406 -0.015319824 0.0046691895 0.032958984 -0.08203125 0.10644531 0.15429688 0.0087890625 -0.12011719 0.061279297 0.05859375 0.03881836 -0.015991211 -0.043945312 0.12011719 -0.07519531 0.125 0.03515625 0.072753906 0.087402344 0.021118164 -0.07373047 0.034423828 -0.09423828 0.01159668 -0.057128906 -0.07861328 0.015991211 0.075683594 0.030517578 0.0046081543 -0.14550781 -0.024780273 -0.107910156 0.068847656 0.05810547 0.125 -0.06542969 0.005279541 0.01184082 0.06982422 0.12695312 0.06542969 -0.017333984 0.119140625 -0.032470703 0.14453125 0.076660156 -0.032226562 -0.06591797 0.06298828 -0.0625 -0.096191406 0.10644531 -0.039794922 0.11621094 -0.00970459 -0.03540039 -0.06542969 0.05883789 0.16210938 0.05126953 0.15917969 0.095214844 0.076171875 -0.091796875 0.025146484 -0.07861328 0.08935547 -0.05859375 -0.040039062 0.045898438 0.03100586 0.0390625 0.03564453 -0.10595703 -0.037109375 -0.16113281 0.021362305 0.0012207031 -0.011291504 -0.015625 -0.033447266 -0.020629883 -0.01940918 0.063964844 0.020141602 0.006866455 0.061035156 -0.1484375\n",
            "\n",
            "is 0.0070495605 -0.07324219 0.171875 0.022583008 -0.1328125 0.19824219 0.11279297 -0.107910156 0.071777344 0.020874023 -0.123046875 -0.05908203 0.10107422 0.0107421875 0.14355469 0.25976562 -0.036376953 0.18554688 -0.07861328 -0.022705078 -0.12060547 0.17773438 0.049560547 0.017211914 0.079589844 -0.045654297 -0.18847656 0.18945312 -0.02319336 0.06298828 0.09765625 -0.019042969 -0.07910156 0.15234375 0.17382812 0.1015625 -0.16308594 0.114746094 0.10058594 -0.09277344 0.109375 0.05883789 -0.021606445 0.06347656 0.041992188 -0.008850098 0.032226562 0.10644531 0.064453125 -0.118652344 0.030517578 0.06689453 0.12207031 -0.08300781 0.171875 0.07861328 0.095214844 -0.0077819824 0.02319336 0.0234375 -0.016845703 0.15527344 -0.10986328 -0.17675781 -0.11621094 0.0234375 -0.010620117 0.052734375 -0.13378906 0.079589844 0.07373047 0.043945312 0.115234375 -0.020629883 0.07470703 -0.0115356445 0.080566406 0.041748047 0.080078125 0.3515625 0.09667969 -0.21289062 0.16503906 -0.078125 0.06982422 -0.0013961792 -0.091308594 0.12988281 0.25195312 -0.016113281 0.09326172 -0.14648438 -0.0015106201 -0.15136719 -0.026855469 -0.15722656 0.026367188 0.0859375 0.071777344 0.07714844 -0.0390625 0.05444336 -0.12792969 0.091308594 -0.18457031 -0.037597656 -0.027954102 -0.08984375 -0.11669922 -0.09863281 0.048095703 -0.16210938 -0.10888672 0.08496094 -0.045654297 0.15820312 -0.038085938 -0.08203125 0.203125 0.08642578 0.06933594 0.032226562 -0.16015625 0.09472656 -0.024658203 0.05419922 0.027954102 0.044921875 0.16992188 0.072753906 -0.036376953 -0.010253906 -0.017089844 -0.107421875 -0.0007019043 -0.07373047 0.25390625 0.056640625 0.03515625 -0.008605957 0.18554688 0.021484375 0.26367188 -0.023803711 -0.099121094 -0.041259766 -0.06933594 -0.11376953 0.050048828 -0.05883789 0.046142578 0.087402344 0.10546875 0.10644531 0.027954102 0.09472656 0.11621094 -0.17285156 -0.03491211 -0.20800781 0.059570312 0.104003906 -0.0017929077 0.05859375 -0.029785156 -0.037597656 0.048583984 -0.063964844 0.079589844 0.06933594 -0.10498047 -0.14453125 0.04345703 -0.068847656 -0.03564453 -0.01171875 0.013671875 -0.06591797 0.119140625 0.03125 -0.04638672 -0.0019683838 0.0073547363 -0.056640625 0.027832031 0.08251953 -0.0134887695 0.071777344 0.14453125 0.12792969 0.042236328 0.14160156 -0.018066406 0.021606445 -0.091796875 0.13378906 -0.1953125 -0.05029297 -0.037841797 -0.096191406 0.103027344 -0.106933594 -0.14746094 0.099609375 -0.23046875 0.22753906 -0.07519531 0.064941406 0.091796875 0.046875 0.06298828 0.06982422 0.046142578 0.09716797 -0.20214844 0.19921875 0.18652344 -0.119628906 -0.14257812 0.15039062 -0.033691406 -0.14550781 -0.0006904602 -0.07324219 0.13378906 0.03564453 -0.022949219 0.027709961 -0.07910156 0.20703125 -0.083496094 -0.049560547 0.03149414 0.1484375 0.055664062 -0.044921875 -0.079589844 0.004760742 -0.020751953 0.060058594 0.004760742 0.011169434 0.17285156 -0.13476562 0.030761719 -0.079589844 0.09033203 0.061035156 0.07714844 -0.05029297 -0.092285156 -0.26757812 0.107910156 0.0859375 0.06298828 0.107910156 -0.026733398 0.10205078 -0.12060547 0.052978516 0.09472656 -0.16503906 0.044189453 0.072265625 0.041259766 0.42578125 -0.103027344 -0.16015625 -0.09033203 -0.063964844 -0.048095703 0.14453125 0.06542969 0.049316406 0.05419922 0.13574219 -0.01928711 -0.21582031 -0.07421875 -0.14648438 0.011474609 -0.16503906 -0.10498047 0.0032043457 0.13476562 -0.003967285 -0.103515625 -0.13964844 0.10449219 -0.012573242 -0.23339844 -0.036376953 -0.09375 0.18261719 0.02709961 0.12792969 -0.024780273 0.011230469 0.1640625 0.106933594\n",
            "\n",
            "18920\n"
          ],
          "name": "stdout"
        }
      ]
    },
    {
      "cell_type": "code",
      "metadata": {
        "colab": {
          "base_uri": "https://localhost:8080/"
        },
        "id": "xhNb2rntp99d",
        "outputId": "9917fb6f-a172-42f5-b4c8-ef82d6157be5"
      },
      "source": [
        "#read glove embeddings for experiment\n",
        "with open('/gdrive/My Drive/glove.840B.300d.sst.txt') as f:\n",
        "    content_glove = f.readlines()\n",
        "\n",
        "print(len(content_glove))"
      ],
      "execution_count": 41,
      "outputs": [
        {
          "output_type": "stream",
          "text": [
            "20725\n"
          ],
          "name": "stdout"
        }
      ]
    },
    {
      "cell_type": "markdown",
      "metadata": {
        "id": "WIVCkUkE_IjR"
      },
      "source": [
        "#### Exercise: New Vocabulary\n",
        "\n",
        "Since we now use pre-trained word embeddings, we need to create a new vocabulary. \n",
        "This is because of two reasons:\n",
        "\n",
        "1. We do not have pre-trained word embeddings for all words in our SST training set, and we do not want words in our vocabulary for which we have no word embeddings.\n",
        "2. We should be able to look up the pre-trained word embedding for words in the validation and test set, even if these words are unseen in training. \n",
        "\n",
        "Now, create a new vocabulary object `v` based on the word set of pre-trained embeddings, and load the corresponding embeddings into a list `vectors`.\n",
        "\n",
        "The vocabulary `v` should consist of:\n",
        " - a  `<unk>` token at position 0,\n",
        " - a  `<pad>` token at position 1, \n",
        " - and then all words in the pre-trained embedding set.\n",
        " \n",
        "\n",
        "After storing each vector in a list `vectors`, turn the list into a numpy matrix like this:\n",
        "```python\n",
        " vectors = np.stack(vectors, axis=0)\n",
        "```\n",
        "\n",
        "Remember to add new embeddings for the `<unk>` and `<pad>` tokens, as they're not part of the word2vec/GloVe embeddings. These embeddings can be randomly initialized or 0-valued, think about what makes sense and see what the effects are.\n",
        " "
      ]
    },
    {
      "cell_type": "code",
      "metadata": {
        "colab": {
          "base_uri": "https://localhost:8080/"
        },
        "id": "ITyyCvDnCL4U",
        "outputId": "f88215ed-c06c-4212-e272-d0313be0d778"
      },
      "source": [
        "# YOUR CODE HERE\n",
        "v_w2vec = Vocabulary()\n",
        "vectors_w2vec =[]\n",
        "vector_size = 300  #w2vec dimensions\n",
        "\n",
        "vectors_w2vec.append(np.random.uniform(0,1,vector_size)) #initialize for <unk> and  <pad>\n",
        "vectors_w2vec.append(np.zeros(vector_size)) #initialize the w2vec embeddings\n",
        "for line in content_w2vec:\n",
        "  token= line.split(' ')[0] #isolate words\n",
        "  v_w2vec.count_token(token) #add to vocabulary\n",
        "  vector = np.array([float(i) for i in line.split(' ')[1:]]) #isolate vector\n",
        "  vectors_w2vec.append(vector)\n",
        "\n",
        "v_w2vec.build()\n",
        "\n",
        "vectors_w2vec=np.stack(vectors_w2vec, axis=0)\n",
        "vectors_w2vec"
      ],
      "execution_count": 42,
      "outputs": [
        {
          "output_type": "execute_result",
          "data": {
            "text/plain": [
              "array([[ 0.7430641 ,  0.72386799,  0.7509366 , ...,  0.26231253,\n",
              "         0.95295123,  0.17281866],\n",
              "       [ 0.        ,  0.        ,  0.        , ...,  0.        ,\n",
              "         0.        ,  0.        ],\n",
              "       [ 0.0703125 ,  0.08691406,  0.08789062, ..., -0.04760742,\n",
              "         0.01446533, -0.0625    ],\n",
              "       ...,\n",
              "       [-0.02697754, -0.00616455,  0.06298828, ..., -0.01098633,\n",
              "        -0.02746582,  0.00588989],\n",
              "       [ 0.02441406, -0.04614258, -0.02575684, ..., -0.03173828,\n",
              "         0.0390625 , -0.05200195],\n",
              "       [-0.02783203, -0.05371094, -0.0234375 , ...,  0.00488281,\n",
              "         0.02026367, -0.03540039]])"
            ]
          },
          "metadata": {
            "tags": []
          },
          "execution_count": 42
        }
      ]
    },
    {
      "cell_type": "code",
      "metadata": {
        "colab": {
          "base_uri": "https://localhost:8080/"
        },
        "id": "4VQZ9JFAQytg",
        "outputId": "fc89748e-87e1-4029-8c04-77ac73021e14"
      },
      "source": [
        "print(\"Vocabulary size:\", len(v_w2vec.w2i))"
      ],
      "execution_count": 43,
      "outputs": [
        {
          "output_type": "stream",
          "text": [
            "Vocabulary size: 18922\n"
          ],
          "name": "stdout"
        }
      ]
    },
    {
      "cell_type": "code",
      "metadata": {
        "colab": {
          "base_uri": "https://localhost:8080/"
        },
        "id": "9bEZkmUPV5ZQ",
        "outputId": "0b545f28-12b5-4dd9-f734-11ac1558b654"
      },
      "source": [
        "len(vectors_w2vec)"
      ],
      "execution_count": 44,
      "outputs": [
        {
          "output_type": "execute_result",
          "data": {
            "text/plain": [
              "18922"
            ]
          },
          "metadata": {
            "tags": []
          },
          "execution_count": 44
        }
      ]
    },
    {
      "cell_type": "code",
      "metadata": {
        "colab": {
          "base_uri": "https://localhost:8080/"
        },
        "id": "O7AhJ6OVT_mp",
        "outputId": "e56155ed-862d-4c02-f7e3-f856cd50b03c"
      },
      "source": [
        "v_w2vec.i2w[:10]"
      ],
      "execution_count": 45,
      "outputs": [
        {
          "output_type": "execute_result",
          "data": {
            "text/plain": [
              "['<unk>', '<pad>', 'in', 'for', 'that', 'is', 'on', 'The', 'with', 'said']"
            ]
          },
          "metadata": {
            "tags": []
          },
          "execution_count": 45
        }
      ]
    },
    {
      "cell_type": "code",
      "metadata": {
        "colab": {
          "base_uri": "https://localhost:8080/"
        },
        "id": "_BvSRX2Tqdvo",
        "outputId": "bcaab750-4619-4ef9-d6a7-80326c5c8eeb"
      },
      "source": [
        "#vocabulary for glove\n",
        "\n",
        "v_glove = Vocabulary()\n",
        "vectors_glove =[]\n",
        "vector_size = 300  #\n",
        "\n",
        "vectors_glove.append(np.random.uniform(0,1,vector_size)) \n",
        "vectors_glove.append(np.zeros(vector_size)) \n",
        "for line in content_glove:\n",
        "  token= line.split(' ')[0] #isolate words\n",
        "  v_glove.count_token(token) #add to vocabulary\n",
        "  vector = np.array([float(i) for i in line.split(' ')[1:]]) #isolate vector\n",
        "  vectors_glove.append(vector)\n",
        "\n",
        "v_glove.build()\n",
        "\n",
        "vectors_glove=np.stack(vectors_glove, axis=0)\n",
        "vectors_glove"
      ],
      "execution_count": 46,
      "outputs": [
        {
          "output_type": "execute_result",
          "data": {
            "text/plain": [
              "array([[ 0.19175947,  0.17073124,  0.8125263 , ...,  0.58466376,\n",
              "         0.95552955,  0.02578809],\n",
              "       [ 0.        ,  0.        ,  0.        , ...,  0.        ,\n",
              "         0.        ,  0.        ],\n",
              "       [-0.082752  ,  0.67204   , -0.14987   , ..., -0.1918    ,\n",
              "        -0.37846   , -0.06589   ],\n",
              "       ...,\n",
              "       [-0.62545   , -0.85085   , -0.12148   , ...,  0.31241   ,\n",
              "        -0.10059   , -0.74985   ],\n",
              "       [ 0.26587   , -0.20776   ,  0.30874   , ...,  0.46235   ,\n",
              "         0.10762   , -0.033141  ],\n",
              "       [ 0.43883   , -0.52998   , -0.033425  , ...,  0.71786   ,\n",
              "         0.38797   ,  0.085122  ]])"
            ]
          },
          "metadata": {
            "tags": []
          },
          "execution_count": 46
        }
      ]
    },
    {
      "cell_type": "code",
      "metadata": {
        "colab": {
          "base_uri": "https://localhost:8080/"
        },
        "id": "IT4X1j8sridP",
        "outputId": "aeb0f47d-b0c0-456c-ed7b-808fab98a098"
      },
      "source": [
        "print(\"Vocabulary size:\", len(v_glove.w2i))"
      ],
      "execution_count": 47,
      "outputs": [
        {
          "output_type": "stream",
          "text": [
            "Vocabulary size: 20727\n"
          ],
          "name": "stdout"
        }
      ]
    },
    {
      "cell_type": "code",
      "metadata": {
        "colab": {
          "base_uri": "https://localhost:8080/"
        },
        "id": "ALzgUsLjr2ZR",
        "outputId": "02b9356b-b4f4-44e6-ea70-242e9abd6780"
      },
      "source": [
        "len(vectors_glove)"
      ],
      "execution_count": 48,
      "outputs": [
        {
          "output_type": "execute_result",
          "data": {
            "text/plain": [
              "20727"
            ]
          },
          "metadata": {
            "tags": []
          },
          "execution_count": 48
        }
      ]
    },
    {
      "cell_type": "markdown",
      "metadata": {
        "id": "xC-7mRyYNG9b"
      },
      "source": [
        "#### Exercise: words not in our pre-trained set\n",
        "\n",
        "How many words in the training, dev, and test set are also in your vector set?\n",
        "How many words are not there?\n",
        "\n",
        "Store the words that are not in the word vector set in the set below."
      ]
    },
    {
      "cell_type": "code",
      "metadata": {
        "id": "K6MA3-wF_X5M"
      },
      "source": [
        "words_not_found = set()\n",
        "# YOUR CODE HERE"
      ],
      "execution_count": 49,
      "outputs": []
    },
    {
      "cell_type": "markdown",
      "metadata": {
        "id": "BfEd38W0NnAI"
      },
      "source": [
        "#### Exercise: train Deep CBOW with (fixed) pre-trained embeddings\n",
        "\n",
        "Now train Deep CBOW again using the pre-trained word vectors.\n"
      ]
    },
    {
      "cell_type": "code",
      "metadata": {
        "id": "z_6ooqgEsB20"
      },
      "source": [
        "# We define a new class that inherits from DeepCBOW.\n",
        "class PTDeepCBOW(Deep_CBOW):\n",
        "  def __init__(self, vocab_size, embedding_dim, output_hidden, output_size, vocab):\n",
        "    super(PTDeepCBOW, self).__init__(\n",
        "        vocab_size, embedding_dim, output_hidden, output_size, vocab)"
      ],
      "execution_count": 67,
      "outputs": []
    },
    {
      "cell_type": "code",
      "metadata": {
        "colab": {
          "base_uri": "https://localhost:8080/"
        },
        "id": "JfIh4Ni6yuAh",
        "outputId": "b4ef9a75-8edc-432f-89f2-719d7abd7449"
      },
      "source": [
        "# Create a Deep CBOW model with pre-trained embeddings (word2vec)\n",
        "\n",
        "pt_deep_cbow_model = PTDeepCBOW(len(v_w2vec.w2i), 300, 100, 5, vocab=v_w2vec)\n",
        "\n",
        "# copy pre-trained word vectors into embeddings table\n",
        "pt_deep_cbow_model.embed.weight.data.copy_(torch.from_numpy(vectors_w2vec))\n",
        "\n",
        "# disable training the pre-trained embeddings\n",
        "pt_deep_cbow_model.embed.weight.requires_grad = False\n",
        "\n",
        "# move model to specified device\n",
        "pt_deep_cbow_model = pt_deep_cbow_model.to(device)\n",
        "\n",
        "# train the model\n",
        "pt_deep_cbow_optimizer = optim.Adam(pt_deep_cbow_model.parameters(), lr=0.0005)\n",
        "\n",
        "pt_deep_cbow_losses, pt_deep_cbow_accuracies = train_model(\n",
        "    pt_deep_cbow_model, pt_deep_cbow_optimizer, num_iterations=30000, \n",
        "    print_every=1000, eval_every=1000) "
      ],
      "execution_count": 68,
      "outputs": [
        {
          "output_type": "stream",
          "text": [
            "Shuffling training data\n",
            "Iter 1000: loss=1622.4740, time=1.90s\n",
            "iter 1000: dev acc=0.2534\n",
            "new highscore\n",
            "Iter 2000: loss=1607.3939, time=4.40s\n",
            "iter 2000: dev acc=0.2779\n",
            "new highscore\n",
            "Iter 3000: loss=1563.4922, time=6.83s\n",
            "iter 3000: dev acc=0.2816\n",
            "new highscore\n",
            "Iter 4000: loss=1564.6103, time=9.29s\n",
            "iter 4000: dev acc=0.3606\n",
            "new highscore\n",
            "Iter 5000: loss=1534.3046, time=11.72s\n",
            "iter 5000: dev acc=0.3524\n",
            "Iter 6000: loss=1493.3584, time=14.14s\n",
            "iter 6000: dev acc=0.3615\n",
            "new highscore\n",
            "Iter 7000: loss=1460.6759, time=16.60s\n",
            "iter 7000: dev acc=0.3370\n",
            "Iter 8000: loss=1432.5725, time=18.96s\n",
            "iter 8000: dev acc=0.3161\n",
            "Shuffling training data\n",
            "Iter 9000: loss=1426.1831, time=21.37s\n",
            "iter 9000: dev acc=0.3851\n",
            "new highscore\n",
            "Iter 10000: loss=1454.8249, time=23.75s\n",
            "iter 10000: dev acc=0.3560\n",
            "Iter 11000: loss=1443.4558, time=26.15s\n",
            "iter 11000: dev acc=0.3506\n",
            "Iter 12000: loss=1432.0176, time=28.49s\n",
            "iter 12000: dev acc=0.3406\n",
            "Iter 13000: loss=1417.7471, time=30.83s\n",
            "iter 13000: dev acc=0.3651\n",
            "Iter 14000: loss=1371.2821, time=33.20s\n",
            "iter 14000: dev acc=0.3651\n",
            "Iter 15000: loss=1407.6330, time=35.58s\n",
            "iter 15000: dev acc=0.3978\n",
            "new highscore\n",
            "Iter 16000: loss=1402.0683, time=38.03s\n",
            "iter 16000: dev acc=0.3869\n",
            "Iter 17000: loss=1394.3789, time=40.43s\n",
            "iter 17000: dev acc=0.3715\n",
            "Shuffling training data\n",
            "Iter 18000: loss=1398.8289, time=42.78s\n",
            "iter 18000: dev acc=0.3270\n",
            "Iter 19000: loss=1422.5497, time=45.13s\n",
            "iter 19000: dev acc=0.3397\n",
            "Iter 20000: loss=1399.5304, time=47.47s\n",
            "iter 20000: dev acc=0.3633\n",
            "Iter 21000: loss=1409.5701, time=49.80s\n",
            "iter 21000: dev acc=0.3470\n",
            "Iter 22000: loss=1373.4611, time=52.18s\n",
            "iter 22000: dev acc=0.3860\n",
            "Iter 23000: loss=1390.5738, time=54.55s\n",
            "iter 23000: dev acc=0.3969\n",
            "Iter 24000: loss=1390.8621, time=56.87s\n",
            "iter 24000: dev acc=0.3451\n",
            "Iter 25000: loss=1383.7241, time=59.20s\n",
            "iter 25000: dev acc=0.3497\n",
            "Shuffling training data\n",
            "Iter 26000: loss=1396.6673, time=61.56s\n",
            "iter 26000: dev acc=0.3379\n",
            "Iter 27000: loss=1415.3649, time=63.92s\n",
            "iter 27000: dev acc=0.3715\n",
            "Iter 28000: loss=1376.3636, time=66.32s\n",
            "iter 28000: dev acc=0.3887\n",
            "Iter 29000: loss=1419.8385, time=68.71s\n",
            "iter 29000: dev acc=0.3742\n",
            "Iter 30000: loss=1363.8083, time=71.09s\n",
            "iter 30000: dev acc=0.4042\n",
            "new highscore\n",
            "Done training\n",
            "Loading best model\n",
            "best model iter 30000: train acc=0.4065, dev acc=0.4042, test acc=0.4081, test acc long sent 1 sd=0.3900, test acc long sent 1.5 sd=0.4225, test acc short sent 1 sd=0.4005, test acc short sent 1.5 sd=0.2778\n"
          ],
          "name": "stdout"
        }
      ]
    },
    {
      "cell_type": "code",
      "metadata": {
        "colab": {
          "base_uri": "https://localhost:8080/",
          "height": 283
        },
        "id": "Ufujv3x31ufD",
        "outputId": "0eb7ca22-ca5d-4d2d-ded1-8ae4fcae64b1"
      },
      "source": [
        "# plot dev accuracies\n",
        "plt.plot(pt_deep_cbow_accuracies)"
      ],
      "execution_count": 69,
      "outputs": [
        {
          "output_type": "execute_result",
          "data": {
            "text/plain": [
              "[<matplotlib.lines.Line2D at 0x7f61956495f8>]"
            ]
          },
          "metadata": {
            "tags": []
          },
          "execution_count": 69
        },
        {
          "output_type": "display_data",
          "data": {
            "image/png": "[encoded data removed]",
            "text/plain": [
              "<Figure size 432x288 with 1 Axes>"
            ]
          },
          "metadata": {
            "tags": [],
            "needs_background": "light"
          }
        }
      ]
    },
    {
      "cell_type": "code",
      "metadata": {
        "colab": {
          "base_uri": "https://localhost:8080/",
          "height": 283
        },
        "id": "YTJtKBzd7Qjr",
        "outputId": "2c3cdd15-24d8-4459-b038-e3153423f9aa"
      },
      "source": [
        "# plot train loss\n",
        "plt.plot(pt_deep_cbow_losses)"
      ],
      "execution_count": 70,
      "outputs": [
        {
          "output_type": "execute_result",
          "data": {
            "text/plain": [
              "[<matplotlib.lines.Line2D at 0x7f6195782d68>]"
            ]
          },
          "metadata": {
            "tags": []
          },
          "execution_count": 70
        },
        {
          "output_type": "display_data",
          "data": {
            "image/png": "[encoded data removed]",
            "text/plain": [
              "<Figure size 432x288 with 1 Axes>"
            ]
          },
          "metadata": {
            "tags": [],
            "needs_background": "light"
          }
        }
      ]
    },
    {
      "cell_type": "code",
      "metadata": {
        "colab": {
          "base_uri": "https://localhost:8080/"
        },
        "id": "yTcf1oINsNl7",
        "outputId": "503217fd-a083-4abc-ef84-2c00a1f229c1"
      },
      "source": [
        "# Create a Deep CBOW model with pre-trained embeddings (glove)\n",
        "\n",
        "pt_deep_cbow_model = PTDeepCBOW(len(v_glove.w2i), 300, 100, 5, vocab=v_glove)\n",
        "\n",
        "# copy pre-trained word vectors into embeddings table\n",
        "pt_deep_cbow_model.embed.weight.data.copy_(torch.from_numpy(vectors_glove))\n",
        "\n",
        "# disable training the pre-trained embeddings\n",
        "pt_deep_cbow_model.embed.weight.requires_grad = False\n",
        "\n",
        "# move model to specified device\n",
        "pt_deep_cbow_model = pt_deep_cbow_model.to(device)\n",
        "\n",
        "# train the model\n",
        "pt_deep_cbow_optimizer = optim.Adam(pt_deep_cbow_model.parameters(), lr=0.0005)\n",
        "\n",
        "pt_deep_cbow_losses, pt_deep_cbow_accuracies = train_model(\n",
        "    pt_deep_cbow_model, pt_deep_cbow_optimizer, num_iterations=30000, \n",
        "    print_every=1000, eval_every=1000)"
      ],
      "execution_count": 71,
      "outputs": [
        {
          "output_type": "stream",
          "text": [
            "Shuffling training data\n",
            "Iter 1000: loss=1491.0329, time=1.93s\n",
            "iter 1000: dev acc=0.2943\n",
            "new highscore\n",
            "Iter 2000: loss=1396.7093, time=4.38s\n",
            "iter 2000: dev acc=0.3579\n",
            "new highscore\n",
            "Iter 3000: loss=1357.0560, time=6.83s\n",
            "iter 3000: dev acc=0.3860\n",
            "new highscore\n",
            "Iter 4000: loss=1361.9005, time=9.27s\n",
            "iter 4000: dev acc=0.4151\n",
            "new highscore\n",
            "Iter 5000: loss=1347.5603, time=11.69s\n",
            "iter 5000: dev acc=0.4142\n",
            "Iter 6000: loss=1343.3179, time=14.06s\n",
            "iter 6000: dev acc=0.3778\n",
            "Iter 7000: loss=1323.8044, time=16.43s\n",
            "iter 7000: dev acc=0.3960\n",
            "Iter 8000: loss=1354.1200, time=18.80s\n",
            "iter 8000: dev acc=0.3706\n",
            "Shuffling training data\n",
            "Iter 9000: loss=1300.7607, time=21.22s\n",
            "iter 9000: dev acc=0.4087\n",
            "Iter 10000: loss=1309.4796, time=23.63s\n",
            "iter 10000: dev acc=0.3824\n",
            "Iter 11000: loss=1296.7304, time=26.07s\n",
            "iter 11000: dev acc=0.4024\n",
            "Iter 12000: loss=1284.5130, time=28.45s\n",
            "iter 12000: dev acc=0.4087\n",
            "Iter 13000: loss=1313.3644, time=30.83s\n",
            "iter 13000: dev acc=0.3933\n",
            "Iter 14000: loss=1322.9483, time=33.21s\n",
            "iter 14000: dev acc=0.4160\n",
            "new highscore\n",
            "Iter 15000: loss=1303.3703, time=35.64s\n",
            "iter 15000: dev acc=0.3996\n",
            "Iter 16000: loss=1281.4860, time=38.11s\n",
            "iter 16000: dev acc=0.4223\n",
            "new highscore\n",
            "Iter 17000: loss=1295.8311, time=40.53s\n",
            "iter 17000: dev acc=0.4178\n",
            "Shuffling training data\n",
            "Iter 18000: loss=1264.1548, time=42.98s\n",
            "iter 18000: dev acc=0.3933\n",
            "Iter 19000: loss=1279.3864, time=45.37s\n",
            "iter 19000: dev acc=0.3769\n",
            "Iter 20000: loss=1241.3978, time=47.76s\n",
            "iter 20000: dev acc=0.4260\n",
            "new highscore\n",
            "Iter 21000: loss=1293.6514, time=50.22s\n",
            "iter 21000: dev acc=0.4060\n",
            "Iter 22000: loss=1288.1105, time=52.67s\n",
            "iter 22000: dev acc=0.4114\n",
            "Iter 23000: loss=1302.9863, time=55.04s\n",
            "iter 23000: dev acc=0.4069\n",
            "Iter 24000: loss=1299.1247, time=57.41s\n",
            "iter 24000: dev acc=0.3978\n",
            "Iter 25000: loss=1265.4478, time=59.78s\n",
            "iter 25000: dev acc=0.3824\n",
            "Shuffling training data\n",
            "Iter 26000: loss=1275.1455, time=62.19s\n",
            "iter 26000: dev acc=0.3715\n",
            "Iter 27000: loss=1242.8574, time=64.57s\n",
            "iter 27000: dev acc=0.4387\n",
            "new highscore\n",
            "Iter 28000: loss=1281.4923, time=67.01s\n",
            "iter 28000: dev acc=0.3878\n",
            "Iter 29000: loss=1287.8783, time=69.37s\n",
            "iter 29000: dev acc=0.3942\n",
            "Iter 30000: loss=1257.6058, time=71.75s\n",
            "iter 30000: dev acc=0.4378\n",
            "Done training\n",
            "Loading best model\n",
            "best model iter 27000: train acc=0.4679, dev acc=0.4387, test acc=0.4448, test acc long sent 1 sd=0.3900, test acc long sent 1.5 sd=0.4171, test acc short sent 1 sd=0.4792, test acc short sent 1.5 sd=0.5278\n"
          ],
          "name": "stdout"
        }
      ]
    },
    {
      "cell_type": "code",
      "metadata": {
        "colab": {
          "base_uri": "https://localhost:8080/",
          "height": 283
        },
        "id": "ue5zJZwfseS_",
        "outputId": "ff0b1459-5a8e-4af6-a265-d5d98ead9399"
      },
      "source": [
        "# plot dev accuracies\n",
        "plt.plot(pt_deep_cbow_accuracies)"
      ],
      "execution_count": 72,
      "outputs": [
        {
          "output_type": "execute_result",
          "data": {
            "text/plain": [
              "[<matplotlib.lines.Line2D at 0x7f6195324fd0>]"
            ]
          },
          "metadata": {
            "tags": []
          },
          "execution_count": 72
        },
        {
          "output_type": "display_data",
          "data": {
            "image/png": "[encoded data removed]",
            "text/plain": [
              "<Figure size 432x288 with 1 Axes>"
            ]
          },
          "metadata": {
            "tags": [],
            "needs_background": "light"
          }
        }
      ]
    },
    {
      "cell_type": "code",
      "metadata": {
        "colab": {
          "base_uri": "https://localhost:8080/",
          "height": 284
        },
        "id": "KHIjy_3AsfWX",
        "outputId": "769d4cf3-b4ff-4a2c-d257-653ae73cced7"
      },
      "source": [
        "# plot train loss\n",
        "plt.plot(pt_deep_cbow_losses)"
      ],
      "execution_count": 73,
      "outputs": [
        {
          "output_type": "execute_result",
          "data": {
            "text/plain": [
              "[<matplotlib.lines.Line2D at 0x7f619540a588>]"
            ]
          },
          "metadata": {
            "tags": []
          },
          "execution_count": 73
        },
        {
          "output_type": "display_data",
          "data": {
            "image/png": "[encoded data removed]",
            "text/plain": [
              "<Figure size 432x288 with 1 Axes>"
            ]
          },
          "metadata": {
            "tags": [],
            "needs_background": "light"
          }
        }
      ]
    },
    {
      "cell_type": "markdown",
      "metadata": {
        "id": "yFu8xzCy9XDW"
      },
      "source": [
        "**It looks like we've hit what is possible with just using words.**\n",
        "Let's move on by incorporating word order!"
      ]
    },
    {
      "cell_type": "markdown",
      "metadata": {
        "id": "g41yW4PL9jG0"
      },
      "source": [
        "# LSTM"
      ]
    },
    {
      "cell_type": "markdown",
      "metadata": {
        "id": "ODzXEH0MaGpa"
      },
      "source": [
        "It is time to get more serious. Even with pre-trained word embeddings and multiple layers, we still seem to do pretty badly at sentiment classification. \n",
        "The next step we can take is to introduce word order again, dropping our independence assumptions. In this way, we can get a representation of the sentence as an ordered set of tokens.\n",
        "\n",
        "We will get this representation using a **Long Short-Term Memory** (LSTM). As an exercise, we will code our own LSTM cell, so that we get comfortable with its inner workings.\n",
        "Once we have an LSTM cell, we can call it repeatedly, updating its hidden state one word at a time:\n",
        "\n",
        "```python\n",
        "rnn = MyLSTMCell(input_size, hidden_size)\n",
        "\n",
        "hx = torch.zeros(1, hidden_size)  # initial hidden state\n",
        "cx = torch.zeros(1, hidden_size)  # initial memory cell\n",
        "output = []                       # to save intermediate LSTM states\n",
        "\n",
        "# feed one word at a time\n",
        "for i in range(n_timesteps):\n",
        "  hx, cx = rnn(input[i], (hx, cx))\n",
        "  output.append(hx)\n",
        "```\n",
        "\n",
        "If you need some more help understanding LSTMs, you can check out these resources:\n",
        "- Blog post (highly recommended): http://colah.github.io/posts/2015-08-Understanding-LSTMs/\n",
        "- Paper covering LSTM formulas in detail: https://arxiv.org/abs/1503.04069 \n"
      ]
    },
    {
      "cell_type": "markdown",
      "metadata": {
        "id": "v9f4b45BXKFC"
      },
      "source": [
        "#### Exercise: Finish the LSTM cell below. \n",
        "You will need to implement the LSTM formulas:\n",
        "\n",
        "$$\n",
        "\\begin{array}{ll}\n",
        "        i = \\sigma(W_{ii} x + b_{ii} + W_{hi} h + b_{hi}) \\\\\n",
        "        f = \\sigma(W_{if} x + b_{if} + W_{hf} h + b_{hf}) \\\\\n",
        "        g = \\tanh(W_{ig} x + b_{ig} + W_{hg} h + b_{hg}) \\\\\n",
        "        o = \\sigma(W_{io} x + b_{io} + W_{ho} h + b_{ho}) \\\\\n",
        "        c' = f * c + i * g \\\\\n",
        "        h' = o \\tanh(c') \\\\\n",
        "\\end{array}\n",
        " $$\n",
        "\n",
        "where $\\sigma$ is the sigmoid function.\n",
        "\n",
        "*Note that the LSTM formulas can differ slightly between different papers. We use the PyTorch LSTM formulation here.*"
      ]
    },
    {
      "cell_type": "code",
      "metadata": {
        "id": "vcgo-66ds1qV"
      },
      "source": [
        "# v.__dict__.keys()\n",
        "# #Frequency of words in corpus\n",
        "# v.freqs\n",
        "# #Indexed dictionary from corpus\n",
        "# v.i2w\n",
        "# #Raw words in corpus\n",
        "# v.w2i\n",
        "# #Sentiment dictionary\n",
        "# t2i"
      ],
      "execution_count": 74,
      "outputs": []
    },
    {
      "cell_type": "code",
      "metadata": {
        "id": "Gpw_vCkts5g1"
      },
      "source": [
        "# len(v.w2i)"
      ],
      "execution_count": 75,
      "outputs": []
    },
    {
      "cell_type": "code",
      "metadata": {
        "id": "zJ9m5kLMd7-v"
      },
      "source": [
        "#f = 'forget gate layer' decide which information from cell state should be thrown away\n",
        "\n",
        "#decide which value to store in cell state\n",
        "#i = 'input layer' - which values to update \n",
        "#g = new candidate values that can be added to cell state\n",
        "\n",
        "#o = deciding which parts to output - decision on which parts from updated cell state to output\n",
        "\n",
        "class MyLSTMCell(nn.Module):\n",
        "  \"\"\"Our own LSTM cell\"\"\"\n",
        "\n",
        "  def __init__(self, input_size, hidden_size, bias=True):\n",
        "    \"\"\"Creates the weights for this LSTM\"\"\"\n",
        "    super(MyLSTMCell, self).__init__()\n",
        "\n",
        "    self.input_size = input_size\n",
        "    self.hidden_size = hidden_size\n",
        "    self.bias = bias\n",
        "    \n",
        "    self.ii_linear = nn.Linear(input_size, hidden_size, bias) #i: input gate - which values to update dependent on input features \n",
        "    self.if_linear = nn.Linear(input_size, hidden_size, bias) #f: forget gate - which values to forget dependent on current input \n",
        "    self.ig_linear = nn.Linear(input_size, hidden_size, bias) #g:  \n",
        "    self.io_linear = nn.Linear(input_size, hidden_size, bias) #o: output layer \n",
        "    self.hi_linear = nn.Linear(hidden_size, hidden_size, bias) #weights for hidden state in input layer\n",
        "    self.hf_linear = nn.Linear(hidden_size, hidden_size, bias) #weights for hidden state in forget layer\n",
        "    self.hg_linear = nn.Linear(hidden_size, hidden_size, bias) #weights for hidden state in g\n",
        "    self.ho_linear = nn.Linear(hidden_size, hidden_size, bias) #weights for hidden state in o\n",
        "    \n",
        "    self.inputlayer_sigmoid = nn.Sigmoid()\n",
        "    self.forgetlayer_sigmoid = nn.Sigmoid()\n",
        "    self.g_tanh = nn.Tanh()\n",
        "    self.outputlayer_sigmoid = nn.Sigmoid()\n",
        "    self.h_tanh = nn.Tanh()\n",
        "    \n",
        "    self.reset_parameters()\n",
        "\n",
        "  def reset_parameters(self):\n",
        "    \"\"\"This is PyTorch's default initialization method\"\"\"\n",
        "    stdv = 1.0 / math.sqrt(self.hidden_size)\n",
        "    for weight in self.parameters():\n",
        "      weight.data.uniform_(-stdv, stdv)  \n",
        "\n",
        "  def forward(self, input_, hx, mask=None):\n",
        "    \"\"\"\n",
        "    input is (batch, input_size)\n",
        "    hx is ((batch, hidden_size), (batch, hidden_size))\n",
        "    \"\"\"\n",
        "    prev_h, prev_c = hx    \n",
        "\n",
        "    # main LSTM computation    \n",
        "\n",
        "    i = self.inputlayer_sigmoid(self.ii_linear(input_) + self.hi_linear(prev_h))\n",
        "    f = self.forgetlayer_sigmoid(self.if_linear(input_) + self.hf_linear(prev_h))\n",
        "    g = self.g_tanh(self.ig_linear(input_) + self.hg_linear(prev_h))\n",
        "    o = self.outputlayer_sigmoid(self.io_linear(input_) + self.ho_linear(prev_h))\n",
        "\n",
        "    c = f * prev_c + i * g\n",
        "    h = o * self.h_tanh(c)\n",
        "\n",
        "    return h, c\n",
        "  \n",
        "  def __repr__(self):\n",
        "    return \"{}({:d}, {:d})\".format(\n",
        "        self.__class__.__name__, self.input_size, self.hidden_size)"
      ],
      "execution_count": 76,
      "outputs": []
    },
    {
      "cell_type": "markdown",
      "metadata": {
        "id": "4JM7xPhkQeE5"
      },
      "source": [
        "#### Optional: Efficient Matrix Multiplication\n",
        "\n",
        "It is more efficient to do a few big matrix multiplications than to do many smaller ones. So we will implement the above cell using just **two** linear layers.\n",
        "\n",
        "This is possible because the eight linear transformations contained in one forward pass through an LSTM cell can be reduced to just two:\n",
        "$$W_h h + b_h$$\n",
        "$$W_i x + b_i $$ \n",
        "\n",
        "with $h = $ `prev_h` and $x = $ `input_`.\n",
        "\n",
        "and where: \n",
        "\n",
        "$W_h =  \\begin{pmatrix}\n",
        "W_{hi}\\\\ \n",
        "W_{hf}\\\\ \n",
        "W_{hg}\\\\ \n",
        "W_{ho}\n",
        "\\end{pmatrix}$, $b_h = \\begin{pmatrix}\n",
        "b_{hi}\\\\ \n",
        "b_{hf}\\\\ \n",
        "b_{hg}\\\\ \n",
        "b_{ho}\n",
        "\\end{pmatrix}$,  $W_i = \\begin{pmatrix}\n",
        "W_{ii}\\\\ \n",
        "W_{if}\\\\ \n",
        "W_{ig}\\\\ \n",
        "W_{io}\n",
        "\\end{pmatrix}$ and $b_i = \\begin{pmatrix}\n",
        "b_{ii}\\\\ \n",
        "b_{if}\\\\ \n",
        "b_{ig}\\\\ \n",
        "b_{io}\n",
        "\\end{pmatrix}$.\n",
        "\n",
        "Convince yourself that, after chunking with [torch.chunk](https://pytorch.org/docs/stable/torch.html?highlight=chunk#torch.chunk), the output of those two linear transformations is equivalent to the output of the eight linear transformations in the LSTM cell calculations above."
      ]
    },
    {
      "cell_type": "markdown",
      "metadata": {
        "id": "X9gA-UcqSBe0"
      },
      "source": [
        "#### LSTM Classifier\n",
        "\n",
        "Having an LSTM cell is not enough: we still need some code that calls it repeatedly, and then makes a prediction from the final hidden state. \n",
        "You will find that code below. Make sure that you understand it."
      ]
    },
    {
      "cell_type": "code",
      "metadata": {
        "id": "3iuYZm5poEn5"
      },
      "source": [
        "class LSTMClassifier(nn.Module):\n",
        "  \"\"\"Encodes sentence with an LSTM and projects final hidden state\"\"\"\n",
        "\n",
        "  def __init__(self, vocab_size, embedding_dim, hidden_dim, output_dim, vocab):\n",
        "    super(LSTMClassifier, self).__init__()\n",
        "    self.vocab = vocab\n",
        "    self.hidden_dim = hidden_dim\n",
        "    self.embed = nn.Embedding(vocab_size, embedding_dim, padding_idx=1)\n",
        "    self.rnn = MyLSTMCell(embedding_dim, hidden_dim)\n",
        "    \n",
        "    self.output_layer = nn.Sequential(     \n",
        "        nn.Dropout(p=0.5),  # explained later\n",
        "        nn.Linear(hidden_dim, output_dim)\n",
        "    )\n",
        "\n",
        "  def forward(self, x):\n",
        "    \n",
        "    B = x.size(0)  # batch size (this is 1 for now, i.e. 1 single example)\n",
        "    T = x.size(1)  # timesteps (the number of words in the sentence)\n",
        "    \n",
        "    input_ = self.embed(x)\n",
        "\n",
        "    # here we create initial hidden states containing zeros\n",
        "    # we use a trick here so that, if input is on the GPU, then so are hx and cx\n",
        "    hx = input_.new_zeros(B, self.rnn.hidden_size) #initial hidden cell\n",
        "    cx = input_.new_zeros(B, self.rnn.hidden_size) #initial memory cell\n",
        "    \n",
        "    # process input sentences one word/timestep at a time\n",
        "    # input is batch-major (i.e., batch size is the first dimension)\n",
        "    # so the first word(s) is (are) input_[:, 0]\n",
        "    outputs = []   \n",
        "    for i in range(T):\n",
        "      hx, cx = self.rnn(input_[:, i], (hx, cx))\n",
        "      outputs.append(hx)\n",
        "    \n",
        "    # if we have a single example, our final LSTM state is the last hx\n",
        "    if B == 1:\n",
        "      final = hx\n",
        "    else:\n",
        "      #\n",
        "      # This part is explained in next section, ignore this else-block for now.\n",
        "      #\n",
        "      # We processed sentences with different lengths, so some of the sentences\n",
        "      # had already finished and we have been adding padding inputs to hx.\n",
        "      # We select the final state based on the length of each sentence.\n",
        "      \n",
        "      # two lines below not needed if using LSTM from pytorch\n",
        "      outputs = torch.stack(outputs, dim=0)           # [T, B, D]\n",
        "      outputs = outputs.transpose(0, 1).contiguous()  # [B, T, D]\n",
        "      \n",
        "      # to be super-sure we're not accidentally indexing the wrong state\n",
        "      # we zero out positions that are invalid\n",
        "      pad_positions = (x == 1).unsqueeze(-1)\n",
        "      \n",
        "      outputs = outputs.contiguous()      \n",
        "      outputs = outputs.masked_fill_(pad_positions, 0.)\n",
        "        \n",
        "      mask = (x != 1)  # true for valid positions [B, T]\n",
        "      lengths = mask.sum(dim=1)                 # [B, 1]\n",
        "\n",
        "      indexes = (lengths - 1) + torch.arange(B, device=x.device, dtype=x.dtype) * T\n",
        "      final = outputs.view(-1, self.hidden_dim)[indexes]  # [B, D]\n",
        "    \n",
        "    # we use the last hidden state to classify the sentence\n",
        "    logits = self.output_layer(final)\n",
        "    return logits"
      ],
      "execution_count": 77,
      "outputs": []
    },
    {
      "cell_type": "markdown",
      "metadata": {
        "id": "FxFoVpvMPB6g"
      },
      "source": [
        "#### Dropout\n",
        "\n",
        "Data sparsity and a small data set can cause *overfitting*. This is a phenomenom that is very likely to occur when training strong and expressive models, like LSTMs, on small data. In practice, if your model overfits, this means that it will be very good at predicting (or \"remembering\") the sentiment of the training set, but unable to generalise to new, unseen data in the test set. This is undesirable and one technique to mitigate this issue is *dropout*. \n",
        "\n",
        "A dropout layer is defined by the following formula, which can be applied, for example, to a linear layer:\n",
        "\n",
        "$$\\text{tanh}(W(\\mathbf{h}\\odot \\mathbf{d}) + \\mathbf{b})$$\n",
        "\n",
        "where $\\mathbf{d} \\in \\{0, 1\\}^n$, with $d_j \\sim \\text{Bernoulli}(p)$, \n",
        "\n",
        "These formula simply means that we *drop* certain parameters during training (by setting them to zero). Which parameters we drop is stochastically determined by a Bernoulli distribution and the probability of each parameter being dropped is set to $p = 0.5$ in our experiments (see the previous cell of code where we define our output layer). A dropout layer can be applied at many different places in our models. This technique helps against the undesirable effect that a model relies on single parameters for prediction (e.g. if $h^{\\prime}_j$ is large, always predict positive). If we use dropout, the model needs to learn to rely on different parameters, which is desirable to obtain better generalisation to unseen data."
      ]
    },
    {
      "cell_type": "markdown",
      "metadata": {
        "id": "XQjEjLt9z0XW"
      },
      "source": [
        "**Let's train our LSTM!** Note that is will be a lot slower than previous models because we need to do many more computations per sentence.\n",
        "\n",
        "#### Training"
      ]
    },
    {
      "cell_type": "code",
      "metadata": {
        "colab": {
          "base_uri": "https://localhost:8080/"
        },
        "id": "LgZoSPD4fsf_",
        "outputId": "9c6faeef-49ef-477d-e377-9a16de886c67"
      },
      "source": [
        "#training LSTM with w2vec embeddings\n",
        "lstm_model = LSTMClassifier(len(v_w2vec.w2i), 300, 168, len(t2i), v_w2vec)\n",
        "\n",
        "# copy pre-trained word vectors into embeddings table\n",
        "with torch.no_grad():\n",
        "  lstm_model.embed.weight.data.copy_(torch.from_numpy(vectors_w2vec))\n",
        "  lstm_model.embed.weight.requires_grad = False\n",
        "\n",
        "print(lstm_model)\n",
        "print_parameters(lstm_model)\n",
        "\n",
        "lstm_model = lstm_model.to(device)\n",
        "optimizer = optim.Adam(lstm_model.parameters(), lr=3e-4)\n",
        "\n",
        "lstm_losses, lstm_accuracies = train_model(\n",
        "    lstm_model, optimizer, num_iterations=25000, \n",
        "    print_every=250, eval_every=1000)"
      ],
      "execution_count": 78,
      "outputs": [
        {
          "output_type": "stream",
          "text": [
            "LSTMClassifier(\n",
            "  (embed): Embedding(18922, 300, padding_idx=1)\n",
            "  (rnn): MyLSTMCell(300, 168)\n",
            "  (output_layer): Sequential(\n",
            "    (0): Dropout(p=0.5, inplace=False)\n",
            "    (1): Linear(in_features=168, out_features=5, bias=True)\n",
            "  )\n",
            ")\n",
            "embed.weight             [18922, 300] requires_grad=False\n",
            "rnn.ii_linear.weight     [168, 300]   requires_grad=True\n",
            "rnn.ii_linear.bias       [168]        requires_grad=True\n",
            "rnn.if_linear.weight     [168, 300]   requires_grad=True\n",
            "rnn.if_linear.bias       [168]        requires_grad=True\n",
            "rnn.ig_linear.weight     [168, 300]   requires_grad=True\n",
            "rnn.ig_linear.bias       [168]        requires_grad=True\n",
            "rnn.io_linear.weight     [168, 300]   requires_grad=True\n",
            "rnn.io_linear.bias       [168]        requires_grad=True\n",
            "rnn.hi_linear.weight     [168, 168]   requires_grad=True\n",
            "rnn.hi_linear.bias       [168]        requires_grad=True\n",
            "rnn.hf_linear.weight     [168, 168]   requires_grad=True\n",
            "rnn.hf_linear.bias       [168]        requires_grad=True\n",
            "rnn.hg_linear.weight     [168, 168]   requires_grad=True\n",
            "rnn.hg_linear.bias       [168]        requires_grad=True\n",
            "rnn.ho_linear.weight     [168, 168]   requires_grad=True\n",
            "rnn.ho_linear.bias       [168]        requires_grad=True\n",
            "output_layer.1.weight    [5, 168]     requires_grad=True\n",
            "output_layer.1.bias      [5]          requires_grad=True\n",
            "\n",
            "Total number of parameters: 5993285\n",
            "\n",
            "Shuffling training data\n",
            "Iter 250: loss=397.5955, time=7.14s\n",
            "Iter 500: loss=395.9304, time=13.63s\n",
            "Iter 750: loss=395.7551, time=20.12s\n",
            "Iter 1000: loss=399.3111, time=26.71s\n",
            "iter 1000: dev acc=0.2625\n",
            "new highscore\n",
            "Iter 1250: loss=395.2965, time=44.45s\n",
            "Iter 1500: loss=399.8363, time=51.10s\n",
            "Iter 1750: loss=390.9695, time=57.69s\n",
            "Iter 2000: loss=393.2084, time=64.68s\n",
            "iter 2000: dev acc=0.3361\n",
            "new highscore\n",
            "Iter 2250: loss=380.5032, time=82.44s\n",
            "Iter 2500: loss=394.0594, time=88.93s\n",
            "Iter 2750: loss=370.7419, time=95.66s\n",
            "Iter 3000: loss=378.1259, time=102.63s\n",
            "iter 3000: dev acc=0.2934\n",
            "Iter 3250: loss=364.6625, time=120.70s\n",
            "Iter 3500: loss=368.0513, time=127.19s\n",
            "Iter 3750: loss=368.3039, time=133.49s\n",
            "Iter 4000: loss=366.9251, time=140.39s\n",
            "iter 4000: dev acc=0.3887\n",
            "new highscore\n",
            "Iter 4250: loss=354.1508, time=158.41s\n",
            "Iter 4500: loss=351.8760, time=165.13s\n",
            "Iter 4750: loss=340.3894, time=171.88s\n",
            "Iter 5000: loss=359.0077, time=178.14s\n",
            "iter 5000: dev acc=0.4005\n",
            "new highscore\n",
            "Iter 5250: loss=329.7938, time=196.02s\n",
            "Iter 5500: loss=351.4145, time=202.64s\n",
            "Iter 5750: loss=344.1066, time=209.22s\n",
            "Iter 6000: loss=360.9870, time=216.09s\n",
            "iter 6000: dev acc=0.3833\n",
            "Iter 6250: loss=336.5086, time=234.02s\n",
            "Iter 6500: loss=349.5703, time=240.61s\n",
            "Iter 6750: loss=345.3730, time=247.08s\n",
            "Iter 7000: loss=355.1353, time=253.77s\n",
            "iter 7000: dev acc=0.3806\n",
            "Iter 7250: loss=329.9869, time=271.50s\n",
            "Iter 7500: loss=333.9179, time=278.09s\n",
            "Iter 7750: loss=341.9172, time=284.58s\n",
            "Iter 8000: loss=334.2886, time=291.52s\n",
            "iter 8000: dev acc=0.4078\n",
            "new highscore\n",
            "Iter 8250: loss=333.7494, time=309.50s\n",
            "Iter 8500: loss=334.7907, time=316.17s\n",
            "Shuffling training data\n",
            "Iter 8750: loss=333.2467, time=322.70s\n",
            "Iter 9000: loss=326.8165, time=329.70s\n",
            "iter 9000: dev acc=0.4142\n",
            "new highscore\n",
            "Iter 9250: loss=327.4552, time=347.77s\n",
            "Iter 9500: loss=312.0271, time=354.40s\n",
            "Iter 9750: loss=334.4912, time=360.99s\n",
            "Iter 10000: loss=343.5882, time=367.60s\n",
            "iter 10000: dev acc=0.4160\n",
            "new highscore\n",
            "Iter 10250: loss=341.5875, time=385.51s\n",
            "Iter 10500: loss=339.6920, time=392.09s\n",
            "Iter 10750: loss=346.5911, time=398.96s\n",
            "Iter 11000: loss=327.1290, time=405.47s\n",
            "iter 11000: dev acc=0.4233\n",
            "new highscore\n",
            "Iter 11250: loss=333.4296, time=423.00s\n",
            "Iter 11500: loss=339.7860, time=429.82s\n",
            "Iter 11750: loss=320.1426, time=436.13s\n",
            "Iter 12000: loss=338.0737, time=442.69s\n",
            "iter 12000: dev acc=0.4296\n",
            "new highscore\n",
            "Iter 12250: loss=321.1903, time=460.43s\n",
            "Iter 12500: loss=332.3977, time=467.10s\n",
            "Iter 12750: loss=304.5437, time=473.56s\n",
            "Iter 13000: loss=348.8352, time=480.20s\n",
            "iter 13000: dev acc=0.4323\n",
            "new highscore\n",
            "Iter 13250: loss=311.8633, time=498.04s\n",
            "Iter 13500: loss=333.4219, time=504.73s\n",
            "Iter 13750: loss=327.8275, time=511.63s\n",
            "Iter 14000: loss=319.7328, time=518.24s\n",
            "iter 14000: dev acc=0.4078\n",
            "Iter 14250: loss=327.0832, time=535.68s\n",
            "Iter 14500: loss=315.6310, time=542.39s\n",
            "Iter 14750: loss=321.8542, time=548.95s\n",
            "Iter 15000: loss=313.0798, time=555.64s\n",
            "iter 15000: dev acc=0.4360\n",
            "new highscore\n",
            "Iter 15250: loss=314.4632, time=573.50s\n",
            "Iter 15500: loss=317.1028, time=580.59s\n",
            "Iter 15750: loss=319.8454, time=587.70s\n",
            "Iter 16000: loss=323.2312, time=594.44s\n",
            "iter 16000: dev acc=0.4233\n",
            "Iter 16250: loss=311.5503, time=611.97s\n",
            "Iter 16500: loss=325.5665, time=618.60s\n",
            "Iter 16750: loss=328.6716, time=625.32s\n",
            "Iter 17000: loss=315.5830, time=631.94s\n",
            "iter 17000: dev acc=0.4432\n",
            "new highscore\n",
            "Shuffling training data\n",
            "Iter 17250: loss=307.3025, time=649.75s\n",
            "Iter 17500: loss=314.2151, time=656.54s\n",
            "Iter 17750: loss=320.1162, time=663.31s\n",
            "Iter 18000: loss=318.7762, time=670.09s\n",
            "iter 18000: dev acc=0.4378\n",
            "Iter 18250: loss=312.4614, time=687.95s\n",
            "Iter 18500: loss=304.5842, time=694.49s\n",
            "Iter 18750: loss=312.8261, time=701.16s\n",
            "Iter 19000: loss=302.3388, time=707.67s\n",
            "iter 19000: dev acc=0.4532\n",
            "new highscore\n",
            "Iter 19250: loss=308.4260, time=725.23s\n",
            "Iter 19500: loss=316.4167, time=731.92s\n",
            "Iter 19750: loss=295.5669, time=738.58s\n",
            "Iter 20000: loss=310.6098, time=745.30s\n",
            "iter 20000: dev acc=0.4396\n",
            "Iter 20250: loss=291.0231, time=762.66s\n",
            "Iter 20500: loss=310.9647, time=769.50s\n",
            "Iter 20750: loss=321.5063, time=775.98s\n",
            "Iter 21000: loss=305.0415, time=782.47s\n",
            "iter 21000: dev acc=0.4305\n",
            "Iter 21250: loss=305.8991, time=799.65s\n",
            "Iter 21500: loss=312.0945, time=806.25s\n",
            "Iter 21750: loss=316.6069, time=812.80s\n",
            "Iter 22000: loss=314.4995, time=819.37s\n",
            "iter 22000: dev acc=0.4441\n",
            "Iter 22250: loss=293.2781, time=837.10s\n",
            "Iter 22500: loss=324.9479, time=843.92s\n",
            "Iter 22750: loss=296.5745, time=850.74s\n",
            "Iter 23000: loss=326.5152, time=857.79s\n",
            "iter 23000: dev acc=0.4296\n",
            "Iter 23250: loss=307.9908, time=875.25s\n",
            "Iter 23500: loss=303.3915, time=881.83s\n",
            "Iter 23750: loss=293.2766, time=888.42s\n",
            "Iter 24000: loss=307.4390, time=894.84s\n",
            "iter 24000: dev acc=0.4541\n",
            "new highscore\n",
            "Iter 24250: loss=319.3980, time=912.34s\n",
            "Iter 24500: loss=304.9188, time=919.05s\n",
            "Iter 24750: loss=306.2505, time=925.93s\n",
            "Iter 25000: loss=338.9626, time=932.70s\n",
            "iter 25000: dev acc=0.4378\n",
            "Done training\n",
            "Loading best model\n",
            "best model iter 24000: train acc=0.4967, dev acc=0.4541, test acc=0.4520, test acc long sent 1 sd=0.4487, test acc long sent 1.5 sd=0.4492, test acc short sent 1 sd=0.4769, test acc short sent 1.5 sd=0.3472\n"
          ],
          "name": "stdout"
        }
      ]
    },
    {
      "cell_type": "code",
      "metadata": {
        "colab": {
          "base_uri": "https://localhost:8080/",
          "height": 297
        },
        "id": "2BKVnyg0Hq5E",
        "outputId": "7d025eff-2391-4f5d-ab74-2de4ca9b617d"
      },
      "source": [
        "# plot validation accuracy\n",
        "plt.plot(lstm_accuracies)\n",
        "plt.ylabel('Accuracy')\n",
        "plt.xlabel('Batches [in 1000]')"
      ],
      "execution_count": 79,
      "outputs": [
        {
          "output_type": "execute_result",
          "data": {
            "text/plain": [
              "Text(0.5, 0, 'Batches [in 1000]')"
            ]
          },
          "metadata": {
            "tags": []
          },
          "execution_count": 79
        },
        {
          "output_type": "display_data",
          "data": {
            "image/png": "[encoded data removed]",
            "text/plain": [
              "<Figure size 432x288 with 1 Axes>"
            ]
          },
          "metadata": {
            "tags": [],
            "needs_background": "light"
          }
        }
      ]
    },
    {
      "cell_type": "code",
      "metadata": {
        "colab": {
          "base_uri": "https://localhost:8080/",
          "height": 283
        },
        "id": "ZowTV0EBTb3z",
        "outputId": "01fe0471-92b6-4774-a430-cf54d9e26c73"
      },
      "source": [
        "# plot training loss\n",
        "plt.plot(lstm_losses)"
      ],
      "execution_count": 80,
      "outputs": [
        {
          "output_type": "execute_result",
          "data": {
            "text/plain": [
              "[<matplotlib.lines.Line2D at 0x7f6195024940>]"
            ]
          },
          "metadata": {
            "tags": []
          },
          "execution_count": 80
        },
        {
          "output_type": "display_data",
          "data": {
            "image/png": "[encoded data removed]",
            "text/plain": [
              "<Figure size 432x288 with 1 Axes>"
            ]
          },
          "metadata": {
            "tags": [],
            "needs_background": "light"
          }
        }
      ]
    },
    {
      "cell_type": "code",
      "metadata": {
        "colab": {
          "base_uri": "https://localhost:8080/"
        },
        "id": "gug_0bVUxxih",
        "outputId": "c68b86a9-8a86-4c22-8082-835e475c6dfe"
      },
      "source": [
        "#training LSTM with glove embeddings\n",
        "lstm_model = LSTMClassifier(len(v_glove.w2i), 300, 168, len(t2i), v_glove)\n",
        "\n",
        "# copy pre-trained word vectors into embeddings table\n",
        "with torch.no_grad():\n",
        "  lstm_model.embed.weight.data.copy_(torch.from_numpy(vectors_glove))\n",
        "  lstm_model.embed.weight.requires_grad = False\n",
        "\n",
        "print(lstm_model)\n",
        "print_parameters(lstm_model)\n",
        "\n",
        "lstm_model = lstm_model.to(device)\n",
        "optimizer = optim.Adam(lstm_model.parameters(), lr=3e-4)\n",
        "\n",
        "lstm_losses, lstm_accuracies = train_model(\n",
        "    lstm_model, optimizer, num_iterations=25000, \n",
        "    print_every=250, eval_every=1000)"
      ],
      "execution_count": 81,
      "outputs": [
        {
          "output_type": "stream",
          "text": [
            "LSTMClassifier(\n",
            "  (embed): Embedding(20727, 300, padding_idx=1)\n",
            "  (rnn): MyLSTMCell(300, 168)\n",
            "  (output_layer): Sequential(\n",
            "    (0): Dropout(p=0.5, inplace=False)\n",
            "    (1): Linear(in_features=168, out_features=5, bias=True)\n",
            "  )\n",
            ")\n",
            "embed.weight             [20727, 300] requires_grad=False\n",
            "rnn.ii_linear.weight     [168, 300]   requires_grad=True\n",
            "rnn.ii_linear.bias       [168]        requires_grad=True\n",
            "rnn.if_linear.weight     [168, 300]   requires_grad=True\n",
            "rnn.if_linear.bias       [168]        requires_grad=True\n",
            "rnn.ig_linear.weight     [168, 300]   requires_grad=True\n",
            "rnn.ig_linear.bias       [168]        requires_grad=True\n",
            "rnn.io_linear.weight     [168, 300]   requires_grad=True\n",
            "rnn.io_linear.bias       [168]        requires_grad=True\n",
            "rnn.hi_linear.weight     [168, 168]   requires_grad=True\n",
            "rnn.hi_linear.bias       [168]        requires_grad=True\n",
            "rnn.hf_linear.weight     [168, 168]   requires_grad=True\n",
            "rnn.hf_linear.bias       [168]        requires_grad=True\n",
            "rnn.hg_linear.weight     [168, 168]   requires_grad=True\n",
            "rnn.hg_linear.bias       [168]        requires_grad=True\n",
            "rnn.ho_linear.weight     [168, 168]   requires_grad=True\n",
            "rnn.ho_linear.bias       [168]        requires_grad=True\n",
            "output_layer.1.weight    [5, 168]     requires_grad=True\n",
            "output_layer.1.bias      [5]          requires_grad=True\n",
            "\n",
            "Total number of parameters: 6534785\n",
            "\n",
            "Shuffling training data\n",
            "Iter 250: loss=389.6293, time=6.72s\n",
            "Iter 500: loss=389.4829, time=13.26s\n",
            "Iter 750: loss=395.1473, time=19.76s\n",
            "Iter 1000: loss=389.5738, time=26.47s\n",
            "iter 1000: dev acc=0.3715\n",
            "new highscore\n",
            "Iter 1250: loss=377.4054, time=44.05s\n",
            "Iter 1500: loss=366.9599, time=50.45s\n",
            "Iter 1750: loss=363.0173, time=56.98s\n",
            "Iter 2000: loss=363.5489, time=63.67s\n",
            "iter 2000: dev acc=0.3388\n",
            "Iter 2250: loss=355.4441, time=81.50s\n",
            "Iter 2500: loss=353.0544, time=88.06s\n",
            "Iter 2750: loss=344.2691, time=94.45s\n",
            "Iter 3000: loss=362.4580, time=101.12s\n",
            "iter 3000: dev acc=0.3996\n",
            "new highscore\n",
            "Iter 3250: loss=350.0152, time=118.74s\n",
            "Iter 3500: loss=342.2425, time=125.49s\n",
            "Iter 3750: loss=324.3691, time=132.03s\n",
            "Iter 4000: loss=337.8797, time=138.82s\n",
            "iter 4000: dev acc=0.3906\n",
            "Iter 4250: loss=334.5724, time=156.33s\n",
            "Iter 4500: loss=350.4118, time=163.06s\n",
            "Iter 4750: loss=333.4466, time=169.96s\n",
            "Iter 5000: loss=339.0369, time=176.98s\n",
            "iter 5000: dev acc=0.4078\n",
            "new highscore\n",
            "Iter 5250: loss=326.3918, time=194.27s\n",
            "Iter 5500: loss=332.9001, time=200.74s\n",
            "Iter 5750: loss=325.7251, time=207.40s\n",
            "Iter 6000: loss=336.5329, time=214.32s\n",
            "iter 6000: dev acc=0.4278\n",
            "new highscore\n",
            "Iter 6250: loss=330.8847, time=231.94s\n",
            "Iter 6500: loss=322.3920, time=239.10s\n",
            "Iter 6750: loss=336.5443, time=246.07s\n",
            "Iter 7000: loss=331.4271, time=252.82s\n",
            "iter 7000: dev acc=0.3851\n",
            "Iter 7250: loss=334.1111, time=270.57s\n",
            "Iter 7500: loss=328.4976, time=277.12s\n",
            "Iter 7750: loss=321.1695, time=284.20s\n",
            "Iter 8000: loss=346.3221, time=291.33s\n",
            "iter 8000: dev acc=0.4105\n",
            "Iter 8250: loss=320.4251, time=309.05s\n",
            "Iter 8500: loss=330.3509, time=315.72s\n",
            "Shuffling training data\n",
            "Iter 8750: loss=320.9371, time=322.25s\n",
            "Iter 9000: loss=322.6292, time=329.11s\n",
            "iter 9000: dev acc=0.4033\n",
            "Iter 9250: loss=318.8567, time=346.76s\n",
            "Iter 9500: loss=305.4848, time=353.62s\n",
            "Iter 9750: loss=320.3869, time=360.17s\n",
            "Iter 10000: loss=320.2439, time=366.92s\n",
            "iter 10000: dev acc=0.4114\n",
            "Iter 10250: loss=317.2225, time=384.53s\n",
            "Iter 10500: loss=318.4015, time=391.55s\n",
            "Iter 10750: loss=312.9157, time=398.21s\n",
            "Iter 11000: loss=324.9500, time=404.77s\n",
            "iter 11000: dev acc=0.4223\n",
            "Iter 11250: loss=305.1848, time=422.30s\n",
            "Iter 11500: loss=317.4466, time=428.70s\n",
            "Iter 11750: loss=304.7481, time=435.23s\n",
            "Iter 12000: loss=305.6893, time=442.03s\n",
            "iter 12000: dev acc=0.4233\n",
            "Iter 12250: loss=324.0044, time=459.41s\n",
            "Iter 12500: loss=334.9250, time=466.18s\n",
            "Iter 12750: loss=298.4044, time=472.62s\n",
            "Iter 13000: loss=304.9810, time=479.42s\n",
            "iter 13000: dev acc=0.4233\n",
            "Iter 13250: loss=328.5013, time=496.95s\n",
            "Iter 13500: loss=305.2989, time=503.71s\n",
            "Iter 13750: loss=304.6536, time=510.39s\n",
            "Iter 14000: loss=295.6930, time=516.95s\n",
            "iter 14000: dev acc=0.4378\n",
            "new highscore\n",
            "Iter 14250: loss=313.1784, time=534.49s\n",
            "Iter 14500: loss=302.2683, time=541.01s\n",
            "Iter 14750: loss=332.1310, time=547.79s\n",
            "Iter 15000: loss=309.5932, time=554.39s\n",
            "iter 15000: dev acc=0.4387\n",
            "new highscore\n",
            "Iter 15250: loss=318.0667, time=572.14s\n",
            "Iter 15500: loss=322.3201, time=578.86s\n",
            "Iter 15750: loss=312.7793, time=585.51s\n",
            "Iter 16000: loss=307.5691, time=592.06s\n",
            "iter 16000: dev acc=0.4487\n",
            "new highscore\n",
            "Iter 16250: loss=296.4997, time=609.73s\n",
            "Iter 16500: loss=318.7661, time=616.35s\n",
            "Iter 16750: loss=318.9307, time=623.06s\n",
            "Iter 17000: loss=311.2958, time=629.86s\n",
            "iter 17000: dev acc=0.4332\n",
            "Shuffling training data\n",
            "Iter 17250: loss=311.3807, time=647.69s\n",
            "Iter 17500: loss=302.0969, time=654.79s\n",
            "Iter 17750: loss=291.9326, time=661.38s\n",
            "Iter 18000: loss=296.8524, time=667.98s\n",
            "iter 18000: dev acc=0.4314\n",
            "Iter 18250: loss=305.4664, time=685.39s\n",
            "Iter 18500: loss=285.1593, time=692.14s\n",
            "Iter 18750: loss=316.2800, time=698.97s\n",
            "Iter 19000: loss=301.3850, time=705.30s\n",
            "iter 19000: dev acc=0.4523\n",
            "new highscore\n",
            "Iter 19250: loss=297.4095, time=723.16s\n",
            "Iter 19500: loss=300.7472, time=730.03s\n",
            "Iter 19750: loss=295.9185, time=736.64s\n",
            "Iter 20000: loss=281.4684, time=743.36s\n",
            "iter 20000: dev acc=0.4559\n",
            "new highscore\n",
            "Iter 20250: loss=291.2955, time=761.21s\n",
            "Iter 20500: loss=290.8717, time=768.06s\n",
            "Iter 20750: loss=292.3042, time=774.67s\n",
            "Iter 21000: loss=292.7569, time=781.56s\n",
            "iter 21000: dev acc=0.4405\n",
            "Iter 21250: loss=300.1473, time=799.68s\n",
            "Iter 21500: loss=285.8148, time=806.13s\n",
            "Iter 21750: loss=288.4888, time=812.62s\n",
            "Iter 22000: loss=288.8541, time=819.26s\n",
            "iter 22000: dev acc=0.4550\n",
            "Iter 22250: loss=293.1844, time=836.93s\n",
            "Iter 22500: loss=278.6892, time=844.01s\n",
            "Iter 22750: loss=284.9753, time=850.35s\n",
            "Iter 23000: loss=282.0083, time=857.00s\n",
            "iter 23000: dev acc=0.4605\n",
            "new highscore\n",
            "Iter 23250: loss=286.5662, time=874.44s\n",
            "Iter 23500: loss=307.2139, time=881.35s\n",
            "Iter 23750: loss=308.7734, time=888.10s\n",
            "Iter 24000: loss=291.1462, time=895.09s\n",
            "iter 24000: dev acc=0.4605\n",
            "Iter 24250: loss=291.7670, time=912.45s\n",
            "Iter 24500: loss=281.5736, time=919.00s\n",
            "Iter 24750: loss=306.3635, time=925.74s\n",
            "Iter 25000: loss=292.6295, time=932.47s\n",
            "iter 25000: dev acc=0.4559\n",
            "Done training\n",
            "Loading best model\n",
            "best model iter 23000: train acc=0.5386, dev acc=0.4605, test acc=0.4647, test acc long sent 1 sd=0.4545, test acc long sent 1.5 sd=0.4973, test acc short sent 1 sd=0.5185, test acc short sent 1.5 sd=0.4583\n"
          ],
          "name": "stdout"
        }
      ]
    },
    {
      "cell_type": "code",
      "metadata": {
        "colab": {
          "base_uri": "https://localhost:8080/",
          "height": 297
        },
        "id": "NJVLAOKQx56n",
        "outputId": "2cb3acb3-2d0b-4b13-b26e-9bf25ed27685"
      },
      "source": [
        "# plot validation accuracy\n",
        "plt.plot(lstm_accuracies)\n",
        "plt.ylabel('Accuracy')\n",
        "plt.xlabel('Batches [in 1000]')"
      ],
      "execution_count": 82,
      "outputs": [
        {
          "output_type": "execute_result",
          "data": {
            "text/plain": [
              "Text(0.5, 0, 'Batches [in 1000]')"
            ]
          },
          "metadata": {
            "tags": []
          },
          "execution_count": 82
        },
        {
          "output_type": "display_data",
          "data": {
            "image/png": "[encoded data removed]",
            "text/plain": [
              "<Figure size 432x288 with 1 Axes>"
            ]
          },
          "metadata": {
            "tags": [],
            "needs_background": "light"
          }
        }
      ]
    },
    {
      "cell_type": "code",
      "metadata": {
        "colab": {
          "base_uri": "https://localhost:8080/",
          "height": 286
        },
        "id": "e-S1A9G5x6_2",
        "outputId": "7cef27f9-7e8b-4d7d-c7d5-dc1cb56ae6bf"
      },
      "source": [
        "# plot training loss\n",
        "plt.plot(lstm_losses)"
      ],
      "execution_count": 83,
      "outputs": [
        {
          "output_type": "execute_result",
          "data": {
            "text/plain": [
              "[<matplotlib.lines.Line2D at 0x7f61951a39b0>]"
            ]
          },
          "metadata": {
            "tags": []
          },
          "execution_count": 83
        },
        {
          "output_type": "display_data",
          "data": {
            "image/png": "[encoded data removed]",
            "text/plain": [
              "<Figure size 432x288 with 1 Axes>"
            ]
          },
          "metadata": {
            "tags": [],
            "needs_background": "light"
          }
        }
      ]
    },
    {
      "cell_type": "markdown",
      "metadata": {
        "id": "YEw6XHQY_AAQ"
      },
      "source": [
        "# Mini-batching\n",
        "\n"
      ]
    },
    {
      "cell_type": "markdown",
      "metadata": {
        "id": "FPf96wGzBTQJ"
      },
      "source": [
        "**Why is the LSTM so slow?** Despite our best efforts, we still need to make a lot of matrix multiplications per example (linear in the length of the example) just to get a single classification, and we can only process the 2nd word once we have computed the hidden state for the 1st word (sequential computation).\n",
        "\n",
        "GPUs are more efficient if we do a few big matrix multiplications, rather than lots of small ones. If we could process multiple examples at the same time, then we could exploit that. That is, we could still process the input sequentially, but doing so for multiple sentences at the same time.\n",
        "\n",
        "Up to now our \"mini-batches\" consisted of a single example. This was for a reason: the sentences in our data sets have **different lengths**, and this makes it difficult to process them at the same time.\n",
        "\n",
        "Consider a batch of 2 sentences:\n",
        "\n",
        "```\n",
        "this movie is bad\n",
        "this movie is super cool !\n",
        "```\n",
        "\n",
        "Let's say the IDs for these sentences are:\n",
        "\n",
        "```\n",
        "2 3 4 5\n",
        "2 3 4 6 7 8\n",
        "```\n",
        "\n",
        "We cannot feed PyTorch an object with rows of variable length! We need to turn this into a matrix.\n",
        "\n",
        "The solution is to add **padding values** to our mini-batch:\n",
        "\n",
        "```\n",
        "2 3 4 5 1 1\n",
        "2 3 4 6 7 8\n",
        "```\n",
        "\n",
        "Whenever a sentence is shorter than the longest sentence in a mini-batch, we just use a padding value (here: 1) to fill the matrix.\n",
        "\n",
        "In our computation, we should **ignore** the padding positions (e.g. mask them out) so that paddings do not contribute to the loss.\n",
        "\n",
        "#### Mini-batch feed\n",
        "We will now implement a `get_minibatch` function which will replace `get_example` and returns a mini-batch of the requested size."
      ]
    },
    {
      "cell_type": "code",
      "metadata": {
        "id": "IoAE2JBiXJ3P"
      },
      "source": [
        "def get_minibatch(data, batch_size=25, shuffle=True):\n",
        "  \"\"\"Return minibatches, optional shuffling\"\"\"\n",
        "  \n",
        "  if shuffle:\n",
        "    print(\"Shuffling training data\")\n",
        "    random.shuffle(data)  # shuffle training data each epoch\n",
        "  \n",
        "  batch = []\n",
        "  \n",
        "  # yield minibatches\n",
        "  for example in data:\n",
        "    batch.append(example)\n",
        "    \n",
        "    if len(batch) == batch_size:\n",
        "      yield batch\n",
        "      batch = []\n",
        "      \n",
        "  # in case there is something left\n",
        "  if len(batch) > 0:\n",
        "    yield batch"
      ],
      "execution_count": 50,
      "outputs": []
    },
    {
      "cell_type": "markdown",
      "metadata": {
        "id": "DwZM-XYkT8Zx"
      },
      "source": [
        "#### Padding function\n",
        "We will need a function that adds padding 1s to a sequence of IDs so that\n",
        "it becomes as long as the longest sequence in the minibatch."
      ]
    },
    {
      "cell_type": "code",
      "metadata": {
        "colab": {
          "base_uri": "https://localhost:8080/"
        },
        "id": "sp0sK1ghw4Ft",
        "outputId": "570471bb-40b7-4687-9355-14a03e4f9e98"
      },
      "source": [
        "def pad(tokens, length, pad_value=1):\n",
        "  \"\"\"add padding 1s to a sequence to that it has the desired length\"\"\"\n",
        "  return tokens + [pad_value] * (length - len(tokens))\n",
        "\n",
        "# example\n",
        "tokens = [2, 3, 4]\n",
        "pad(tokens, 5)"
      ],
      "execution_count": 51,
      "outputs": [
        {
          "output_type": "execute_result",
          "data": {
            "text/plain": [
              "[2, 3, 4, 1, 1]"
            ]
          },
          "metadata": {
            "tags": []
          },
          "execution_count": 51
        }
      ]
    },
    {
      "cell_type": "markdown",
      "metadata": {
        "id": "SL2iixMYUgfh"
      },
      "source": [
        "#### New `prepare` function\n",
        "\n",
        "We will also need a new function that turns a mini-batch into PyTorch tensors."
      ]
    },
    {
      "cell_type": "code",
      "metadata": {
        "id": "ZID0cqozWks8"
      },
      "source": [
        "def prepare_minibatch(mb, vocab):\n",
        "  \"\"\"\n",
        "  Minibatch is a list of examples.\n",
        "  This function converts words to IDs and returns\n",
        "  torch tensors to be used as input/targets.\n",
        "  \"\"\"\n",
        "  batch_size = len(mb)\n",
        "  maxlen = max([len(ex.tokens) for ex in mb])\n",
        "  \n",
        "  # vocab returns 0 if the word is not there\n",
        "  x = [pad([vocab.w2i.get(t, 0) for t in ex.tokens], maxlen) for ex in mb]\n",
        "  \n",
        "  x = torch.LongTensor(x)\n",
        "  x = x.to(device)\n",
        "  \n",
        "  y = [ex.label for ex in mb]\n",
        "  y = torch.LongTensor(y)\n",
        "  y = y.to(device)\n",
        "  \n",
        "  return x, y"
      ],
      "execution_count": 52,
      "outputs": []
    },
    {
      "cell_type": "code",
      "metadata": {
        "colab": {
          "base_uri": "https://localhost:8080/"
        },
        "id": "OwDAtCv1x2hB",
        "outputId": "93e3f479-4d0b-48da-e074-19f72d817f66"
      },
      "source": [
        "# Let's test our new function.\n",
        "# This should give us 3 examples.\n",
        "mb = next(get_minibatch(train_data, batch_size=3, shuffle=False))\n",
        "for ex in mb:\n",
        "  print(ex)"
      ],
      "execution_count": 53,
      "outputs": [
        {
          "output_type": "stream",
          "text": [
            "Example(tokens=['The', 'Rock', 'is', 'destined', 'to', 'be', 'the', '21st', 'Century', \"'s\", 'new', '``', 'Conan', \"''\", 'and', 'that', 'he', \"'s\", 'going', 'to', 'make', 'a', 'splash', 'even', 'greater', 'than', 'Arnold', 'Schwarzenegger', ',', 'Jean-Claud', 'Van', 'Damme', 'or', 'Steven', 'Segal', '.'], tree=Tree('3', [Tree('2', [Tree('2', ['The']), Tree('2', ['Rock'])]), Tree('4', [Tree('3', [Tree('2', ['is']), Tree('4', [Tree('2', ['destined']), Tree('2', [Tree('2', [Tree('2', [Tree('2', [Tree('2', ['to']), Tree('2', [Tree('2', ['be']), Tree('2', [Tree('2', ['the']), Tree('2', [Tree('2', ['21st']), Tree('2', [Tree('2', [Tree('2', ['Century']), Tree('2', [\"'s\"])]), Tree('2', [Tree('3', ['new']), Tree('2', [Tree('2', ['``']), Tree('2', ['Conan'])])])])])])])]), Tree('2', [\"''\"])]), Tree('2', ['and'])]), Tree('3', [Tree('2', ['that']), Tree('3', [Tree('2', ['he']), Tree('3', [Tree('2', [\"'s\"]), Tree('3', [Tree('2', ['going']), Tree('3', [Tree('2', ['to']), Tree('4', [Tree('3', [Tree('2', ['make']), Tree('3', [Tree('3', [Tree('2', ['a']), Tree('3', ['splash'])]), Tree('2', [Tree('2', ['even']), Tree('3', ['greater'])])])]), Tree('2', [Tree('2', ['than']), Tree('2', [Tree('2', [Tree('2', [Tree('2', [Tree('1', [Tree('2', ['Arnold']), Tree('2', ['Schwarzenegger'])]), Tree('2', [','])]), Tree('2', [Tree('2', ['Jean-Claud']), Tree('2', [Tree('2', ['Van']), Tree('2', ['Damme'])])])]), Tree('2', ['or'])]), Tree('2', [Tree('2', ['Steven']), Tree('2', ['Segal'])])])])])])])])])])])])]), Tree('2', ['.'])])]), label=3, transitions=[0, 0, 1, 0, 0, 0, 0, 0, 0, 0, 0, 1, 0, 0, 0, 1, 1, 1, 1, 1, 1, 1, 0, 1, 0, 1, 0, 0, 0, 0, 0, 0, 0, 0, 1, 0, 0, 1, 1, 1, 0, 0, 0, 1, 0, 1, 0, 0, 0, 1, 1, 1, 0, 1, 0, 0, 1, 1, 1, 1, 1, 1, 1, 1, 1, 1, 1, 1, 0, 1, 1])\n",
            "Example(tokens=['The', 'gorgeously', 'elaborate', 'continuation', 'of', '``', 'The', 'Lord', 'of', 'the', 'Rings', \"''\", 'trilogy', 'is', 'so', 'huge', 'that', 'a', 'column', 'of', 'words', 'can', 'not', 'adequately', 'describe', 'co-writer/director', 'Peter', 'Jackson', \"'s\", 'expanded', 'vision', 'of', 'J.R.R.', 'Tolkien', \"'s\", 'Middle-earth', '.'], tree=Tree('4', [Tree('4', [Tree('4', [Tree('2', ['The']), Tree('4', [Tree('3', ['gorgeously']), Tree('3', [Tree('2', ['elaborate']), Tree('2', ['continuation'])])])]), Tree('2', [Tree('2', [Tree('2', ['of']), Tree('2', ['``'])]), Tree('2', [Tree('2', ['The']), Tree('2', [Tree('2', [Tree('2', ['Lord']), Tree('2', [Tree('2', ['of']), Tree('2', [Tree('2', ['the']), Tree('2', ['Rings'])])])]), Tree('2', [Tree('2', [\"''\"]), Tree('2', ['trilogy'])])])])])]), Tree('2', [Tree('3', [Tree('2', [Tree('2', ['is']), Tree('2', [Tree('2', ['so']), Tree('2', ['huge'])])]), Tree('2', [Tree('2', ['that']), Tree('3', [Tree('2', [Tree('2', [Tree('2', ['a']), Tree('2', ['column'])]), Tree('2', [Tree('2', ['of']), Tree('2', ['words'])])]), Tree('2', [Tree('2', [Tree('2', [Tree('2', ['can']), Tree('1', ['not'])]), Tree('3', ['adequately'])]), Tree('2', [Tree('2', ['describe']), Tree('2', [Tree('3', [Tree('2', [Tree('2', ['co-writer/director']), Tree('2', [Tree('2', ['Peter']), Tree('3', [Tree('2', ['Jackson']), Tree('2', [\"'s\"])])])]), Tree('3', [Tree('2', ['expanded']), Tree('2', ['vision'])])]), Tree('2', [Tree('2', ['of']), Tree('2', [Tree('2', [Tree('2', ['J.R.R.']), Tree('2', [Tree('2', ['Tolkien']), Tree('2', [\"'s\"])])]), Tree('2', ['Middle-earth'])])])])])])])])]), Tree('2', ['.'])])]), label=4, transitions=[0, 0, 0, 0, 1, 1, 1, 0, 0, 1, 0, 0, 0, 0, 0, 1, 1, 1, 0, 0, 1, 1, 1, 1, 1, 0, 0, 0, 1, 1, 0, 0, 0, 1, 0, 0, 1, 1, 0, 0, 1, 0, 1, 0, 0, 0, 0, 0, 1, 1, 1, 0, 0, 1, 1, 0, 0, 0, 0, 1, 1, 0, 1, 1, 1, 1, 1, 1, 1, 1, 0, 1, 1])\n",
            "Example(tokens=['Singer/composer', 'Bryan', 'Adams', 'contributes', 'a', 'slew', 'of', 'songs', '--', 'a', 'few', 'potential', 'hits', ',', 'a', 'few', 'more', 'simply', 'intrusive', 'to', 'the', 'story', '--', 'but', 'the', 'whole', 'package', 'certainly', 'captures', 'the', 'intended', ',', 'er', ',', 'spirit', 'of', 'the', 'piece', '.'], tree=Tree('3', [Tree('3', [Tree('2', [Tree('2', [Tree('2', [Tree('2', [Tree('2', ['Singer/composer']), Tree('2', [Tree('2', ['Bryan']), Tree('2', ['Adams'])])]), Tree('2', [Tree('2', ['contributes']), Tree('2', [Tree('2', [Tree('2', ['a']), Tree('2', ['slew'])]), Tree('2', [Tree('2', ['of']), Tree('2', ['songs'])])])])]), Tree('2', [Tree('2', ['--']), Tree('2', [Tree('2', [Tree('2', [Tree('2', ['a']), Tree('2', [Tree('2', ['few']), Tree('3', ['potential'])])]), Tree('2', [Tree('2', [Tree('2', ['hits']), Tree('2', [','])]), Tree('2', [Tree('2', [Tree('2', ['a']), Tree('2', ['few'])]), Tree('1', [Tree('1', [Tree('2', ['more']), Tree('1', [Tree('2', ['simply']), Tree('2', ['intrusive'])])]), Tree('2', [Tree('2', ['to']), Tree('2', [Tree('2', ['the']), Tree('2', ['story'])])])])])])]), Tree('2', ['--'])])])]), Tree('2', ['but'])]), Tree('3', [Tree('4', [Tree('2', ['the']), Tree('3', [Tree('2', ['whole']), Tree('2', ['package'])])]), Tree('2', [Tree('3', ['certainly']), Tree('3', [Tree('2', ['captures']), Tree('2', [Tree('1', [Tree('2', ['the']), Tree('2', [Tree('2', [Tree('2', ['intended']), Tree('2', [Tree('2', [',']), Tree('2', [Tree('2', ['er']), Tree('2', [','])])])]), Tree('3', ['spirit'])])]), Tree('2', [Tree('2', ['of']), Tree('2', [Tree('2', ['the']), Tree('2', ['piece'])])])])])])])]), Tree('2', ['.'])]), label=3, transitions=[0, 0, 0, 1, 1, 0, 0, 0, 1, 0, 0, 1, 1, 1, 1, 0, 0, 0, 0, 1, 1, 0, 0, 1, 0, 0, 1, 0, 0, 0, 1, 1, 0, 0, 0, 1, 1, 1, 1, 1, 1, 0, 1, 1, 1, 0, 1, 0, 0, 0, 1, 1, 0, 0, 0, 0, 0, 0, 0, 1, 1, 1, 0, 1, 1, 0, 0, 0, 1, 1, 1, 1, 1, 1, 1, 0, 1])\n"
          ],
          "name": "stdout"
        }
      ]
    },
    {
      "cell_type": "code",
      "metadata": {
        "colab": {
          "base_uri": "https://localhost:8080/"
        },
        "id": "dg8zEK8zyUCH",
        "outputId": "c200c474-b366-4caa-aa38-b9bb87d7f3aa"
      },
      "source": [
        "# We should find padding 1s at the end\n",
        "x, y = prepare_minibatch(mb, v)\n",
        "print(\"x\", x)\n",
        "print(\"y\", y)"
      ],
      "execution_count": 88,
      "outputs": [
        {
          "output_type": "stream",
          "text": [
            "x tensor([[ 110,   10,  158, 4455,   35,   25,   20,    2,    1,    1,    1,    1,\n",
            "            1,    1,    1,    1,    1,    1,    1,    1,    1,    1,    1,    1,\n",
            "            1,    1,    1,    1,    1,    1,    1,    1,    1],\n",
            "        [  14,   20,   10, 8292,    5, 2610,   55,   32, 1470,  903,    7, 6300,\n",
            "            3,    5,    4, 4523,  225,   45,   65,  289,   10,   11,   45,  217,\n",
            "           26, 1653,    6,  736,  840, 3483,   19,   13,    2],\n",
            "        [ 332,    4,  318,   34, 7152,    7,   98,    3,   10,    8,  417,   12,\n",
            "          119,   11,   10, 2341,    2,    1,    1,    1,    1,    1,    1,    1,\n",
            "            1,    1,    1,    1,    1,    1,    1,    1,    1]],\n",
            "       device='cuda:0')\n",
            "y tensor([0, 0, 2], device='cuda:0')\n"
          ],
          "name": "stdout"
        }
      ]
    },
    {
      "cell_type": "markdown",
      "metadata": {
        "id": "xYBJEoSNUwI0"
      },
      "source": [
        "#### Evaluate (mini-batch version)\n",
        "\n",
        "We can now update our evaluation function to use mini-batches"
      ]
    },
    {
      "cell_type": "code",
      "metadata": {
        "id": "eiZZpEghzqou"
      },
      "source": [
        "def evaluate(model, data, \n",
        "             batch_fn=get_minibatch, prep_fn=prepare_minibatch,\n",
        "             batch_size=16):\n",
        "  \"\"\"Accuracy of a model on given data set (using mini-batches)\"\"\"\n",
        "  correct = 0\n",
        "  total = 0\n",
        "  model.eval()  # disable dropout\n",
        "\n",
        "  for mb in batch_fn(data, batch_size=batch_size, shuffle=False):\n",
        "    x, targets = prep_fn(mb, model.vocab)\n",
        "    with torch.no_grad():\n",
        "      logits = model(x)\n",
        "      \n",
        "    predictions = logits.argmax(dim=-1).view(-1)\n",
        "    \n",
        "    # add the number of correct predictions to the total correct\n",
        "    correct += (predictions == targets.view(-1)).sum().item()\n",
        "    total += targets.size(0)\n",
        "\n",
        "  return correct, total, correct / float(total)"
      ],
      "execution_count": 54,
      "outputs": []
    },
    {
      "cell_type": "markdown",
      "metadata": {
        "id": "23wAZomozh_2"
      },
      "source": [
        "# LSTM (Mini-batched)"
      ]
    },
    {
      "cell_type": "markdown",
      "metadata": {
        "id": "B-gkPU7jzBe2"
      },
      "source": [
        "With this, let's run the LSTM again but now using mini-batches!"
      ]
    },
    {
      "cell_type": "code",
      "metadata": {
        "colab": {
          "base_uri": "https://localhost:8080/"
        },
        "id": "226Xg9OPzFbA",
        "outputId": "31d3c6f5-2ca6-44cd-b8e4-91b2a8f3c455"
      },
      "source": [
        "#train with w2vec embeddings\n",
        "lstm_model = LSTMClassifier(\n",
        "    len(v_w2vec.w2i), 300, 168, len(t2i), v_w2vec)\n",
        "\n",
        "# copy pre-trained vectors into embeddings table\n",
        "with torch.no_grad():\n",
        "  lstm_model.embed.weight.data.copy_(torch.from_numpy(vectors_w2vec))\n",
        "  lstm_model.embed.weight.requires_grad = False\n",
        "\n",
        "print(lstm_model)\n",
        "print_parameters(lstm_model)  \n",
        "  \n",
        "lstm_model = lstm_model.to(device)\n",
        "\n",
        "batch_size = 25\n",
        "optimizer = optim.Adam(lstm_model.parameters(), lr=2e-4)\n",
        "\n",
        "lstm_losses, lstm_accuracies = train_model(\n",
        "    lstm_model, optimizer, num_iterations=30000, \n",
        "    print_every=250, eval_every=250,\n",
        "    batch_size=batch_size,\n",
        "    batch_fn=get_minibatch, \n",
        "    prep_fn=prepare_minibatch,\n",
        "    eval_fn=evaluate)"
      ],
      "execution_count": 90,
      "outputs": [
        {
          "output_type": "stream",
          "text": [
            "LSTMClassifier(\n",
            "  (embed): Embedding(18922, 300, padding_idx=1)\n",
            "  (rnn): MyLSTMCell(300, 168)\n",
            "  (output_layer): Sequential(\n",
            "    (0): Dropout(p=0.5, inplace=False)\n",
            "    (1): Linear(in_features=168, out_features=5, bias=True)\n",
            "  )\n",
            ")\n",
            "embed.weight             [18922, 300] requires_grad=False\n",
            "rnn.ii_linear.weight     [168, 300]   requires_grad=True\n",
            "rnn.ii_linear.bias       [168]        requires_grad=True\n",
            "rnn.if_linear.weight     [168, 300]   requires_grad=True\n",
            "rnn.if_linear.bias       [168]        requires_grad=True\n",
            "rnn.ig_linear.weight     [168, 300]   requires_grad=True\n",
            "rnn.ig_linear.bias       [168]        requires_grad=True\n",
            "rnn.io_linear.weight     [168, 300]   requires_grad=True\n",
            "rnn.io_linear.bias       [168]        requires_grad=True\n",
            "rnn.hi_linear.weight     [168, 168]   requires_grad=True\n",
            "rnn.hi_linear.bias       [168]        requires_grad=True\n",
            "rnn.hf_linear.weight     [168, 168]   requires_grad=True\n",
            "rnn.hf_linear.bias       [168]        requires_grad=True\n",
            "rnn.hg_linear.weight     [168, 168]   requires_grad=True\n",
            "rnn.hg_linear.bias       [168]        requires_grad=True\n",
            "rnn.ho_linear.weight     [168, 168]   requires_grad=True\n",
            "rnn.ho_linear.bias       [168]        requires_grad=True\n",
            "output_layer.1.weight    [5, 168]     requires_grad=True\n",
            "output_layer.1.bias      [5]          requires_grad=True\n",
            "\n",
            "Total number of parameters: 5993285\n",
            "\n",
            "Shuffling training data\n",
            "Iter 250: loss=393.9410, time=13.20s\n",
            "iter 250: dev acc=0.2607\n",
            "new highscore\n",
            "Shuffling training data\n",
            "Iter 500: loss=383.6634, time=27.32s\n",
            "iter 500: dev acc=0.3642\n",
            "new highscore\n",
            "Shuffling training data\n",
            "Iter 750: loss=356.2416, time=41.31s\n",
            "iter 750: dev acc=0.3787\n",
            "new highscore\n",
            "Iter 1000: loss=344.2937, time=55.30s\n",
            "iter 1000: dev acc=0.3824\n",
            "new highscore\n",
            "Shuffling training data\n",
            "Iter 1250: loss=336.1145, time=69.31s\n",
            "iter 1250: dev acc=0.3960\n",
            "new highscore\n",
            "Shuffling training data\n",
            "Iter 1500: loss=324.8009, time=83.05s\n",
            "iter 1500: dev acc=0.4142\n",
            "new highscore\n",
            "Shuffling training data\n",
            "Iter 1750: loss=324.9501, time=96.93s\n",
            "iter 1750: dev acc=0.4278\n",
            "new highscore\n",
            "Iter 2000: loss=319.1843, time=111.09s\n",
            "iter 2000: dev acc=0.4441\n",
            "new highscore\n",
            "Shuffling training data\n",
            "Iter 2250: loss=314.0384, time=125.25s\n",
            "iter 2250: dev acc=0.4332\n",
            "Shuffling training data\n",
            "Iter 2500: loss=311.6211, time=139.23s\n",
            "iter 2500: dev acc=0.4405\n",
            "Shuffling training data\n",
            "Iter 2750: loss=311.7030, time=153.14s\n",
            "iter 2750: dev acc=0.4323\n",
            "Iter 3000: loss=307.3312, time=166.96s\n",
            "iter 3000: dev acc=0.4460\n",
            "new highscore\n",
            "Shuffling training data\n",
            "Iter 3250: loss=304.9158, time=180.96s\n",
            "iter 3250: dev acc=0.4405\n",
            "Shuffling training data\n",
            "Iter 3500: loss=303.4413, time=194.80s\n",
            "iter 3500: dev acc=0.4441\n",
            "Iter 3750: loss=298.8290, time=208.96s\n",
            "iter 3750: dev acc=0.4478\n",
            "new highscore\n",
            "Shuffling training data\n",
            "Iter 4000: loss=295.7672, time=222.91s\n",
            "iter 4000: dev acc=0.4514\n",
            "new highscore\n",
            "Shuffling training data\n",
            "Iter 4250: loss=291.1727, time=237.04s\n",
            "iter 4250: dev acc=0.4387\n",
            "Shuffling training data\n",
            "Iter 4500: loss=291.3560, time=250.89s\n",
            "iter 4500: dev acc=0.4441\n",
            "Iter 4750: loss=292.5860, time=264.83s\n",
            "iter 4750: dev acc=0.4387\n",
            "Shuffling training data\n",
            "Iter 5000: loss=283.4577, time=278.78s\n",
            "iter 5000: dev acc=0.4587\n",
            "new highscore\n",
            "Shuffling training data\n",
            "Iter 5250: loss=278.5551, time=292.90s\n",
            "iter 5250: dev acc=0.4432\n",
            "Shuffling training data\n",
            "Iter 5500: loss=283.7490, time=306.78s\n",
            "iter 5500: dev acc=0.4541\n",
            "Iter 5750: loss=274.2011, time=320.45s\n",
            "iter 5750: dev acc=0.4405\n",
            "Shuffling training data\n",
            "Iter 6000: loss=274.8192, time=334.36s\n",
            "iter 6000: dev acc=0.4387\n",
            "Shuffling training data\n",
            "Iter 6250: loss=271.0873, time=348.37s\n",
            "iter 6250: dev acc=0.4614\n",
            "new highscore\n",
            "Shuffling training data\n",
            "Iter 6500: loss=266.0476, time=362.37s\n",
            "iter 6500: dev acc=0.4432\n",
            "Iter 6750: loss=262.0732, time=376.26s\n",
            "iter 6750: dev acc=0.4450\n",
            "Shuffling training data\n",
            "Iter 7000: loss=259.8442, time=390.08s\n",
            "iter 7000: dev acc=0.4514\n",
            "Shuffling training data\n",
            "Iter 7250: loss=254.2306, time=404.03s\n",
            "iter 7250: dev acc=0.4378\n",
            "Iter 7500: loss=251.6877, time=418.13s\n",
            "iter 7500: dev acc=0.4260\n",
            "Shuffling training data\n",
            "Iter 7750: loss=248.0547, time=431.97s\n",
            "iter 7750: dev acc=0.4423\n",
            "Shuffling training data\n",
            "Iter 8000: loss=242.8814, time=445.88s\n",
            "iter 8000: dev acc=0.4578\n",
            "Shuffling training data\n",
            "Iter 8250: loss=240.3855, time=460.10s\n",
            "iter 8250: dev acc=0.4450\n",
            "Iter 8500: loss=232.5782, time=473.90s\n",
            "iter 8500: dev acc=0.4378\n",
            "Shuffling training data\n",
            "Iter 8750: loss=232.4066, time=488.07s\n",
            "iter 8750: dev acc=0.4478\n",
            "Shuffling training data\n",
            "Iter 9000: loss=224.9881, time=501.90s\n",
            "iter 9000: dev acc=0.4114\n",
            "Shuffling training data\n",
            "Iter 9250: loss=226.4941, time=515.91s\n",
            "iter 9250: dev acc=0.4450\n",
            "Iter 9500: loss=213.3166, time=529.79s\n",
            "iter 9500: dev acc=0.4278\n",
            "Shuffling training data\n",
            "Iter 9750: loss=211.6200, time=543.92s\n",
            "iter 9750: dev acc=0.4369\n",
            "Shuffling training data\n",
            "Iter 10000: loss=209.2798, time=557.70s\n",
            "iter 10000: dev acc=0.4169\n",
            "Iter 10250: loss=203.2510, time=571.57s\n",
            "iter 10250: dev acc=0.4396\n",
            "Shuffling training data\n",
            "Iter 10500: loss=197.9299, time=585.51s\n",
            "iter 10500: dev acc=0.4296\n",
            "Shuffling training data\n",
            "Iter 10750: loss=192.8166, time=599.37s\n",
            "iter 10750: dev acc=0.4242\n",
            "Shuffling training data\n",
            "Iter 11000: loss=192.1905, time=613.24s\n",
            "iter 11000: dev acc=0.4051\n",
            "Iter 11250: loss=184.3667, time=626.86s\n",
            "iter 11250: dev acc=0.4160\n",
            "Shuffling training data\n",
            "Iter 11500: loss=173.6917, time=640.86s\n",
            "iter 11500: dev acc=0.4242\n",
            "Shuffling training data\n",
            "Iter 11750: loss=176.4408, time=654.63s\n",
            "iter 11750: dev acc=0.3960\n",
            "Shuffling training data\n",
            "Iter 12000: loss=170.7672, time=668.62s\n",
            "iter 12000: dev acc=0.4060\n",
            "Iter 12250: loss=165.0171, time=682.43s\n",
            "iter 12250: dev acc=0.3978\n",
            "Shuffling training data\n",
            "Iter 12500: loss=163.8764, time=696.35s\n",
            "iter 12500: dev acc=0.3933\n",
            "Shuffling training data\n",
            "Iter 12750: loss=155.1840, time=710.30s\n",
            "iter 12750: dev acc=0.4042\n",
            "Shuffling training data\n",
            "Iter 13000: loss=153.5653, time=724.39s\n",
            "iter 13000: dev acc=0.3887\n",
            "Iter 13250: loss=142.6809, time=738.41s\n",
            "iter 13250: dev acc=0.3915\n",
            "Shuffling training data\n",
            "Iter 13500: loss=147.1904, time=752.37s\n",
            "iter 13500: dev acc=0.4005\n",
            "Shuffling training data\n",
            "Iter 13750: loss=140.7379, time=766.37s\n",
            "iter 13750: dev acc=0.3806\n",
            "Iter 14000: loss=140.6687, time=780.31s\n",
            "iter 14000: dev acc=0.3906\n",
            "Shuffling training data\n",
            "Iter 14250: loss=129.7752, time=794.30s\n",
            "iter 14250: dev acc=0.3978\n",
            "Shuffling training data\n",
            "Iter 14500: loss=130.5578, time=808.19s\n",
            "iter 14500: dev acc=0.3933\n",
            "Shuffling training data\n",
            "Iter 14750: loss=125.8464, time=821.98s\n",
            "iter 14750: dev acc=0.3924\n",
            "Iter 15000: loss=118.8126, time=835.84s\n",
            "iter 15000: dev acc=0.3915\n",
            "Shuffling training data\n",
            "Iter 15250: loss=110.2245, time=849.65s\n",
            "iter 15250: dev acc=0.3951\n",
            "Shuffling training data\n",
            "Iter 15500: loss=112.6698, time=863.78s\n",
            "iter 15500: dev acc=0.3942\n",
            "Shuffling training data\n",
            "Iter 15750: loss=117.0201, time=877.86s\n",
            "iter 15750: dev acc=0.3778\n",
            "Iter 16000: loss=103.1181, time=891.59s\n",
            "iter 16000: dev acc=0.3915\n",
            "Shuffling training data\n",
            "Iter 16250: loss=98.1431, time=905.32s\n",
            "iter 16250: dev acc=0.3824\n",
            "Shuffling training data\n",
            "Iter 16500: loss=102.2635, time=919.05s\n",
            "iter 16500: dev acc=0.3869\n",
            "Iter 16750: loss=110.3762, time=932.98s\n",
            "iter 16750: dev acc=0.3960\n",
            "Shuffling training data\n",
            "Iter 17000: loss=100.6752, time=946.84s\n",
            "iter 17000: dev acc=0.3896\n",
            "Shuffling training data\n",
            "Iter 17250: loss=92.0412, time=960.87s\n",
            "iter 17250: dev acc=0.3996\n",
            "Shuffling training data\n",
            "Iter 17500: loss=81.8388, time=974.76s\n",
            "iter 17500: dev acc=0.3815\n",
            "Iter 17750: loss=92.4313, time=988.93s\n",
            "iter 17750: dev acc=0.3942\n",
            "Shuffling training data\n",
            "Iter 18000: loss=85.7971, time=1002.67s\n",
            "iter 18000: dev acc=0.3733\n",
            "Shuffling training data\n",
            "Iter 18250: loss=83.5979, time=1016.87s\n",
            "iter 18250: dev acc=0.3797\n",
            "Shuffling training data\n",
            "Iter 18500: loss=78.3607, time=1030.69s\n",
            "iter 18500: dev acc=0.3760\n",
            "Iter 18750: loss=78.3682, time=1044.48s\n",
            "iter 18750: dev acc=0.4078\n",
            "Shuffling training data\n",
            "Iter 19000: loss=77.5907, time=1058.52s\n",
            "iter 19000: dev acc=0.3778\n",
            "Shuffling training data\n",
            "Iter 19250: loss=77.5036, time=1072.53s\n",
            "iter 19250: dev acc=0.3924\n",
            "Shuffling training data\n",
            "Iter 19500: loss=72.2040, time=1086.49s\n",
            "iter 19500: dev acc=0.3833\n",
            "Iter 19750: loss=71.2002, time=1100.20s\n",
            "iter 19750: dev acc=0.3915\n",
            "Shuffling training data\n",
            "Iter 20000: loss=71.0020, time=1114.31s\n",
            "iter 20000: dev acc=0.3860\n",
            "Shuffling training data\n",
            "Iter 20250: loss=71.2130, time=1128.02s\n",
            "iter 20250: dev acc=0.3924\n",
            "Iter 20500: loss=56.8809, time=1142.06s\n",
            "iter 20500: dev acc=0.3924\n",
            "Shuffling training data\n",
            "Iter 20750: loss=69.0934, time=1155.86s\n",
            "iter 20750: dev acc=0.3724\n",
            "Shuffling training data\n",
            "Iter 21000: loss=60.7561, time=1170.03s\n",
            "iter 21000: dev acc=0.3697\n",
            "Shuffling training data\n",
            "Iter 21250: loss=72.6640, time=1184.01s\n",
            "iter 21250: dev acc=0.4087\n",
            "Iter 21500: loss=60.5860, time=1197.76s\n",
            "iter 21500: dev acc=0.3987\n",
            "Shuffling training data\n",
            "Iter 21750: loss=52.8747, time=1211.47s\n",
            "iter 21750: dev acc=0.3906\n",
            "Shuffling training data\n",
            "Iter 22000: loss=65.9733, time=1225.59s\n",
            "iter 22000: dev acc=0.3778\n",
            "Shuffling training data\n",
            "Iter 22250: loss=56.3276, time=1239.98s\n",
            "iter 22250: dev acc=0.3860\n",
            "Iter 22500: loss=52.9814, time=1253.86s\n",
            "iter 22500: dev acc=0.3797\n",
            "Shuffling training data\n",
            "Iter 22750: loss=56.3273, time=1267.80s\n",
            "iter 22750: dev acc=0.3851\n",
            "Shuffling training data\n",
            "Iter 23000: loss=50.3199, time=1281.78s\n",
            "iter 23000: dev acc=0.3860\n",
            "Iter 23250: loss=47.9435, time=1295.56s\n",
            "iter 23250: dev acc=0.3760\n",
            "Shuffling training data\n",
            "Iter 23500: loss=51.1482, time=1309.74s\n",
            "iter 23500: dev acc=0.3942\n",
            "Shuffling training data\n",
            "Iter 23750: loss=51.3460, time=1323.58s\n",
            "iter 23750: dev acc=0.3860\n",
            "Shuffling training data\n",
            "Iter 24000: loss=41.7507, time=1337.56s\n",
            "iter 24000: dev acc=0.3951\n",
            "Iter 24250: loss=47.6759, time=1351.58s\n",
            "iter 24250: dev acc=0.3851\n",
            "Shuffling training data\n",
            "Iter 24500: loss=54.8555, time=1365.35s\n",
            "iter 24500: dev acc=0.3906\n",
            "Shuffling training data\n",
            "Iter 24750: loss=42.7766, time=1379.38s\n",
            "iter 24750: dev acc=0.3942\n",
            "Shuffling training data\n",
            "Iter 25000: loss=49.6517, time=1393.28s\n",
            "iter 25000: dev acc=0.3842\n",
            "Iter 25250: loss=47.4961, time=1407.09s\n",
            "iter 25250: dev acc=0.3924\n",
            "Shuffling training data\n",
            "Iter 25500: loss=43.1340, time=1420.96s\n",
            "iter 25500: dev acc=0.3960\n",
            "Shuffling training data\n",
            "Iter 25750: loss=34.3451, time=1434.69s\n",
            "iter 25750: dev acc=0.3833\n",
            "Shuffling training data\n",
            "Iter 26000: loss=38.2483, time=1448.60s\n",
            "iter 26000: dev acc=0.3996\n",
            "Iter 26250: loss=61.6108, time=1462.40s\n",
            "iter 26250: dev acc=0.3842\n",
            "Shuffling training data\n",
            "Iter 26500: loss=43.9374, time=1476.01s\n",
            "iter 26500: dev acc=0.3797\n",
            "Shuffling training data\n",
            "Iter 26750: loss=41.2761, time=1489.92s\n",
            "iter 26750: dev acc=0.3942\n",
            "Iter 27000: loss=34.2628, time=1503.67s\n",
            "iter 27000: dev acc=0.3924\n",
            "Shuffling training data\n",
            "Iter 27250: loss=28.8624, time=1517.58s\n",
            "iter 27250: dev acc=0.3906\n",
            "Shuffling training data\n",
            "Iter 27500: loss=52.5728, time=1531.67s\n",
            "iter 27500: dev acc=0.3987\n",
            "Shuffling training data\n",
            "Iter 27750: loss=38.3917, time=1545.51s\n",
            "iter 27750: dev acc=0.4033\n",
            "Iter 28000: loss=33.3637, time=1559.27s\n",
            "iter 28000: dev acc=0.3842\n",
            "Shuffling training data\n",
            "Iter 28250: loss=27.1940, time=1573.26s\n",
            "iter 28250: dev acc=0.3815\n",
            "Shuffling training data\n",
            "Iter 28500: loss=25.6692, time=1587.11s\n",
            "iter 28500: dev acc=0.3778\n",
            "Shuffling training data\n",
            "Iter 28750: loss=31.3869, time=1600.93s\n",
            "iter 28750: dev acc=0.3860\n",
            "Iter 29000: loss=44.6703, time=1614.95s\n",
            "iter 29000: dev acc=0.3869\n",
            "Shuffling training data\n",
            "Iter 29250: loss=32.0331, time=1628.85s\n",
            "iter 29250: dev acc=0.3824\n",
            "Shuffling training data\n",
            "Iter 29500: loss=25.8739, time=1642.64s\n",
            "iter 29500: dev acc=0.3787\n",
            "Iter 29750: loss=26.5966, time=1656.74s\n",
            "iter 29750: dev acc=0.3751\n",
            "Shuffling training data\n",
            "Iter 30000: loss=36.9790, time=1670.53s\n",
            "iter 30000: dev acc=0.3915\n",
            "Done training\n",
            "Loading best model\n",
            "best model iter 6250: train acc=0.5701, dev acc=0.4614, test acc=0.4484, test acc long sent 1 sd=0.4370, test acc long sent 1.5 sd=0.4599, test acc short sent 1 sd=0.4931, test acc short sent 1.5 sd=0.5000\n"
          ],
          "name": "stdout"
        }
      ]
    },
    {
      "cell_type": "code",
      "metadata": {
        "colab": {
          "base_uri": "https://localhost:8080/",
          "height": 283
        },
        "id": "ymj1rLDMvyhp",
        "outputId": "cc6a722e-3666-4060-a695-c4ae3b29d0f5"
      },
      "source": [
        "# plot validation accuracy\n",
        "plt.plot(lstm_accuracies)"
      ],
      "execution_count": 91,
      "outputs": [
        {
          "output_type": "execute_result",
          "data": {
            "text/plain": [
              "[<matplotlib.lines.Line2D at 0x7f6194fd2a58>]"
            ]
          },
          "metadata": {
            "tags": []
          },
          "execution_count": 91
        },
        {
          "output_type": "display_data",
          "data": {
            "image/png": "[encoded data removed]",
            "text/plain": [
              "<Figure size 432x288 with 1 Axes>"
            ]
          },
          "metadata": {
            "tags": [],
            "needs_background": "light"
          }
        }
      ]
    },
    {
      "cell_type": "code",
      "metadata": {
        "colab": {
          "base_uri": "https://localhost:8080/",
          "height": 283
        },
        "id": "1je5S1RHVC5R",
        "outputId": "f41071ae-3434-480f-b6e7-6ebe5abff5c9"
      },
      "source": [
        "# plot training loss\n",
        "plt.plot(lstm_losses)"
      ],
      "execution_count": 92,
      "outputs": [
        {
          "output_type": "execute_result",
          "data": {
            "text/plain": [
              "[<matplotlib.lines.Line2D at 0x7f6194fbc8d0>]"
            ]
          },
          "metadata": {
            "tags": []
          },
          "execution_count": 92
        },
        {
          "output_type": "display_data",
          "data": {
            "image/png": "[encoded data removed]",
            "text/plain": [
              "<Figure size 432x288 with 1 Axes>"
            ]
          },
          "metadata": {
            "tags": [],
            "needs_background": "light"
          }
        }
      ]
    },
    {
      "cell_type": "code",
      "metadata": {
        "colab": {
          "base_uri": "https://localhost:8080/"
        },
        "id": "oeE3ujvHzlQT",
        "outputId": "c1e826d1-6dc3-448b-d4ca-2f894b1094a8"
      },
      "source": [
        "#train with glove embeddings\n",
        "lstm_model = LSTMClassifier(\n",
        "    len(v_glove.w2i), 300, 168, len(t2i), v_glove)\n",
        "\n",
        "# copy pre-trained vectors into embeddings table\n",
        "with torch.no_grad():\n",
        "  lstm_model.embed.weight.data.copy_(torch.from_numpy(vectors_glove))\n",
        "  lstm_model.embed.weight.requires_grad = False\n",
        "\n",
        "print(lstm_model)\n",
        "print_parameters(lstm_model)  \n",
        "  \n",
        "lstm_model = lstm_model.to(device)\n",
        "\n",
        "batch_size = 25\n",
        "optimizer = optim.Adam(lstm_model.parameters(), lr=2e-4)\n",
        "\n",
        "lstm_losses, lstm_accuracies = train_model(\n",
        "    lstm_model, optimizer, num_iterations=30000, \n",
        "    print_every=250, eval_every=250,\n",
        "    batch_size=batch_size,\n",
        "    batch_fn=get_minibatch, \n",
        "    prep_fn=prepare_minibatch,\n",
        "    eval_fn=evaluate)"
      ],
      "execution_count": 93,
      "outputs": [
        {
          "output_type": "stream",
          "text": [
            "LSTMClassifier(\n",
            "  (embed): Embedding(20727, 300, padding_idx=1)\n",
            "  (rnn): MyLSTMCell(300, 168)\n",
            "  (output_layer): Sequential(\n",
            "    (0): Dropout(p=0.5, inplace=False)\n",
            "    (1): Linear(in_features=168, out_features=5, bias=True)\n",
            "  )\n",
            ")\n",
            "embed.weight             [20727, 300] requires_grad=False\n",
            "rnn.ii_linear.weight     [168, 300]   requires_grad=True\n",
            "rnn.ii_linear.bias       [168]        requires_grad=True\n",
            "rnn.if_linear.weight     [168, 300]   requires_grad=True\n",
            "rnn.if_linear.bias       [168]        requires_grad=True\n",
            "rnn.ig_linear.weight     [168, 300]   requires_grad=True\n",
            "rnn.ig_linear.bias       [168]        requires_grad=True\n",
            "rnn.io_linear.weight     [168, 300]   requires_grad=True\n",
            "rnn.io_linear.bias       [168]        requires_grad=True\n",
            "rnn.hi_linear.weight     [168, 168]   requires_grad=True\n",
            "rnn.hi_linear.bias       [168]        requires_grad=True\n",
            "rnn.hf_linear.weight     [168, 168]   requires_grad=True\n",
            "rnn.hf_linear.bias       [168]        requires_grad=True\n",
            "rnn.hg_linear.weight     [168, 168]   requires_grad=True\n",
            "rnn.hg_linear.bias       [168]        requires_grad=True\n",
            "rnn.ho_linear.weight     [168, 168]   requires_grad=True\n",
            "rnn.ho_linear.bias       [168]        requires_grad=True\n",
            "output_layer.1.weight    [5, 168]     requires_grad=True\n",
            "output_layer.1.bias      [5]          requires_grad=True\n",
            "\n",
            "Total number of parameters: 6534785\n",
            "\n",
            "Shuffling training data\n",
            "Iter 250: loss=379.4400, time=13.11s\n",
            "iter 250: dev acc=0.3969\n",
            "new highscore\n",
            "Shuffling training data\n",
            "Iter 500: loss=339.2844, time=27.06s\n",
            "iter 500: dev acc=0.4205\n",
            "new highscore\n",
            "Shuffling training data\n",
            "Iter 750: loss=324.7159, time=40.97s\n",
            "iter 750: dev acc=0.3951\n",
            "Iter 1000: loss=319.5366, time=55.12s\n",
            "iter 1000: dev acc=0.4351\n",
            "new highscore\n",
            "Shuffling training data\n",
            "Iter 1250: loss=312.4976, time=69.19s\n",
            "iter 1250: dev acc=0.4387\n",
            "new highscore\n",
            "Shuffling training data\n",
            "Iter 1500: loss=308.7198, time=83.00s\n",
            "iter 1500: dev acc=0.4223\n",
            "Shuffling training data\n",
            "Iter 1750: loss=307.2367, time=96.77s\n",
            "iter 1750: dev acc=0.4487\n",
            "new highscore\n",
            "Iter 2000: loss=300.0116, time=110.60s\n",
            "iter 2000: dev acc=0.4460\n",
            "Shuffling training data\n",
            "Iter 2250: loss=295.9479, time=124.47s\n",
            "iter 2250: dev acc=0.4578\n",
            "new highscore\n",
            "Shuffling training data\n",
            "Iter 2500: loss=289.7173, time=138.24s\n",
            "iter 2500: dev acc=0.4532\n",
            "Shuffling training data\n",
            "Iter 2750: loss=287.7236, time=152.46s\n",
            "iter 2750: dev acc=0.4514\n",
            "Iter 3000: loss=284.5267, time=166.38s\n",
            "iter 3000: dev acc=0.4550\n",
            "Shuffling training data\n",
            "Iter 3250: loss=280.7288, time=180.22s\n",
            "iter 3250: dev acc=0.4469\n",
            "Shuffling training data\n",
            "Iter 3500: loss=273.6765, time=194.19s\n",
            "iter 3500: dev acc=0.4378\n",
            "Iter 3750: loss=272.3413, time=208.05s\n",
            "iter 3750: dev acc=0.4659\n",
            "new highscore\n",
            "Shuffling training data\n",
            "Iter 4000: loss=266.9387, time=222.08s\n",
            "iter 4000: dev acc=0.4550\n",
            "Shuffling training data\n",
            "Iter 4250: loss=258.4664, time=236.08s\n",
            "iter 4250: dev acc=0.4469\n",
            "Shuffling training data\n",
            "Iter 4500: loss=256.9094, time=249.93s\n",
            "iter 4500: dev acc=0.4587\n",
            "Iter 4750: loss=248.9832, time=264.02s\n",
            "iter 4750: dev acc=0.4523\n",
            "Shuffling training data\n",
            "Iter 5000: loss=245.4817, time=277.94s\n",
            "iter 5000: dev acc=0.4523\n",
            "Shuffling training data\n",
            "Iter 5250: loss=235.4654, time=291.99s\n",
            "iter 5250: dev acc=0.4441\n",
            "Shuffling training data\n",
            "Iter 5500: loss=233.5350, time=305.94s\n",
            "iter 5500: dev acc=0.4432\n",
            "Iter 5750: loss=226.3327, time=319.58s\n",
            "iter 5750: dev acc=0.4296\n",
            "Shuffling training data\n",
            "Iter 6000: loss=218.9797, time=333.73s\n",
            "iter 6000: dev acc=0.4369\n",
            "Shuffling training data\n",
            "Iter 6250: loss=214.9554, time=347.86s\n",
            "iter 6250: dev acc=0.4505\n",
            "Shuffling training data\n",
            "Iter 6500: loss=209.8345, time=361.46s\n",
            "iter 6500: dev acc=0.4423\n",
            "Iter 6750: loss=197.4081, time=375.28s\n",
            "iter 6750: dev acc=0.4460\n",
            "Shuffling training data\n",
            "Iter 7000: loss=191.6937, time=389.12s\n",
            "iter 7000: dev acc=0.4323\n",
            "Shuffling training data\n",
            "Iter 7250: loss=182.4906, time=403.05s\n",
            "iter 7250: dev acc=0.4042\n",
            "Iter 7500: loss=177.5107, time=417.06s\n",
            "iter 7500: dev acc=0.4314\n",
            "Shuffling training data\n",
            "Iter 7750: loss=173.3393, time=430.99s\n",
            "iter 7750: dev acc=0.4251\n",
            "Shuffling training data\n",
            "Iter 8000: loss=166.3340, time=445.16s\n",
            "iter 8000: dev acc=0.4360\n",
            "Shuffling training data\n",
            "Iter 8250: loss=158.2877, time=458.94s\n",
            "iter 8250: dev acc=0.4214\n",
            "Iter 8500: loss=146.0191, time=472.77s\n",
            "iter 8500: dev acc=0.4296\n",
            "Shuffling training data\n",
            "Iter 8750: loss=141.6218, time=486.66s\n",
            "iter 8750: dev acc=0.4251\n",
            "Shuffling training data\n",
            "Iter 9000: loss=139.6778, time=500.41s\n",
            "iter 9000: dev acc=0.4187\n",
            "Shuffling training data\n",
            "Iter 9250: loss=136.1444, time=514.25s\n",
            "iter 9250: dev acc=0.3987\n",
            "Iter 9500: loss=118.3431, time=528.34s\n",
            "iter 9500: dev acc=0.4124\n",
            "Shuffling training data\n",
            "Iter 9750: loss=117.9858, time=542.23s\n",
            "iter 9750: dev acc=0.4160\n",
            "Shuffling training data\n",
            "Iter 10000: loss=117.6980, time=556.30s\n",
            "iter 10000: dev acc=0.4069\n",
            "Iter 10250: loss=107.2613, time=570.24s\n",
            "iter 10250: dev acc=0.4187\n",
            "Shuffling training data\n",
            "Iter 10500: loss=96.4249, time=584.14s\n",
            "iter 10500: dev acc=0.4133\n",
            "Shuffling training data\n",
            "Iter 10750: loss=95.5839, time=598.25s\n",
            "iter 10750: dev acc=0.4160\n",
            "Shuffling training data\n",
            "Iter 11000: loss=94.3168, time=612.17s\n",
            "iter 11000: dev acc=0.4069\n",
            "Iter 11250: loss=92.3467, time=626.23s\n",
            "iter 11250: dev acc=0.4205\n",
            "Shuffling training data\n",
            "Iter 11500: loss=83.9997, time=640.28s\n",
            "iter 11500: dev acc=0.4142\n",
            "Shuffling training data\n",
            "Iter 11750: loss=81.8411, time=654.11s\n",
            "iter 11750: dev acc=0.4196\n",
            "Shuffling training data\n",
            "Iter 12000: loss=70.2642, time=668.12s\n",
            "iter 12000: dev acc=0.4069\n",
            "Iter 12250: loss=67.7723, time=681.91s\n",
            "iter 12250: dev acc=0.4069\n",
            "Shuffling training data\n",
            "Iter 12500: loss=62.0651, time=695.92s\n",
            "iter 12500: dev acc=0.4069\n",
            "Shuffling training data\n",
            "Iter 12750: loss=63.6133, time=709.81s\n",
            "iter 12750: dev acc=0.4042\n",
            "Shuffling training data\n",
            "Iter 13000: loss=60.9667, time=723.97s\n",
            "iter 13000: dev acc=0.4160\n",
            "Iter 13250: loss=63.2597, time=737.85s\n",
            "iter 13250: dev acc=0.4105\n",
            "Shuffling training data\n",
            "Iter 13500: loss=55.9207, time=751.88s\n",
            "iter 13500: dev acc=0.3969\n",
            "Shuffling training data\n",
            "Iter 13750: loss=53.9535, time=765.77s\n",
            "iter 13750: dev acc=0.3969\n",
            "Iter 14000: loss=57.2439, time=779.60s\n",
            "iter 14000: dev acc=0.3887\n",
            "Shuffling training data\n",
            "Iter 14250: loss=47.3351, time=793.53s\n",
            "iter 14250: dev acc=0.4060\n",
            "Shuffling training data\n",
            "Iter 14500: loss=51.2843, time=807.52s\n",
            "iter 14500: dev acc=0.3942\n",
            "Shuffling training data\n",
            "Iter 14750: loss=64.6981, time=821.49s\n",
            "iter 14750: dev acc=0.4214\n",
            "Iter 15000: loss=40.6102, time=835.58s\n",
            "iter 15000: dev acc=0.4187\n",
            "Shuffling training data\n",
            "Iter 15250: loss=33.7847, time=849.65s\n",
            "iter 15250: dev acc=0.4069\n",
            "Shuffling training data\n",
            "Iter 15500: loss=34.1674, time=863.81s\n",
            "iter 15500: dev acc=0.3924\n",
            "Shuffling training data\n",
            "Iter 15750: loss=43.5105, time=877.85s\n",
            "iter 15750: dev acc=0.4033\n",
            "Iter 16000: loss=43.8999, time=891.69s\n",
            "iter 16000: dev acc=0.4287\n",
            "Shuffling training data\n",
            "Iter 16250: loss=33.5568, time=905.52s\n",
            "iter 16250: dev acc=0.3987\n",
            "Shuffling training data\n",
            "Iter 16500: loss=31.6111, time=919.45s\n",
            "iter 16500: dev acc=0.4133\n",
            "Iter 16750: loss=47.6948, time=933.64s\n",
            "iter 16750: dev acc=0.4051\n",
            "Shuffling training data\n",
            "Iter 17000: loss=26.3337, time=947.67s\n",
            "iter 17000: dev acc=0.4278\n",
            "Shuffling training data\n",
            "Iter 17250: loss=31.1840, time=961.63s\n",
            "iter 17250: dev acc=0.4124\n",
            "Shuffling training data\n",
            "Iter 17500: loss=32.0152, time=975.74s\n",
            "iter 17500: dev acc=0.4124\n",
            "Iter 17750: loss=23.4491, time=989.79s\n",
            "iter 17750: dev acc=0.4114\n",
            "Shuffling training data\n",
            "Iter 18000: loss=27.5544, time=1003.88s\n",
            "iter 18000: dev acc=0.4233\n",
            "Shuffling training data\n",
            "Iter 18250: loss=21.3296, time=1017.70s\n",
            "iter 18250: dev acc=0.4305\n",
            "Shuffling training data\n",
            "Iter 18500: loss=21.5948, time=1031.63s\n",
            "iter 18500: dev acc=0.4205\n",
            "Iter 18750: loss=23.4538, time=1045.56s\n",
            "iter 18750: dev acc=0.4133\n",
            "Shuffling training data\n",
            "Iter 19000: loss=24.8079, time=1059.39s\n",
            "iter 19000: dev acc=0.4060\n",
            "Shuffling training data\n",
            "Iter 19250: loss=22.5588, time=1073.27s\n",
            "iter 19250: dev acc=0.4015\n",
            "Shuffling training data\n",
            "Iter 19500: loss=37.9669, time=1087.38s\n",
            "iter 19500: dev acc=0.4223\n",
            "Iter 19750: loss=29.2319, time=1101.43s\n",
            "iter 19750: dev acc=0.4178\n",
            "Shuffling training data\n",
            "Iter 20000: loss=27.1665, time=1115.20s\n",
            "iter 20000: dev acc=0.4223\n",
            "Shuffling training data\n",
            "Iter 20250: loss=19.8937, time=1129.06s\n",
            "iter 20250: dev acc=0.4178\n",
            "Iter 20500: loss=13.9122, time=1143.33s\n",
            "iter 20500: dev acc=0.4033\n",
            "Shuffling training data\n",
            "Iter 20750: loss=20.2499, time=1157.06s\n",
            "iter 20750: dev acc=0.4124\n",
            "Shuffling training data\n",
            "Iter 21000: loss=20.4774, time=1171.25s\n",
            "iter 21000: dev acc=0.4160\n",
            "Shuffling training data\n",
            "Iter 21250: loss=30.5949, time=1185.18s\n",
            "iter 21250: dev acc=0.4214\n",
            "Iter 21500: loss=23.0084, time=1199.09s\n",
            "iter 21500: dev acc=0.4169\n",
            "Shuffling training data\n",
            "Iter 21750: loss=11.6130, time=1212.99s\n",
            "iter 21750: dev acc=0.4214\n",
            "Shuffling training data\n",
            "Iter 22000: loss=17.6706, time=1227.08s\n",
            "iter 22000: dev acc=0.4087\n",
            "Shuffling training data\n",
            "Iter 22250: loss=15.2518, time=1240.97s\n",
            "iter 22250: dev acc=0.4278\n",
            "Iter 22500: loss=13.9002, time=1254.99s\n",
            "iter 22500: dev acc=0.4305\n",
            "Shuffling training data\n",
            "Iter 22750: loss=25.0275, time=1269.00s\n",
            "iter 22750: dev acc=0.4114\n",
            "Shuffling training data\n",
            "Iter 23000: loss=16.1475, time=1283.11s\n",
            "iter 23000: dev acc=0.4296\n",
            "Iter 23250: loss=16.3594, time=1297.03s\n",
            "iter 23250: dev acc=0.3987\n",
            "Shuffling training data\n",
            "Iter 23500: loss=18.0960, time=1310.96s\n",
            "iter 23500: dev acc=0.4142\n",
            "Shuffling training data\n",
            "Iter 23750: loss=14.9574, time=1324.97s\n",
            "iter 23750: dev acc=0.4142\n",
            "Shuffling training data\n",
            "Iter 24000: loss=11.0690, time=1338.95s\n",
            "iter 24000: dev acc=0.4178\n",
            "Iter 24250: loss=9.8115, time=1352.95s\n",
            "iter 24250: dev acc=0.4105\n",
            "Shuffling training data\n",
            "Iter 24500: loss=8.0752, time=1366.96s\n",
            "iter 24500: dev acc=0.4096\n",
            "Shuffling training data\n",
            "Iter 24750: loss=31.1802, time=1380.84s\n",
            "iter 24750: dev acc=0.4042\n",
            "Shuffling training data\n",
            "Iter 25000: loss=20.4956, time=1394.93s\n",
            "iter 25000: dev acc=0.4187\n",
            "Iter 25250: loss=16.0131, time=1408.98s\n",
            "iter 25250: dev acc=0.4042\n",
            "Shuffling training data\n",
            "Iter 25500: loss=11.7288, time=1422.92s\n",
            "iter 25500: dev acc=0.3987\n",
            "Shuffling training data\n",
            "Iter 25750: loss=8.1155, time=1437.10s\n",
            "iter 25750: dev acc=0.4169\n",
            "Shuffling training data\n",
            "Iter 26000: loss=19.7006, time=1451.34s\n",
            "iter 26000: dev acc=0.3842\n",
            "Iter 26250: loss=14.4239, time=1465.46s\n",
            "iter 26250: dev acc=0.4223\n",
            "Shuffling training data\n",
            "Iter 26500: loss=7.0574, time=1479.61s\n",
            "iter 26500: dev acc=0.4205\n",
            "Shuffling training data\n",
            "Iter 26750: loss=9.9597, time=1493.66s\n",
            "iter 26750: dev acc=0.4260\n",
            "Iter 27000: loss=6.3476, time=1507.77s\n",
            "iter 27000: dev acc=0.4287\n",
            "Shuffling training data\n",
            "Iter 27250: loss=8.6790, time=1521.95s\n",
            "iter 27250: dev acc=0.4169\n",
            "Shuffling training data\n",
            "Iter 27500: loss=13.9116, time=1536.13s\n",
            "iter 27500: dev acc=0.4278\n",
            "Shuffling training data\n",
            "Iter 27750: loss=16.2992, time=1550.27s\n",
            "iter 27750: dev acc=0.4078\n",
            "Iter 28000: loss=15.2828, time=1564.24s\n",
            "iter 28000: dev acc=0.4187\n",
            "Shuffling training data\n",
            "Iter 28250: loss=10.3311, time=1578.39s\n",
            "iter 28250: dev acc=0.4151\n",
            "Shuffling training data\n",
            "Iter 28500: loss=9.9026, time=1592.27s\n",
            "iter 28500: dev acc=0.3860\n",
            "Shuffling training data\n",
            "Iter 28750: loss=12.1090, time=1606.31s\n",
            "iter 28750: dev acc=0.4251\n",
            "Iter 29000: loss=6.4870, time=1620.25s\n",
            "iter 29000: dev acc=0.4251\n",
            "Shuffling training data\n",
            "Iter 29250: loss=6.6282, time=1634.32s\n",
            "iter 29250: dev acc=0.4214\n",
            "Shuffling training data\n",
            "Iter 29500: loss=4.9703, time=1648.23s\n",
            "iter 29500: dev acc=0.4260\n",
            "Iter 29750: loss=3.7028, time=1662.20s\n",
            "iter 29750: dev acc=0.4124\n",
            "Shuffling training data\n",
            "Iter 30000: loss=14.8118, time=1676.33s\n",
            "iter 30000: dev acc=0.4133\n",
            "Done training\n",
            "Loading best model\n",
            "best model iter 3750: train acc=0.5613, dev acc=0.4659, test acc=0.4697, test acc long sent 1 sd=0.4135, test acc long sent 1.5 sd=0.4332, test acc short sent 1 sd=0.5532, test acc short sent 1.5 sd=0.4861\n"
          ],
          "name": "stdout"
        }
      ]
    },
    {
      "cell_type": "code",
      "metadata": {
        "colab": {
          "base_uri": "https://localhost:8080/",
          "height": 287
        },
        "id": "sujhmahnzwPI",
        "outputId": "7ba4ff3a-bd48-4bfd-a237-51a3d9e723cb"
      },
      "source": [
        "# plot validation accuracy\n",
        "plt.plot(lstm_accuracies)"
      ],
      "execution_count": 94,
      "outputs": [
        {
          "output_type": "execute_result",
          "data": {
            "text/plain": [
              "[<matplotlib.lines.Line2D at 0x7f6194f278d0>]"
            ]
          },
          "metadata": {
            "tags": []
          },
          "execution_count": 94
        },
        {
          "output_type": "display_data",
          "data": {
            "image/png": "[encoded data removed]",
            "text/plain": [
              "<Figure size 432x288 with 1 Axes>"
            ]
          },
          "metadata": {
            "tags": [],
            "needs_background": "light"
          }
        }
      ]
    },
    {
      "cell_type": "code",
      "metadata": {
        "colab": {
          "base_uri": "https://localhost:8080/",
          "height": 283
        },
        "id": "5ahJZgZszy72",
        "outputId": "b96d2048-6b61-4cfc-93c4-2a36208ba844"
      },
      "source": [
        "# plot training loss\n",
        "plt.plot(lstm_losses)"
      ],
      "execution_count": 95,
      "outputs": [
        {
          "output_type": "execute_result",
          "data": {
            "text/plain": [
              "[<matplotlib.lines.Line2D at 0x7f6194e8eb70>]"
            ]
          },
          "metadata": {
            "tags": []
          },
          "execution_count": 95
        },
        {
          "output_type": "display_data",
          "data": {
            "image/png": "[encoded data removed]",
            "text/plain": [
              "<Figure size 432x288 with 1 Axes>"
            ]
          },
          "metadata": {
            "tags": [],
            "needs_background": "light"
          }
        }
      ]
    },
    {
      "cell_type": "markdown",
      "metadata": {
        "id": "q7WjcxXntMi5"
      },
      "source": [
        "# Tree-LSTM"
      ]
    },
    {
      "cell_type": "markdown",
      "metadata": {
        "id": "jyj_UD6GtO5M"
      },
      "source": [
        "In the final part of this lab we will exploit the tree structure of the SST data. \n",
        "Until now we only used the surface tokens, but remember that our data examples include binary trees with a sentiment score at every node.\n",
        "\n",
        "In particular, we will implement **N-ary Tree-LSTMs** which are described in:\n",
        "\n",
        "> Kai Sheng Tai, Richard Socher, and Christopher D. Manning. [Improved Semantic Representations From Tree-Structured Long Short-Term Memory Networks](http://aclweb.org/anthology/P/P15/P15-1150.pdf) ACL 2015.\n",
        "\n",
        "Since our trees are binary (i.e., N=2), we can refer to these as *Binary Tree-LSTMs*. If you study equations (9) to (14) in the paper, you will find that they are not all too different from the original LSTM that you already have.\n",
        "\n",
        "You should read this paper carefully and make sure that you understand the approach. You will also find our LSTM baseline there.\n",
        "Note however that Tree-LSTMs were proposed around the same time by two other groups:\n",
        "\n",
        "> Phong Le and Willem Zuidema. [Compositional distributional semantics with long short term memory](http://anthology.aclweb.org/S/S15/S15-1002.pdf). *SEM 2015.\n",
        "\n",
        "> Xiaodan Zhu, Parinaz Sobihani,  and Hongyu Guo. [Long short-term memory over recursive structures](http://proceedings.mlr.press/v37/zhub15.pdf). ICML 2015.\n",
        "\n",
        "It is good scientific practice to cite all three papers in your report.\n",
        "\n",
        "\n"
      ]
    },
    {
      "cell_type": "markdown",
      "metadata": {
        "id": "1rDzvSos3JFp"
      },
      "source": [
        "## Computation\n",
        "\n",
        "Do you remember the `transitions_from_treestring` function all the way in the beginning of this lab? Every example contains a **transition sequence** produced by this function. Let's look at it again:\n",
        "\n"
      ]
    },
    {
      "cell_type": "code",
      "metadata": {
        "colab": {
          "base_uri": "https://localhost:8080/"
        },
        "id": "5pg0Xumc3ZUS",
        "outputId": "b97eea57-6b9a-4b21-a3da-f3fcaa64041a"
      },
      "source": [
        "ex = next(examplereader(\"trees/dev.txt\"))\n",
        "print(TreePrettyPrinter(ex.tree))\n",
        "print(\"Transitions:\")\n",
        "print(ex.transitions)"
      ],
      "execution_count": 96,
      "outputs": [
        {
          "output_type": "stream",
          "text": [
            "              3                                                                     \n",
            "  ____________|____________________                                                  \n",
            " |                                 4                                                \n",
            " |        _________________________|______________________________________________   \n",
            " |       4                                                                        | \n",
            " |    ___|______________                                                          |  \n",
            " |   |                  4                                                         | \n",
            " |   |         _________|__________                                               |  \n",
            " |   |        |                    3                                              | \n",
            " |   |        |               _____|______________________                        |  \n",
            " |   |        |              |                            4                       | \n",
            " |   |        |              |            ________________|_______                |  \n",
            " |   |        |              |           |                        2               | \n",
            " |   |        |              |           |                 _______|___            |  \n",
            " |   |        3              |           |                |           2           | \n",
            " |   |    ____|_____         |           |                |        ___|_____      |  \n",
            " |   |   |          4        |           3                |       2         |     | \n",
            " |   |   |     _____|___     |      _____|_______         |    ___|___      |     |  \n",
            " 2   2   2    3         2    2     3             2        2   2       2     2     2 \n",
            " |   |   |    |         |    |     |             |        |   |       |     |     |  \n",
            " It  's  a  lovely     film with lovely     performances  by Buy     and Accorsi  . \n",
            "\n",
            "Transitions:\n",
            "[0, 0, 0, 0, 0, 1, 1, 0, 0, 0, 1, 0, 0, 0, 1, 0, 1, 1, 1, 1, 1, 1, 0, 1, 1]\n"
          ],
          "name": "stdout"
        }
      ]
    },
    {
      "cell_type": "markdown",
      "metadata": {
        "id": "ceBFe9fU4BI_"
      },
      "source": [
        "Note that the tree is **binary**. Every node has two children, except for pre-terminal nodes.\n",
        "\n",
        "A tree like this can be described by a sequence of **SHIFT (0)** and **REDUCE (1)** actions.\n",
        "\n",
        "To construct a tree, we can use the transitions as follows:\n",
        "- **reverse** the sentence (a list of tokens) and call this the **buffer**\n",
        "   - the first word is now on top (last in the list), and we would get it when calling pop() on the buffer\n",
        "- create an empty list and call it the **stack**\n",
        "- iterate through the transition sequence:\n",
        "  - if it says SHIFT(0), we pop a word from the buffer, and push it to the stack\n",
        "  - if it says REDUCE(1), we pop the **top two items** from the stack, and combine them (e.g. with a Tree-LSTM!), creating a new node that we push back on the stack\n",
        "  \n",
        "Convince yourself that going through the transition sequence above will result in the tree that you see.\n",
        "For example, we would start by putting the following words on the stack (by shifting 5 times, starting with `It`):\n",
        "\n",
        "```\n",
        "Top of the stack:\n",
        "-----------------\n",
        "film\n",
        "lovely\n",
        "a \n",
        "'s  \n",
        "It\n",
        "```\n",
        "Now we find a REDUCE in the transition sequence, so we get the top two words (film and lovely), and combine them, so our new stack becomes:\n",
        "```\n",
        "Top of the stack:\n",
        "-----------------\n",
        "lovely film\n",
        "a \n",
        "'s  \n",
        "It\n",
        "```\n",
        "\n",
        "We will use this approach when encoding sentences with our Tree-LSTM.\n",
        "Now, our sentence is a reversed list of word embeddings.\n",
        "When we shift, we move a word embedding to the stack.\n",
        "When we reduce, we apply the Tree-LSTM to the top two vectors, and the result is a single vector that we put back on the stack.\n",
        "After going through the whole transition sequence, we will have the root node on our stack! We can use that to classify the sentence.\n",
        "\n"
      ]
    },
    {
      "cell_type": "code",
      "metadata": {
        "id": "4scwZyrijoBQ"
      },
      "source": [
        "# We will also need the following function, but you can ignore this for now.\n",
        "# It is explained later on.\n",
        "\n",
        "SHIFT = 0\n",
        "REDUCE = 1\n",
        "\n",
        "\n",
        "def transitions_from_treestring(s):\n",
        "  s = re.sub(\"\\([0-5] ([^)]+)\\)\", \"0\", s)\n",
        "  s = re.sub(\"\\)\", \" )\", s)\n",
        "  s = re.sub(\"\\([0-4] \", \"\", s)\n",
        "  s = re.sub(\"\\([0-4] \", \"\", s)\n",
        "  s = re.sub(\"\\)\", \"1\", s)\n",
        "  return list(map(int, s.split()))"
      ],
      "execution_count": 97,
      "outputs": []
    },
    {
      "cell_type": "markdown",
      "metadata": {
        "id": "pDWKShm1AfmR"
      },
      "source": [
        "## Obtaining the transition sequence\n"
      ]
    },
    {
      "cell_type": "markdown",
      "metadata": {
        "id": "fO7VKWVpAbWj"
      },
      "source": [
        "\n",
        "So what goes on in the `transitions_from_treestring` function?\n",
        "\n",
        "The idea ([explained in this blog post](https://devblogs.nvidia.com/recursive-neural-networks-pytorch/)) is that, if we had a tree, we could traverse through the tree, and every time that we find a node containing only a word, we output a SHIFT.\n",
        "Every time **after** we have finished visiting the children of a node, we output a REDUCE.\n",
        "(What is this tree traversal called?)\n",
        "\n",
        "However, our `transitions_from_treestring` function operates directly on the string representation. It works as follows.\n",
        "\n",
        "We start with the representation:\n",
        "\n",
        "```\n",
        "(3 (2 It) (4 (4 (2 's) (4 (3 (2 a) (4 (3 lovely) (2 film))) (3 (2 with) (4 (3 (3 lovely) (2 performances)) (2 (2 by) (2 (2 (2 Buy) (2 and)) (2 Accorsi))))))) (2 .)))\n",
        "```\n",
        "\n",
        "First we remove pre-terminal nodes (and add spaces before closing brackets):\n",
        "\n",
        "```\n",
        "(3 It (4 (4 's (4 (3 a (4 lovely film ) ) (3 with (4 (3 lovely performances ) (2 by (2 (2 Buy and )  Accorsi ) ) ) ) ) ) . ) )\n",
        "```\n",
        "\n",
        "Then we remove node labels:\n",
        "\n",
        "```\n",
        "( It ( ( 's ( ( a ( lovely film ) ) ( with ( ( lovely performances) ( by ( ( Buy and )  Accorsi ) ) ) ) ) ) . ) )\n",
        "```\n",
        "\n",
        "Then we remove opening brackets:\n",
        "\n",
        "```\n",
        "It 's a lovely film ) ) with lovely performances ) by Buy and ) Accorsi ) ) ) ) ) ) . ) )\n",
        "```\n",
        "\n",
        "Now we replace words by S (for SHIFT), and closing brackets by R (for REDUCE):\n",
        "\n",
        "```\n",
        "S S S S S R R S S S R S S S R S R R R R R R S R R\n",
        "0 0 0 0 0 1 1 0 0 0 1 0 0 0 1 0 1 1 1 1 1 1 0 1 1 \n",
        "```\n",
        "\n",
        "Et voilà. We just obtained the transition sequence!"
      ]
    },
    {
      "cell_type": "code",
      "metadata": {
        "colab": {
          "base_uri": "https://localhost:8080/"
        },
        "id": "1y069gM4_v64",
        "outputId": "3c156f95-fb09-4f63-8965-6901e7689faa"
      },
      "source": [
        "# for comparison\n",
        "seq = ex.transitions\n",
        "s = \" \".join([\"S\" if t == 0 else \"R\" for t in seq])\n",
        "print(s)\n",
        "print(\" \".join(map(str, seq)))"
      ],
      "execution_count": 98,
      "outputs": [
        {
          "output_type": "stream",
          "text": [
            "S S S S S R R S S S R S S S R S R R R R R R S R R\n",
            "0 0 0 0 0 1 1 0 0 0 1 0 0 0 1 0 1 1 1 1 1 1 0 1 1\n"
          ],
          "name": "stdout"
        }
      ]
    },
    {
      "cell_type": "markdown",
      "metadata": {
        "id": "d-qOuKbDAiBn"
      },
      "source": [
        "## Coding the Tree-LSTM\n",
        "\n",
        "The code below contains a Binary Tree-LSTM cell.\n",
        "It is used in the TreeLSTM class below it, which in turn is used in the TreeLSTMClassifier.\n",
        "The job of the TreeLSTM class is to encode a complete sentence and return the root node.\n",
        "The job of the TreeLSTMCell is to return a new state when provided with two children (a reduce action). By repeatedly calling the TreeLSTMCell, the TreeLSTM will encode a sentence. This can be done for multiple sentences at the same time.\n",
        "\n",
        "\n",
        "#### Exercise \n",
        "Check the `forward` function and complete the Tree-LSTM formulas.\n",
        "You can see that we defined a large linear layer for you, that projects the *concatenation* of the left and right child into the input gate, left forget gate, right forget gate, candidate, and output gate."
      ]
    },
    {
      "cell_type": "code",
      "metadata": {
        "id": "J9b9mjMlN7Pb"
      },
      "source": [
        "class TreeLSTMCell(nn.Module):\n",
        "  \"\"\"A Binary Tree LSTM cell\"\"\"\n",
        "\n",
        "  def __init__(self, input_size, hidden_size, bias=True):\n",
        "    \"\"\"Creates the weights for this LSTM\"\"\"\n",
        "    super(TreeLSTMCell, self).__init__()\n",
        "\n",
        "    self.input_size = input_size\n",
        "    self.hidden_size = hidden_size\n",
        "    self.bias = bias\n",
        "\n",
        "    self.reduce_layer = nn.Linear(2 * hidden_size, 5 * hidden_size)\n",
        "    self.dropout_layer = nn.Dropout(p=0.25)\n",
        "\n",
        "    self.inputlayer_sigmoid = nn.Sigmoid()\n",
        "    self.forgetlayer_right_sigmoid = nn.Sigmoid()\n",
        "    self.forgetlayer_left_sigmoid = nn.Sigmoid()\n",
        "    self.g_tanh = nn.Tanh()\n",
        "    self.outputlayer_sigmoid = nn.Sigmoid()\n",
        "    self.h_tanh = nn.Tanh()\n",
        "    self.reset_parameters()\n",
        "\n",
        "  def reset_parameters(self):\n",
        "    \"\"\"This is PyTorch's default initialization method\"\"\"\n",
        "    stdv = 1.0 / math.sqrt(self.hidden_size)\n",
        "    for weight in self.parameters():\n",
        "      weight.data.uniform_(-stdv, stdv)  \n",
        "\n",
        "  def forward(self, hx_l, hx_r, mask=None):\n",
        "    \"\"\"\n",
        "    hx_l is ((batch, hidden_size), (batch, hidden_size))\n",
        "    hx_r is ((batch, hidden_size), (batch, hidden_size))    \n",
        "    \"\"\"\n",
        "    prev_h_l, prev_c_l = hx_l  # left child\n",
        "    prev_h_r, prev_c_r = hx_r  # right child\n",
        "\n",
        "    B = prev_h_l.size(0)\n",
        "\n",
        "    # we concatenate the left and right children\n",
        "    # you can also project from them separately and then sum\n",
        "    children = torch.cat([prev_h_l, prev_h_r], dim=1)\n",
        "    \n",
        "    # project the combined children into a 5D tensor for i,fl,fr,g,o\n",
        "    # this is done for speed, and you could also do it separately\n",
        "    proj = self.reduce_layer(children)  # shape: B x 5D\n",
        "\n",
        "    # each shape: B x D\n",
        "    i, f_l, f_r, g, o = torch.chunk(proj, 5, dim=-1)\n",
        "\n",
        "    # main Tree LSTM computation\n",
        "    \n",
        "    # YOUR CODE HERE\n",
        "    # You only need to complete the commented lines below.\n",
        "    #raise NotImplementedError(\"Implement this.\")\n",
        "\n",
        "    # The shape of each of these is [batch_size, hidden_size]\n",
        "\n",
        "    i= self.inputlayer_sigmoid(i)\n",
        "    f_l = self.forgetlayer_left_sigmoid(f_l)   \n",
        "    f_r = self.forgetlayer_right_sigmoid(f_r) \n",
        "    g = self.g_tanh(g)  \n",
        "    o = self.outputlayer_sigmoid(o)\n",
        "\n",
        "    c = i*g + f_l*prev_c_l + f_r*prev_c_r\n",
        "    h = o * self.h_tanh(c)\n",
        "\n",
        "  \n",
        "    \n",
        "    return h, c\n",
        "  \n",
        "  def __repr__(self):\n",
        "    return \"{}({:d}, {:d})\".format(\n",
        "        self.__class__.__name__, self.input_size, self.hidden_size)"
      ],
      "execution_count": 55,
      "outputs": []
    },
    {
      "cell_type": "markdown",
      "metadata": {
        "id": "Dj5dYSGh_643"
      },
      "source": [
        "## Explanation of the TreeLSTM class\n",
        "\n",
        "\n",
        "The code below contains the TreeLSTM class, which implements everything we need in order to encode a sentence from word embeddings. The calculations are the same as in the paper, implemented such that the class `TreeLSTMCell` above is as general as possible and only takes two children to reduce them into a parent. \n",
        "\n",
        "\n",
        "**Initialize $\\mathbf{h}$ and $\\mathbf{c}$ outside of the cell for the leaves**\n",
        "\n",
        "At the leaves of each tree the children nodes are **empty**, whereas in higher levels the nodes are binary tree nodes that *do* have a left and right child (but no input $x$). By initializing the leaf nodes outside of the cell class (`TreeLSTMCell`), we avoid if-else statements in the forward pass.\n",
        "\n",
        "The `TreeLSTM` class (among other things) pre-calculates an initial $h$ and $c$ for every word in the sentence. Since the initial left and right child are 0, the only calculations we need to do are based on $x$, and we can drop the forget gate calculation (`prev_c_l` and `prev_c_r` are zero). The calculations we do in order to initalize $h$ and $c$ are then:\n",
        "\n",
        "$$\n",
        "c_1 =  W^{(u)}x_1 \\\\\n",
        "o_1 = \\sigma (W^{(i)}x_1) \\\\\n",
        "h_1 = o_1 \\odot \\text{tanh}(c_1)$$\n",
        "*NB: note that these equations are chosen as initializations of $c$ and $h$, other initializations are possible and might work equally well.*\n",
        "\n",
        "**Sentence Representations**\n",
        "\n",
        "All our leaf nodes are now initialized, so we can start processing the sentence in its tree form. Each sentence is represented by a buffer (initially a list with a concatenation of $[h_1, c_1]$ for every word in the reversed sentence), a stack (initially an empty list) and a transition sequence. To encode our sentence, we construct the tree from its transition sequence as explained earlier. \n",
        "\n",
        "*A short example that constructs a tree:*\n",
        "\n",
        "We loop over the time dimension of the batched transition sequences (i.e. row by row), which contain values of 0's, 1's and 2's (representing SHIFT, REDUCE and padding respectively). If we have a batch of size 2 where the first example has a transition sequence given by [0, 0, 1, 0, 0, 0, 1] and the second by [0, 0, 1, 0, 0, 1], our transition batch will be given by the following two-dimensional numpy array:\n",
        "\n",
        "$$\n",
        "\\text{transitions} = \n",
        "\\begin{pmatrix}\n",
        "0 & 0\\\\ \n",
        "0 & 0\\\\ \n",
        "1 & 1\\\\ \n",
        "0 & 0\\\\ \n",
        "0 & 0\\\\ \n",
        "0 & 1\\\\ \n",
        "1 & 2\n",
        "\\end{pmatrix}\n",
        "$$\n",
        "The inner loop (`for transition, buffer, stack in zip(t_batch, buffers, stacks)`) goes over each example in the batch and updates its buffer and stack. The nested loop for this example will then do roughy the following:\n",
        "\n",
        "```\n",
        "Time = 0:  t_batch = [0, 0], the inner loop performs 2 SHIFTs. \n",
        "\n",
        "Time = 1:  t_batch = [0, 0], \"..\"\n",
        "\n",
        "Time = 2:  t_batch = [1, 1], causing the inner loop to fill the list child_l and child_r for both examples in the batch. Now the statement if child_l will return True, triggering a REDUCE action to be performed by our Tree LSTM cell with a batch size of 2. \n",
        "\n",
        "Time = 3:  t_batch = [0, 0], \"..\".\n",
        "\n",
        "Time = 4:  t_batch = [0, 0], \"..\"\n",
        "\n",
        "Time = 5:  t_batch = [0, 1], one SHIFT will be done and another REDUCE action will be performed by our Tree LSTM, this time of batch size 1.  \n",
        "\n",
        "Time = 6:  t_batch = [1, 2], triggering another REDUCE action with batch size 1.\n",
        "```\n",
        "*NB: note that this was an artificial example for the purpose of demonstrating parts of the code, the transition sequences do not necessarily represent actual trees.*\n",
        "\n",
        "**Batching and Unbatching**\n",
        "\n",
        "Within the body of the outer loop over time, we use the functions for batching and unbatching. \n",
        "\n",
        "*Batching*\n",
        "\n",
        "Before passing two lists of children to the reduce layer (an instance of `TreeLSTMCell`), we batch the children as they are at this point a list of tensors of variable length based on how many REDUCE actions there are to perform at a certain time step across the batch (let's call the length `L`). To do an efficient forward pass we want to transform the list to a pair of tensors of shape `([L, D], [L, D])`, which the function `batch` achieves. \n",
        "\n",
        "*Unbatching*\n",
        "\n",
        "In the same line where we batched the children, we unbatch the output of the forward pass to become a list of states of length `L` again. We do this because we need to loop over each example's transition at the current time step and push the children that are reduced into a parent to the stack.\n",
        "\n",
        "*The batch and unbatch functions let us switch between the \"PyTorch world\" (Tensors) and the Python world (easy to manipulate lists).*\n"
      ]
    },
    {
      "cell_type": "code",
      "metadata": {
        "id": "5PixvTd4AqsQ"
      },
      "source": [
        "# Helper functions for batching and unbatching states\n",
        "# For speed we want to combine computations by batching, but \n",
        "# for processing logic we want to turn the output into lists again\n",
        "# to easily manipulate.\n",
        "\n",
        "def batch(states):\n",
        "  \"\"\"\n",
        "  Turns a list of states into a single tensor for fast processing. \n",
        "  This function also chunks (splits) each state into a (h, c) pair\"\"\"\n",
        "  return torch.cat(states, 0).chunk(2, 1)\n",
        "\n",
        "def unbatch(state):\n",
        "  \"\"\"\n",
        "  Turns a tensor back into a list of states.\n",
        "  First, (h, c) are merged into a single state.\n",
        "  Then the result is split into a list of sentences.\n",
        "  \"\"\"\n",
        "  return torch.split(torch.cat(state, 1), 1, 0)"
      ],
      "execution_count": 56,
      "outputs": []
    },
    {
      "cell_type": "markdown",
      "metadata": {
        "id": "CynltDasaLPt"
      },
      "source": [
        "Take some time to understand the class below, having read the explanation above."
      ]
    },
    {
      "cell_type": "code",
      "metadata": {
        "id": "rQOqMXG4gX5G"
      },
      "source": [
        "class TreeLSTM(nn.Module):\n",
        "  \"\"\"Encodes a sentence using a TreeLSTMCell\"\"\"\n",
        "\n",
        "  def __init__(self, input_size, hidden_size, bias=True):\n",
        "    \"\"\"Creates the weights for this LSTM\"\"\"\n",
        "    super(TreeLSTM, self).__init__()\n",
        "\n",
        "    self.input_size = input_size\n",
        "    self.hidden_size = hidden_size\n",
        "    self.bias = bias\n",
        "    self.reduce = TreeLSTMCell(input_size, hidden_size)\n",
        "\n",
        "    # project word to initial c\n",
        "    self.proj_x = nn.Linear(input_size, hidden_size)\n",
        "    self.proj_x_gate = nn.Linear(input_size, hidden_size)\n",
        "    \n",
        "    self.buffers_dropout = nn.Dropout(p=0.5)\n",
        "\n",
        "  def forward(self, x, transitions):\n",
        "    \"\"\"\n",
        "    WARNING: assuming x is reversed!\n",
        "    :param x: word embeddings [B, T, E]\n",
        "    :param transitions: [2T-1, B]\n",
        "    :return: root states\n",
        "    \"\"\"\n",
        "\n",
        "    B = x.size(0)  # batch size\n",
        "    T = x.size(1)  # time\n",
        "\n",
        "    # compute an initial c and h for each word\n",
        "    # Note: this corresponds to input x in the Tai et al. Tree LSTM paper.\n",
        "    # We do not handle input x in the TreeLSTMCell itself.\n",
        "    buffers_c = self.proj_x(x)\n",
        "    buffers_h = buffers_c.tanh()\n",
        "    buffers_h_gate = self.proj_x_gate(x).sigmoid()\n",
        "    buffers_h = buffers_h_gate * buffers_h\n",
        "    \n",
        "    # concatenate h and c for each word\n",
        "    buffers = torch.cat([buffers_h, buffers_c], dim=-1)\n",
        "\n",
        "    D = buffers.size(-1) // 2\n",
        "\n",
        "    # we turn buffers into a list of stacks (1 stack for each sentence)\n",
        "    # first we split buffers so that it is a list of sentences (length B)\n",
        "    # then we split each sentence to be a list of word vectors\n",
        "    buffers = buffers.split(1, dim=0)  # Bx[T, 2D]\n",
        "    buffers = [list(b.squeeze(0).split(1, dim=0)) for b in buffers]  # BxTx[2D]\n",
        "\n",
        "    # create B empty stacks\n",
        "    stacks = [[] for _ in buffers]\n",
        "\n",
        "    # t_batch holds 1 transition for each sentence\n",
        "    for t_batch in transitions:\n",
        "\n",
        "      child_l = []  # contains the left child for each sentence with reduce action\n",
        "      child_r = []  # contains the corresponding right child\n",
        "\n",
        "      # iterate over sentences in the batch\n",
        "      # each has a transition t, a buffer and a stack\n",
        "      for transition, buffer, stack in zip(t_batch, buffers, stacks):\n",
        "        if transition == SHIFT:\n",
        "          stack.append(buffer.pop())\n",
        "        elif transition == REDUCE:\n",
        "          assert len(stack) >= 2, \\\n",
        "            \"Stack too small! Should not happen with valid transition sequences\"\n",
        "          child_r.append(stack.pop())  # right child is on top\n",
        "          child_l.append(stack.pop())\n",
        "\n",
        "      # if there are sentences with reduce transition, perform them batched\n",
        "      if child_l:\n",
        "        reduced = iter(unbatch(self.reduce(batch(child_l), batch(child_r))))\n",
        "        for transition, stack in zip(t_batch, stacks):\n",
        "          if transition == REDUCE:\n",
        "            stack.append(next(reduced))\n",
        "\n",
        "    final = [stack.pop().chunk(2, -1)[0] for stack in stacks]\n",
        "    final = torch.cat(final, dim=0)  # tensor [B, D]\n",
        "\n",
        "    return final"
      ],
      "execution_count": 57,
      "outputs": []
    },
    {
      "cell_type": "markdown",
      "metadata": {
        "id": "s4EzbVzqaXkw"
      },
      "source": [
        "Just like the LSTM before, we will need an extra class that does the classifications."
      ]
    },
    {
      "cell_type": "code",
      "metadata": {
        "id": "nLxpYRvtQKge"
      },
      "source": [
        "class TreeLSTMClassifier(nn.Module):\n",
        "  \"\"\"Encodes sentence with a TreeLSTM and projects final hidden state\"\"\"\n",
        "\n",
        "  def __init__(self, vocab_size, embedding_dim, hidden_dim, output_dim, vocab):\n",
        "    super(TreeLSTMClassifier, self).__init__()\n",
        "    self.vocab = vocab\n",
        "    self.hidden_dim = hidden_dim\n",
        "    self.embed = nn.Embedding(vocab_size, embedding_dim, padding_idx=1)\n",
        "    self.treelstm = TreeLSTM(embedding_dim, hidden_dim)\n",
        "    self.output_layer = nn.Sequential(     \n",
        "        nn.Dropout(p=0.5),\n",
        "        nn.Linear(hidden_dim, output_dim, bias=True)\n",
        "    )\n",
        "\n",
        "  def forward(self, x):\n",
        "    \n",
        "    # x is a pair here of words and transitions; we unpack it here.\n",
        "    # x is batch-major: [B, T], transitions is time major [2T-1, B]\n",
        "    x, transitions = x\n",
        "    emb = self.embed(x)\n",
        "    \n",
        "    # we use the root/top state of the Tree LSTM to classify the sentence\n",
        "    root_states = self.treelstm(emb, transitions)\n",
        "\n",
        "    # we use the last hidden state to classify the sentence\n",
        "    logits = self.output_layer(root_states)\n",
        "    return logits"
      ],
      "execution_count": 58,
      "outputs": []
    },
    {
      "cell_type": "markdown",
      "metadata": {
        "id": "gh9RbhGwaiLg"
      },
      "source": [
        "## Special `prepare` function for Tree-LSTM\n",
        "\n",
        "We need yet another `prepare` function. For our implementation, sentences need to be *reversed*. We will do that here."
      ]
    },
    {
      "cell_type": "code",
      "metadata": {
        "id": "DiqH-_2xdm9H"
      },
      "source": [
        "def prepare_treelstm_minibatch(mb, vocab):\n",
        "  \"\"\"\n",
        "  Returns sentences reversed (last word first)\n",
        "  Returns transitions together with the sentences.  \n",
        "  \"\"\"\n",
        "  batch_size = len(mb)\n",
        "  maxlen = max([len(ex.tokens) for ex in mb])\n",
        "    \n",
        "  # vocab returns 0 if the word is not there\n",
        "  # NOTE: reversed sequence!\n",
        "  x = [pad([vocab.w2i.get(t, 0) for t in ex.tokens], maxlen)[::-1] for ex in mb]\n",
        "  \n",
        "  x = torch.LongTensor(x)\n",
        "  x = x.to(device)\n",
        "  \n",
        "  y = [ex.label for ex in mb]\n",
        "  y = torch.LongTensor(y)\n",
        "  y = y.to(device)\n",
        "  \n",
        "  maxlen_t = max([len(ex.transitions) for ex in mb])\n",
        "  transitions = [pad(ex.transitions, maxlen_t, pad_value=2) for ex in mb]\n",
        "  transitions = np.array(transitions)\n",
        "  transitions = transitions.T  # time-major\n",
        "  \n",
        "  return (x, transitions), y"
      ],
      "execution_count": 59,
      "outputs": []
    },
    {
      "cell_type": "markdown",
      "metadata": {
        "id": "IMUsrlL9ayVe"
      },
      "source": [
        "## Training"
      ]
    },
    {
      "cell_type": "code",
      "metadata": {
        "colab": {
          "base_uri": "https://localhost:8080/"
        },
        "id": "IpOYUdg2D3v0",
        "outputId": "32556ce4-df82-4ada-c66c-21ed27b9c91b"
      },
      "source": [
        "# Now let's train the Tree LSTM with w2vec embeddings!\n",
        "\n",
        "tree_model = TreeLSTMClassifier(\n",
        "    len(v_w2vec.w2i), 300, 150, len(t2i), v_w2vec)\n",
        "\n",
        "with torch.no_grad():\n",
        "  tree_model.embed.weight.data.copy_(torch.from_numpy(vectors_w2vec))\n",
        "  tree_model.embed.weight.requires_grad = False\n",
        "  \n",
        "def do_train(model):\n",
        "  \n",
        "  print(model)\n",
        "  print_parameters(model)\n",
        "\n",
        "  model = model.to(device)\n",
        "\n",
        "  optimizer = optim.Adam(model.parameters(), lr=2e-4)\n",
        "\n",
        "  return train_model(\n",
        "      model, optimizer, num_iterations=30000, \n",
        "      print_every=250, eval_every=250,\n",
        "      prep_fn=prepare_treelstm_minibatch,\n",
        "      eval_fn=evaluate,\n",
        "      batch_fn=get_minibatch,\n",
        "      batch_size=25, eval_batch_size=25)\n",
        "  \n",
        "\n",
        "results=  do_train(tree_model)\n",
        "tree_losses, tree_accuracies=results"
      ],
      "execution_count": 104,
      "outputs": [
        {
          "output_type": "stream",
          "text": [
            "TreeLSTMClassifier(\n",
            "  (embed): Embedding(18922, 300, padding_idx=1)\n",
            "  (treelstm): TreeLSTM(\n",
            "    (reduce): TreeLSTMCell(300, 150)\n",
            "    (proj_x): Linear(in_features=300, out_features=150, bias=True)\n",
            "    (proj_x_gate): Linear(in_features=300, out_features=150, bias=True)\n",
            "    (buffers_dropout): Dropout(p=0.5, inplace=False)\n",
            "  )\n",
            "  (output_layer): Sequential(\n",
            "    (0): Dropout(p=0.5, inplace=False)\n",
            "    (1): Linear(in_features=150, out_features=5, bias=True)\n",
            "  )\n",
            ")\n",
            "embed.weight             [18922, 300] requires_grad=False\n",
            "treelstm.reduce.reduce_layer.weight [750, 300]   requires_grad=True\n",
            "treelstm.reduce.reduce_layer.bias [750]        requires_grad=True\n",
            "treelstm.proj_x.weight   [150, 300]   requires_grad=True\n",
            "treelstm.proj_x.bias     [150]        requires_grad=True\n",
            "treelstm.proj_x_gate.weight [150, 300]   requires_grad=True\n",
            "treelstm.proj_x_gate.bias [150]        requires_grad=True\n",
            "output_layer.1.weight    [5, 150]     requires_grad=True\n",
            "output_layer.1.bias      [5]          requires_grad=True\n",
            "\n",
            "Total number of parameters: 5993405\n",
            "\n",
            "Shuffling training data\n",
            "Iter 250: loss=393.0576, time=18.49s\n",
            "iter 250: dev acc=0.2570\n",
            "new highscore\n",
            "Shuffling training data\n",
            "Iter 500: loss=390.2336, time=38.42s\n",
            "iter 500: dev acc=0.3279\n",
            "new highscore\n",
            "Shuffling training data\n",
            "Iter 750: loss=363.7429, time=58.56s\n",
            "iter 750: dev acc=0.3760\n",
            "new highscore\n",
            "Iter 1000: loss=338.2983, time=78.44s\n",
            "iter 1000: dev acc=0.4051\n",
            "new highscore\n",
            "Shuffling training data\n",
            "Iter 1250: loss=328.1569, time=98.39s\n",
            "iter 1250: dev acc=0.4323\n",
            "new highscore\n",
            "Shuffling training data\n",
            "Iter 1500: loss=322.1179, time=118.24s\n",
            "iter 1500: dev acc=0.4151\n",
            "Shuffling training data\n",
            "Iter 1750: loss=317.8231, time=138.17s\n",
            "iter 1750: dev acc=0.4269\n",
            "Iter 2000: loss=313.1146, time=158.15s\n",
            "iter 2000: dev acc=0.4323\n",
            "Shuffling training data\n",
            "Iter 2250: loss=310.4673, time=178.10s\n",
            "iter 2250: dev acc=0.4260\n",
            "Shuffling training data\n",
            "Iter 2500: loss=306.0579, time=197.56s\n",
            "iter 2500: dev acc=0.4414\n",
            "new highscore\n",
            "Shuffling training data\n",
            "Iter 2750: loss=303.3209, time=217.47s\n",
            "iter 2750: dev acc=0.4287\n",
            "Iter 3000: loss=300.4703, time=237.33s\n",
            "iter 3000: dev acc=0.4505\n",
            "new highscore\n",
            "Shuffling training data\n",
            "Iter 3250: loss=298.1537, time=257.16s\n",
            "iter 3250: dev acc=0.4596\n",
            "new highscore\n",
            "Shuffling training data\n",
            "Iter 3500: loss=298.2710, time=276.88s\n",
            "iter 3500: dev acc=0.4550\n",
            "Iter 3750: loss=293.1068, time=296.90s\n",
            "iter 3750: dev acc=0.4623\n",
            "new highscore\n",
            "Shuffling training data\n",
            "Iter 4000: loss=289.1227, time=316.71s\n",
            "iter 4000: dev acc=0.4578\n",
            "Shuffling training data\n",
            "Iter 4250: loss=290.2215, time=336.82s\n",
            "iter 4250: dev acc=0.4532\n",
            "Shuffling training data\n",
            "Iter 4500: loss=285.8626, time=356.79s\n",
            "iter 4500: dev acc=0.4450\n",
            "Iter 4750: loss=284.1023, time=376.47s\n",
            "iter 4750: dev acc=0.4450\n",
            "Shuffling training data\n",
            "Iter 5000: loss=282.8662, time=396.51s\n",
            "iter 5000: dev acc=0.4596\n",
            "Shuffling training data\n",
            "Iter 5250: loss=278.1928, time=416.23s\n",
            "iter 5250: dev acc=0.4314\n",
            "Shuffling training data\n",
            "Iter 5500: loss=278.4113, time=436.08s\n",
            "iter 5500: dev acc=0.4405\n",
            "Iter 5750: loss=274.0663, time=455.96s\n",
            "iter 5750: dev acc=0.4405\n",
            "Shuffling training data\n",
            "Iter 6000: loss=269.5877, time=475.88s\n",
            "iter 6000: dev acc=0.4414\n",
            "Shuffling training data\n",
            "Iter 6250: loss=270.2562, time=496.06s\n",
            "iter 6250: dev acc=0.4414\n",
            "Shuffling training data\n",
            "Iter 6500: loss=265.2818, time=515.94s\n",
            "iter 6500: dev acc=0.4396\n",
            "Iter 6750: loss=259.2049, time=535.80s\n",
            "iter 6750: dev acc=0.4378\n",
            "Shuffling training data\n",
            "Iter 7000: loss=264.7467, time=555.88s\n",
            "iter 7000: dev acc=0.4360\n",
            "Shuffling training data\n",
            "Iter 7250: loss=257.2865, time=575.63s\n",
            "iter 7250: dev acc=0.4378\n",
            "Iter 7500: loss=256.7450, time=595.41s\n",
            "iter 7500: dev acc=0.4369\n",
            "Shuffling training data\n",
            "Iter 7750: loss=249.1381, time=615.50s\n",
            "iter 7750: dev acc=0.4414\n",
            "Shuffling training data\n",
            "Iter 8000: loss=253.0690, time=635.40s\n",
            "iter 8000: dev acc=0.4242\n",
            "Shuffling training data\n",
            "Iter 8250: loss=249.1141, time=655.14s\n",
            "iter 8250: dev acc=0.4287\n",
            "Iter 8500: loss=243.5387, time=674.87s\n",
            "iter 8500: dev acc=0.4260\n",
            "Shuffling training data\n",
            "Iter 8750: loss=238.6434, time=694.96s\n",
            "iter 8750: dev acc=0.4096\n",
            "Shuffling training data\n",
            "Iter 9000: loss=239.1100, time=714.82s\n",
            "iter 9000: dev acc=0.4314\n",
            "Shuffling training data\n",
            "Iter 9250: loss=233.0607, time=734.63s\n",
            "iter 9250: dev acc=0.4124\n",
            "Iter 9500: loss=232.1788, time=754.54s\n",
            "iter 9500: dev acc=0.4305\n",
            "Shuffling training data\n",
            "Iter 9750: loss=222.5346, time=774.51s\n",
            "iter 9750: dev acc=0.4178\n",
            "Shuffling training data\n",
            "Iter 10000: loss=224.9085, time=794.27s\n",
            "iter 10000: dev acc=0.4296\n",
            "Iter 10250: loss=223.5395, time=814.11s\n",
            "iter 10250: dev acc=0.4305\n",
            "Shuffling training data\n",
            "Iter 10500: loss=213.0070, time=834.05s\n",
            "iter 10500: dev acc=0.4196\n",
            "Shuffling training data\n",
            "Iter 10750: loss=214.9711, time=853.64s\n",
            "iter 10750: dev acc=0.4087\n",
            "Shuffling training data\n",
            "Iter 11000: loss=210.5635, time=873.31s\n",
            "iter 11000: dev acc=0.4114\n",
            "Iter 11250: loss=207.9247, time=893.58s\n",
            "iter 11250: dev acc=0.4069\n",
            "Shuffling training data\n",
            "Iter 11500: loss=202.1886, time=913.12s\n",
            "iter 11500: dev acc=0.4114\n",
            "Shuffling training data\n",
            "Iter 11750: loss=197.9983, time=932.89s\n",
            "iter 11750: dev acc=0.4114\n",
            "Shuffling training data\n",
            "Iter 12000: loss=197.0119, time=952.65s\n",
            "iter 12000: dev acc=0.4151\n",
            "Iter 12250: loss=188.1587, time=972.67s\n",
            "iter 12250: dev acc=0.4015\n",
            "Shuffling training data\n",
            "Iter 12500: loss=191.7719, time=992.37s\n",
            "iter 12500: dev acc=0.4133\n",
            "Shuffling training data\n",
            "Iter 12750: loss=183.0619, time=1012.34s\n",
            "iter 12750: dev acc=0.4087\n",
            "Shuffling training data\n",
            "Iter 13000: loss=181.7320, time=1032.27s\n",
            "iter 13000: dev acc=0.4051\n",
            "Iter 13250: loss=173.1268, time=1052.21s\n",
            "iter 13250: dev acc=0.4160\n",
            "Shuffling training data\n",
            "Iter 13500: loss=165.8750, time=1072.32s\n",
            "iter 13500: dev acc=0.4178\n",
            "Shuffling training data\n",
            "Iter 13750: loss=167.4700, time=1092.52s\n",
            "iter 13750: dev acc=0.4096\n",
            "Iter 14000: loss=167.9145, time=1112.27s\n",
            "iter 14000: dev acc=0.3915\n",
            "Shuffling training data\n",
            "Iter 14250: loss=161.4264, time=1132.32s\n",
            "iter 14250: dev acc=0.3987\n",
            "Shuffling training data\n",
            "Iter 14500: loss=156.5322, time=1152.19s\n",
            "iter 14500: dev acc=0.3933\n",
            "Shuffling training data\n",
            "Iter 14750: loss=146.0500, time=1172.36s\n",
            "iter 14750: dev acc=0.4069\n",
            "Iter 15000: loss=148.1482, time=1192.27s\n",
            "iter 15000: dev acc=0.4124\n",
            "Shuffling training data\n",
            "Iter 15250: loss=137.8125, time=1212.16s\n",
            "iter 15250: dev acc=0.3942\n",
            "Shuffling training data\n",
            "Iter 15500: loss=138.8007, time=1232.17s\n",
            "iter 15500: dev acc=0.3960\n",
            "Shuffling training data\n",
            "Iter 15750: loss=136.4041, time=1252.11s\n",
            "iter 15750: dev acc=0.4042\n",
            "Iter 16000: loss=131.1623, time=1271.83s\n",
            "iter 16000: dev acc=0.4005\n",
            "Shuffling training data\n",
            "Iter 16250: loss=125.9605, time=1292.06s\n",
            "iter 16250: dev acc=0.4060\n",
            "Shuffling training data\n",
            "Iter 16500: loss=122.8645, time=1311.99s\n",
            "iter 16500: dev acc=0.3887\n",
            "Iter 16750: loss=119.6643, time=1331.82s\n",
            "iter 16750: dev acc=0.3969\n",
            "Shuffling training data\n",
            "Iter 17000: loss=116.1831, time=1351.65s\n",
            "iter 17000: dev acc=0.3896\n",
            "Shuffling training data\n",
            "Iter 17250: loss=107.8149, time=1371.54s\n",
            "iter 17250: dev acc=0.3951\n",
            "Shuffling training data\n",
            "Iter 17500: loss=112.5619, time=1391.33s\n",
            "iter 17500: dev acc=0.3887\n",
            "Iter 17750: loss=103.7630, time=1411.17s\n",
            "iter 17750: dev acc=0.3951\n",
            "Shuffling training data\n",
            "Iter 18000: loss=96.9220, time=1431.02s\n",
            "iter 18000: dev acc=0.3760\n",
            "Shuffling training data\n",
            "Iter 18250: loss=97.1552, time=1450.86s\n",
            "iter 18250: dev acc=0.3887\n",
            "Shuffling training data\n",
            "Iter 18500: loss=94.5962, time=1470.62s\n",
            "iter 18500: dev acc=0.3924\n",
            "Iter 18750: loss=88.6121, time=1490.51s\n",
            "iter 18750: dev acc=0.3960\n",
            "Shuffling training data\n",
            "Iter 19000: loss=91.9295, time=1510.61s\n",
            "iter 19000: dev acc=0.4005\n",
            "Shuffling training data\n",
            "Iter 19250: loss=84.4428, time=1530.47s\n",
            "iter 19250: dev acc=0.3924\n",
            "Shuffling training data\n",
            "Iter 19500: loss=81.3778, time=1550.18s\n",
            "iter 19500: dev acc=0.3887\n",
            "Iter 19750: loss=78.8514, time=1570.20s\n",
            "iter 19750: dev acc=0.3896\n",
            "Shuffling training data\n",
            "Iter 20000: loss=75.5939, time=1590.01s\n",
            "iter 20000: dev acc=0.3833\n",
            "Shuffling training data\n",
            "Iter 20250: loss=71.2911, time=1609.98s\n",
            "iter 20250: dev acc=0.3860\n",
            "Iter 20500: loss=70.2067, time=1629.88s\n",
            "iter 20500: dev acc=0.3969\n",
            "Shuffling training data\n",
            "Iter 20750: loss=71.8339, time=1650.09s\n",
            "iter 20750: dev acc=0.4051\n",
            "Shuffling training data\n",
            "Iter 21000: loss=67.4035, time=1670.28s\n",
            "iter 21000: dev acc=0.3933\n",
            "Shuffling training data\n",
            "Iter 21250: loss=62.9359, time=1690.25s\n",
            "iter 21250: dev acc=0.3797\n",
            "Iter 21500: loss=58.8111, time=1710.25s\n",
            "iter 21500: dev acc=0.3896\n",
            "Shuffling training data\n",
            "Iter 21750: loss=80.9630, time=1729.95s\n",
            "iter 21750: dev acc=0.3842\n",
            "Shuffling training data\n",
            "Iter 22000: loss=64.0031, time=1749.91s\n",
            "iter 22000: dev acc=0.3942\n",
            "Shuffling training data\n",
            "Iter 22250: loss=56.9301, time=1769.85s\n",
            "iter 22250: dev acc=0.3915\n",
            "Iter 22500: loss=52.3257, time=1789.75s\n",
            "iter 22500: dev acc=0.3887\n",
            "Shuffling training data\n",
            "Iter 22750: loss=52.0662, time=1809.74s\n",
            "iter 22750: dev acc=0.3878\n",
            "Shuffling training data\n",
            "Iter 23000: loss=58.1846, time=1829.47s\n",
            "iter 23000: dev acc=0.3806\n",
            "Iter 23250: loss=52.4786, time=1849.21s\n",
            "iter 23250: dev acc=0.3887\n",
            "Shuffling training data\n",
            "Iter 23500: loss=45.8989, time=1869.23s\n",
            "iter 23500: dev acc=0.3969\n",
            "Shuffling training data\n",
            "Iter 23750: loss=47.9228, time=1889.26s\n",
            "iter 23750: dev acc=0.3960\n",
            "Shuffling training data\n",
            "Iter 24000: loss=48.1639, time=1909.05s\n",
            "iter 24000: dev acc=0.3960\n",
            "Iter 24250: loss=50.9032, time=1929.03s\n",
            "iter 24250: dev acc=0.3906\n",
            "Shuffling training data\n",
            "Iter 24500: loss=44.6192, time=1949.08s\n",
            "iter 24500: dev acc=0.3924\n",
            "Shuffling training data\n",
            "Iter 24750: loss=40.4992, time=1969.10s\n",
            "iter 24750: dev acc=0.3951\n",
            "Shuffling training data\n",
            "Iter 25000: loss=36.4742, time=1988.96s\n",
            "iter 25000: dev acc=0.3906\n",
            "Iter 25250: loss=38.8680, time=2008.93s\n",
            "iter 25250: dev acc=0.3860\n",
            "Shuffling training data\n",
            "Iter 25500: loss=46.5952, time=2028.58s\n",
            "iter 25500: dev acc=0.3969\n",
            "Shuffling training data\n",
            "Iter 25750: loss=34.8319, time=2048.63s\n",
            "iter 25750: dev acc=0.3887\n",
            "Shuffling training data\n",
            "Iter 26000: loss=35.2117, time=2068.35s\n",
            "iter 26000: dev acc=0.3851\n",
            "Iter 26250: loss=32.9822, time=2088.55s\n",
            "iter 26250: dev acc=0.3724\n",
            "Shuffling training data\n",
            "Iter 26500: loss=35.6250, time=2108.42s\n",
            "iter 26500: dev acc=0.3778\n",
            "Shuffling training data\n",
            "Iter 26750: loss=36.3014, time=2128.31s\n",
            "iter 26750: dev acc=0.3869\n",
            "Iter 27000: loss=33.7088, time=2147.96s\n",
            "iter 27000: dev acc=0.3824\n",
            "Shuffling training data\n",
            "Iter 27250: loss=36.8377, time=2168.01s\n",
            "iter 27250: dev acc=0.3951\n",
            "Shuffling training data\n",
            "Iter 27500: loss=36.4651, time=2187.90s\n",
            "iter 27500: dev acc=0.3951\n",
            "Shuffling training data\n",
            "Iter 27750: loss=27.7169, time=2207.59s\n",
            "iter 27750: dev acc=0.3715\n",
            "Iter 28000: loss=28.5516, time=2227.45s\n",
            "iter 28000: dev acc=0.3960\n",
            "Shuffling training data\n",
            "Iter 28250: loss=29.7593, time=2247.17s\n",
            "iter 28250: dev acc=0.3760\n",
            "Shuffling training data\n",
            "Iter 28500: loss=29.5849, time=2267.18s\n",
            "iter 28500: dev acc=0.3896\n",
            "Shuffling training data\n",
            "Iter 28750: loss=30.9989, time=2287.41s\n",
            "iter 28750: dev acc=0.3951\n",
            "Iter 29000: loss=31.5955, time=2307.33s\n",
            "iter 29000: dev acc=0.3951\n",
            "Shuffling training data\n",
            "Iter 29250: loss=23.3162, time=2327.36s\n",
            "iter 29250: dev acc=0.3896\n",
            "Shuffling training data\n",
            "Iter 29500: loss=28.0426, time=2347.64s\n",
            "iter 29500: dev acc=0.3960\n",
            "Iter 29750: loss=25.5721, time=2367.16s\n",
            "iter 29750: dev acc=0.3924\n",
            "Shuffling training data\n",
            "Iter 30000: loss=22.6122, time=2386.85s\n",
            "iter 30000: dev acc=0.3797\n",
            "Done training\n",
            "Loading best model\n",
            "best model iter 3750: train acc=0.4977, dev acc=0.4623, test acc=0.4502, test acc long sent 1 sd=0.4575, test acc long sent 1.5 sd=0.4866, test acc short sent 1 sd=0.4560, test acc short sent 1.5 sd=0.4444\n"
          ],
          "name": "stdout"
        }
      ]
    },
    {
      "cell_type": "code",
      "metadata": {
        "id": "DHcHHaLtguUg",
        "colab": {
          "base_uri": "https://localhost:8080/",
          "height": 283
        },
        "outputId": "7aa71a4e-7a3f-45a0-fad8-a3451bcf2bfe"
      },
      "source": [
        "# plot\n",
        "plt.plot(tree_accuracies)  "
      ],
      "execution_count": 105,
      "outputs": [
        {
          "output_type": "execute_result",
          "data": {
            "text/plain": [
              "[<matplotlib.lines.Line2D at 0x7f619c1e4fd0>]"
            ]
          },
          "metadata": {
            "tags": []
          },
          "execution_count": 105
        },
        {
          "output_type": "display_data",
          "data": {
            "image/png": "[encoded data removed]",
            "text/plain": [
              "<Figure size 432x288 with 1 Axes>"
            ]
          },
          "metadata": {
            "tags": [],
            "needs_background": "light"
          }
        }
      ]
    },
    {
      "cell_type": "code",
      "metadata": {
        "id": "vEqBDSmdYSTE",
        "colab": {
          "base_uri": "https://localhost:8080/",
          "height": 283
        },
        "outputId": "ccc1c8e0-d6fd-4386-a6d3-d5b26662a803"
      },
      "source": [
        "# plot\n",
        "plt.plot(tree_losses)"
      ],
      "execution_count": 106,
      "outputs": [
        {
          "output_type": "execute_result",
          "data": {
            "text/plain": [
              "[<matplotlib.lines.Line2D at 0x7f61952a4668>]"
            ]
          },
          "metadata": {
            "tags": []
          },
          "execution_count": 106
        },
        {
          "output_type": "display_data",
          "data": {
            "image/png": "[encoded data removed]",
            "text/plain": [
              "<Figure size 432x288 with 1 Axes>"
            ]
          },
          "metadata": {
            "tags": [],
            "needs_background": "light"
          }
        }
      ]
    },
    {
      "cell_type": "code",
      "metadata": {
        "colab": {
          "base_uri": "https://localhost:8080/"
        },
        "id": "96XmDPdX1ss4",
        "outputId": "a1c310dc-751e-45d7-b800-3f300d44e808"
      },
      "source": [
        "# Now let's train the Tree LSTM with glove embeddings! \n",
        "\n",
        "tree_model = TreeLSTMClassifier(\n",
        "    len(v_glove.w2i), 300, 150, len(t2i), v_glove)\n",
        "\n",
        "with torch.no_grad():\n",
        "  tree_model.embed.weight.data.copy_(torch.from_numpy(vectors_glove))\n",
        "  tree_model.embed.weight.requires_grad = False\n",
        "  \n",
        "def do_train(model):\n",
        "  \n",
        "  print(model)\n",
        "  print_parameters(model)\n",
        "\n",
        "  model = model.to(device)\n",
        "\n",
        "  optimizer = optim.Adam(model.parameters(), lr=2e-4)\n",
        "\n",
        "  return train_model(\n",
        "      model, optimizer, num_iterations=30000, \n",
        "      print_every=250, eval_every=250,\n",
        "      prep_fn=prepare_treelstm_minibatch,\n",
        "      eval_fn=evaluate,\n",
        "      batch_fn=get_minibatch,\n",
        "      batch_size=25, eval_batch_size=25)\n",
        "  \n",
        "\n",
        "results=  do_train(tree_model)\n",
        "tree_losses, tree_accuracies=results"
      ],
      "execution_count": 70,
      "outputs": [
        {
          "output_type": "stream",
          "text": [
            "TreeLSTMClassifier(\n",
            "  (embed): Embedding(20727, 300, padding_idx=1)\n",
            "  (treelstm): TreeLSTM(\n",
            "    (reduce): TreeLSTMCell(300, 150)\n",
            "    (proj_x): Linear(in_features=300, out_features=150, bias=True)\n",
            "    (proj_x_gate): Linear(in_features=300, out_features=150, bias=True)\n",
            "    (buffers_dropout): Dropout(p=0.5, inplace=False)\n",
            "  )\n",
            "  (output_layer): Sequential(\n",
            "    (0): Dropout(p=0.5, inplace=False)\n",
            "    (1): Linear(in_features=150, out_features=5, bias=True)\n",
            "  )\n",
            ")\n",
            "embed.weight             [20727, 300] requires_grad=False\n",
            "treelstm.reduce.reduce_layer.weight [750, 300]   requires_grad=True\n",
            "treelstm.reduce.reduce_layer.bias [750]        requires_grad=True\n",
            "treelstm.proj_x.weight   [150, 300]   requires_grad=True\n",
            "treelstm.proj_x.bias     [150]        requires_grad=True\n",
            "treelstm.proj_x_gate.weight [150, 300]   requires_grad=True\n",
            "treelstm.proj_x_gate.bias [150]        requires_grad=True\n",
            "output_layer.1.weight    [5, 150]     requires_grad=True\n",
            "output_layer.1.bias      [5]          requires_grad=True\n",
            "\n",
            "Total number of parameters: 6534905\n",
            "\n",
            "Shuffling training data\n",
            "Iter 250: loss=384.7020, time=20.40s\n",
            "iter 250: dev acc=0.3978\n",
            "new highscore\n",
            "Shuffling training data\n",
            "Iter 500: loss=336.0604, time=41.69s\n",
            "iter 500: dev acc=0.4169\n",
            "new highscore\n",
            "Shuffling training data\n",
            "Iter 750: loss=321.2674, time=63.80s\n",
            "iter 750: dev acc=0.4214\n",
            "new highscore\n",
            "Iter 1000: loss=314.2489, time=85.38s\n",
            "iter 1000: dev acc=0.4369\n",
            "new highscore\n",
            "Shuffling training data\n",
            "Iter 1250: loss=306.9170, time=107.40s\n",
            "iter 1250: dev acc=0.4387\n",
            "new highscore\n",
            "Shuffling training data\n",
            "Iter 1500: loss=304.5871, time=129.08s\n",
            "iter 1500: dev acc=0.4387\n",
            "Shuffling training data\n",
            "Iter 1750: loss=298.6846, time=150.72s\n",
            "iter 1750: dev acc=0.4278\n",
            "Iter 2000: loss=294.1145, time=171.87s\n",
            "iter 2000: dev acc=0.4559\n",
            "new highscore\n",
            "Shuffling training data\n",
            "Iter 2250: loss=292.0002, time=193.36s\n",
            "iter 2250: dev acc=0.4414\n",
            "Shuffling training data\n",
            "Iter 2500: loss=286.1284, time=215.06s\n",
            "iter 2500: dev acc=0.4432\n",
            "Shuffling training data\n",
            "Iter 2750: loss=285.5753, time=236.98s\n",
            "iter 2750: dev acc=0.4423\n",
            "Iter 3000: loss=278.3052, time=258.58s\n",
            "iter 3000: dev acc=0.4450\n",
            "Shuffling training data\n",
            "Iter 3250: loss=277.3380, time=280.05s\n",
            "iter 3250: dev acc=0.4668\n",
            "new highscore\n",
            "Shuffling training data\n",
            "Iter 3500: loss=274.1927, time=301.68s\n",
            "iter 3500: dev acc=0.4596\n",
            "Iter 3750: loss=269.6240, time=323.49s\n",
            "iter 3750: dev acc=0.4496\n",
            "Shuffling training data\n",
            "Iter 4000: loss=262.1876, time=344.67s\n",
            "iter 4000: dev acc=0.4450\n",
            "Shuffling training data\n",
            "Iter 4250: loss=261.4579, time=366.85s\n",
            "iter 4250: dev acc=0.4559\n",
            "Shuffling training data\n",
            "Iter 4500: loss=260.0571, time=389.51s\n",
            "iter 4500: dev acc=0.4659\n",
            "Iter 4750: loss=254.8104, time=412.37s\n",
            "iter 4750: dev acc=0.4378\n",
            "Shuffling training data\n",
            "Iter 5000: loss=248.4138, time=435.09s\n",
            "iter 5000: dev acc=0.4505\n",
            "Shuffling training data\n",
            "Iter 5250: loss=246.7294, time=457.64s\n",
            "iter 5250: dev acc=0.4450\n",
            "Shuffling training data\n",
            "Iter 5500: loss=240.2364, time=480.38s\n",
            "iter 5500: dev acc=0.4532\n",
            "Iter 5750: loss=237.7496, time=502.77s\n",
            "iter 5750: dev acc=0.4487\n",
            "Shuffling training data\n",
            "Iter 6000: loss=231.3395, time=524.84s\n",
            "iter 6000: dev acc=0.4505\n",
            "Shuffling training data\n",
            "Iter 6250: loss=224.2693, time=547.33s\n",
            "iter 6250: dev acc=0.4423\n",
            "Shuffling training data\n",
            "Iter 6500: loss=222.0952, time=570.05s\n",
            "iter 6500: dev acc=0.4114\n",
            "Iter 6750: loss=213.9914, time=592.56s\n",
            "iter 6750: dev acc=0.4387\n",
            "Shuffling training data\n",
            "Iter 7000: loss=208.9793, time=614.70s\n",
            "iter 7000: dev acc=0.4514\n",
            "Shuffling training data\n",
            "Iter 7250: loss=205.2862, time=638.46s\n",
            "iter 7250: dev acc=0.4242\n",
            "Iter 7500: loss=198.0788, time=661.28s\n",
            "iter 7500: dev acc=0.4214\n",
            "Shuffling training data\n",
            "Iter 7750: loss=192.0680, time=683.87s\n",
            "iter 7750: dev acc=0.4124\n",
            "Shuffling training data\n",
            "Iter 8000: loss=183.9374, time=707.07s\n",
            "iter 8000: dev acc=0.4369\n",
            "Shuffling training data\n",
            "Iter 8250: loss=181.3525, time=729.48s\n",
            "iter 8250: dev acc=0.4160\n",
            "Iter 8500: loss=174.2659, time=751.83s\n",
            "iter 8500: dev acc=0.4033\n",
            "Shuffling training data\n",
            "Iter 8750: loss=165.4906, time=775.05s\n",
            "iter 8750: dev acc=0.4151\n",
            "Shuffling training data\n",
            "Iter 9000: loss=163.4307, time=798.05s\n",
            "iter 9000: dev acc=0.4169\n",
            "Shuffling training data\n",
            "Iter 9250: loss=160.2125, time=820.91s\n",
            "iter 9250: dev acc=0.4133\n",
            "Iter 9500: loss=147.6885, time=844.49s\n",
            "iter 9500: dev acc=0.4151\n",
            "Shuffling training data\n",
            "Iter 9750: loss=142.8516, time=867.41s\n",
            "iter 9750: dev acc=0.4196\n",
            "Shuffling training data\n",
            "Iter 10000: loss=141.9350, time=889.92s\n",
            "iter 10000: dev acc=0.4033\n",
            "Iter 10250: loss=133.4077, time=913.15s\n",
            "iter 10250: dev acc=0.4078\n",
            "Shuffling training data\n",
            "Iter 10500: loss=122.4630, time=935.66s\n",
            "iter 10500: dev acc=0.3942\n",
            "Shuffling training data\n",
            "Iter 10750: loss=121.1058, time=958.17s\n",
            "iter 10750: dev acc=0.4005\n",
            "Shuffling training data\n",
            "Iter 11000: loss=116.9250, time=980.35s\n",
            "iter 11000: dev acc=0.4042\n",
            "Iter 11250: loss=111.1261, time=1003.63s\n",
            "iter 11250: dev acc=0.3851\n",
            "Shuffling training data\n",
            "Iter 11500: loss=106.1323, time=1026.52s\n",
            "iter 11500: dev acc=0.3942\n",
            "Shuffling training data\n",
            "Iter 11750: loss=102.8916, time=1048.53s\n",
            "iter 11750: dev acc=0.3996\n",
            "Shuffling training data\n",
            "Iter 12000: loss=99.5904, time=1070.83s\n",
            "iter 12000: dev acc=0.3842\n",
            "Iter 12250: loss=89.9803, time=1093.29s\n",
            "iter 12250: dev acc=0.3915\n",
            "Shuffling training data\n",
            "Iter 12500: loss=82.2707, time=1114.91s\n",
            "iter 12500: dev acc=0.4005\n",
            "Shuffling training data\n",
            "Iter 12750: loss=82.1853, time=1137.22s\n",
            "iter 12750: dev acc=0.4069\n",
            "Shuffling training data\n",
            "Iter 13000: loss=79.4186, time=1159.51s\n",
            "iter 13000: dev acc=0.3942\n",
            "Iter 13250: loss=73.9566, time=1182.17s\n",
            "iter 13250: dev acc=0.3915\n",
            "Shuffling training data\n",
            "Iter 13500: loss=75.9647, time=1204.65s\n",
            "iter 13500: dev acc=0.3878\n",
            "Shuffling training data\n",
            "Iter 13750: loss=63.9906, time=1227.62s\n",
            "iter 13750: dev acc=0.3978\n",
            "Iter 14000: loss=65.3118, time=1249.89s\n",
            "iter 14000: dev acc=0.3969\n",
            "Shuffling training data\n",
            "Iter 14250: loss=58.9780, time=1272.10s\n",
            "iter 14250: dev acc=0.3806\n",
            "Shuffling training data\n",
            "Iter 14500: loss=54.1053, time=1294.14s\n",
            "iter 14500: dev acc=0.3924\n",
            "Shuffling training data\n",
            "Iter 14750: loss=56.3580, time=1316.99s\n",
            "iter 14750: dev acc=0.3887\n",
            "Iter 15000: loss=53.6830, time=1339.43s\n",
            "iter 15000: dev acc=0.3942\n",
            "Shuffling training data\n",
            "Iter 15250: loss=52.9472, time=1361.73s\n",
            "iter 15250: dev acc=0.3824\n",
            "Shuffling training data\n",
            "Iter 15500: loss=47.5261, time=1384.03s\n",
            "iter 15500: dev acc=0.3860\n",
            "Shuffling training data\n",
            "Iter 15750: loss=47.9471, time=1406.62s\n",
            "iter 15750: dev acc=0.3860\n",
            "Iter 16000: loss=39.1572, time=1429.40s\n",
            "iter 16000: dev acc=0.3987\n",
            "Shuffling training data\n",
            "Iter 16250: loss=42.1098, time=1451.87s\n",
            "iter 16250: dev acc=0.3933\n",
            "Shuffling training data\n",
            "Iter 16500: loss=47.6389, time=1474.35s\n",
            "iter 16500: dev acc=0.3933\n",
            "Iter 16750: loss=40.4671, time=1497.68s\n",
            "iter 16750: dev acc=0.4114\n",
            "Shuffling training data\n",
            "Iter 17000: loss=35.4774, time=1520.28s\n",
            "iter 17000: dev acc=0.3969\n",
            "Shuffling training data\n",
            "Iter 17250: loss=35.5186, time=1542.63s\n",
            "iter 17250: dev acc=0.3951\n",
            "Shuffling training data\n",
            "Iter 17500: loss=40.0906, time=1565.38s\n",
            "iter 17500: dev acc=0.3833\n",
            "Iter 17750: loss=35.5372, time=1588.31s\n",
            "iter 17750: dev acc=0.4015\n",
            "Shuffling training data\n",
            "Iter 18000: loss=25.1848, time=1610.96s\n",
            "iter 18000: dev acc=0.3987\n",
            "Shuffling training data\n",
            "Iter 18250: loss=40.6268, time=1633.75s\n",
            "iter 18250: dev acc=0.4033\n",
            "Shuffling training data\n",
            "Iter 18500: loss=28.0688, time=1656.30s\n",
            "iter 18500: dev acc=0.3951\n",
            "Iter 18750: loss=26.7497, time=1678.86s\n",
            "iter 18750: dev acc=0.4042\n",
            "Shuffling training data\n",
            "Iter 19000: loss=23.0107, time=1701.99s\n",
            "iter 19000: dev acc=0.3851\n",
            "Shuffling training data\n",
            "Iter 19250: loss=21.7717, time=1724.53s\n",
            "iter 19250: dev acc=0.3969\n",
            "Shuffling training data\n",
            "Iter 19500: loss=20.5268, time=1746.81s\n",
            "iter 19500: dev acc=0.3887\n",
            "Iter 19750: loss=24.1660, time=1769.48s\n",
            "iter 19750: dev acc=0.3987\n",
            "Shuffling training data\n",
            "Iter 20000: loss=33.0451, time=1792.42s\n",
            "iter 20000: dev acc=0.4078\n",
            "Shuffling training data\n",
            "Iter 20250: loss=35.1141, time=1814.61s\n",
            "iter 20250: dev acc=0.4024\n",
            "Iter 20500: loss=25.9988, time=1837.65s\n",
            "iter 20500: dev acc=0.4060\n",
            "Shuffling training data\n",
            "Iter 20750: loss=18.6450, time=1860.25s\n",
            "iter 20750: dev acc=0.3906\n",
            "Shuffling training data\n",
            "Iter 21000: loss=19.7305, time=1883.39s\n",
            "iter 21000: dev acc=0.3942\n",
            "Shuffling training data\n",
            "Iter 21250: loss=16.7562, time=1906.30s\n",
            "iter 21250: dev acc=0.4096\n",
            "Iter 21500: loss=16.8477, time=1929.66s\n",
            "iter 21500: dev acc=0.4060\n",
            "Shuffling training data\n",
            "Iter 21750: loss=18.8902, time=1952.26s\n",
            "iter 21750: dev acc=0.4060\n",
            "Shuffling training data\n",
            "Iter 22000: loss=36.1406, time=1975.04s\n",
            "iter 22000: dev acc=0.3842\n",
            "Shuffling training data\n",
            "Iter 22250: loss=22.3471, time=1998.08s\n",
            "iter 22250: dev acc=0.3942\n",
            "Iter 22500: loss=18.6574, time=2020.57s\n",
            "iter 22500: dev acc=0.3996\n",
            "Shuffling training data\n",
            "Iter 22750: loss=20.2318, time=2043.18s\n",
            "iter 22750: dev acc=0.4033\n",
            "Shuffling training data\n",
            "Iter 23000: loss=15.9677, time=2065.88s\n",
            "iter 23000: dev acc=0.4105\n",
            "Iter 23250: loss=10.7482, time=2088.12s\n",
            "iter 23250: dev acc=0.4051\n",
            "Shuffling training data\n",
            "Iter 23500: loss=10.2160, time=2110.88s\n",
            "iter 23500: dev acc=0.4033\n",
            "Shuffling training data\n",
            "Iter 23750: loss=7.0767, time=2133.13s\n",
            "iter 23750: dev acc=0.4060\n",
            "Shuffling training data\n",
            "Iter 24000: loss=14.4309, time=2156.37s\n",
            "iter 24000: dev acc=0.4078\n",
            "Iter 24250: loss=27.5699, time=2178.42s\n",
            "iter 24250: dev acc=0.4042\n",
            "Shuffling training data\n",
            "Iter 24500: loss=15.7253, time=2199.99s\n",
            "iter 24500: dev acc=0.4005\n",
            "Shuffling training data\n",
            "Iter 24750: loss=17.4061, time=2222.07s\n",
            "iter 24750: dev acc=0.4033\n",
            "Shuffling training data\n",
            "Iter 25000: loss=16.5015, time=2244.26s\n",
            "iter 25000: dev acc=0.4096\n",
            "Iter 25250: loss=17.0360, time=2266.78s\n",
            "iter 25250: dev acc=0.4114\n",
            "Shuffling training data\n",
            "Iter 25500: loss=17.0922, time=2288.70s\n",
            "iter 25500: dev acc=0.3933\n",
            "Shuffling training data\n",
            "Iter 25750: loss=19.4402, time=2310.52s\n",
            "iter 25750: dev acc=0.4060\n",
            "Shuffling training data\n",
            "Iter 26000: loss=15.7583, time=2332.72s\n",
            "iter 26000: dev acc=0.4151\n",
            "Iter 26250: loss=9.6008, time=2354.33s\n",
            "iter 26250: dev acc=0.3996\n",
            "Shuffling training data\n",
            "Iter 26500: loss=7.9870, time=2376.52s\n",
            "iter 26500: dev acc=0.3878\n",
            "Shuffling training data\n",
            "Iter 26750: loss=6.4667, time=2398.32s\n",
            "iter 26750: dev acc=0.4033\n",
            "Iter 27000: loss=9.3392, time=2420.68s\n",
            "iter 27000: dev acc=0.3942\n",
            "Shuffling training data\n",
            "Iter 27250: loss=11.7289, time=2442.27s\n",
            "iter 27250: dev acc=0.3896\n",
            "Shuffling training data\n",
            "Iter 27500: loss=23.3349, time=2464.42s\n",
            "iter 27500: dev acc=0.3969\n",
            "Shuffling training data\n",
            "Iter 27750: loss=21.2013, time=2485.92s\n",
            "iter 27750: dev acc=0.4024\n",
            "Iter 28000: loss=14.1225, time=2507.81s\n",
            "iter 28000: dev acc=0.4024\n",
            "Shuffling training data\n",
            "Iter 28250: loss=18.9367, time=2529.81s\n",
            "iter 28250: dev acc=0.3969\n",
            "Shuffling training data\n",
            "Iter 28500: loss=11.2352, time=2552.75s\n",
            "iter 28500: dev acc=0.4078\n",
            "Shuffling training data\n",
            "Iter 28750: loss=6.8080, time=2574.91s\n",
            "iter 28750: dev acc=0.4005\n",
            "Iter 29000: loss=16.0813, time=2596.56s\n",
            "iter 29000: dev acc=0.4087\n",
            "Shuffling training data\n",
            "Iter 29250: loss=17.2312, time=2618.51s\n",
            "iter 29250: dev acc=0.3987\n",
            "Shuffling training data\n",
            "Iter 29500: loss=10.6127, time=2641.18s\n",
            "iter 29500: dev acc=0.4069\n",
            "Iter 29750: loss=9.0851, time=2663.66s\n",
            "iter 29750: dev acc=0.4078\n",
            "Shuffling training data\n",
            "Iter 30000: loss=8.2022, time=2685.60s\n",
            "iter 30000: dev acc=0.4042\n",
            "Done training\n",
            "Loading best model\n",
            "best model iter 3250: train acc=0.5446, dev acc=0.4668, test acc=0.4629, test acc long sent 1 sd=0.4457, test acc long sent 1.5 sd=0.4973, test acc short sent 1 sd=0.5046, test acc short sent 1.5 sd=0.4444\n"
          ],
          "name": "stdout"
        }
      ]
    },
    {
      "cell_type": "code",
      "metadata": {
        "colab": {
          "base_uri": "https://localhost:8080/",
          "height": 447
        },
        "id": "iB91V__O10Rl",
        "outputId": "d450ca8e-7df5-4eaa-cb4d-b8a2fa2d3967"
      },
      "source": [
        "# plot\n",
        "plt.plot(tree_accuracies)  "
      ],
      "execution_count": 71,
      "outputs": [
        {
          "output_type": "execute_result",
          "data": {
            "text/plain": [
              "[<matplotlib.lines.Line2D at 0x7f1c8c472160>]"
            ]
          },
          "metadata": {
            "tags": []
          },
          "execution_count": 71
        },
        {
          "output_type": "display_data",
          "data": {
            "image/png": "[encoded data removed]",
            "text/plain": [
              "<Figure size 640x480 with 1 Axes>"
            ]
          },
          "metadata": {
            "tags": []
          }
        }
      ]
    },
    {
      "cell_type": "code",
      "metadata": {
        "colab": {
          "base_uri": "https://localhost:8080/",
          "height": 450
        },
        "id": "aapi7L3Q13-f",
        "outputId": "f07c2067-d6aa-4f00-847b-7755164ef118"
      },
      "source": [
        "# plot\n",
        "plt.plot(tree_losses)"
      ],
      "execution_count": 72,
      "outputs": [
        {
          "output_type": "execute_result",
          "data": {
            "text/plain": [
              "[<matplotlib.lines.Line2D at 0x7f1c8c43f7f0>]"
            ]
          },
          "metadata": {
            "tags": []
          },
          "execution_count": 72
        },
        {
          "output_type": "display_data",
          "data": {
            "image/png": "[encoded data removed]",
            "text/plain": [
              "<Figure size 640x480 with 1 Axes>"
            ]
          },
          "metadata": {
            "tags": []
          }
        }
      ]
    },
    {
      "cell_type": "markdown",
      "metadata": {
        "id": "tsksjShOOKw1"
      },
      "source": [
        "**Supervising at each node in tree**\n"
      ]
    },
    {
      "cell_type": "code",
      "metadata": {
        "id": "MdQLWTaxjnw7"
      },
      "source": [
        "train_data = list(examplereader(\"trees/train.txt\",lower=LOWER))"
      ],
      "execution_count": 73,
      "outputs": []
    },
    {
      "cell_type": "code",
      "metadata": {
        "id": "d7_w8dSRW4Zx"
      },
      "source": [
        "def transitions_subtree(subtree, transitions):\n",
        "  if(len(subtree) == 1):\n",
        "    transitions.append(0)\n",
        "    return\n",
        "  \n",
        "  for node in subtree:\n",
        "    transitions_subtree(node, transitions)\n",
        "  transitions.append(1)\n",
        "  return"
      ],
      "execution_count": 74,
      "outputs": []
    },
    {
      "cell_type": "code",
      "metadata": {
        "id": "mOEoS_vjTuYb"
      },
      "source": [
        "train_data_adjusted = []\n",
        "for example in train_data:\n",
        "  for subtree in example.tree.subtrees():\n",
        "    if len(subtree.leaves()) < 2:\n",
        "      continue\n",
        "    \n",
        "    transitions = []\n",
        "    transitions_subtree(subtree, transitions)\n",
        "    \n",
        "    if(len(transitions)-sum(transitions) != len(subtree.leaves())): \n",
        "      continue\n",
        "    \n",
        "    train_data_adjusted.append(Example(tokens=subtree.leaves(),\n",
        "                            tree=subtree,\n",
        "                            label=int(subtree._label),\n",
        "                            transitions=transitions))\n",
        "train_data =  train_data_adjusted "
      ],
      "execution_count": 75,
      "outputs": []
    },
    {
      "cell_type": "code",
      "metadata": {
        "colab": {
          "base_uri": "https://localhost:8080/"
        },
        "id": "Gh43L2gJj--H",
        "outputId": "59f1dd17-76d7-4eba-a623-897072470c6d"
      },
      "source": [
        "#Create new vocabulary\n",
        "v = Vocabulary()\n",
        "for data_set in (train_data_adjusted,):\n",
        "  for ex in data_set:\n",
        "    for token in ex.tokens:\n",
        "      v.count_token(token)\n",
        "\n",
        "v.build()\n",
        "print(\"Vocabulary size:\", len(v.w2i))"
      ],
      "execution_count": 76,
      "outputs": [
        {
          "output_type": "stream",
          "text": [
            "Vocabulary size: 18280\n"
          ],
          "name": "stdout"
        }
      ]
    },
    {
      "cell_type": "code",
      "metadata": {
        "colab": {
          "base_uri": "https://localhost:8080/"
        },
        "id": "Ml592zidPpSH",
        "outputId": "b1783409-7d86-4312-8afe-7c5e67e10476"
      },
      "source": [
        "tree_model = TreeLSTMClassifier(\n",
        "    len(v_w2vec.w2i), 300, 150, len(t2i), v_w2vec)\n",
        "\n",
        "with torch.no_grad():\n",
        "  tree_model.embed.weight.data.copy_(torch.from_numpy(vectors_w2vec))\n",
        "  tree_model.embed.weight.requires_grad = False\n",
        "  \n",
        "def do_train(model):\n",
        "  \n",
        "  print(model)\n",
        "  print_parameters(model)\n",
        "\n",
        "  model = model.to(device)\n",
        "\n",
        "  optimizer = optim.Adam(model.parameters(), lr=2e-4)\n",
        "\n",
        "  return train_model(\n",
        "      model, optimizer, num_iterations=15000, \n",
        "      print_every=250, eval_every=250,\n",
        "      prep_fn=prepare_treelstm_minibatch,\n",
        "      eval_fn=evaluate,\n",
        "      batch_fn=get_minibatch,\n",
        "      batch_size=25, eval_batch_size=25)\n",
        "  \n",
        "\n",
        "results=  do_train(tree_model)\n",
        "tree_losses, tree_accuracies=results"
      ],
      "execution_count": 77,
      "outputs": [
        {
          "output_type": "stream",
          "text": [
            "TreeLSTMClassifier(\n",
            "  (embed): Embedding(18922, 300, padding_idx=1)\n",
            "  (treelstm): TreeLSTM(\n",
            "    (reduce): TreeLSTMCell(300, 150)\n",
            "    (proj_x): Linear(in_features=300, out_features=150, bias=True)\n",
            "    (proj_x_gate): Linear(in_features=300, out_features=150, bias=True)\n",
            "    (buffers_dropout): Dropout(p=0.5, inplace=False)\n",
            "  )\n",
            "  (output_layer): Sequential(\n",
            "    (0): Dropout(p=0.5, inplace=False)\n",
            "    (1): Linear(in_features=150, out_features=5, bias=True)\n",
            "  )\n",
            ")\n",
            "embed.weight             [18922, 300] requires_grad=False\n",
            "treelstm.reduce.reduce_layer.weight [750, 300]   requires_grad=True\n",
            "treelstm.reduce.reduce_layer.bias [750]        requires_grad=True\n",
            "treelstm.proj_x.weight   [150, 300]   requires_grad=True\n",
            "treelstm.proj_x.bias     [150]        requires_grad=True\n",
            "treelstm.proj_x_gate.weight [150, 300]   requires_grad=True\n",
            "treelstm.proj_x_gate.bias [150]        requires_grad=True\n",
            "output_layer.1.weight    [5, 150]     requires_grad=True\n",
            "output_layer.1.bias      [5]          requires_grad=True\n",
            "\n",
            "Total number of parameters: 5993405\n",
            "\n",
            "Shuffling training data\n",
            "Iter 250: loss=340.9072, time=13.57s\n",
            "iter 250: dev acc=0.2589\n",
            "new highscore\n",
            "Iter 500: loss=305.8394, time=28.39s\n",
            "iter 500: dev acc=0.2979\n",
            "new highscore\n",
            "Iter 750: loss=289.6939, time=43.77s\n",
            "iter 750: dev acc=0.3079\n",
            "new highscore\n",
            "Iter 1000: loss=268.1874, time=58.69s\n",
            "iter 1000: dev acc=0.3379\n",
            "new highscore\n",
            "Iter 1250: loss=255.7439, time=73.79s\n",
            "iter 1250: dev acc=0.3606\n",
            "new highscore\n",
            "Iter 1500: loss=251.6022, time=89.03s\n",
            "iter 1500: dev acc=0.3860\n",
            "new highscore\n",
            "Iter 1750: loss=246.8665, time=104.33s\n",
            "iter 1750: dev acc=0.3933\n",
            "new highscore\n",
            "Iter 2000: loss=243.8840, time=119.24s\n",
            "iter 2000: dev acc=0.3960\n",
            "new highscore\n",
            "Iter 2250: loss=240.4512, time=134.50s\n",
            "iter 2250: dev acc=0.3797\n",
            "Iter 2500: loss=236.7016, time=149.45s\n",
            "iter 2500: dev acc=0.4169\n",
            "new highscore\n",
            "Iter 2750: loss=243.7964, time=164.77s\n",
            "iter 2750: dev acc=0.3978\n",
            "Iter 3000: loss=232.9191, time=179.55s\n",
            "iter 3000: dev acc=0.4233\n",
            "new highscore\n",
            "Iter 3250: loss=233.0186, time=194.77s\n",
            "iter 3250: dev acc=0.4005\n",
            "Iter 3500: loss=233.2783, time=209.69s\n",
            "iter 3500: dev acc=0.4124\n",
            "Iter 3750: loss=235.2844, time=224.59s\n",
            "iter 3750: dev acc=0.4287\n",
            "new highscore\n",
            "Iter 4000: loss=232.2585, time=239.36s\n",
            "iter 4000: dev acc=0.4242\n",
            "Iter 4250: loss=230.5317, time=254.83s\n",
            "iter 4250: dev acc=0.4251\n",
            "Iter 4500: loss=229.5585, time=269.97s\n",
            "iter 4500: dev acc=0.4342\n",
            "new highscore\n",
            "Iter 4750: loss=231.0990, time=284.81s\n",
            "iter 4750: dev acc=0.4196\n",
            "Iter 5000: loss=231.8781, time=300.07s\n",
            "iter 5000: dev acc=0.4205\n",
            "Iter 5250: loss=233.1936, time=314.98s\n",
            "iter 5250: dev acc=0.4187\n",
            "Iter 5500: loss=231.2925, time=329.94s\n",
            "iter 5500: dev acc=0.4305\n",
            "Iter 5750: loss=230.3643, time=345.21s\n",
            "iter 5750: dev acc=0.4287\n",
            "Iter 6000: loss=226.0179, time=359.93s\n",
            "iter 6000: dev acc=0.4360\n",
            "new highscore\n",
            "Shuffling training data\n",
            "Iter 6250: loss=232.2170, time=375.17s\n",
            "iter 6250: dev acc=0.4378\n",
            "new highscore\n",
            "Iter 6500: loss=230.4128, time=390.43s\n",
            "iter 6500: dev acc=0.4378\n",
            "Iter 6750: loss=223.8363, time=405.74s\n",
            "iter 6750: dev acc=0.4378\n",
            "Iter 7000: loss=221.3764, time=421.00s\n",
            "iter 7000: dev acc=0.4305\n",
            "Iter 7250: loss=222.3281, time=435.67s\n",
            "iter 7250: dev acc=0.4269\n",
            "Iter 7500: loss=223.8652, time=451.03s\n",
            "iter 7500: dev acc=0.4387\n",
            "new highscore\n",
            "Iter 7750: loss=220.8079, time=466.94s\n",
            "iter 7750: dev acc=0.4351\n",
            "Iter 8000: loss=224.0170, time=481.51s\n",
            "iter 8000: dev acc=0.4314\n",
            "Iter 8250: loss=216.2167, time=496.40s\n",
            "iter 8250: dev acc=0.4423\n",
            "new highscore\n",
            "Iter 8500: loss=222.3986, time=511.90s\n",
            "iter 8500: dev acc=0.4487\n",
            "new highscore\n",
            "Iter 8750: loss=219.2255, time=527.30s\n",
            "iter 8750: dev acc=0.4369\n",
            "Iter 9000: loss=221.7534, time=542.29s\n",
            "iter 9000: dev acc=0.4378\n",
            "Iter 9250: loss=226.2229, time=557.57s\n",
            "iter 9250: dev acc=0.4505\n",
            "new highscore\n",
            "Iter 9500: loss=219.8640, time=572.33s\n",
            "iter 9500: dev acc=0.4378\n",
            "Iter 9750: loss=217.0887, time=587.61s\n",
            "iter 9750: dev acc=0.4441\n",
            "Iter 10000: loss=221.7032, time=602.53s\n",
            "iter 10000: dev acc=0.4396\n",
            "Iter 10250: loss=223.0761, time=617.40s\n",
            "iter 10250: dev acc=0.4514\n",
            "new highscore\n",
            "Iter 10500: loss=220.6342, time=632.08s\n",
            "iter 10500: dev acc=0.4514\n",
            "Iter 10750: loss=221.5252, time=647.29s\n",
            "iter 10750: dev acc=0.4578\n",
            "new highscore\n",
            "Iter 11000: loss=222.8426, time=662.25s\n",
            "iter 11000: dev acc=0.4505\n",
            "Iter 11250: loss=220.2282, time=677.20s\n",
            "iter 11250: dev acc=0.4632\n",
            "new highscore\n",
            "Iter 11500: loss=219.0028, time=692.62s\n",
            "iter 11500: dev acc=0.4659\n",
            "new highscore\n",
            "Iter 11750: loss=217.7969, time=707.73s\n",
            "iter 11750: dev acc=0.4605\n",
            "Iter 12000: loss=217.5221, time=722.43s\n",
            "iter 12000: dev acc=0.4578\n",
            "Iter 12250: loss=219.0283, time=737.31s\n",
            "iter 12250: dev acc=0.4678\n",
            "new highscore\n",
            "Shuffling training data\n",
            "Iter 12500: loss=218.0594, time=752.53s\n",
            "iter 12500: dev acc=0.4605\n",
            "Iter 12750: loss=215.1133, time=767.43s\n",
            "iter 12750: dev acc=0.4668\n",
            "Iter 13000: loss=213.9412, time=782.62s\n",
            "iter 13000: dev acc=0.4632\n",
            "Iter 13250: loss=216.6943, time=797.68s\n",
            "iter 13250: dev acc=0.4696\n",
            "new highscore\n",
            "Iter 13500: loss=219.0926, time=812.27s\n",
            "iter 13500: dev acc=0.4532\n",
            "Iter 13750: loss=216.6654, time=827.49s\n",
            "iter 13750: dev acc=0.4578\n",
            "Iter 14000: loss=217.0501, time=843.05s\n",
            "iter 14000: dev acc=0.4705\n",
            "new highscore\n",
            "Iter 14250: loss=217.5790, time=857.54s\n",
            "iter 14250: dev acc=0.4587\n",
            "Iter 14500: loss=215.1566, time=872.57s\n",
            "iter 14500: dev acc=0.4714\n",
            "new highscore\n",
            "Iter 14750: loss=218.9663, time=888.06s\n",
            "iter 14750: dev acc=0.4714\n",
            "Iter 15000: loss=213.4206, time=902.57s\n",
            "iter 15000: dev acc=0.4678\n",
            "Done training\n",
            "Loading best model\n",
            "best model iter 14500: train acc=0.6505, dev acc=0.4714, test acc=0.4679, test acc long sent 1 sd=0.4428, test acc long sent 1.5 sd=0.4332, test acc short sent 1 sd=0.5093, test acc short sent 1.5 sd=0.5694\n"
          ],
          "name": "stdout"
        }
      ]
    },
    {
      "cell_type": "code",
      "metadata": {
        "colab": {
          "base_uri": "https://localhost:8080/"
        },
        "id": "1zYa5TSNBL_0",
        "outputId": "eafae03e-d07e-4729-8a39-b2552de2c01d"
      },
      "source": [
        "tree_model = TreeLSTMClassifier(\r\n",
        "    len(v_glove.w2i), 300, 150, len(t2i), v_glove)\r\n",
        "\r\n",
        "with torch.no_grad():\r\n",
        "  tree_model.embed.weight.data.copy_(torch.from_numpy(vectors_glove))\r\n",
        "  tree_model.embed.weight.requires_grad = False\r\n",
        "  \r\n",
        "def do_train(model):\r\n",
        "  \r\n",
        "  print(model)\r\n",
        "  print_parameters(model)\r\n",
        "\r\n",
        "  model = model.to(device)\r\n",
        "\r\n",
        "  optimizer = optim.Adam(model.parameters(), lr=2e-4)\r\n",
        "\r\n",
        "  return train_model(\r\n",
        "      model, optimizer, num_iterations=15000, \r\n",
        "      print_every=250, eval_every=250,\r\n",
        "      prep_fn=prepare_treelstm_minibatch,\r\n",
        "      eval_fn=evaluate,\r\n",
        "      batch_fn=get_minibatch,\r\n",
        "      batch_size=25, eval_batch_size=25)\r\n",
        "  \r\n",
        "\r\n",
        "results=  do_train(tree_model)\r\n",
        "tree_losses, tree_accuracies=results"
      ],
      "execution_count": 78,
      "outputs": [
        {
          "output_type": "stream",
          "text": [
            "TreeLSTMClassifier(\n",
            "  (embed): Embedding(20727, 300, padding_idx=1)\n",
            "  (treelstm): TreeLSTM(\n",
            "    (reduce): TreeLSTMCell(300, 150)\n",
            "    (proj_x): Linear(in_features=300, out_features=150, bias=True)\n",
            "    (proj_x_gate): Linear(in_features=300, out_features=150, bias=True)\n",
            "    (buffers_dropout): Dropout(p=0.5, inplace=False)\n",
            "  )\n",
            "  (output_layer): Sequential(\n",
            "    (0): Dropout(p=0.5, inplace=False)\n",
            "    (1): Linear(in_features=150, out_features=5, bias=True)\n",
            "  )\n",
            ")\n",
            "embed.weight             [20727, 300] requires_grad=False\n",
            "treelstm.reduce.reduce_layer.weight [750, 300]   requires_grad=True\n",
            "treelstm.reduce.reduce_layer.bias [750]        requires_grad=True\n",
            "treelstm.proj_x.weight   [150, 300]   requires_grad=True\n",
            "treelstm.proj_x.bias     [150]        requires_grad=True\n",
            "treelstm.proj_x_gate.weight [150, 300]   requires_grad=True\n",
            "treelstm.proj_x_gate.bias [150]        requires_grad=True\n",
            "output_layer.1.weight    [5, 150]     requires_grad=True\n",
            "output_layer.1.bias      [5]          requires_grad=True\n",
            "\n",
            "Total number of parameters: 6534905\n",
            "\n",
            "Shuffling training data\n",
            "Iter 250: loss=323.6622, time=13.87s\n",
            "iter 250: dev acc=0.3370\n",
            "new highscore\n",
            "Iter 500: loss=265.4129, time=29.19s\n",
            "iter 500: dev acc=0.3533\n",
            "new highscore\n",
            "Iter 750: loss=250.5536, time=44.45s\n",
            "iter 750: dev acc=0.3987\n",
            "new highscore\n",
            "Iter 1000: loss=237.8892, time=59.70s\n",
            "iter 1000: dev acc=0.4124\n",
            "new highscore\n",
            "Iter 1250: loss=239.0425, time=74.93s\n",
            "iter 1250: dev acc=0.4160\n",
            "new highscore\n",
            "Iter 1500: loss=231.2071, time=89.72s\n",
            "iter 1500: dev acc=0.4323\n",
            "new highscore\n",
            "Iter 1750: loss=228.0077, time=104.43s\n",
            "iter 1750: dev acc=0.4360\n",
            "new highscore\n",
            "Iter 2000: loss=228.8313, time=119.77s\n",
            "iter 2000: dev acc=0.4314\n",
            "Iter 2250: loss=231.3230, time=134.72s\n",
            "iter 2250: dev acc=0.4360\n",
            "Iter 2500: loss=224.6013, time=149.89s\n",
            "iter 2500: dev acc=0.4314\n",
            "Iter 2750: loss=230.7382, time=164.39s\n",
            "iter 2750: dev acc=0.4387\n",
            "new highscore\n",
            "Iter 3000: loss=224.7313, time=179.64s\n",
            "iter 3000: dev acc=0.4251\n",
            "Iter 3250: loss=226.5189, time=195.04s\n",
            "iter 3250: dev acc=0.4569\n",
            "new highscore\n",
            "Iter 3500: loss=222.9291, time=209.95s\n",
            "iter 3500: dev acc=0.4432\n",
            "Iter 3750: loss=224.6185, time=224.95s\n",
            "iter 3750: dev acc=0.4405\n",
            "Iter 4000: loss=221.6557, time=240.31s\n",
            "iter 4000: dev acc=0.4623\n",
            "new highscore\n",
            "Iter 4250: loss=225.5582, time=255.27s\n",
            "iter 4250: dev acc=0.4659\n",
            "new highscore\n",
            "Iter 4500: loss=222.5643, time=270.74s\n",
            "iter 4500: dev acc=0.4696\n",
            "new highscore\n",
            "Iter 4750: loss=218.5970, time=285.63s\n",
            "iter 4750: dev acc=0.4605\n",
            "Iter 5000: loss=227.2825, time=300.34s\n",
            "iter 5000: dev acc=0.4569\n",
            "Iter 5250: loss=220.0822, time=315.26s\n",
            "iter 5250: dev acc=0.4523\n",
            "Iter 5500: loss=211.0243, time=330.46s\n",
            "iter 5500: dev acc=0.4614\n",
            "Iter 5750: loss=220.8046, time=345.65s\n",
            "iter 5750: dev acc=0.4487\n",
            "Iter 6000: loss=221.7432, time=360.61s\n",
            "iter 6000: dev acc=0.4532\n",
            "Shuffling training data\n",
            "Iter 6250: loss=215.0487, time=375.69s\n",
            "iter 6250: dev acc=0.4732\n",
            "new highscore\n",
            "Iter 6500: loss=214.6968, time=390.79s\n",
            "iter 6500: dev acc=0.4659\n",
            "Iter 6750: loss=213.6651, time=405.52s\n",
            "iter 6750: dev acc=0.4614\n",
            "Iter 7000: loss=211.1490, time=420.37s\n",
            "iter 7000: dev acc=0.4578\n",
            "Iter 7250: loss=219.7848, time=435.44s\n",
            "iter 7250: dev acc=0.4678\n",
            "Iter 7500: loss=213.2916, time=450.35s\n",
            "iter 7500: dev acc=0.4668\n",
            "Iter 7750: loss=214.8682, time=465.33s\n",
            "iter 7750: dev acc=0.4687\n",
            "Iter 8000: loss=213.1640, time=480.50s\n",
            "iter 8000: dev acc=0.4832\n",
            "new highscore\n",
            "Iter 8250: loss=206.8659, time=495.40s\n",
            "iter 8250: dev acc=0.4714\n",
            "Iter 8500: loss=212.6340, time=510.10s\n",
            "iter 8500: dev acc=0.4678\n",
            "Iter 8750: loss=212.2661, time=524.68s\n",
            "iter 8750: dev acc=0.4696\n",
            "Iter 9000: loss=212.9939, time=539.46s\n",
            "iter 9000: dev acc=0.4750\n",
            "Iter 9250: loss=214.0423, time=554.34s\n",
            "iter 9250: dev acc=0.4623\n",
            "Iter 9500: loss=211.7230, time=569.49s\n",
            "iter 9500: dev acc=0.4814\n",
            "Iter 9750: loss=212.9431, time=585.18s\n",
            "iter 9750: dev acc=0.4569\n",
            "Iter 10000: loss=209.9438, time=600.41s\n",
            "iter 10000: dev acc=0.4650\n",
            "Iter 10250: loss=210.0493, time=616.11s\n",
            "iter 10250: dev acc=0.4814\n",
            "Iter 10500: loss=206.7123, time=630.59s\n",
            "iter 10500: dev acc=0.4823\n",
            "Iter 10750: loss=210.9270, time=645.43s\n",
            "iter 10750: dev acc=0.4932\n",
            "new highscore\n",
            "Iter 11000: loss=209.1246, time=659.94s\n",
            "iter 11000: dev acc=0.4923\n",
            "Iter 11250: loss=208.5889, time=674.20s\n",
            "iter 11250: dev acc=0.4832\n",
            "Iter 11500: loss=211.2061, time=688.91s\n",
            "iter 11500: dev acc=0.4823\n",
            "Iter 11750: loss=205.8011, time=703.42s\n",
            "iter 11750: dev acc=0.4732\n",
            "Iter 12000: loss=210.5065, time=717.70s\n",
            "iter 12000: dev acc=0.4932\n",
            "Iter 12250: loss=208.3363, time=732.10s\n",
            "iter 12250: dev acc=0.4650\n",
            "Shuffling training data\n",
            "Iter 12500: loss=209.7289, time=746.84s\n",
            "iter 12500: dev acc=0.4750\n",
            "Iter 12750: loss=205.7624, time=761.09s\n",
            "iter 12750: dev acc=0.4796\n",
            "Iter 13000: loss=205.9636, time=775.80s\n",
            "iter 13000: dev acc=0.4814\n",
            "Iter 13250: loss=203.0124, time=789.92s\n",
            "iter 13250: dev acc=0.4705\n",
            "Iter 13500: loss=206.3731, time=804.91s\n",
            "iter 13500: dev acc=0.4823\n",
            "Iter 13750: loss=203.4115, time=819.42s\n",
            "iter 13750: dev acc=0.4777\n",
            "Iter 14000: loss=203.9629, time=833.86s\n",
            "iter 14000: dev acc=0.4632\n",
            "Iter 14250: loss=206.3673, time=848.44s\n",
            "iter 14250: dev acc=0.4968\n",
            "new highscore\n",
            "Iter 14500: loss=208.0064, time=863.45s\n",
            "iter 14500: dev acc=0.5014\n",
            "new highscore\n",
            "Iter 14750: loss=203.6155, time=877.88s\n",
            "iter 14750: dev acc=0.4905\n",
            "Iter 15000: loss=207.5515, time=892.56s\n",
            "iter 15000: dev acc=0.4896\n",
            "Done training\n",
            "Loading best model\n",
            "best model iter 14500: train acc=0.6691, dev acc=0.5014, test acc=0.5000, test acc long sent 1 sd=0.4575, test acc long sent 1.5 sd=0.5027, test acc short sent 1 sd=0.5741, test acc short sent 1.5 sd=0.5972\n"
          ],
          "name": "stdout"
        }
      ]
    },
    {
      "cell_type": "markdown",
      "metadata": {
        "id": "f7QZZH86eHqu"
      },
      "source": [
        "# Further experiments and report\n",
        "\n",
        "For your report, you are expected to answer research questions by doing further experiments.\n",
        "\n",
        "## Research Questions\n",
        "\n",
        "Make sure you cover at least the following:\n",
        "\n",
        "- How important is word order for this task?\n",
        "- Does the tree structure help to get a better accuracy?\n",
        "- How does performance depend on the sentence length? Compare the various models. Is there a model that does better on longer sentences? If so, why?\n",
        "- Do you get better performance if you supervise the sentiment **at each node in the tree**? You can extract more training examples by treating every node in each tree as a separate tree. You will need to write a function that extracts all subtrees given a treestring. \n",
        "    - Warning: NLTK's Tree function seems to result in invalid trees in some cases, so be careful if you want to parse the string to a tree structure before extraction the phrases.\n",
        "\n",
        "**To obtain a full grade, you should conduct further investigations.** For example, you can also investigate the following:\n",
        "\n",
        "- When making a wrong prediction, can you figure out at what point in the tree (sentence) the model fails? You can make a prediction at each node to investigate.\n",
        "- How does N-ary Tree LSTM compare to the Child-Sum Tree LSTM? \n",
        "- How do the Tai et al. Tree LSTMs compare to Le & Zuidema's formulation?\n",
        "- Or... your own research question!\n",
        "\n",
        "In general:\n",
        "\n",
        "- ***When you report numbers, please report the mean accuracy across 3 (or more) runs with different random seed, together with the standard deviation.*** This is because the final performance may vary per random seed. \n",
        "More precisely, you should run each model with 3 different seeds, and for each of these 3 runs, evaluate the best model (according to the validation) on the test dataset. The validation dataset is used for finding the best model over iterations, but the accuracy you report should be on the test dataset.\n",
        "\n",
        "## Report instructions\n",
        "\n",
        "Your report needs to be written in LaTeX. You are required to use the ACL 2020 template which you can download from or edit directly on [Overleaf](https://www.overleaf.com/latex/templates/instructions-for-acl-2018-proceedings/xzmhqgnmkppc). Make sure your names and student numbers are visible at the top. (Tip: you need to uncomment `\\aclfinalcopy`).\n",
        "You can find some general tips about writing a research paper [here](https://www.microsoft.com/en-us/research/academic-program/write-great-research-paper/), but note that you need to make your own judgment about what is appropriate for this project. \n",
        "\n",
        "We expect you to use the following structure:\n",
        "1. Introduction (~1 page) - describe the problem, your research questions and goals, a summary of your findings and contributions. Please cite related work (models, data set) as part of your introduction here, since this is a short paper.\n",
        "    - Introduce the task and the main goal\n",
        "    - Clear research questions\n",
        "    - Motivating the importance of the questions and explaining the expectations\n",
        "    - How are these addressed or not addressed in the literature\n",
        "    - What is your approach\n",
        "    - Short summary of your findings\n",
        "2. Background (~1/2-1 page) -\n",
        "cover the main techniques (\"building blocks\") used in your project (e.g. word embeddings, LSTM, Tree-LSTM) and intuitions behind them. Be accurate and concise.\n",
        "    - How each technique that you use works (don't just copy the formulas)\n",
        "    - The relation between the techniques\n",
        "3. Models (~1/2 page) - Cover the models that you used.\n",
        "    - The architecture of the final models (How do you use LSTM or Tree-LSTM for the sentiment classification task? What layers do you have, how do you do classification? What is your loss function?)\n",
        "4. Experiments (~1/2 page) - Describe your experimental setup. The information here should allow someone else to reproduce your experiments. Describe how you evaluate the models.\n",
        "    - Explain the task and the data\n",
        "    - Training the models (model, data, parameters and hyper parameters if the models, training algorithms, what supervision signals you use, etc.)\n",
        "    - Evaluation (e.g. metrics)\n",
        "5. Results and Analysis (~1 page). Go over the results and analyse your findings.\n",
        "    - Answer each of the research questions you raised in the introduction.\n",
        "    - Plots and figures highlighting interesting patterns\n",
        "    - What are the factors that make model A better than model B in task C? Investigate to prove their effect!\n",
        "6. Conclusion (~1/4 page). The main conclusions of your experiments.\n",
        "    - What have you learned from you experiments? How does it relate to what is already known in the literature?\n",
        "    - Were the results as expected? Any surprising results? Why?\n",
        "    - Based on what you learned what would you suggest doing next?\n",
        "\n",
        "\n",
        "General Tips:\n",
        "\n",
        "- Math notation – define each variable (either in running text, or in a pseudo-legenda after or before the equation).\n",
        "- Define technical terminology you need.\n",
        "- Avoid colloquial language – everything can be said in a scientific-sounding way.\n",
        "- Avoid lengthy sentences, stay to the point.\n",
        "- Do not spend space on \"obvious\" things.\n",
        "- Do not go over the page limit. (We will deduct points for that.)\n",
        "- The page limit is 4 pages excluding references and appendix. There is no strict limit to references and appendix. However, the report needs to remain fully self-contained: the appendix should only include content that is not necessary to understand your work. For example, preprocessing decisions, model parameters, pseudocode, sample system inputs/outputs, and other details that are necessary for the exact replication of your work can be put into the appendix. However, \n",
        "\n",
        "\n",
        "An ideal report:\n",
        "- Precise, scientific-sounding, technical, to the point \n",
        "  - Little general “waffle”/chit-chat\n",
        "- Not boring – because you don’t explain obvious things too much\n",
        "- Efficient delivery of (only) the facts that we need to know to understand/reimplement\n",
        "- Results visually well-presented and described with the correct priority of importance of sub-results\n",
        "- Insightful analysis – speculation should connect to something interesting and not be too much; the reader “learns something new”\n",
        "- No typos, no colloquialisms – well-considered language\n",
        "- This normally means several re-draftings (re-orderings of information)\n"
      ]
    },
    {
      "cell_type": "code",
      "metadata": {
        "id": "uCINIXV1q1oe"
      },
      "source": [
        ""
      ],
      "execution_count": null,
      "outputs": []
    }
  ]
}